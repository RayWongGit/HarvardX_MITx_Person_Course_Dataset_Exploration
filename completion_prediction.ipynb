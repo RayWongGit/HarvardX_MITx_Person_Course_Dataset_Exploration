{
 "cells": [
  {
   "cell_type": "markdown",
   "metadata": {},
   "source": [
    "## Completion prediction"
   ]
  },
  {
   "cell_type": "markdown",
   "metadata": {},
   "source": [
    "### Load data"
   ]
  },
  {
   "cell_type": "code",
   "execution_count": 1,
   "metadata": {
    "scrolled": true
   },
   "outputs": [
    {
     "data": {
      "text/html": [
       "<div>\n",
       "<style scoped>\n",
       "    .dataframe tbody tr th:only-of-type {\n",
       "        vertical-align: middle;\n",
       "    }\n",
       "\n",
       "    .dataframe tbody tr th {\n",
       "        vertical-align: top;\n",
       "    }\n",
       "\n",
       "    .dataframe thead th {\n",
       "        text-align: right;\n",
       "    }\n",
       "</style>\n",
       "<table border=\"1\" class=\"dataframe\">\n",
       "  <thead>\n",
       "    <tr style=\"text-align: right;\">\n",
       "      <th></th>\n",
       "      <th>course_id</th>\n",
       "      <th>user_id</th>\n",
       "      <th>viewed</th>\n",
       "      <th>explored</th>\n",
       "      <th>certified</th>\n",
       "      <th>country</th>\n",
       "      <th>education</th>\n",
       "      <th>gender</th>\n",
       "      <th>grade</th>\n",
       "      <th>time_registered</th>\n",
       "      <th>...</th>\n",
       "      <th>semester</th>\n",
       "      <th>age</th>\n",
       "      <th>course_launch</th>\n",
       "      <th>course_wrap</th>\n",
       "      <th>course_duration</th>\n",
       "      <th>before_launch</th>\n",
       "      <th>lifetime_proportion</th>\n",
       "      <th>course_chapters</th>\n",
       "      <th>chapters_proportion</th>\n",
       "      <th>certification_rate</th>\n",
       "    </tr>\n",
       "  </thead>\n",
       "  <tbody>\n",
       "    <tr>\n",
       "      <th>0</th>\n",
       "      <td>HarvardX/CS50x/2012</td>\n",
       "      <td>MHxPC130223941</td>\n",
       "      <td>1</td>\n",
       "      <td>0</td>\n",
       "      <td>0</td>\n",
       "      <td>Other Middle East/Central Asia</td>\n",
       "      <td>Secondary</td>\n",
       "      <td>m</td>\n",
       "      <td>0.0</td>\n",
       "      <td>2012-07-24</td>\n",
       "      <td>...</td>\n",
       "      <td>2012_Fall</td>\n",
       "      <td>20.0</td>\n",
       "      <td>2012-10-15</td>\n",
       "      <td>2013-04-15</td>\n",
       "      <td>182</td>\n",
       "      <td>1</td>\n",
       "      <td>150.000000</td>\n",
       "      <td>12.0</td>\n",
       "      <td>33.333333</td>\n",
       "      <td>4.725182</td>\n",
       "    </tr>\n",
       "    <tr>\n",
       "      <th>1</th>\n",
       "      <td>HarvardX/CS50x/2012</td>\n",
       "      <td>MHxPC130235150</td>\n",
       "      <td>1</td>\n",
       "      <td>1</td>\n",
       "      <td>0</td>\n",
       "      <td>India</td>\n",
       "      <td>Bachelor's</td>\n",
       "      <td>m</td>\n",
       "      <td>0.0</td>\n",
       "      <td>2012-07-24</td>\n",
       "      <td>...</td>\n",
       "      <td>2012_Fall</td>\n",
       "      <td>22.0</td>\n",
       "      <td>2012-10-15</td>\n",
       "      <td>2013-04-15</td>\n",
       "      <td>182</td>\n",
       "      <td>1</td>\n",
       "      <td>90.109890</td>\n",
       "      <td>12.0</td>\n",
       "      <td>100.000000</td>\n",
       "      <td>4.725182</td>\n",
       "    </tr>\n",
       "    <tr>\n",
       "      <th>2</th>\n",
       "      <td>HarvardX/CS50x/2012</td>\n",
       "      <td>MHxPC130069875</td>\n",
       "      <td>1</td>\n",
       "      <td>1</td>\n",
       "      <td>0</td>\n",
       "      <td>India</td>\n",
       "      <td>Secondary</td>\n",
       "      <td>m</td>\n",
       "      <td>0.0</td>\n",
       "      <td>2013-02-12</td>\n",
       "      <td>...</td>\n",
       "      <td>2012_Fall</td>\n",
       "      <td>19.0</td>\n",
       "      <td>2012-10-15</td>\n",
       "      <td>2013-04-15</td>\n",
       "      <td>182</td>\n",
       "      <td>0</td>\n",
       "      <td>101.648352</td>\n",
       "      <td>12.0</td>\n",
       "      <td>100.000000</td>\n",
       "      <td>4.725182</td>\n",
       "    </tr>\n",
       "    <tr>\n",
       "      <th>3</th>\n",
       "      <td>HarvardX/CS50x/2012</td>\n",
       "      <td>MHxPC130320562</td>\n",
       "      <td>1</td>\n",
       "      <td>1</td>\n",
       "      <td>1</td>\n",
       "      <td>Other Europe</td>\n",
       "      <td>Master's</td>\n",
       "      <td>m</td>\n",
       "      <td>1.0</td>\n",
       "      <td>2012-07-24</td>\n",
       "      <td>...</td>\n",
       "      <td>2012_Fall</td>\n",
       "      <td>29.0</td>\n",
       "      <td>2012-10-15</td>\n",
       "      <td>2013-04-15</td>\n",
       "      <td>182</td>\n",
       "      <td>1</td>\n",
       "      <td>111.538462</td>\n",
       "      <td>12.0</td>\n",
       "      <td>100.000000</td>\n",
       "      <td>4.725182</td>\n",
       "    </tr>\n",
       "    <tr>\n",
       "      <th>4</th>\n",
       "      <td>HarvardX/CS50x/2012</td>\n",
       "      <td>MHxPC130021254</td>\n",
       "      <td>1</td>\n",
       "      <td>0</td>\n",
       "      <td>0</td>\n",
       "      <td>Other South Asia</td>\n",
       "      <td>Bachelor's</td>\n",
       "      <td>m</td>\n",
       "      <td>0.0</td>\n",
       "      <td>2012-07-24</td>\n",
       "      <td>...</td>\n",
       "      <td>2012_Fall</td>\n",
       "      <td>26.0</td>\n",
       "      <td>2012-10-15</td>\n",
       "      <td>2013-04-15</td>\n",
       "      <td>182</td>\n",
       "      <td>1</td>\n",
       "      <td>159.340659</td>\n",
       "      <td>12.0</td>\n",
       "      <td>16.666667</td>\n",
       "      <td>4.725182</td>\n",
       "    </tr>\n",
       "  </tbody>\n",
       "</table>\n",
       "<p>5 rows × 28 columns</p>\n",
       "</div>"
      ],
      "text/plain": [
       "             course_id         user_id  viewed  explored  certified  \\\n",
       "0  HarvardX/CS50x/2012  MHxPC130223941       1         0          0   \n",
       "1  HarvardX/CS50x/2012  MHxPC130235150       1         1          0   \n",
       "2  HarvardX/CS50x/2012  MHxPC130069875       1         1          0   \n",
       "3  HarvardX/CS50x/2012  MHxPC130320562       1         1          1   \n",
       "4  HarvardX/CS50x/2012  MHxPC130021254       1         0          0   \n",
       "\n",
       "                          country   education gender  grade time_registered  \\\n",
       "0  Other Middle East/Central Asia   Secondary      m    0.0      2012-07-24   \n",
       "1                           India  Bachelor's      m    0.0      2012-07-24   \n",
       "2                           India   Secondary      m    0.0      2013-02-12   \n",
       "3                    Other Europe    Master's      m    1.0      2012-07-24   \n",
       "4                Other South Asia  Bachelor's      m    0.0      2012-07-24   \n",
       "\n",
       "   ...   semester   age  course_launch  course_wrap  course_duration  \\\n",
       "0  ...  2012_Fall  20.0     2012-10-15   2013-04-15              182   \n",
       "1  ...  2012_Fall  22.0     2012-10-15   2013-04-15              182   \n",
       "2  ...  2012_Fall  19.0     2012-10-15   2013-04-15              182   \n",
       "3  ...  2012_Fall  29.0     2012-10-15   2013-04-15              182   \n",
       "4  ...  2012_Fall  26.0     2012-10-15   2013-04-15              182   \n",
       "\n",
       "   before_launch lifetime_proportion course_chapters chapters_proportion  \\\n",
       "0              1          150.000000            12.0           33.333333   \n",
       "1              1           90.109890            12.0          100.000000   \n",
       "2              0          101.648352            12.0          100.000000   \n",
       "3              1          111.538462            12.0          100.000000   \n",
       "4              1          159.340659            12.0           16.666667   \n",
       "\n",
       "   certification_rate  \n",
       "0            4.725182  \n",
       "1            4.725182  \n",
       "2            4.725182  \n",
       "3            4.725182  \n",
       "4            4.725182  \n",
       "\n",
       "[5 rows x 28 columns]"
      ]
     },
     "execution_count": 1,
     "metadata": {},
     "output_type": "execute_result"
    }
   ],
   "source": [
    "# Import libraries necessary for this project\n",
    "import numpy as np\n",
    "import pandas as pd\n",
    "from time import time\n",
    "from IPython.display import display # Allows the use of display() for DataFrames\n",
    "import visuals as vs\n",
    "from sklearn.preprocessing import LabelEncoder\n",
    "\n",
    "# Pretty display for notebooks\n",
    "import matplotlib.pyplot as plt\n",
    "%matplotlib inline\n",
    "\n",
    "# Load the dataset and print the first 5 rows\n",
    "df = pd.read_csv('hmx_intended.csv')\n",
    "\n",
    "df.head()"
   ]
  },
  {
   "cell_type": "code",
   "execution_count": 2,
   "metadata": {
    "scrolled": true
   },
   "outputs": [
    {
     "data": {
      "text/plain": [
       "(101405, 28)"
      ]
     },
     "execution_count": 2,
     "metadata": {},
     "output_type": "execute_result"
    }
   ],
   "source": [
    "# size of the dataset\n",
    "df.shape"
   ]
  },
  {
   "cell_type": "code",
   "execution_count": 3,
   "metadata": {
    "scrolled": true
   },
   "outputs": [
    {
     "name": "stdout",
     "output_type": "stream",
     "text": [
      "<class 'pandas.core.frame.DataFrame'>\n",
      "RangeIndex: 101405 entries, 0 to 101404\n",
      "Data columns (total 28 columns):\n",
      "course_id              101405 non-null object\n",
      "user_id                101405 non-null object\n",
      "viewed                 101405 non-null int64\n",
      "explored               101405 non-null int64\n",
      "certified              101405 non-null int64\n",
      "country                101405 non-null object\n",
      "education              101405 non-null object\n",
      "gender                 101405 non-null object\n",
      "grade                  101405 non-null float64\n",
      "time_registered        101405 non-null object\n",
      "last_event             101405 non-null object\n",
      "nevents                101405 non-null float64\n",
      "ndays_act              101405 non-null float64\n",
      "nplay_video            101405 non-null float64\n",
      "nchapters              101405 non-null float64\n",
      "nforum_posts           101405 non-null int64\n",
      "institution            101405 non-null object\n",
      "course_code            101405 non-null object\n",
      "semester               101405 non-null object\n",
      "age                    101405 non-null float64\n",
      "course_launch          101405 non-null object\n",
      "course_wrap            101405 non-null object\n",
      "course_duration        101405 non-null int64\n",
      "before_launch          101405 non-null int64\n",
      "lifetime_proportion    101405 non-null float64\n",
      "course_chapters        101405 non-null float64\n",
      "chapters_proportion    101405 non-null float64\n",
      "certification_rate     101405 non-null float64\n",
      "dtypes: float64(10), int64(6), object(12)\n",
      "memory usage: 21.7+ MB\n"
     ]
    }
   ],
   "source": [
    "# basic info\n",
    "df.info()"
   ]
  },
  {
   "cell_type": "code",
   "execution_count": 4,
   "metadata": {
    "scrolled": true
   },
   "outputs": [
    {
     "data": {
      "text/html": [
       "<div>\n",
       "<style scoped>\n",
       "    .dataframe tbody tr th:only-of-type {\n",
       "        vertical-align: middle;\n",
       "    }\n",
       "\n",
       "    .dataframe tbody tr th {\n",
       "        vertical-align: top;\n",
       "    }\n",
       "\n",
       "    .dataframe thead th {\n",
       "        text-align: right;\n",
       "    }\n",
       "</style>\n",
       "<table border=\"1\" class=\"dataframe\">\n",
       "  <thead>\n",
       "    <tr style=\"text-align: right;\">\n",
       "      <th></th>\n",
       "      <th>viewed</th>\n",
       "      <th>explored</th>\n",
       "      <th>certified</th>\n",
       "      <th>grade</th>\n",
       "      <th>nevents</th>\n",
       "      <th>ndays_act</th>\n",
       "      <th>nplay_video</th>\n",
       "      <th>nchapters</th>\n",
       "      <th>nforum_posts</th>\n",
       "      <th>age</th>\n",
       "      <th>course_duration</th>\n",
       "      <th>before_launch</th>\n",
       "      <th>lifetime_proportion</th>\n",
       "      <th>course_chapters</th>\n",
       "      <th>chapters_proportion</th>\n",
       "      <th>certification_rate</th>\n",
       "    </tr>\n",
       "  </thead>\n",
       "  <tbody>\n",
       "    <tr>\n",
       "      <th>count</th>\n",
       "      <td>101405.000000</td>\n",
       "      <td>101405.000000</td>\n",
       "      <td>101405.000000</td>\n",
       "      <td>101405.000000</td>\n",
       "      <td>101405.000000</td>\n",
       "      <td>101405.000000</td>\n",
       "      <td>101405.000000</td>\n",
       "      <td>101405.000000</td>\n",
       "      <td>101405.000000</td>\n",
       "      <td>101405.000000</td>\n",
       "      <td>101405.000000</td>\n",
       "      <td>101405.000000</td>\n",
       "      <td>101405.000000</td>\n",
       "      <td>101405.000000</td>\n",
       "      <td>101405.000000</td>\n",
       "      <td>101405.000000</td>\n",
       "    </tr>\n",
       "    <tr>\n",
       "      <th>mean</th>\n",
       "      <td>0.998886</td>\n",
       "      <td>0.281860</td>\n",
       "      <td>0.134737</td>\n",
       "      <td>0.149664</td>\n",
       "      <td>1256.961442</td>\n",
       "      <td>13.847079</td>\n",
       "      <td>137.844337</td>\n",
       "      <td>7.033223</td>\n",
       "      <td>0.044909</td>\n",
       "      <td>27.028016</td>\n",
       "      <td>128.201509</td>\n",
       "      <td>0.428904</td>\n",
       "      <td>90.116220</td>\n",
       "      <td>17.840777</td>\n",
       "      <td>39.691436</td>\n",
       "      <td>13.473695</td>\n",
       "    </tr>\n",
       "    <tr>\n",
       "      <th>std</th>\n",
       "      <td>0.033363</td>\n",
       "      <td>0.449908</td>\n",
       "      <td>0.341444</td>\n",
       "      <td>0.290986</td>\n",
       "      <td>2361.621134</td>\n",
       "      <td>17.826211</td>\n",
       "      <td>408.178392</td>\n",
       "      <td>5.989315</td>\n",
       "      <td>0.294143</td>\n",
       "      <td>8.840327</td>\n",
       "      <td>33.339898</td>\n",
       "      <td>0.494922</td>\n",
       "      <td>55.968120</td>\n",
       "      <td>6.617799</td>\n",
       "      <td>28.586326</td>\n",
       "      <td>7.565181</td>\n",
       "    </tr>\n",
       "    <tr>\n",
       "      <th>min</th>\n",
       "      <td>0.000000</td>\n",
       "      <td>0.000000</td>\n",
       "      <td>0.000000</td>\n",
       "      <td>0.000000</td>\n",
       "      <td>1.000000</td>\n",
       "      <td>1.000000</td>\n",
       "      <td>0.000000</td>\n",
       "      <td>2.000000</td>\n",
       "      <td>0.000000</td>\n",
       "      <td>10.000000</td>\n",
       "      <td>71.000000</td>\n",
       "      <td>0.000000</td>\n",
       "      <td>13.013699</td>\n",
       "      <td>11.000000</td>\n",
       "      <td>13.636364</td>\n",
       "      <td>4.725182</td>\n",
       "    </tr>\n",
       "    <tr>\n",
       "      <th>25%</th>\n",
       "      <td>1.000000</td>\n",
       "      <td>0.000000</td>\n",
       "      <td>0.000000</td>\n",
       "      <td>0.000000</td>\n",
       "      <td>69.000000</td>\n",
       "      <td>3.000000</td>\n",
       "      <td>0.000000</td>\n",
       "      <td>3.000000</td>\n",
       "      <td>0.000000</td>\n",
       "      <td>21.000000</td>\n",
       "      <td>107.000000</td>\n",
       "      <td>0.000000</td>\n",
       "      <td>43.243243</td>\n",
       "      <td>12.000000</td>\n",
       "      <td>16.666667</td>\n",
       "      <td>7.894954</td>\n",
       "    </tr>\n",
       "    <tr>\n",
       "      <th>50%</th>\n",
       "      <td>1.000000</td>\n",
       "      <td>0.000000</td>\n",
       "      <td>0.000000</td>\n",
       "      <td>0.000000</td>\n",
       "      <td>316.000000</td>\n",
       "      <td>7.000000</td>\n",
       "      <td>13.000000</td>\n",
       "      <td>5.000000</td>\n",
       "      <td>0.000000</td>\n",
       "      <td>25.000000</td>\n",
       "      <td>120.000000</td>\n",
       "      <td>0.000000</td>\n",
       "      <td>87.912088</td>\n",
       "      <td>18.000000</td>\n",
       "      <td>25.000000</td>\n",
       "      <td>11.837547</td>\n",
       "    </tr>\n",
       "    <tr>\n",
       "      <th>75%</th>\n",
       "      <td>1.000000</td>\n",
       "      <td>1.000000</td>\n",
       "      <td>0.000000</td>\n",
       "      <td>0.090000</td>\n",
       "      <td>1246.000000</td>\n",
       "      <td>17.000000</td>\n",
       "      <td>105.000000</td>\n",
       "      <td>10.000000</td>\n",
       "      <td>0.000000</td>\n",
       "      <td>30.000000</td>\n",
       "      <td>146.000000</td>\n",
       "      <td>1.000000</td>\n",
       "      <td>118.493151</td>\n",
       "      <td>19.000000</td>\n",
       "      <td>57.142857</td>\n",
       "      <td>20.378645</td>\n",
       "    </tr>\n",
       "    <tr>\n",
       "      <th>max</th>\n",
       "      <td>1.000000</td>\n",
       "      <td>1.000000</td>\n",
       "      <td>1.000000</td>\n",
       "      <td>1.000000</td>\n",
       "      <td>53180.000000</td>\n",
       "      <td>205.000000</td>\n",
       "      <td>34596.000000</td>\n",
       "      <td>47.000000</td>\n",
       "      <td>6.000000</td>\n",
       "      <td>78.000000</td>\n",
       "      <td>182.000000</td>\n",
       "      <td>1.000000</td>\n",
       "      <td>339.795918</td>\n",
       "      <td>47.000000</td>\n",
       "      <td>100.000000</td>\n",
       "      <td>29.153120</td>\n",
       "    </tr>\n",
       "  </tbody>\n",
       "</table>\n",
       "</div>"
      ],
      "text/plain": [
       "              viewed       explored      certified          grade  \\\n",
       "count  101405.000000  101405.000000  101405.000000  101405.000000   \n",
       "mean        0.998886       0.281860       0.134737       0.149664   \n",
       "std         0.033363       0.449908       0.341444       0.290986   \n",
       "min         0.000000       0.000000       0.000000       0.000000   \n",
       "25%         1.000000       0.000000       0.000000       0.000000   \n",
       "50%         1.000000       0.000000       0.000000       0.000000   \n",
       "75%         1.000000       1.000000       0.000000       0.090000   \n",
       "max         1.000000       1.000000       1.000000       1.000000   \n",
       "\n",
       "             nevents      ndays_act    nplay_video      nchapters  \\\n",
       "count  101405.000000  101405.000000  101405.000000  101405.000000   \n",
       "mean     1256.961442      13.847079     137.844337       7.033223   \n",
       "std      2361.621134      17.826211     408.178392       5.989315   \n",
       "min         1.000000       1.000000       0.000000       2.000000   \n",
       "25%        69.000000       3.000000       0.000000       3.000000   \n",
       "50%       316.000000       7.000000      13.000000       5.000000   \n",
       "75%      1246.000000      17.000000     105.000000      10.000000   \n",
       "max     53180.000000     205.000000   34596.000000      47.000000   \n",
       "\n",
       "        nforum_posts            age  course_duration  before_launch  \\\n",
       "count  101405.000000  101405.000000    101405.000000  101405.000000   \n",
       "mean        0.044909      27.028016       128.201509       0.428904   \n",
       "std         0.294143       8.840327        33.339898       0.494922   \n",
       "min         0.000000      10.000000        71.000000       0.000000   \n",
       "25%         0.000000      21.000000       107.000000       0.000000   \n",
       "50%         0.000000      25.000000       120.000000       0.000000   \n",
       "75%         0.000000      30.000000       146.000000       1.000000   \n",
       "max         6.000000      78.000000       182.000000       1.000000   \n",
       "\n",
       "       lifetime_proportion  course_chapters  chapters_proportion  \\\n",
       "count        101405.000000    101405.000000        101405.000000   \n",
       "mean             90.116220        17.840777            39.691436   \n",
       "std              55.968120         6.617799            28.586326   \n",
       "min              13.013699        11.000000            13.636364   \n",
       "25%              43.243243        12.000000            16.666667   \n",
       "50%              87.912088        18.000000            25.000000   \n",
       "75%             118.493151        19.000000            57.142857   \n",
       "max             339.795918        47.000000           100.000000   \n",
       "\n",
       "       certification_rate  \n",
       "count       101405.000000  \n",
       "mean            13.473695  \n",
       "std              7.565181  \n",
       "min              4.725182  \n",
       "25%              7.894954  \n",
       "50%             11.837547  \n",
       "75%             20.378645  \n",
       "max             29.153120  "
      ]
     },
     "execution_count": 4,
     "metadata": {},
     "output_type": "execute_result"
    }
   ],
   "source": [
    "# statistical description\n",
    "df.describe()"
   ]
  },
  {
   "cell_type": "code",
   "execution_count": 5,
   "metadata": {
    "scrolled": true
   },
   "outputs": [
    {
     "data": {
      "text/plain": [
       "0"
      ]
     },
     "execution_count": 5,
     "metadata": {},
     "output_type": "execute_result"
    }
   ],
   "source": [
    "# check missing values\n",
    "df.isna().sum().sum()"
   ]
  },
  {
   "cell_type": "code",
   "execution_count": 6,
   "metadata": {
    "scrolled": true
   },
   "outputs": [
    {
     "data": {
      "text/plain": [
       "0"
      ]
     },
     "execution_count": 6,
     "metadata": {},
     "output_type": "execute_result"
    }
   ],
   "source": [
    "# check duplicates\n",
    "df.duplicated().sum()"
   ]
  },
  {
   "cell_type": "markdown",
   "metadata": {},
   "source": [
    "### Feature selection\n"
   ]
  },
  {
   "cell_type": "code",
   "execution_count": 7,
   "metadata": {
    "scrolled": true
   },
   "outputs": [
    {
     "data": {
      "text/plain": [
       "Index(['course_id', 'user_id', 'viewed', 'explored', 'certified', 'country',\n",
       "       'education', 'gender', 'grade', 'time_registered', 'last_event',\n",
       "       'nevents', 'ndays_act', 'nplay_video', 'nchapters', 'nforum_posts',\n",
       "       'institution', 'course_code', 'semester', 'age', 'course_launch',\n",
       "       'course_wrap', 'course_duration', 'before_launch',\n",
       "       'lifetime_proportion', 'course_chapters', 'chapters_proportion',\n",
       "       'certification_rate'],\n",
       "      dtype='object')"
      ]
     },
     "execution_count": 7,
     "metadata": {},
     "output_type": "execute_result"
    }
   ],
   "source": [
    "df.columns"
   ]
  },
  {
   "cell_type": "code",
   "execution_count": 8,
   "metadata": {},
   "outputs": [
    {
     "data": {
      "text/html": [
       "<div>\n",
       "<style scoped>\n",
       "    .dataframe tbody tr th:only-of-type {\n",
       "        vertical-align: middle;\n",
       "    }\n",
       "\n",
       "    .dataframe tbody tr th {\n",
       "        vertical-align: top;\n",
       "    }\n",
       "\n",
       "    .dataframe thead th {\n",
       "        text-align: right;\n",
       "    }\n",
       "</style>\n",
       "<table border=\"1\" class=\"dataframe\">\n",
       "  <thead>\n",
       "    <tr style=\"text-align: right;\">\n",
       "      <th></th>\n",
       "      <th>course_id</th>\n",
       "      <th>explored</th>\n",
       "      <th>certified</th>\n",
       "      <th>country</th>\n",
       "      <th>education</th>\n",
       "      <th>gender</th>\n",
       "      <th>nevents</th>\n",
       "      <th>ndays_act</th>\n",
       "      <th>nplay_video</th>\n",
       "      <th>nchapters</th>\n",
       "      <th>nforum_posts</th>\n",
       "      <th>institution</th>\n",
       "      <th>course_code</th>\n",
       "      <th>semester</th>\n",
       "      <th>age</th>\n",
       "      <th>course_duration</th>\n",
       "      <th>before_launch</th>\n",
       "      <th>lifetime_proportion</th>\n",
       "      <th>course_chapters</th>\n",
       "      <th>chapters_proportion</th>\n",
       "    </tr>\n",
       "  </thead>\n",
       "  <tbody>\n",
       "    <tr>\n",
       "      <th>0</th>\n",
       "      <td>HarvardX/CS50x/2012</td>\n",
       "      <td>0</td>\n",
       "      <td>0</td>\n",
       "      <td>Other Middle East/Central Asia</td>\n",
       "      <td>Secondary</td>\n",
       "      <td>m</td>\n",
       "      <td>25.0</td>\n",
       "      <td>2.0</td>\n",
       "      <td>0.0</td>\n",
       "      <td>4.0</td>\n",
       "      <td>0</td>\n",
       "      <td>HarvardX</td>\n",
       "      <td>CS50x</td>\n",
       "      <td>2012_Fall</td>\n",
       "      <td>20.0</td>\n",
       "      <td>182</td>\n",
       "      <td>1</td>\n",
       "      <td>150.0</td>\n",
       "      <td>12.0</td>\n",
       "      <td>33.333333</td>\n",
       "    </tr>\n",
       "  </tbody>\n",
       "</table>\n",
       "</div>"
      ],
      "text/plain": [
       "             course_id  explored  certified                         country  \\\n",
       "0  HarvardX/CS50x/2012         0          0  Other Middle East/Central Asia   \n",
       "\n",
       "   education gender  nevents  ndays_act  nplay_video  nchapters  nforum_posts  \\\n",
       "0  Secondary      m     25.0        2.0          0.0        4.0             0   \n",
       "\n",
       "  institution course_code   semester   age  course_duration  before_launch  \\\n",
       "0    HarvardX       CS50x  2012_Fall  20.0              182              1   \n",
       "\n",
       "   lifetime_proportion  course_chapters  chapters_proportion  \n",
       "0                150.0             12.0            33.333333  "
      ]
     },
     "execution_count": 8,
     "metadata": {},
     "output_type": "execute_result"
    }
   ],
   "source": [
    "# select the features we are going to use to fit the model\n",
    "\n",
    "to_keep = ['course_id', 'explored', 'certified', 'country','education', 'gender','nevents', 'ndays_act', \n",
    "           'nplay_video', 'nchapters', 'nforum_posts','institution', 'course_code', 'semester', 'age', \n",
    "           'course_duration', 'before_launch', 'lifetime_proportion', 'course_chapters', 'chapters_proportion']\n",
    "data = df[to_keep]\n",
    "data.head(1)"
   ]
  },
  {
   "cell_type": "markdown",
   "metadata": {},
   "source": [
    "### Catagorical variables encoding\n",
    "\n",
    "We need to convert the values of catagorical variables from string to number. "
   ]
  },
  {
   "cell_type": "code",
   "execution_count": 9,
   "metadata": {},
   "outputs": [
    {
     "data": {
      "text/html": [
       "<div>\n",
       "<style scoped>\n",
       "    .dataframe tbody tr th:only-of-type {\n",
       "        vertical-align: middle;\n",
       "    }\n",
       "\n",
       "    .dataframe tbody tr th {\n",
       "        vertical-align: top;\n",
       "    }\n",
       "\n",
       "    .dataframe thead th {\n",
       "        text-align: right;\n",
       "    }\n",
       "</style>\n",
       "<table border=\"1\" class=\"dataframe\">\n",
       "  <thead>\n",
       "    <tr style=\"text-align: right;\">\n",
       "      <th></th>\n",
       "      <th>course_id</th>\n",
       "      <th>explored</th>\n",
       "      <th>certified</th>\n",
       "      <th>country</th>\n",
       "      <th>education</th>\n",
       "      <th>gender</th>\n",
       "      <th>nevents</th>\n",
       "      <th>ndays_act</th>\n",
       "      <th>nplay_video</th>\n",
       "      <th>nchapters</th>\n",
       "      <th>nforum_posts</th>\n",
       "      <th>institution</th>\n",
       "      <th>course_code</th>\n",
       "      <th>semester</th>\n",
       "      <th>age</th>\n",
       "      <th>course_duration</th>\n",
       "      <th>before_launch</th>\n",
       "      <th>lifetime_proportion</th>\n",
       "      <th>course_chapters</th>\n",
       "      <th>chapters_proportion</th>\n",
       "    </tr>\n",
       "  </thead>\n",
       "  <tbody>\n",
       "    <tr>\n",
       "      <th>0</th>\n",
       "      <td>1</td>\n",
       "      <td>0</td>\n",
       "      <td>0</td>\n",
       "      <td>19</td>\n",
       "      <td>4</td>\n",
       "      <td>1</td>\n",
       "      <td>24</td>\n",
       "      <td>1</td>\n",
       "      <td>0</td>\n",
       "      <td>2</td>\n",
       "      <td>0</td>\n",
       "      <td>0</td>\n",
       "      <td>9</td>\n",
       "      <td>0</td>\n",
       "      <td>10</td>\n",
       "      <td>10</td>\n",
       "      <td>1</td>\n",
       "      <td>1548</td>\n",
       "      <td>1</td>\n",
       "      <td>42</td>\n",
       "    </tr>\n",
       "    <tr>\n",
       "      <th>1</th>\n",
       "      <td>1</td>\n",
       "      <td>1</td>\n",
       "      <td>0</td>\n",
       "      <td>10</td>\n",
       "      <td>0</td>\n",
       "      <td>1</td>\n",
       "      <td>7</td>\n",
       "      <td>0</td>\n",
       "      <td>0</td>\n",
       "      <td>10</td>\n",
       "      <td>0</td>\n",
       "      <td>0</td>\n",
       "      <td>9</td>\n",
       "      <td>0</td>\n",
       "      <td>12</td>\n",
       "      <td>10</td>\n",
       "      <td>1</td>\n",
       "      <td>914</td>\n",
       "      <td>1</td>\n",
       "      <td>175</td>\n",
       "    </tr>\n",
       "    <tr>\n",
       "      <th>2</th>\n",
       "      <td>1</td>\n",
       "      <td>1</td>\n",
       "      <td>0</td>\n",
       "      <td>10</td>\n",
       "      <td>4</td>\n",
       "      <td>1</td>\n",
       "      <td>244</td>\n",
       "      <td>9</td>\n",
       "      <td>0</td>\n",
       "      <td>10</td>\n",
       "      <td>0</td>\n",
       "      <td>0</td>\n",
       "      <td>9</td>\n",
       "      <td>0</td>\n",
       "      <td>9</td>\n",
       "      <td>10</td>\n",
       "      <td>0</td>\n",
       "      <td>1046</td>\n",
       "      <td>1</td>\n",
       "      <td>175</td>\n",
       "    </tr>\n",
       "    <tr>\n",
       "      <th>3</th>\n",
       "      <td>1</td>\n",
       "      <td>1</td>\n",
       "      <td>1</td>\n",
       "      <td>18</td>\n",
       "      <td>3</td>\n",
       "      <td>1</td>\n",
       "      <td>690</td>\n",
       "      <td>58</td>\n",
       "      <td>0</td>\n",
       "      <td>10</td>\n",
       "      <td>0</td>\n",
       "      <td>0</td>\n",
       "      <td>9</td>\n",
       "      <td>0</td>\n",
       "      <td>19</td>\n",
       "      <td>10</td>\n",
       "      <td>1</td>\n",
       "      <td>1161</td>\n",
       "      <td>1</td>\n",
       "      <td>175</td>\n",
       "    </tr>\n",
       "    <tr>\n",
       "      <th>4</th>\n",
       "      <td>1</td>\n",
       "      <td>0</td>\n",
       "      <td>0</td>\n",
       "      <td>23</td>\n",
       "      <td>0</td>\n",
       "      <td>1</td>\n",
       "      <td>0</td>\n",
       "      <td>0</td>\n",
       "      <td>0</td>\n",
       "      <td>0</td>\n",
       "      <td>0</td>\n",
       "      <td>0</td>\n",
       "      <td>9</td>\n",
       "      <td>0</td>\n",
       "      <td>16</td>\n",
       "      <td>10</td>\n",
       "      <td>1</td>\n",
       "      <td>1630</td>\n",
       "      <td>1</td>\n",
       "      <td>7</td>\n",
       "    </tr>\n",
       "  </tbody>\n",
       "</table>\n",
       "</div>"
      ],
      "text/plain": [
       "   course_id  explored  certified  country  education  gender  nevents  \\\n",
       "0          1         0          0       19          4       1       24   \n",
       "1          1         1          0       10          0       1        7   \n",
       "2          1         1          0       10          4       1      244   \n",
       "3          1         1          1       18          3       1      690   \n",
       "4          1         0          0       23          0       1        0   \n",
       "\n",
       "   ndays_act  nplay_video  nchapters  nforum_posts  institution  course_code  \\\n",
       "0          1            0          2             0            0            9   \n",
       "1          0            0         10             0            0            9   \n",
       "2          9            0         10             0            0            9   \n",
       "3         58            0         10             0            0            9   \n",
       "4          0            0          0             0            0            9   \n",
       "\n",
       "   semester  age  course_duration  before_launch  lifetime_proportion  \\\n",
       "0         0   10               10              1                 1548   \n",
       "1         0   12               10              1                  914   \n",
       "2         0    9               10              0                 1046   \n",
       "3         0   19               10              1                 1161   \n",
       "4         0   16               10              1                 1630   \n",
       "\n",
       "   course_chapters  chapters_proportion  \n",
       "0                1                   42  \n",
       "1                1                  175  \n",
       "2                1                  175  \n",
       "3                1                  175  \n",
       "4                1                    7  "
      ]
     },
     "execution_count": 9,
     "metadata": {},
     "output_type": "execute_result"
    }
   ],
   "source": [
    "data = data.apply(LabelEncoder().fit_transform)\n",
    "data.head()"
   ]
  },
  {
   "cell_type": "markdown",
   "metadata": {},
   "source": [
    "### Getting features and target variable"
   ]
  },
  {
   "cell_type": "code",
   "execution_count": 10,
   "metadata": {},
   "outputs": [],
   "source": [
    "y = data['certified'].values.reshape(-1, 1)\n",
    "feature_names = data.drop('certified', axis=1).columns\n",
    "X = data.drop('certified', axis=1).values"
   ]
  },
  {
   "cell_type": "markdown",
   "metadata": {},
   "source": [
    "### Preprocessing\n"
   ]
  },
  {
   "cell_type": "code",
   "execution_count": 11,
   "metadata": {},
   "outputs": [],
   "source": [
    "# Import sklearn.preprocessing.StandardScaler\n",
    "from sklearn.preprocessing import MinMaxScaler\n",
    "\n",
    "# Initialize a scaler, then apply it to the features\n",
    "scaler = MinMaxScaler() # default=(0, 1)\n",
    "\n",
    "X = scaler.fit_transform(X)\n",
    "y = scaler.fit_transform(y)"
   ]
  },
  {
   "cell_type": "code",
   "execution_count": 12,
   "metadata": {},
   "outputs": [
    {
     "data": {
      "text/plain": [
       "(numpy.ndarray, numpy.ndarray)"
      ]
     },
     "execution_count": 12,
     "metadata": {},
     "output_type": "execute_result"
    }
   ],
   "source": [
    "type(X), type(y)"
   ]
  },
  {
   "cell_type": "code",
   "execution_count": 13,
   "metadata": {
    "scrolled": true
   },
   "outputs": [
    {
     "data": {
      "text/plain": [
       "((101405, 19), (101405, 1))"
      ]
     },
     "execution_count": 13,
     "metadata": {},
     "output_type": "execute_result"
    }
   ],
   "source": [
    "X.shape, y.shape"
   ]
  },
  {
   "cell_type": "markdown",
   "metadata": {},
   "source": [
    "### Split Data into training dataset and test dataset\n",
    "\n",
    "- The [train_test_split function](https://scikit-learn.org/stable/modules/generated/sklearn.model_selection.train_test_split.html)from sklearn.model_selection module split arrays or matrices into random train and test subsets. \n",
    "- When the 'shuffle' parameter is set to True, the data will be shuffled before splitting.\n",
    "- In this case, we set the test size to be 0.2\n",
    "- If we do not set the random_state parameter, every iteration, the training set and test set would be different with another iteration, this will somewhat reduce the random variance when selecting the training and test set. For now we will set the random_state, for the statistical test we will not set the random_state"
   ]
  },
  {
   "cell_type": "code",
   "execution_count": 14,
   "metadata": {
    "scrolled": false
   },
   "outputs": [
    {
     "name": "stdout",
     "output_type": "stream",
     "text": [
      "Training set has 81124 samples.\n",
      "Testing set has 20281 samples.\n"
     ]
    }
   ],
   "source": [
    "# Import train_test_split\n",
    "from sklearn.model_selection import train_test_split\n",
    "\n",
    "# Split the 'features' and 'income' data into training and testing sets\n",
    "X_train, X_test, y_train, y_test = train_test_split(X, y,\n",
    "                                                    test_size = 0.2)\n",
    "\n",
    "# Show the results of the split\n",
    "print(\"Training set has {} samples.\".format(X_train.shape[0]))\n",
    "print(\"Testing set has {} samples.\".format(X_test.shape[0]))"
   ]
  },
  {
   "cell_type": "code",
   "execution_count": 15,
   "metadata": {},
   "outputs": [],
   "source": [
    "y_train = y_train.ravel()\n",
    "y_test = y_test.ravel()"
   ]
  },
  {
   "cell_type": "markdown",
   "metadata": {},
   "source": [
    "### Model selection"
   ]
  },
  {
   "cell_type": "markdown",
   "metadata": {},
   "source": [
    "Since our target is labeled(1 for certified 0 for not certified), this is a supervised learning problem. And what we are predicting is a binary variable, so we could use classfiers, specifically. Below we will selection a few possible classifiers to implement."
   ]
  },
  {
   "cell_type": "code",
   "execution_count": 16,
   "metadata": {},
   "outputs": [
    {
     "name": "stdout",
     "output_type": "stream",
     "text": [
      "The training dataset has 19 features and 81124 examples\n"
     ]
    }
   ],
   "source": [
    "# let n be the number of features, m be the number of training examples\n",
    "n = X_train.shape[1]\n",
    "m = X_train.shape[0]\n",
    "print('The training dataset has {} features and {} examples'.format(n, m))"
   ]
  },
  {
   "cell_type": "markdown",
   "metadata": {},
   "source": [
    "As indicated in the machine learning map in sklearn, if our training examples are not too large(>100,000), then the classifiers we could choose would be SVM, KNN, Naive Bayes and Ensemble Methods. Considering that KNN is a lazy learner, although it is sample, it could be very slow, takes a lot of memory. So after selection, we decided to try these classifiers below:\n",
    "\n",
    "Logistic Regression\n",
    "\n",
    "- Real-world application in industry: Online transaction fraud detection\n",
    "- Strenghth: Outputs have a nice probabilistic interpretation, and the algorithm can be regularized to avoid overfitting. Logistic models can be updated easily with new data using stochastic gradient descent.\n",
    "- Weakness: Logistic regression tends to underperform when there are multiple or non-linear decision boundaries. They are not flexible enough to naturally capture more complex relationships\n",
    "- Reason of choosing this model for our data: in our case our m(number of training examples) is large(m=322,200), while n(number of features) is small(n=50).\n",
    "\n",
    "Random Forest\n",
    "\n",
    "\n",
    "- Real-world application in industry: Cancer detection\n",
    "- Strenghth: One decison tree model tends to overfit, the strong point of Random forest is that it is a collection of lots of decisin tree models, let each dicision tree model vote and pick up the best model.\n",
    "- Weakness: Random forests are much harder and time-consuming to construct due the complexity, and they also require more computational resources and are also less intuitive\n",
    "- Reason of choosing this model for our data: Firstly it's a ensemble method, which could effectively prevent overfitting, also since it derives from decision tree models, it could automatically select features\n",
    "\n",
    "\n",
    "\n",
    "Support Vector Machines\n",
    "\n",
    "- Real-world application in industry: Handwriting recognition\n",
    "- Strenghth: It works really well in complicated domains where there is a clear margin of separation.\n",
    "- Weakness: Does not perform well in very large dataset, does not perform well with lots of noise, could be very slow\n",
    "- Reason of choosing this model for our data: SVM is firstly recommended in the map, although it indicates a linear kernel, to the best of my understanding, a linear kernel applies to conditions when the number of features(n) is large, compared with the number of training example(m), in our case, n is small, m is large, we would use SVM with a linear kernel, as advised by Andrew Ng in his Machine Learning course.  \n",
    "\n",
    "\n",
    "Reference\n",
    "\n",
    "- [Sklearn machine learning map](https://scikit-learn.org/stable/tutorial/machine_learning_map/index.html)\n",
    "- [Stanford Machine Learning by Andrew Ng](https://www.coursera.org/learn/machine-learning/lecture/sKQoJ/using-an-svm)\n",
    "- [Which machine learning classifier to choose, in general?](https://stackoverflow.com/questions/2595176/which-machine-learning-classifier-to-choose-in-general)\n",
    "- [Machine Learning Algorithms Comparison](https://medium.com/fintechexplained/machine-learning-algorithm-comparison-f14ce372b855)\n",
    "- [Machine Learning Classifiers](https://towardsdatascience.com/machine-learning-classifiers-a5cc4e1b0623)\n",
    "- [Real-Life Applications of SVM](https://data-flair.training/blogs/applications-of-svm/)\n",
    "- [What are the advantages and disadvantages for a random forest algorithm?](https://www.quora.com/What-are-the-advantages-and-disadvantages-for-a-random-forest-algorithm)\n",
    "- [An Introduction To Building a Classification Model Using Random Forests In Python](https://blogs.oracle.com/datascience/an-introduction-to-building-a-classification-model-using-random-forests-in-python)\n",
    "- [Naive Bayes Strengths and Weaknesses](https://www.youtube.com/watch?v=nfbKTrufPOs)\n",
    "- [SVM Strengths and Weaknesses](https://www.youtube.com/watch?v=U9-ZsbaaGAs)\n",
    "- [Modern Machine Learning Algorithms: Strengths and Weaknesses](https://elitedatascience.com/machine-learning-algorithms)"
   ]
  },
  {
   "cell_type": "markdown",
   "metadata": {},
   "source": [
    "### Naive Predictor\n",
    "The first model will serve as a baseline in which we always predict a student is not certified. \n",
    "- Since we are always predicting negtive, the True positive and False positive are both 0. \n",
    "- False Negtive would be the 1s in the dataset that we predicted as 0, then the size of False Negtive should be the number of the 1s in our dataset.\n",
    "- True negtive would be all the 0s in the dataset, and the size should be the number of zeros in the dataset.\n",
    "- the precison in this case for those we predicted as certified, how many are really certified. In the naive model We are predicting 0 students are certified, and among these predicted certified 0 students, 0 are really certified, so the precision is some what 0/0 = 100%. 0/ 0 looks a little weird, but we could think it this way: we made no mistake in our prediction, so our precisoin is 100%.\n",
    "- the recall would be for those actually certified, how many do we correctly predicted as certified. \n",
    "- For Fbeta score, since our goal is to identify those who will not be certified and provide intervention accordingly, so we would like to make sure for those our model predcit as certified, are certified. Otherwise we may let go a student who need intervention since we predict him as certified. That is to say, we want our Fbeta score to close to Precision. We can achieve this by setting beta to close to 0. We will try beta = 0.1 to see how well our model can predict."
   ]
  },
  {
   "cell_type": "code",
   "execution_count": 17,
   "metadata": {
    "scrolled": true
   },
   "outputs": [
    {
     "data": {
      "text/plain": [
       "array([[0.],\n",
       "       [0.],\n",
       "       [0.],\n",
       "       ...,\n",
       "       [0.],\n",
       "       [0.],\n",
       "       [0.]])"
      ]
     },
     "execution_count": 17,
     "metadata": {},
     "output_type": "execute_result"
    }
   ],
   "source": [
    "y"
   ]
  },
  {
   "cell_type": "code",
   "execution_count": 18,
   "metadata": {},
   "outputs": [
    {
     "data": {
      "text/plain": [
       "101405"
      ]
     },
     "execution_count": 18,
     "metadata": {},
     "output_type": "execute_result"
    }
   ],
   "source": [
    "len(y)"
   ]
  },
  {
   "cell_type": "code",
   "execution_count": 19,
   "metadata": {
    "scrolled": false
   },
   "outputs": [
    {
     "data": {
      "text/plain": [
       "87742.0"
      ]
     },
     "execution_count": 19,
     "metadata": {},
     "output_type": "execute_result"
    }
   ],
   "source": [
    "len(y) - np.sum(y)"
   ]
  },
  {
   "cell_type": "code",
   "execution_count": 20,
   "metadata": {},
   "outputs": [],
   "source": [
    "accuracy = (len(y) - np.sum(y)) / len(y)"
   ]
  },
  {
   "cell_type": "code",
   "execution_count": 21,
   "metadata": {},
   "outputs": [],
   "source": [
    "TP = 0\n",
    "FP = 0"
   ]
  },
  {
   "cell_type": "code",
   "execution_count": 22,
   "metadata": {},
   "outputs": [
    {
     "data": {
      "text/plain": [
       "13663.0"
      ]
     },
     "execution_count": 22,
     "metadata": {},
     "output_type": "execute_result"
    }
   ],
   "source": [
    "FN = np.sum(y)\n",
    "FN"
   ]
  },
  {
   "cell_type": "code",
   "execution_count": 23,
   "metadata": {},
   "outputs": [
    {
     "data": {
      "text/plain": [
       "87742.0"
      ]
     },
     "execution_count": 23,
     "metadata": {},
     "output_type": "execute_result"
    }
   ],
   "source": [
    "TN = len(y) - FN\n",
    "TN"
   ]
  },
  {
   "cell_type": "code",
   "execution_count": 24,
   "metadata": {},
   "outputs": [
    {
     "data": {
      "text/plain": [
       "0.134736945909965"
      ]
     },
     "execution_count": 24,
     "metadata": {},
     "output_type": "execute_result"
    }
   ],
   "source": [
    "accuracy = (TP+FN) / len(y)\n",
    "accuracy"
   ]
  },
  {
   "cell_type": "code",
   "execution_count": 25,
   "metadata": {},
   "outputs": [
    {
     "name": "stdout",
     "output_type": "stream",
     "text": [
      "Naive Predictor: [Accuracy score: 0.8653, F-score: 0.0000]\n"
     ]
    }
   ],
   "source": [
    "# both True positive(TP) and False positive(FP) are 0\n",
    "TP = 0\n",
    "\n",
    "FP = 0\n",
    "\n",
    "# size of False Negtive (FN) is the number of 1s in the dataset\n",
    "# size of True Negtive(TN) is the number of 0s in the dataset\n",
    "FN = np.sum(y)\n",
    "TN = len(y) - FN\n",
    "\n",
    "# Calculate accuracy, precision and recall\n",
    "beta = 0.1\n",
    "accuracy = (len(y) - np.sum(y)) / len(y)\n",
    "recall = TP / (TP + FN)\n",
    "precision = 1\n",
    "\n",
    "# calculate fbeta score with beta=0.1\n",
    "fscore = (1 + beta**2)*precision*recall / (beta**2 * precision + recall)\n",
    "\n",
    "# Print the results \n",
    "print(\"Naive Predictor: [Accuracy score: {:.4f}, F-score: {:.4f}]\".format(accuracy, fscore))"
   ]
  },
  {
   "cell_type": "markdown",
   "metadata": {},
   "source": [
    "### Baseline \n",
    "- 82%-90% accuracy, according to paper _A Predictive Modeling System: Early identification of students at-risk enrolled in online learning programs_\n",
    "- 89% accuracy, according to paper _MOOC Dropout Prediction Using Machine Learning Techniques: Review and Research Challenges_\n",
    "- no fbeta score mentioned\n",
    "- For now we all choose an average accuracy, which is 87% as the baseline."
   ]
  },
  {
   "cell_type": "markdown",
   "metadata": {},
   "source": [
    "### Implementation: Initial Model Evaluation"
   ]
  },
  {
   "cell_type": "code",
   "execution_count": 26,
   "metadata": {},
   "outputs": [],
   "source": [
    "from sklearn.metrics import fbeta_score, accuracy_score\n",
    "def train_predict(learner, sample_size, X_train, y_train, X_test, y_test): \n",
    "    '''\n",
    "    inputs:\n",
    "       - learner: the learning algorithm to be trained and predicted on\n",
    "       - sample_size: the size of samples (number) to be drawn from training set\n",
    "       - X_train: features training set\n",
    "       - y_train: income training set\n",
    "       - X_test: features testing set\n",
    "       - y_test: income testing set\n",
    "    '''\n",
    "    \n",
    "    results = {}\n",
    "    \n",
    "    # TODO: Fit the learner to the training data using slicing with 'sample_size' using .fit(training_features[:], training_labels[:])\n",
    "    start = time() # Get start time\n",
    "    learner = learner.fit(X_train[:int(sample_size)], y_train[:int(sample_size)])\n",
    "    end = time() # Get end time\n",
    "    \n",
    "    # TODO: Calculate the training time\n",
    "    results['train_time'] = end - start\n",
    "        \n",
    "    # TODO: Get the predictions on the test set(X_test),\n",
    "    #       then get predictions on the first 300 training samples(X_train) using .predict()\n",
    "    start = time() # Get start time\n",
    "    predictions_test = learner.predict(X_test)\n",
    "    predictions_train = learner.predict(X_train[:300])\n",
    "    end = time() # Get end time\n",
    "    \n",
    "    # TODO: Calculate the total prediction time\n",
    "    results['pred_time'] = end - start\n",
    "            \n",
    "    # TODO: Compute accuracy on the first 300 training samples which is y_train[:300]\n",
    "    results['acc_train'] = accuracy_score(y_train[:300], predictions_train)\n",
    "        \n",
    "    # TODO: Compute accuracy on test set using accuracy_score()\n",
    "    results['acc_test'] = accuracy_score(y_test, predictions_test)\n",
    "    \n",
    "    # TODO: Compute F-score on the the first 300 training samples using fbeta_score()\n",
    "    results['f_train'] = fbeta_score(y_train[:300], predictions_train, beta = 0.5)\n",
    "        \n",
    "    # TODO: Compute F-score on the test set which is y_test\n",
    "    results['f_test'] = fbeta_score(y_test, predictions_test, beta = 0.5)\n",
    "       \n",
    "    # Success\n",
    "    print(\"{} trained on {} samples.\".format(learner.__class__.__name__, sample_size))\n",
    "        \n",
    "    # Return the results\n",
    "    return results"
   ]
  },
  {
   "cell_type": "code",
   "execution_count": 27,
   "metadata": {},
   "outputs": [
    {
     "name": "stdout",
     "output_type": "stream",
     "text": [
      "LogisticRegression trained on 811 samples.\n",
      "LogisticRegression trained on 8112 samples.\n",
      "LogisticRegression trained on 81124 samples.\n",
      "RandomForestClassifier trained on 811 samples.\n",
      "RandomForestClassifier trained on 8112 samples.\n",
      "RandomForestClassifier trained on 81124 samples.\n",
      "SVC trained on 811 samples.\n",
      "SVC trained on 8112 samples.\n",
      "SVC trained on 81124 samples.\n"
     ]
    }
   ],
   "source": [
    "from sklearn.linear_model import LogisticRegression\n",
    "from sklearn.ensemble import RandomForestClassifier\n",
    "from sklearn.svm import SVC\n",
    "# TODO: Initialize the three models\n",
    "clf_A = LogisticRegression(random_state=42, solver='lbfgs', max_iter=1000)\n",
    "clf_B = RandomForestClassifier(random_state=42, n_estimators=100)\n",
    "clf_C = SVC(random_state=4, gamma='auto')\n",
    "\n",
    "# TODO: Calculate the number of samples for 1%, 10%, and 100% of the training data\n",
    "# HINT: samples_100 is the entire training set i.e. len(y_train)\n",
    "# HINT: samples_10 is 10% of samples_100 (ensure to set the count of the values to be `int` and not `float`)\n",
    "# HINT: samples_1 is 1% of samples_100 (ensure to set the count of the values to be `int` and not `float`)\n",
    "samples_100 = len(X_train)\n",
    "samples_10 = int(0.1 * (len(X_train)))\n",
    "samples_1 = int(0.01 * (len(X_train)))\n",
    "\n",
    "# Collect results on the learners\n",
    "results = {}\n",
    "for clf in [clf_A, clf_B, clf_C]:\n",
    "    clf_name = clf.__class__.__name__\n",
    "    results[clf_name] = {}\n",
    "    for i, samples in enumerate([samples_1, samples_10, samples_100]):\n",
    "        results[clf_name][i] = \\\n",
    "        train_predict(clf, samples, X_train, y_train, X_test, y_test)\n",
    "\n"
   ]
  },
  {
   "cell_type": "code",
   "execution_count": 28,
   "metadata": {
    "scrolled": true
   },
   "outputs": [
    {
     "data": {
      "text/plain": [
       "{'LogisticRegression': {0: {'train_time': 0.024651050567626953,\n",
       "   'pred_time': 0.001971006393432617,\n",
       "   'acc_train': 0.93,\n",
       "   'acc_test': 0.9344213796163897,\n",
       "   'f_train': 0.7880434782608696,\n",
       "   'f_test': 0.7738923921054788},\n",
       "  1: {'train_time': 0.11542987823486328,\n",
       "   'pred_time': 0.0014309883117675781,\n",
       "   'acc_train': 0.94,\n",
       "   'acc_test': 0.9426556875893694,\n",
       "   'f_train': 0.8163265306122449,\n",
       "   'f_test': 0.7968786038287077},\n",
       "  2: {'train_time': 0.9105479717254639,\n",
       "   'pred_time': 0.0009288787841796875,\n",
       "   'acc_train': 0.9366666666666666,\n",
       "   'acc_test': 0.9423598441891425,\n",
       "   'f_train': 0.7999999999999999,\n",
       "   'f_test': 0.7952019621368899}},\n",
       " 'RandomForestClassifier': {0: {'train_time': 0.15728092193603516,\n",
       "   'pred_time': 0.19749665260314941,\n",
       "   'acc_train': 1.0,\n",
       "   'acc_test': 0.9414723139884621,\n",
       "   'f_train': 1.0,\n",
       "   'f_test': 0.7863127456068807},\n",
       "  1: {'train_time': 0.9543118476867676,\n",
       "   'pred_time': 0.32557010650634766,\n",
       "   'acc_train': 1.0,\n",
       "   'acc_test': 0.9518761402297717,\n",
       "   'f_train': 1.0,\n",
       "   'f_test': 0.8202701726504369},\n",
       "  2: {'train_time': 12.706745147705078,\n",
       "   'pred_time': 0.34167909622192383,\n",
       "   'acc_train': 1.0,\n",
       "   'acc_test': 0.955623489965978,\n",
       "   'f_train': 1.0,\n",
       "   'f_test': 0.8318438550082219}},\n",
       " 'SVC': {0: {'train_time': 0.01777195930480957,\n",
       "   'pred_time': 0.24037480354309082,\n",
       "   'acc_train': 0.92,\n",
       "   'acc_test': 0.9270746018440905,\n",
       "   'f_train': 0.7954545454545455,\n",
       "   'f_test': 0.7630598796676535},\n",
       "  1: {'train_time': 0.9442257881164551,\n",
       "   'pred_time': 1.6550650596618652,\n",
       "   'acc_train': 0.9366666666666666,\n",
       "   'acc_test': 0.9411764705882353,\n",
       "   'f_train': 0.8152173913043478,\n",
       "   'f_test': 0.7954097326287562},\n",
       "  2: {'train_time': 85.61301302909851,\n",
       "   'pred_time': 12.47891116142273,\n",
       "   'acc_train': 0.94,\n",
       "   'acc_test': 0.944726591390957,\n",
       "   'f_train': 0.8163265306122449,\n",
       "   'f_test': 0.803523758675921}}}"
      ]
     },
     "execution_count": 28,
     "metadata": {},
     "output_type": "execute_result"
    }
   ],
   "source": [
    "results"
   ]
  },
  {
   "cell_type": "code",
   "execution_count": 29,
   "metadata": {
    "scrolled": true
   },
   "outputs": [
    {
     "data": {
      "image/png": "[encoded data removed]",
      "text/plain": [
       "<Figure size 792x504 with 8 Axes>"
      ]
     },
     "metadata": {
      "needs_background": "light"
     },
     "output_type": "display_data"
    }
   ],
   "source": [
    "vs.evaluate(results, accuracy, fscore)"
   ]
  },
  {
   "cell_type": "markdown",
   "metadata": {},
   "source": [
    "### Statistical test\n",
    "\n",
    "We will do a statistical test to check whether there is a significant difference between 2 algorithms.\n",
    "\n",
    "We will compare the logistic regression and random forest classifier in specific.\n",
    "\n",
    "To reduce the training set random variance and the test set random variance, we will loop over 5 iterations of random splitted training set and test set\n",
    "\n",
    "\n",
    "**null hypothesis**: the classification algorithms have the same error rate\n",
    "\n",
    "**alternative hypothesis**: the classification algorithms have different error rate\n",
    "\n",
    "e01 stands for Number of examples misclassified by A but not B\n",
    "\n",
    "e10 stands for Number of examples misclassified by B but not A\n",
    "\n",
    "McNemar’s test rejects the hypothesis that the two classification al- gorithms have the same error rate at \n",
    "\n",
    "significance level α if this value is greater than Xα2,1. For α = 0.05, X0.05**2,1 = 3.84."
   ]
  },
  {
   "cell_type": "markdown",
   "metadata": {},
   "source": [
    "**McNemar’s test from scratch**"
   ]
  },
  {
   "cell_type": "code",
   "execution_count": 30,
   "metadata": {
    "scrolled": true
   },
   "outputs": [
    {
     "name": "stdout",
     "output_type": "stream",
     "text": [
      "Iteration 0: \n",
      "------\n",
      "Chi Squared value is 95.17146974063401\n",
      "Iteration 1: \n",
      "------\n",
      "Chi Squared value is 124.94192634560906\n",
      "Iteration 2: \n",
      "------\n",
      "Chi Squared value is 107.76544943820225\n",
      "Iteration 3: \n",
      "------\n",
      "Chi Squared value is 123.77185792349727\n",
      "Iteration 4: \n",
      "------\n",
      "Chi Squared value is 120.53324099722991\n"
     ]
    }
   ],
   "source": [
    "from sklearn.model_selection import train_test_split\n",
    "from sklearn.linear_model import LogisticRegression\n",
    "from sklearn.ensemble import RandomForestClassifier\n",
    "import numpy as np\n",
    "iterations = 5\n",
    "clf_A = LogisticRegression(random_state=42, solver='lbfgs', max_iter=1000)\n",
    "clf_B = RandomForestClassifier(random_state=42, n_estimators=100)\n",
    "for i in range(iterations):\n",
    "    print('Iteration {}: \\n------'.format(i))\n",
    "    X_train, X_test, y_train, y_test = train_test_split(X, y,\n",
    "                                                    test_size = 0.2)\n",
    "    y_train = y_train.ravel()\n",
    "    y_test = y_test.ravel()\n",
    "    y_pred_A = clf_A.fit(X_train, y_train).predict(X_test)\n",
    "    y_pred_B = clf_B.fit(X_train, y_train).predict(X_test)\n",
    "    \n",
    "    error_ind_A = set(np.where(y_test != y_pred_A)[0])\n",
    "    error_count_A = len(error_ind_A)\n",
    "    error_ind_B = set(np.where(y_test != y_pred_B)[0])\n",
    "    error_count_B = len(error_ind_B)\n",
    "    error_both = error_ind_A\n",
    "    error_both.intersection_update(error_ind_B)\n",
    "    e00 = len(error_both)\n",
    "    e10 = error_count_A - e00\n",
    "    e01 = error_count_B - e00\n",
    "    chi_squared = (abs(e01-e10) - 1)**2 / (e01+e10)\n",
    "    print('Chi Squared value is {}'.format(chi_squared))\n",
    "\n",
    "    "
   ]
  },
  {
   "cell_type": "markdown",
   "metadata": {},
   "source": [
    "**McNemar’s test with statsmodels**"
   ]
  },
  {
   "cell_type": "code",
   "execution_count": 31,
   "metadata": {},
   "outputs": [
    {
     "name": "stdout",
     "output_type": "stream",
     "text": [
      "Iteration 1: \n",
      "------\n",
      "P value is 3.504899503394417e-17\n",
      "Reject H0, there is significant difference between the performance of LogisticRegression and RandomForest classifiers\n",
      "\n",
      "Iteration 2: \n",
      "------\n",
      "P value is 1.6193979886803482e-25\n",
      "Reject H0, there is significant difference between the performance of LogisticRegression and RandomForest classifiers\n",
      "\n",
      "Iteration 3: \n",
      "------\n",
      "P value is 5.448761118581569e-23\n",
      "Reject H0, there is significant difference between the performance of LogisticRegression and RandomForest classifiers\n",
      "\n",
      "Iteration 4: \n",
      "------\n",
      "P value is 1.078179611437386e-28\n",
      "Reject H0, there is significant difference between the performance of LogisticRegression and RandomForest classifiers\n",
      "\n",
      "Iteration 5: \n",
      "------\n",
      "P value is 4.668137640136469e-27\n",
      "Reject H0, there is significant difference between the performance of LogisticRegression and RandomForest classifiers\n",
      "\n"
     ]
    }
   ],
   "source": [
    "# LogisticRegression VS RandomForest\n",
    "from statsmodels.stats.contingency_tables import mcnemar\n",
    "from sklearn.model_selection import train_test_split\n",
    "from sklearn.linear_model import LogisticRegression\n",
    "from sklearn.ensemble import RandomForestClassifier\n",
    "import numpy as np\n",
    "\n",
    "iterations = 5\n",
    "clf_A = LogisticRegression(random_state=42, solver='lbfgs', max_iter=1000)\n",
    "clf_B = RandomForestClassifier(random_state=42, n_estimators=100)\n",
    "for i in range(iterations):\n",
    "    print('Iteration {}: \\n------'.format(i+1))\n",
    "    X_train, X_test, y_train, y_test = train_test_split(X, y,\n",
    "                                                    test_size = 0.2)\n",
    "    y_train = y_train.ravel()\n",
    "    y_test = y_test.ravel()\n",
    "    y_pred_A = clf_A.fit(X_train, y_train).predict(X_test)\n",
    "    y_pred_B = clf_B.fit(X_train, y_train).predict(X_test)\n",
    "    \n",
    "    \n",
    "    \n",
    "    error_ind_A = set(np.where(y_test != y_pred_A)[0])\n",
    "    error_count_A = len(error_ind_A)\n",
    "    error_ind_B = set(np.where(y_test != y_pred_B)[0])\n",
    "    error_count_B = len(error_ind_B)\n",
    "    error_both = error_ind_A\n",
    "    error_both.intersection_update(error_ind_B)\n",
    "    \n",
    "    e00 = len(error_both)\n",
    "    e10 = error_count_A - e00\n",
    "    e01 = error_count_B - e00\n",
    "    e11 = len(y_test) - e00 - e01 - e10\n",
    "    \n",
    "    table = [[e00, e01], [e10, e11]]\n",
    "    p = mcnemar(table, exact=False, correction=True).pvalue\n",
    "    print('P value is {}'.format(p))\n",
    "\n",
    "    alpha = 0.05\n",
    "    if p > alpha:\n",
    "        print('Fail to reject H0, there is no significant difference between the performance of LogisticRegression and RandomForest classifiers\\n')\n",
    "    else:\n",
    "        print('Reject H0, there is significant difference between the performance of LogisticRegression and RandomForest classifiers\\n')"
   ]
  },
  {
   "cell_type": "code",
   "execution_count": 32,
   "metadata": {},
   "outputs": [
    {
     "name": "stdout",
     "output_type": "stream",
     "text": [
      "Iteration 1: \n",
      "------\n",
      "P value is 1.1982621267074549e-30\n",
      "Reject H0, there is significant difference between the performance of LogisticRegression and RandomForest classifiers\n",
      "\n",
      "Iteration 2: \n",
      "------\n",
      "P value is 3.7807403899895586e-35\n",
      "Reject H0, there is significant difference between the performance of LogisticRegression and RandomForest classifiers\n",
      "\n",
      "Iteration 3: \n",
      "------\n",
      "P value is 3.598131817345515e-25\n",
      "Reject H0, there is significant difference between the performance of LogisticRegression and RandomForest classifiers\n",
      "\n",
      "Iteration 4: \n",
      "------\n",
      "P value is 7.873522340998159e-31\n",
      "Reject H0, there is significant difference between the performance of LogisticRegression and RandomForest classifiers\n",
      "\n",
      "Iteration 5: \n",
      "------\n",
      "P value is 1.5103698566661497e-24\n",
      "Reject H0, there is significant difference between the performance of LogisticRegression and RandomForest classifiers\n",
      "\n"
     ]
    }
   ],
   "source": [
    "# SVM VS RandomForest\n",
    "from statsmodels.stats.contingency_tables import mcnemar\n",
    "from sklearn.model_selection import train_test_split\n",
    "from sklearn.svm import SVC\n",
    "from sklearn.ensemble import RandomForestClassifier\n",
    "import numpy as np\n",
    "\n",
    "clf_A = SVC(random_state=4, gamma='auto')\n",
    "clf_B = RandomForestClassifier(random_state=42, n_estimators=100)\n",
    "\n",
    "\n",
    "iterations = 5\n",
    "clf_A = LogisticRegression(solver='lbfgs', max_iter=1000)\n",
    "clf_B = RandomForestClassifier(n_estimators=100)\n",
    "for i in range(iterations):\n",
    "    print('Iteration {}: \\n------'.format(i+1))\n",
    "    X_train, X_test, y_train, y_test = train_test_split(X, y,\n",
    "                                                    test_size = 0.2)\n",
    "    y_train = y_train.ravel()\n",
    "    y_test = y_test.ravel()\n",
    "    y_pred_A = clf_A.fit(X_train, y_train).predict(X_test)\n",
    "    y_pred_B = clf_B.fit(X_train, y_train).predict(X_test)\n",
    "    \n",
    "    \n",
    "    \n",
    "    error_ind_A = set(np.where(y_test != y_pred_A)[0])\n",
    "    error_count_A = len(error_ind_A)\n",
    "    error_ind_B = set(np.where(y_test != y_pred_B)[0])\n",
    "    error_count_B = len(error_ind_B)\n",
    "    error_both = error_ind_A\n",
    "    error_both.intersection_update(error_ind_B)\n",
    "    \n",
    "    e00 = len(error_both)\n",
    "    e10 = error_count_A - e00\n",
    "    e01 = error_count_B - e00\n",
    "    e11 = len(y_test) - e00 - e01 - e10\n",
    "    \n",
    "    table = [[e00, e01], [e10, e11]]\n",
    "    p = mcnemar(table, exact=False, correction=True).pvalue\n",
    "    print('P value is {}'.format(p))\n",
    "\n",
    "    alpha = 0.05\n",
    "    if p > alpha:\n",
    "        print('Fail to reject H0, there is no significant difference between the performance of LogisticRegression and RandomForest classifiers\\n')\n",
    "    else:\n",
    "        print('Reject H0, there is significant difference between the performance of LogisticRegression and RandomForest classifiers\\n')"
   ]
  },
  {
   "cell_type": "markdown",
   "metadata": {},
   "source": [
    "### Random Forest\n",
    "\n",
    "From above we can see that a random forest model perfoms better than the other two, we will tune a random forest model below"
   ]
  },
  {
   "cell_type": "code",
   "execution_count": 34,
   "metadata": {
    "scrolled": true
   },
   "outputs": [
    {
     "name": "stderr",
     "output_type": "stream",
     "text": [
      "/Library/anaconda3/lib/python3.7/site-packages/sklearn/ensemble/forest.py:245: FutureWarning: The default value of n_estimators will change from 10 in version 0.20 to 100 in 0.22.\n",
      "  \"10 in version 0.20 to 100 in 0.22.\", FutureWarning)\n"
     ]
    },
    {
     "name": "stdout",
     "output_type": "stream",
     "text": [
      "Unoptimized model\n",
      "------\n",
      "Accuracy score on testing data: 0.9537\n",
      "F-score on testing data: 0.8408\n",
      "\n",
      "Optimized Model\n",
      "------\n",
      "Final accuracy score on the testing data: 0.9549\n",
      "Final F-score on the testing data: 0.8348\n",
      "\n",
      "Training and predicting time: 27501.44800209999\n"
     ]
    }
   ],
   "source": [
    "from sklearn.model_selection import GridSearchCV \n",
    "from sklearn.metrics import make_scorer\n",
    "start = time()\n",
    "clf = RandomForestClassifier(random_state=42)\n",
    "\n",
    "# Number of trees in random forest\n",
    "n_estimators = [100, 200, 300, 400, 500]\n",
    "\n",
    "# The function to measure the quality of a split.\n",
    "criterion = ['gini', 'entropy']\n",
    "\n",
    "# Maximum number of levels in tree\n",
    "max_depth = [2, 4, 6, 8, 10]\n",
    "\n",
    "# Number of features to consider at every split\n",
    "max_features = ['auto', 'sqrt', 'log2', None]\n",
    "\n",
    "parameters = {'n_estimators': n_estimators, 'criterion': criterion, 'max_depth': [2, 4, 6, 8, 10],\n",
    "              'max_features': max_features}\n",
    "\n",
    "# Make an fbeta_score scoring object using make_scorer()\n",
    "scorer = make_scorer(fbeta_score, beta=0.5)\n",
    "\n",
    "# Perform grid search on the classifier using 'scorer' as the scoring method using GridSearchCV()\n",
    "grid_obj = GridSearchCV(clf, param_grid = parameters, scoring=scorer, cv=5)\n",
    "\n",
    "# Fit the grid search object to the training data and find the optimal parameters using fit()\n",
    "grid_fit = grid_obj.fit(X_train, y_train)\n",
    "\n",
    "# Get the estimator\n",
    "best_clf = grid_fit.best_estimator_\n",
    "\n",
    "# Make predictions using the unoptimized and model\n",
    "predictions = (clf.fit(X_train, y_train)).predict(X_test)\n",
    "best_predictions = best_clf.predict(X_test)\n",
    "\n",
    "end = time()\n",
    "fit_pred_time = end - start\n",
    "\n",
    "# Report the before-and-afterscores\n",
    "print(\"Unoptimized model\\n------\")\n",
    "print(\"Accuracy score on testing data: {:.4f}\".format(accuracy_score(y_test, predictions)))\n",
    "print(\"F-score on testing data: {:.4f}\".format(fbeta_score(y_test, predictions, beta = 0.5)))\n",
    "print(\"\\nOptimized Model\\n------\")\n",
    "print(\"Final accuracy score on the testing data: {:.4f}\".format(accuracy_score(y_test, best_predictions)))\n",
    "print(\"Final F-score on the testing data: {:.4f}\".format(fbeta_score(y_test, best_predictions, beta = 0.5)))\n",
    "print('\\nTraining and predicting time: {}'.format(fit_pred_time))"
   ]
  },
  {
   "cell_type": "code",
   "execution_count": 35,
   "metadata": {
    "scrolled": false
   },
   "outputs": [
    {
     "data": {
      "text/plain": [
       "RandomForestClassifier(bootstrap=True, class_weight=None, criterion='gini',\n",
       "                       max_depth=10, max_features='auto', max_leaf_nodes=None,\n",
       "                       min_impurity_decrease=0.0, min_impurity_split=None,\n",
       "                       min_samples_leaf=1, min_samples_split=2,\n",
       "                       min_weight_fraction_leaf=0.0, n_estimators=400,\n",
       "                       n_jobs=None, oob_score=False, random_state=42, verbose=0,\n",
       "                       warm_start=False)"
      ]
     },
     "execution_count": 35,
     "metadata": {},
     "output_type": "execute_result"
    }
   ],
   "source": [
    "# parameters of the best classifier\n",
    "best_clf"
   ]
  },
  {
   "cell_type": "markdown",
   "metadata": {},
   "source": [
    "### Feature importance"
   ]
  },
  {
   "cell_type": "code",
   "execution_count": 36,
   "metadata": {},
   "outputs": [],
   "source": [
    "from sklearn.ensemble import RandomForestClassifier\n",
    "\n",
    "# Train the supervised model on the training set using .fit(X_train, y_train)\n",
    "model = RandomForestClassifier(n_estimators=300, max_depth=10, random_state=42).fit(X_train, y_train)\n",
    "\n",
    "# Extract the feature importances using .feature_importances_ \n",
    "feature_importances = model.feature_importances_\n",
    "\n",
    "# index of feature importances\n",
    "\n",
    "sorted_idx = feature_importances.argsort()"
   ]
  },
  {
   "cell_type": "code",
   "execution_count": 37,
   "metadata": {},
   "outputs": [
    {
     "data": {
      "image/png": "[encoded data removed]",
      "text/plain": [
       "<Figure size 864x432 with 1 Axes>"
      ]
     },
     "metadata": {
      "needs_background": "light"
     },
     "output_type": "display_data"
    }
   ],
   "source": [
    "# plot of feature importance\n",
    "y_ticks = np.arange(0, len(feature_names))\n",
    "plt.figure(figsize=(12, 6))\n",
    "plt.barh(y_ticks, feature_importances[sorted_idx])\n",
    "plt.yticks(ticks=y_ticks, labels=feature_names[sorted_idx])\n",
    "plt.title(\"Random Forest Feature Importances (MDI)\")\n",
    "plt.show()"
   ]
  },
  {
   "cell_type": "markdown",
   "metadata": {},
   "source": [
    "### Referance\n",
    "- [How to encode labels for multiple columns with Scikit-learn in Python](https://kite.com/python/answers/how-to-encode-labels-for-multiple-columns-with-scikit-learn-in-python)\n",
    "- [Permutation Importance vs Random Forest Feature Importance (MDI)](https://scikit-learn.org/stable/auto_examples/inspection/plot_permutation_importance.html#)\n",
    "- [Hyperparameter Tuning the Random Forest in Python](https://towardsdatascience.com/hyperparameter-tuning-the-random-forest-in-python-using-scikit-learn-28d2aa77dd74)"
   ]
  },
  {
   "cell_type": "code",
   "execution_count": null,
   "metadata": {},
   "outputs": [],
   "source": []
  }
 ],
 "metadata": {
  "hide_input": false,
  "kernelspec": {
   "display_name": "Python 3",
   "language": "python",
   "name": "python3"
  },
  "language_info": {
   "codemirror_mode": {
    "name": "ipython",
    "version": 3
   },
   "file_extension": ".py",
   "mimetype": "text/x-python",
   "name": "python",
   "nbconvert_exporter": "python",
   "pygments_lexer": "ipython3",
   "version": "3.7.3"
  },
  "latex_envs": {
   "LaTeX_envs_menu_present": true,
   "autoclose": false,
   "autocomplete": true,
   "bibliofile": "biblio.bib",
   "cite_by": "apalike",
   "current_citInitial": 1,
   "eqLabelWithNumbers": true,
   "eqNumInitial": 1,
   "hotkeys": {
    "equation": "Ctrl-E",
    "itemize": "Ctrl-I"
   },
   "labels_anchors": false,
   "latex_user_defs": false,
   "report_style_numbering": false,
   "user_envs_cfg": false
  },
  "toc": {
   "base_numbering": 1,
   "nav_menu": {},
   "number_sections": true,
   "sideBar": true,
   "skip_h1_title": true,
   "title_cell": "Table of Contents",
   "title_sidebar": "Contents",
   "toc_cell": false,
   "toc_position": {},
   "toc_section_display": true,
   "toc_window_display": false
  },
  "varInspector": {
   "cols": {
    "lenName": 16,
    "lenType": 16,
    "lenVar": 40
   },
   "kernels_config": {
    "python": {
     "delete_cmd_postfix": "",
     "delete_cmd_prefix": "del ",
     "library": "var_list.py",
     "varRefreshCmd": "print(var_dic_list())"
    },
    "r": {
     "delete_cmd_postfix": ") ",
     "delete_cmd_prefix": "rm(",
     "library": "var_list.r",
     "varRefreshCmd": "cat(var_dic_list()) "
    }
   },
   "types_to_exclude": [
    "module",
    "function",
    "builtin_function_or_method",
    "instance",
    "_Feature"
   ],
   "window_display": false
  }
 },
 "nbformat": 4,
 "nbformat_minor": 1
}
