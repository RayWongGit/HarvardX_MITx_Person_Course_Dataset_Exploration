{
 "cells": [
  {
   "cell_type": "markdown",
   "metadata": {},
   "source": [
    "# HarvardX_MITx_Person_Course_Dataset_Data_Wrangling\n",
    "\n",
    "## Data Wrangling\n",
    "\n",
    "In this file we do data wrangling on the dataset in order to get it ready for future exploration. \n",
    "\n",
    "The dataset we are using, is HarvardX_MITx_Person_Course_Dataset named 'HMXPC13_DI_v2_5-14-14.csv', which is de-identified data from the first year (Academic Year 2013: Fall 2012, Spring 2013, and Summer 2013) of MITx and HarvardX courses on the edX platform along with related documentation.\n",
    "\n",
    "These data are aggregate records, and each record represents one individual's activity in one edX course.  \n",
    "\n",
    "The data description can be found in file 'Person+Course+Documentation.pdf', for better understanding of each variable, I also put the description of each variable into a spreadsheet(named 'HMX Data description.xlsx') with some comments.\n",
    "\n",
    "The dataset and documents are available on link below:\n",
    "\n",
    "[dataverse.harvard.edu](https://dataverse.harvard.edu/dataset.xhtml?persistentId=doi:10.7910/DVN/26147)"
   ]
  },
  {
   "cell_type": "markdown",
   "metadata": {},
   "source": [
    "### Loading Data"
   ]
  },
  {
   "cell_type": "code",
   "execution_count": 1,
   "metadata": {},
   "outputs": [],
   "source": [
    "# import all packages and set plots to be embedded inline\n",
    "import numpy as np\n",
    "import pandas as pd\n",
    "import matplotlib.pyplot as plt\n",
    "import seaborn as sb\n",
    "from datetime import datetime\n",
    "%matplotlib inline"
   ]
  },
  {
   "cell_type": "code",
   "execution_count": 2,
   "metadata": {
    "scrolled": true
   },
   "outputs": [
    {
     "data": {
      "text/html": [
       "<div>\n",
       "<style scoped>\n",
       "    .dataframe tbody tr th:only-of-type {\n",
       "        vertical-align: middle;\n",
       "    }\n",
       "\n",
       "    .dataframe tbody tr th {\n",
       "        vertical-align: top;\n",
       "    }\n",
       "\n",
       "    .dataframe thead th {\n",
       "        text-align: right;\n",
       "    }\n",
       "</style>\n",
       "<table border=\"1\" class=\"dataframe\">\n",
       "  <thead>\n",
       "    <tr style=\"text-align: right;\">\n",
       "      <th></th>\n",
       "      <th>course_id</th>\n",
       "      <th>userid_DI</th>\n",
       "      <th>registered</th>\n",
       "      <th>viewed</th>\n",
       "      <th>explored</th>\n",
       "      <th>certified</th>\n",
       "      <th>final_cc_cname_DI</th>\n",
       "      <th>LoE_DI</th>\n",
       "      <th>YoB</th>\n",
       "      <th>gender</th>\n",
       "      <th>grade</th>\n",
       "      <th>start_time_DI</th>\n",
       "      <th>last_event_DI</th>\n",
       "      <th>nevents</th>\n",
       "      <th>ndays_act</th>\n",
       "      <th>nplay_video</th>\n",
       "      <th>nchapters</th>\n",
       "      <th>nforum_posts</th>\n",
       "      <th>roles</th>\n",
       "      <th>incomplete_flag</th>\n",
       "    </tr>\n",
       "  </thead>\n",
       "  <tbody>\n",
       "    <tr>\n",
       "      <th>0</th>\n",
       "      <td>HarvardX/CB22x/2013_Spring</td>\n",
       "      <td>MHxPC130442623</td>\n",
       "      <td>1</td>\n",
       "      <td>0</td>\n",
       "      <td>0</td>\n",
       "      <td>0</td>\n",
       "      <td>United States</td>\n",
       "      <td>NaN</td>\n",
       "      <td>NaN</td>\n",
       "      <td>NaN</td>\n",
       "      <td>0</td>\n",
       "      <td>2012-12-19</td>\n",
       "      <td>2013-11-17</td>\n",
       "      <td>NaN</td>\n",
       "      <td>9.0</td>\n",
       "      <td>NaN</td>\n",
       "      <td>NaN</td>\n",
       "      <td>0</td>\n",
       "      <td>NaN</td>\n",
       "      <td>1.0</td>\n",
       "    </tr>\n",
       "    <tr>\n",
       "      <th>1</th>\n",
       "      <td>HarvardX/CS50x/2012</td>\n",
       "      <td>MHxPC130442623</td>\n",
       "      <td>1</td>\n",
       "      <td>1</td>\n",
       "      <td>0</td>\n",
       "      <td>0</td>\n",
       "      <td>United States</td>\n",
       "      <td>NaN</td>\n",
       "      <td>NaN</td>\n",
       "      <td>NaN</td>\n",
       "      <td>0</td>\n",
       "      <td>2012-10-15</td>\n",
       "      <td>NaN</td>\n",
       "      <td>NaN</td>\n",
       "      <td>9.0</td>\n",
       "      <td>NaN</td>\n",
       "      <td>1.0</td>\n",
       "      <td>0</td>\n",
       "      <td>NaN</td>\n",
       "      <td>1.0</td>\n",
       "    </tr>\n",
       "    <tr>\n",
       "      <th>2</th>\n",
       "      <td>HarvardX/CB22x/2013_Spring</td>\n",
       "      <td>MHxPC130275857</td>\n",
       "      <td>1</td>\n",
       "      <td>0</td>\n",
       "      <td>0</td>\n",
       "      <td>0</td>\n",
       "      <td>United States</td>\n",
       "      <td>NaN</td>\n",
       "      <td>NaN</td>\n",
       "      <td>NaN</td>\n",
       "      <td>0</td>\n",
       "      <td>2013-02-08</td>\n",
       "      <td>2013-11-17</td>\n",
       "      <td>NaN</td>\n",
       "      <td>16.0</td>\n",
       "      <td>NaN</td>\n",
       "      <td>NaN</td>\n",
       "      <td>0</td>\n",
       "      <td>NaN</td>\n",
       "      <td>1.0</td>\n",
       "    </tr>\n",
       "    <tr>\n",
       "      <th>3</th>\n",
       "      <td>HarvardX/CS50x/2012</td>\n",
       "      <td>MHxPC130275857</td>\n",
       "      <td>1</td>\n",
       "      <td>0</td>\n",
       "      <td>0</td>\n",
       "      <td>0</td>\n",
       "      <td>United States</td>\n",
       "      <td>NaN</td>\n",
       "      <td>NaN</td>\n",
       "      <td>NaN</td>\n",
       "      <td>0</td>\n",
       "      <td>2012-09-17</td>\n",
       "      <td>NaN</td>\n",
       "      <td>NaN</td>\n",
       "      <td>16.0</td>\n",
       "      <td>NaN</td>\n",
       "      <td>NaN</td>\n",
       "      <td>0</td>\n",
       "      <td>NaN</td>\n",
       "      <td>1.0</td>\n",
       "    </tr>\n",
       "    <tr>\n",
       "      <th>4</th>\n",
       "      <td>HarvardX/ER22x/2013_Spring</td>\n",
       "      <td>MHxPC130275857</td>\n",
       "      <td>1</td>\n",
       "      <td>0</td>\n",
       "      <td>0</td>\n",
       "      <td>0</td>\n",
       "      <td>United States</td>\n",
       "      <td>NaN</td>\n",
       "      <td>NaN</td>\n",
       "      <td>NaN</td>\n",
       "      <td>0</td>\n",
       "      <td>2012-12-19</td>\n",
       "      <td>NaN</td>\n",
       "      <td>NaN</td>\n",
       "      <td>16.0</td>\n",
       "      <td>NaN</td>\n",
       "      <td>NaN</td>\n",
       "      <td>0</td>\n",
       "      <td>NaN</td>\n",
       "      <td>1.0</td>\n",
       "    </tr>\n",
       "  </tbody>\n",
       "</table>\n",
       "</div>"
      ],
      "text/plain": [
       "                    course_id       userid_DI  registered  viewed  explored  \\\n",
       "0  HarvardX/CB22x/2013_Spring  MHxPC130442623           1       0         0   \n",
       "1         HarvardX/CS50x/2012  MHxPC130442623           1       1         0   \n",
       "2  HarvardX/CB22x/2013_Spring  MHxPC130275857           1       0         0   \n",
       "3         HarvardX/CS50x/2012  MHxPC130275857           1       0         0   \n",
       "4  HarvardX/ER22x/2013_Spring  MHxPC130275857           1       0         0   \n",
       "\n",
       "   certified final_cc_cname_DI LoE_DI  YoB gender grade start_time_DI  \\\n",
       "0          0     United States    NaN  NaN    NaN     0    2012-12-19   \n",
       "1          0     United States    NaN  NaN    NaN     0    2012-10-15   \n",
       "2          0     United States    NaN  NaN    NaN     0    2013-02-08   \n",
       "3          0     United States    NaN  NaN    NaN     0    2012-09-17   \n",
       "4          0     United States    NaN  NaN    NaN     0    2012-12-19   \n",
       "\n",
       "  last_event_DI  nevents  ndays_act  nplay_video  nchapters  nforum_posts  \\\n",
       "0    2013-11-17      NaN        9.0          NaN        NaN             0   \n",
       "1           NaN      NaN        9.0          NaN        1.0             0   \n",
       "2    2013-11-17      NaN       16.0          NaN        NaN             0   \n",
       "3           NaN      NaN       16.0          NaN        NaN             0   \n",
       "4           NaN      NaN       16.0          NaN        NaN             0   \n",
       "\n",
       "   roles  incomplete_flag  \n",
       "0    NaN              1.0  \n",
       "1    NaN              1.0  \n",
       "2    NaN              1.0  \n",
       "3    NaN              1.0  \n",
       "4    NaN              1.0  "
      ]
     },
     "execution_count": 2,
     "metadata": {},
     "output_type": "execute_result"
    }
   ],
   "source": [
    "# load data into a pandas dataframe and check the first 5 rows\n",
    "df = pd.read_csv('HMXPC13_DI_v2_5-14-14.csv')\n",
    "df.head()"
   ]
  },
  {
   "cell_type": "markdown",
   "metadata": {},
   "source": [
    "### Assessing  Data"
   ]
  },
  {
   "cell_type": "code",
   "execution_count": 3,
   "metadata": {},
   "outputs": [
    {
     "name": "stdout",
     "output_type": "stream",
     "text": [
      "Our dataset has 641138 records, with 20 variables\n"
     ]
    }
   ],
   "source": [
    "# dataset size\n",
    "df.shape\n",
    "\n",
    "print('Our dataset has {} records, with {} variables'.format(df.shape[0], df.shape[1]))"
   ]
  },
  {
   "cell_type": "code",
   "execution_count": 4,
   "metadata": {
    "scrolled": true
   },
   "outputs": [
    {
     "name": "stdout",
     "output_type": "stream",
     "text": [
      "<class 'pandas.core.frame.DataFrame'>\n",
      "RangeIndex: 641138 entries, 0 to 641137\n",
      "Data columns (total 20 columns):\n",
      "course_id            641138 non-null object\n",
      "userid_DI            641138 non-null object\n",
      "registered           641138 non-null int64\n",
      "viewed               641138 non-null int64\n",
      "explored             641138 non-null int64\n",
      "certified            641138 non-null int64\n",
      "final_cc_cname_DI    641138 non-null object\n",
      "LoE_DI               535130 non-null object\n",
      "YoB                  544533 non-null float64\n",
      "gender               554332 non-null object\n",
      "grade                592766 non-null object\n",
      "start_time_DI        641138 non-null object\n",
      "last_event_DI        462184 non-null object\n",
      "nevents              441987 non-null float64\n",
      "ndays_act            478395 non-null float64\n",
      "nplay_video          183608 non-null float64\n",
      "nchapters            382385 non-null float64\n",
      "nforum_posts         641138 non-null int64\n",
      "roles                0 non-null float64\n",
      "incomplete_flag      100161 non-null float64\n",
      "dtypes: float64(7), int64(5), object(8)\n",
      "memory usage: 97.8+ MB\n"
     ]
    }
   ],
   "source": [
    "# basic info\n",
    "df.info()"
   ]
  },
  {
   "cell_type": "code",
   "execution_count": 5,
   "metadata": {},
   "outputs": [
    {
     "data": {
      "text/plain": [
       "course_id                 0\n",
       "userid_DI                 0\n",
       "registered                0\n",
       "viewed                    0\n",
       "explored                  0\n",
       "certified                 0\n",
       "final_cc_cname_DI         0\n",
       "LoE_DI               106008\n",
       "YoB                   96605\n",
       "gender                86806\n",
       "grade                 48372\n",
       "start_time_DI             0\n",
       "last_event_DI        178954\n",
       "nevents              199151\n",
       "ndays_act            162743\n",
       "nplay_video          457530\n",
       "nchapters            258753\n",
       "nforum_posts              0\n",
       "roles                641138\n",
       "incomplete_flag      540977\n",
       "dtype: int64"
      ]
     },
     "execution_count": 5,
     "metadata": {},
     "output_type": "execute_result"
    }
   ],
   "source": [
    "# missing values\n",
    "df.isnull().sum()"
   ]
  },
  {
   "cell_type": "code",
   "execution_count": 6,
   "metadata": {
    "scrolled": true
   },
   "outputs": [
    {
     "data": {
      "text/plain": [
       "0"
      ]
     },
     "execution_count": 6,
     "metadata": {},
     "output_type": "execute_result"
    }
   ],
   "source": [
    "# check duplicate\n",
    "df.duplicated().sum()"
   ]
  },
  {
   "cell_type": "markdown",
   "metadata": {},
   "source": [
    "According to the results above, we found that:\n",
    "- There are a lot of missing values in the dataset, we will need to look deeper into the missing values to figure out how to handle them\n",
    "- The data type of 'grade' is object, while float would be more reasonable\n",
    "- data types of 'start_time_DI' and 'last_event_DI'are object, it is better to convert them into date type.\n",
    "- There is no value in variable 'roles', we will drop it\n",
    "- Some variable names are not very intuitive, we will rename them to be more concise and intuitive.\n",
    "- No duplicated record, which is good."
   ]
  },
  {
   "cell_type": "markdown",
   "metadata": {},
   "source": [
    "Next we will check the description of the numerical variabls in our dataset"
   ]
  },
  {
   "cell_type": "code",
   "execution_count": 7,
   "metadata": {
    "scrolled": true
   },
   "outputs": [
    {
     "data": {
      "text/html": [
       "<div>\n",
       "<style scoped>\n",
       "    .dataframe tbody tr th:only-of-type {\n",
       "        vertical-align: middle;\n",
       "    }\n",
       "\n",
       "    .dataframe tbody tr th {\n",
       "        vertical-align: top;\n",
       "    }\n",
       "\n",
       "    .dataframe thead th {\n",
       "        text-align: right;\n",
       "    }\n",
       "</style>\n",
       "<table border=\"1\" class=\"dataframe\">\n",
       "  <thead>\n",
       "    <tr style=\"text-align: right;\">\n",
       "      <th></th>\n",
       "      <th>registered</th>\n",
       "      <th>viewed</th>\n",
       "      <th>explored</th>\n",
       "      <th>certified</th>\n",
       "      <th>YoB</th>\n",
       "      <th>nevents</th>\n",
       "      <th>ndays_act</th>\n",
       "      <th>nplay_video</th>\n",
       "      <th>nchapters</th>\n",
       "      <th>nforum_posts</th>\n",
       "      <th>roles</th>\n",
       "      <th>incomplete_flag</th>\n",
       "    </tr>\n",
       "  </thead>\n",
       "  <tbody>\n",
       "    <tr>\n",
       "      <th>count</th>\n",
       "      <td>641138.0</td>\n",
       "      <td>641138.000000</td>\n",
       "      <td>641138.000000</td>\n",
       "      <td>641138.000000</td>\n",
       "      <td>544533.000000</td>\n",
       "      <td>441987.000000</td>\n",
       "      <td>478395.000000</td>\n",
       "      <td>183608.000000</td>\n",
       "      <td>382385.000000</td>\n",
       "      <td>641138.000000</td>\n",
       "      <td>0.0</td>\n",
       "      <td>100161.0</td>\n",
       "    </tr>\n",
       "    <tr>\n",
       "      <th>mean</th>\n",
       "      <td>1.0</td>\n",
       "      <td>0.624299</td>\n",
       "      <td>0.061899</td>\n",
       "      <td>0.027587</td>\n",
       "      <td>1985.253279</td>\n",
       "      <td>431.008018</td>\n",
       "      <td>5.710254</td>\n",
       "      <td>114.844173</td>\n",
       "      <td>3.634423</td>\n",
       "      <td>0.018968</td>\n",
       "      <td>NaN</td>\n",
       "      <td>1.0</td>\n",
       "    </tr>\n",
       "    <tr>\n",
       "      <th>std</th>\n",
       "      <td>0.0</td>\n",
       "      <td>0.484304</td>\n",
       "      <td>0.240973</td>\n",
       "      <td>0.163786</td>\n",
       "      <td>8.891814</td>\n",
       "      <td>1516.116057</td>\n",
       "      <td>11.866471</td>\n",
       "      <td>426.996844</td>\n",
       "      <td>4.490987</td>\n",
       "      <td>0.229539</td>\n",
       "      <td>NaN</td>\n",
       "      <td>0.0</td>\n",
       "    </tr>\n",
       "    <tr>\n",
       "      <th>min</th>\n",
       "      <td>1.0</td>\n",
       "      <td>0.000000</td>\n",
       "      <td>0.000000</td>\n",
       "      <td>0.000000</td>\n",
       "      <td>1931.000000</td>\n",
       "      <td>1.000000</td>\n",
       "      <td>1.000000</td>\n",
       "      <td>1.000000</td>\n",
       "      <td>1.000000</td>\n",
       "      <td>0.000000</td>\n",
       "      <td>NaN</td>\n",
       "      <td>1.0</td>\n",
       "    </tr>\n",
       "    <tr>\n",
       "      <th>25%</th>\n",
       "      <td>1.0</td>\n",
       "      <td>0.000000</td>\n",
       "      <td>0.000000</td>\n",
       "      <td>0.000000</td>\n",
       "      <td>1982.000000</td>\n",
       "      <td>3.000000</td>\n",
       "      <td>1.000000</td>\n",
       "      <td>5.000000</td>\n",
       "      <td>1.000000</td>\n",
       "      <td>0.000000</td>\n",
       "      <td>NaN</td>\n",
       "      <td>1.0</td>\n",
       "    </tr>\n",
       "    <tr>\n",
       "      <th>50%</th>\n",
       "      <td>1.0</td>\n",
       "      <td>1.000000</td>\n",
       "      <td>0.000000</td>\n",
       "      <td>0.000000</td>\n",
       "      <td>1988.000000</td>\n",
       "      <td>24.000000</td>\n",
       "      <td>2.000000</td>\n",
       "      <td>18.000000</td>\n",
       "      <td>2.000000</td>\n",
       "      <td>0.000000</td>\n",
       "      <td>NaN</td>\n",
       "      <td>1.0</td>\n",
       "    </tr>\n",
       "    <tr>\n",
       "      <th>75%</th>\n",
       "      <td>1.0</td>\n",
       "      <td>1.000000</td>\n",
       "      <td>0.000000</td>\n",
       "      <td>0.000000</td>\n",
       "      <td>1991.000000</td>\n",
       "      <td>158.000000</td>\n",
       "      <td>4.000000</td>\n",
       "      <td>73.000000</td>\n",
       "      <td>4.000000</td>\n",
       "      <td>0.000000</td>\n",
       "      <td>NaN</td>\n",
       "      <td>1.0</td>\n",
       "    </tr>\n",
       "    <tr>\n",
       "      <th>max</th>\n",
       "      <td>1.0</td>\n",
       "      <td>1.000000</td>\n",
       "      <td>1.000000</td>\n",
       "      <td>1.000000</td>\n",
       "      <td>2013.000000</td>\n",
       "      <td>197757.000000</td>\n",
       "      <td>205.000000</td>\n",
       "      <td>98517.000000</td>\n",
       "      <td>48.000000</td>\n",
       "      <td>20.000000</td>\n",
       "      <td>NaN</td>\n",
       "      <td>1.0</td>\n",
       "    </tr>\n",
       "  </tbody>\n",
       "</table>\n",
       "</div>"
      ],
      "text/plain": [
       "       registered         viewed       explored      certified            YoB  \\\n",
       "count    641138.0  641138.000000  641138.000000  641138.000000  544533.000000   \n",
       "mean          1.0       0.624299       0.061899       0.027587    1985.253279   \n",
       "std           0.0       0.484304       0.240973       0.163786       8.891814   \n",
       "min           1.0       0.000000       0.000000       0.000000    1931.000000   \n",
       "25%           1.0       0.000000       0.000000       0.000000    1982.000000   \n",
       "50%           1.0       1.000000       0.000000       0.000000    1988.000000   \n",
       "75%           1.0       1.000000       0.000000       0.000000    1991.000000   \n",
       "max           1.0       1.000000       1.000000       1.000000    2013.000000   \n",
       "\n",
       "             nevents      ndays_act    nplay_video      nchapters  \\\n",
       "count  441987.000000  478395.000000  183608.000000  382385.000000   \n",
       "mean      431.008018       5.710254     114.844173       3.634423   \n",
       "std      1516.116057      11.866471     426.996844       4.490987   \n",
       "min         1.000000       1.000000       1.000000       1.000000   \n",
       "25%         3.000000       1.000000       5.000000       1.000000   \n",
       "50%        24.000000       2.000000      18.000000       2.000000   \n",
       "75%       158.000000       4.000000      73.000000       4.000000   \n",
       "max    197757.000000     205.000000   98517.000000      48.000000   \n",
       "\n",
       "        nforum_posts  roles  incomplete_flag  \n",
       "count  641138.000000    0.0         100161.0  \n",
       "mean        0.018968    NaN              1.0  \n",
       "std         0.229539    NaN              0.0  \n",
       "min         0.000000    NaN              1.0  \n",
       "25%         0.000000    NaN              1.0  \n",
       "50%         0.000000    NaN              1.0  \n",
       "75%         0.000000    NaN              1.0  \n",
       "max        20.000000    NaN              1.0  "
      ]
     },
     "execution_count": 7,
     "metadata": {},
     "output_type": "execute_result"
    }
   ],
   "source": [
    "# description of the dataset\n",
    "df.describe()"
   ]
  },
  {
   "cell_type": "markdown",
   "metadata": {},
   "source": [
    "- Since all the values of variable 'registered' is 1, it makes no difference to our analysis, we will just drop this variable. \n",
    "- max value of year of birth(variable 'YoB') is 2013, this could not be true, we need to look deep into the values to filter out the unreliable ones\n",
    "- The min. values of variables 'nevents', 'ndays_act',\t'nplay_video',\t'nchapters' are 1 instead of 0. Actually this is not true, since per data description,  the variable 'nevents' are left blank if no interactions beyond registration. We will need to fill the NA with 0\n",
    "- All the non-null values of 'incomplete_flag' variable is 1. Since records with a incomplete flag is not reliable, we will consider drop those records."
   ]
  },
  {
   "cell_type": "markdown",
   "metadata": {},
   "source": [
    "Based on the exploration above, we will dive deep into each variable to see how to clean it."
   ]
  },
  {
   "cell_type": "markdown",
   "metadata": {},
   "source": [
    "**course_id**"
   ]
  },
  {
   "cell_type": "code",
   "execution_count": 8,
   "metadata": {
    "scrolled": true
   },
   "outputs": [
    {
     "data": {
      "text/plain": [
       "HarvardX/CS50x/2012            169621\n",
       "MITx/6.00x/2012_Fall            66731\n",
       "MITx/6.00x/2013_Spring          57715\n",
       "HarvardX/ER22x/2013_Spring      57406\n",
       "HarvardX/PH207x/2012_Fall       41592\n",
       "MITx/6.002x/2012_Fall           40811\n",
       "HarvardX/PH278x/2013_Spring     39602\n",
       "MITx/8.02x/2013_Spring          31048\n",
       "HarvardX/CB22x/2013_Spring      30002\n",
       "MITx/14.73x/2013_Spring         27870\n",
       "MITx/6.002x/2013_Spring         22235\n",
       "MITx/7.00x/2013_Spring          21009\n",
       "MITx/3.091x/2012_Fall           14215\n",
       "MITx/8.MReV/2013_Summer          9477\n",
       "MITx/3.091x/2013_Spring          6139\n",
       "MITx/2.01x/2013_Spring           5665\n",
       "Name: course_id, dtype: int64"
      ]
     },
     "execution_count": 8,
     "metadata": {},
     "output_type": "execute_result"
    }
   ],
   "source": [
    "df.course_id.value_counts()"
   ]
  },
  {
   "cell_type": "markdown",
   "metadata": {},
   "source": [
    "**userid_DI**"
   ]
  },
  {
   "cell_type": "code",
   "execution_count": 9,
   "metadata": {
    "scrolled": true
   },
   "outputs": [
    {
     "data": {
      "text/plain": [
       "array(['MHxPC130442623', 'MHxPC130275857', 'MHxPC130539455', ...,\n",
       "       'MHxPC130184108', 'MHxPC130359782', 'MHxPC130098513'], dtype=object)"
      ]
     },
     "execution_count": 9,
     "metadata": {},
     "output_type": "execute_result"
    }
   ],
   "source": [
    "df.userid_DI.unique()"
   ]
  },
  {
   "cell_type": "markdown",
   "metadata": {},
   "source": [
    "The 'course_id' and 'userid_DI' variable look good"
   ]
  },
  {
   "cell_type": "markdown",
   "metadata": {},
   "source": [
    "**registered**"
   ]
  },
  {
   "cell_type": "code",
   "execution_count": 10,
   "metadata": {},
   "outputs": [
    {
     "data": {
      "text/plain": [
       "1    641138\n",
       "Name: registered, dtype: int64"
      ]
     },
     "execution_count": 10,
     "metadata": {},
     "output_type": "execute_result"
    }
   ],
   "source": [
    "df.registered.value_counts()"
   ]
  },
  {
   "cell_type": "markdown",
   "metadata": {},
   "source": [
    "The 'registered' variable can just be dropped as discussion earlier"
   ]
  },
  {
   "cell_type": "markdown",
   "metadata": {},
   "source": [
    "**viewed**"
   ]
  },
  {
   "cell_type": "code",
   "execution_count": 11,
   "metadata": {
    "scrolled": true
   },
   "outputs": [
    {
     "data": {
      "text/plain": [
       "1    400262\n",
       "0    240876\n",
       "Name: viewed, dtype: int64"
      ]
     },
     "execution_count": 11,
     "metadata": {},
     "output_type": "execute_result"
    }
   ],
   "source": [
    "df.viewed.value_counts()"
   ]
  },
  {
   "cell_type": "markdown",
   "metadata": {},
   "source": [
    "**explored**"
   ]
  },
  {
   "cell_type": "code",
   "execution_count": 12,
   "metadata": {},
   "outputs": [
    {
     "data": {
      "text/plain": [
       "0    601452\n",
       "1     39686\n",
       "Name: explored, dtype: int64"
      ]
     },
     "execution_count": 12,
     "metadata": {},
     "output_type": "execute_result"
    }
   ],
   "source": [
    "df.explored.value_counts()"
   ]
  },
  {
   "cell_type": "markdown",
   "metadata": {},
   "source": [
    "**certified**"
   ]
  },
  {
   "cell_type": "code",
   "execution_count": 13,
   "metadata": {
    "scrolled": false
   },
   "outputs": [
    {
     "data": {
      "text/plain": [
       "0    623451\n",
       "1     17687\n",
       "Name: certified, dtype: int64"
      ]
     },
     "execution_count": 13,
     "metadata": {},
     "output_type": "execute_result"
    }
   ],
   "source": [
    "df.certified.value_counts()"
   ]
  },
  {
   "cell_type": "markdown",
   "metadata": {},
   "source": [
    "The three variables above('viewed', 'explored', 'certified') looks good"
   ]
  },
  {
   "cell_type": "markdown",
   "metadata": {},
   "source": [
    "**final_cc_cname_DI**"
   ]
  },
  {
   "cell_type": "code",
   "execution_count": 14,
   "metadata": {
    "scrolled": true
   },
   "outputs": [
    {
     "data": {
      "text/plain": [
       "United States                             184240\n",
       "India                                      88696\n",
       "Unknown/Other                              82029\n",
       "Other Europe                               40377\n",
       "Other Africa                               23897\n",
       "United Kingdom                             22131\n",
       "Brazil                                     17856\n",
       "Other Middle East/Central Asia             17325\n",
       "Other South Asia                           12992\n",
       "Canada                                     12738\n",
       "Pakistan                                   10824\n",
       "Russian Federation                         10432\n",
       "Spain                                      10003\n",
       "Other South America                         9916\n",
       "Egypt                                       9286\n",
       "Germany                                     8074\n",
       "Nigeria                                     7483\n",
       "Other East Asia                             6446\n",
       "Australia                                   6419\n",
       "Mexico                                      5638\n",
       "Philippines                                 5374\n",
       "Poland                                      5226\n",
       "China                                       5170\n",
       "Greece                                      5162\n",
       "Colombia                                    4803\n",
       "France                                      4700\n",
       "Other North & Central Amer., Caribbean      4434\n",
       "Ukraine                                     4100\n",
       "Morocco                                     3966\n",
       "Indonesia                                   3410\n",
       "Bangladesh                                  3182\n",
       "Japan                                       2270\n",
       "Portugal                                    2193\n",
       "Other Oceania                                346\n",
       "Name: final_cc_cname_DI, dtype: int64"
      ]
     },
     "execution_count": 14,
     "metadata": {},
     "output_type": "execute_result"
    }
   ],
   "source": [
    "df.final_cc_cname_DI.value_counts()"
   ]
  },
  {
   "cell_type": "markdown",
   "metadata": {},
   "source": [
    "**LoE_DI**"
   ]
  },
  {
   "cell_type": "code",
   "execution_count": 15,
   "metadata": {
    "scrolled": true
   },
   "outputs": [
    {
     "data": {
      "text/plain": [
       "Bachelor's             219768\n",
       "Secondary              169694\n",
       "Master's               118189\n",
       "Less than Secondary     14092\n",
       "Doctorate               13387\n",
       "Name: LoE_DI, dtype: int64"
      ]
     },
     "execution_count": 15,
     "metadata": {},
     "output_type": "execute_result"
    }
   ],
   "source": [
    "df.LoE_DI.value_counts()"
   ]
  },
  {
   "cell_type": "markdown",
   "metadata": {},
   "source": [
    "Values of variable 'final_cc_cname_DI' and 'LoE_DI' all look good."
   ]
  },
  {
   "cell_type": "markdown",
   "metadata": {},
   "source": [
    "**YoB**"
   ]
  },
  {
   "cell_type": "code",
   "execution_count": 16,
   "metadata": {},
   "outputs": [
    {
     "data": {
      "text/plain": [
       "array([1931., 1934., 1935., 1936., 1937., 1938., 1939., 1940., 1941.,\n",
       "       1942., 1943., 1944., 1945., 1946., 1947., 1948., 1949., 1950.,\n",
       "       1951., 1952., 1953., 1954., 1955., 1956., 1957., 1958., 1959.,\n",
       "       1960., 1961., 1962., 1963., 1964., 1965., 1966., 1967., 1968.,\n",
       "       1969., 1970., 1971., 1972., 1973., 1974., 1975., 1976., 1977.,\n",
       "       1978., 1979., 1980., 1981., 1982., 1983., 1984., 1985., 1986.,\n",
       "       1987., 1988., 1989., 1990., 1991., 1992., 1993., 1994., 1995.,\n",
       "       1996., 1997., 1998., 1999., 2000., 2001., 2002., 2003., 2007.,\n",
       "       2008., 2009., 2010., 2011., 2012., 2013.,   nan])"
      ]
     },
     "execution_count": 16,
     "metadata": {},
     "output_type": "execute_result"
    }
   ],
   "source": [
    "np.sort(df.YoB.unique())"
   ]
  },
  {
   "cell_type": "code",
   "execution_count": 17,
   "metadata": {
    "scrolled": true
   },
   "outputs": [
    {
     "data": {
      "text/plain": [
       "2012.0    472\n",
       "2013.0     61\n",
       "2011.0     34\n",
       "2010.0     17\n",
       "2003.0     10\n",
       "2008.0     10\n",
       "2009.0      8\n",
       "2007.0      6\n",
       "Name: YoB, dtype: int64"
      ]
     },
     "execution_count": 17,
     "metadata": {},
     "output_type": "execute_result"
    }
   ],
   "source": [
    "df[df.YoB>2002].YoB.value_counts()"
   ]
  },
  {
   "cell_type": "markdown",
   "metadata": {},
   "source": [
    "There are really a bunch of unreliable values in this YoB variable. This Wikipedia page[Education in the United States](https://en.wikipedia.org/wiki/Education_in_the_United_States) provides ages of US students go to different schools. Suppose at least elementary school graduates are applicable to study those online courses, then their ages would be 10-11 years old. Based on this, we will select records with the YoB earlier than 2002."
   ]
  },
  {
   "cell_type": "markdown",
   "metadata": {},
   "source": [
    "**gender**"
   ]
  },
  {
   "cell_type": "code",
   "execution_count": 18,
   "metadata": {
    "scrolled": false
   },
   "outputs": [
    {
     "data": {
      "text/plain": [
       "m    411520\n",
       "f    142795\n",
       "o        17\n",
       "Name: gender, dtype: int64"
      ]
     },
     "execution_count": 18,
     "metadata": {},
     "output_type": "execute_result"
    }
   ],
   "source": [
    "df.gender.value_counts()"
   ]
  },
  {
   "cell_type": "markdown",
   "metadata": {},
   "source": [
    "Values of variable 'gender' look good."
   ]
  },
  {
   "cell_type": "markdown",
   "metadata": {},
   "source": [
    "For user-provided variables **'LoE', 'YoB' and 'gender'**, although the values look good, there are some missing values. These missing values are either due to the student created an account before the corresponding student registration question was available or the user declined to provide the information. There is not much we can do about it, we will just drop those records with missing values."
   ]
  },
  {
   "cell_type": "markdown",
   "metadata": {},
   "source": [
    "**grade**"
   ]
  },
  {
   "cell_type": "code",
   "execution_count": 19,
   "metadata": {
    "scrolled": true
   },
   "outputs": [
    {
     "data": {
      "text/plain": [
       "0       490868\n",
       "0.01     19891\n",
       "0.0      18525\n",
       "          9028\n",
       "0.02      5417\n",
       "0.03      4769\n",
       "0.04      3912\n",
       "0.05      2238\n",
       "0.06      2203\n",
       "1         2010\n",
       "0.07      1330\n",
       "0.09      1293\n",
       "0.08      1069\n",
       "0.1        817\n",
       "0.13       753\n",
       "0.11       705\n",
       "0.12       680\n",
       "0.89       586\n",
       "0.91       575\n",
       "0.93       551\n",
       "0.15       547\n",
       "0.88       545\n",
       "0.9        541\n",
       "0.96       535\n",
       "0.14       518\n",
       "0.87       507\n",
       "0.97       504\n",
       "0.92       502\n",
       "0.99       502\n",
       "0.94       497\n",
       "         ...  \n",
       "0.65       250\n",
       "0.61       250\n",
       "0.34       249\n",
       "0.6        238\n",
       "0.38       226\n",
       "0.39       226\n",
       "0.4        217\n",
       "0.36       214\n",
       "0.37       213\n",
       "0.35       208\n",
       "0.42       184\n",
       "0.56       182\n",
       "0.57       174\n",
       "0.45       174\n",
       "0.55       173\n",
       "0.5        170\n",
       "0.46       170\n",
       "0.53       167\n",
       "0.59       165\n",
       "0.51       160\n",
       "0.43       157\n",
       "0.47       155\n",
       "0.41       155\n",
       "0.58       153\n",
       "0.44       149\n",
       "0.54       145\n",
       "0.52       142\n",
       "0.48       139\n",
       "0.49       118\n",
       "1.01         6\n",
       "Name: grade, Length: 104, dtype: int64"
      ]
     },
     "execution_count": 19,
     "metadata": {},
     "output_type": "execute_result"
    }
   ],
   "source": [
    "df.grade.value_counts()"
   ]
  },
  {
   "cell_type": "markdown",
   "metadata": {},
   "source": [
    "Something interesting here. \n",
    "- There is a 0 value while there is also a 0.0 value,this should not be a problem once we convert the variable to numerical type since they would be the same. \n",
    "- The range of grade values is from 0 to 1, however, we found some 1.01 values there, we need to drop those unreliable records\n",
    "- There are some values which are left blank, We will drop those records."
   ]
  },
  {
   "cell_type": "markdown",
   "metadata": {},
   "source": [
    "**incomplete_flag**"
   ]
  },
  {
   "cell_type": "code",
   "execution_count": 20,
   "metadata": {},
   "outputs": [
    {
     "data": {
      "text/plain": [
       "1.0    100161\n",
       "Name: incomplete_flag, dtype: int64"
      ]
     },
     "execution_count": 20,
     "metadata": {},
     "output_type": "execute_result"
    }
   ],
   "source": [
    "# check values of incomplete_flag variable\n",
    "df.incomplete_flag.value_counts()"
   ]
  },
  {
   "cell_type": "markdown",
   "metadata": {},
   "source": [
    "According to the data description in file 'Person+Course+Documentation.pdf', the variable **'incomplete_flag'** identifies the records which are internally inconsistent, to assure the reliability of the analysis, we would prefer select those records without a inconsistent problem, which is to say, the value of incomplete_flag != 1. Then we will drop this variable since it is no longer of any importance."
   ]
  },
  {
   "cell_type": "markdown",
   "metadata": {},
   "source": [
    "**Based on the exploration above, what we need to do to handle the data includes:**\n",
    "- **Subset**\n",
    "    - Filter to get a subset without inconsistent records(incomplete_flag != 1)\n",
    "    - Drop variable 'registered'\n",
    "    - Drop the unreliable YoB values\n",
    "    - For variable 'grade', drop the unreliable values, drop the values in blank\n",
    "    - Drop variable 'roles'\n",
    "\n",
    "- **Missing values**\n",
    "    - Drop missing values in variables 'LoE', 'YoB', 'gender' and 'grade'\n",
    "    - For missing values in variables 'nevents', 'ndays_act', 'nplay_video', 'nchapters', fill the NA with 0\n",
    "    - The value of last_event_DI is left blank if no interactions beyond registration, we will fill NA with 'start_time_DI' which is the registration date.\n",
    "- **Data type**\n",
    "    - Convert the data type of 'grade' from object type to numerical type\n",
    "    - Convert 'start_time_DI' and 'last_event_DI' from object to date type.\n",
    "- **Variable names**\n",
    "    - Rename some of the columns names to be more concise and intuitive\n",
    "\n",
    "    \n",
    "\n",
    "\n"
   ]
  },
  {
   "cell_type": "markdown",
   "metadata": {},
   "source": [
    "### Cleaning Data"
   ]
  },
  {
   "cell_type": "markdown",
   "metadata": {},
   "source": [
    "#### Subset\n",
    "\n",
    "Filter to get a subset without inconsistent records, which is to say, the value of variable incomplete_flag != 1"
   ]
  },
  {
   "cell_type": "code",
   "execution_count": 21,
   "metadata": {
    "scrolled": true
   },
   "outputs": [
    {
     "data": {
      "text/html": [
       "<div>\n",
       "<style scoped>\n",
       "    .dataframe tbody tr th:only-of-type {\n",
       "        vertical-align: middle;\n",
       "    }\n",
       "\n",
       "    .dataframe tbody tr th {\n",
       "        vertical-align: top;\n",
       "    }\n",
       "\n",
       "    .dataframe thead th {\n",
       "        text-align: right;\n",
       "    }\n",
       "</style>\n",
       "<table border=\"1\" class=\"dataframe\">\n",
       "  <thead>\n",
       "    <tr style=\"text-align: right;\">\n",
       "      <th></th>\n",
       "      <th>course_id</th>\n",
       "      <th>userid_DI</th>\n",
       "      <th>registered</th>\n",
       "      <th>viewed</th>\n",
       "      <th>explored</th>\n",
       "      <th>certified</th>\n",
       "      <th>final_cc_cname_DI</th>\n",
       "      <th>LoE_DI</th>\n",
       "      <th>YoB</th>\n",
       "      <th>gender</th>\n",
       "      <th>grade</th>\n",
       "      <th>start_time_DI</th>\n",
       "      <th>last_event_DI</th>\n",
       "      <th>nevents</th>\n",
       "      <th>ndays_act</th>\n",
       "      <th>nplay_video</th>\n",
       "      <th>nchapters</th>\n",
       "      <th>nforum_posts</th>\n",
       "      <th>roles</th>\n",
       "      <th>incomplete_flag</th>\n",
       "    </tr>\n",
       "  </thead>\n",
       "  <tbody>\n",
       "    <tr>\n",
       "      <th>5</th>\n",
       "      <td>HarvardX/PH207x/2012_Fall</td>\n",
       "      <td>MHxPC130275857</td>\n",
       "      <td>1</td>\n",
       "      <td>1</td>\n",
       "      <td>1</td>\n",
       "      <td>0</td>\n",
       "      <td>United States</td>\n",
       "      <td>NaN</td>\n",
       "      <td>NaN</td>\n",
       "      <td>NaN</td>\n",
       "      <td>0</td>\n",
       "      <td>2012-09-17</td>\n",
       "      <td>2013-05-23</td>\n",
       "      <td>502.0</td>\n",
       "      <td>16.0</td>\n",
       "      <td>50.0</td>\n",
       "      <td>12.0</td>\n",
       "      <td>0</td>\n",
       "      <td>NaN</td>\n",
       "      <td>NaN</td>\n",
       "    </tr>\n",
       "    <tr>\n",
       "      <th>7</th>\n",
       "      <td>HarvardX/CB22x/2013_Spring</td>\n",
       "      <td>MHxPC130539455</td>\n",
       "      <td>1</td>\n",
       "      <td>1</td>\n",
       "      <td>0</td>\n",
       "      <td>0</td>\n",
       "      <td>France</td>\n",
       "      <td>NaN</td>\n",
       "      <td>NaN</td>\n",
       "      <td>NaN</td>\n",
       "      <td>0</td>\n",
       "      <td>2013-01-01</td>\n",
       "      <td>2013-05-14</td>\n",
       "      <td>42.0</td>\n",
       "      <td>6.0</td>\n",
       "      <td>NaN</td>\n",
       "      <td>3.0</td>\n",
       "      <td>0</td>\n",
       "      <td>NaN</td>\n",
       "      <td>NaN</td>\n",
       "    </tr>\n",
       "    <tr>\n",
       "      <th>8</th>\n",
       "      <td>HarvardX/CB22x/2013_Spring</td>\n",
       "      <td>MHxPC130088379</td>\n",
       "      <td>1</td>\n",
       "      <td>1</td>\n",
       "      <td>0</td>\n",
       "      <td>0</td>\n",
       "      <td>United States</td>\n",
       "      <td>NaN</td>\n",
       "      <td>NaN</td>\n",
       "      <td>NaN</td>\n",
       "      <td>0</td>\n",
       "      <td>2013-02-18</td>\n",
       "      <td>2013-03-17</td>\n",
       "      <td>70.0</td>\n",
       "      <td>3.0</td>\n",
       "      <td>NaN</td>\n",
       "      <td>3.0</td>\n",
       "      <td>0</td>\n",
       "      <td>NaN</td>\n",
       "      <td>NaN</td>\n",
       "    </tr>\n",
       "    <tr>\n",
       "      <th>10</th>\n",
       "      <td>HarvardX/ER22x/2013_Spring</td>\n",
       "      <td>MHxPC130088379</td>\n",
       "      <td>1</td>\n",
       "      <td>1</td>\n",
       "      <td>0</td>\n",
       "      <td>0</td>\n",
       "      <td>United States</td>\n",
       "      <td>NaN</td>\n",
       "      <td>NaN</td>\n",
       "      <td>NaN</td>\n",
       "      <td>0</td>\n",
       "      <td>2013-02-23</td>\n",
       "      <td>2013-06-14</td>\n",
       "      <td>17.0</td>\n",
       "      <td>2.0</td>\n",
       "      <td>NaN</td>\n",
       "      <td>2.0</td>\n",
       "      <td>0</td>\n",
       "      <td>NaN</td>\n",
       "      <td>NaN</td>\n",
       "    </tr>\n",
       "    <tr>\n",
       "      <th>11</th>\n",
       "      <td>HarvardX/ER22x/2013_Spring</td>\n",
       "      <td>MHxPC130198098</td>\n",
       "      <td>1</td>\n",
       "      <td>1</td>\n",
       "      <td>0</td>\n",
       "      <td>0</td>\n",
       "      <td>United States</td>\n",
       "      <td>NaN</td>\n",
       "      <td>NaN</td>\n",
       "      <td>NaN</td>\n",
       "      <td>0</td>\n",
       "      <td>2013-06-17</td>\n",
       "      <td>2013-06-17</td>\n",
       "      <td>32.0</td>\n",
       "      <td>1.0</td>\n",
       "      <td>NaN</td>\n",
       "      <td>3.0</td>\n",
       "      <td>0</td>\n",
       "      <td>NaN</td>\n",
       "      <td>NaN</td>\n",
       "    </tr>\n",
       "  </tbody>\n",
       "</table>\n",
       "</div>"
      ],
      "text/plain": [
       "                     course_id       userid_DI  registered  viewed  explored  \\\n",
       "5    HarvardX/PH207x/2012_Fall  MHxPC130275857           1       1         1   \n",
       "7   HarvardX/CB22x/2013_Spring  MHxPC130539455           1       1         0   \n",
       "8   HarvardX/CB22x/2013_Spring  MHxPC130088379           1       1         0   \n",
       "10  HarvardX/ER22x/2013_Spring  MHxPC130088379           1       1         0   \n",
       "11  HarvardX/ER22x/2013_Spring  MHxPC130198098           1       1         0   \n",
       "\n",
       "    certified final_cc_cname_DI LoE_DI  YoB gender grade start_time_DI  \\\n",
       "5           0     United States    NaN  NaN    NaN     0    2012-09-17   \n",
       "7           0            France    NaN  NaN    NaN     0    2013-01-01   \n",
       "8           0     United States    NaN  NaN    NaN     0    2013-02-18   \n",
       "10          0     United States    NaN  NaN    NaN     0    2013-02-23   \n",
       "11          0     United States    NaN  NaN    NaN     0    2013-06-17   \n",
       "\n",
       "   last_event_DI  nevents  ndays_act  nplay_video  nchapters  nforum_posts  \\\n",
       "5     2013-05-23    502.0       16.0         50.0       12.0             0   \n",
       "7     2013-05-14     42.0        6.0          NaN        3.0             0   \n",
       "8     2013-03-17     70.0        3.0          NaN        3.0             0   \n",
       "10    2013-06-14     17.0        2.0          NaN        2.0             0   \n",
       "11    2013-06-17     32.0        1.0          NaN        3.0             0   \n",
       "\n",
       "    roles  incomplete_flag  \n",
       "5     NaN              NaN  \n",
       "7     NaN              NaN  \n",
       "8     NaN              NaN  \n",
       "10    NaN              NaN  \n",
       "11    NaN              NaN  "
      ]
     },
     "execution_count": 21,
     "metadata": {},
     "output_type": "execute_result"
    }
   ],
   "source": [
    "# Filter to get a subset without inconsistent records, which is to say, the value of variable incomplete_flag != 1\n",
    "df = df[df.incomplete_flag != 1]\n",
    "df.head()"
   ]
  },
  {
   "cell_type": "code",
   "execution_count": 22,
   "metadata": {
    "scrolled": false
   },
   "outputs": [
    {
     "data": {
      "text/plain": [
       "Series([], Name: incomplete_flag, dtype: int64)"
      ]
     },
     "execution_count": 22,
     "metadata": {},
     "output_type": "execute_result"
    }
   ],
   "source": [
    "# double check values of incomplete_flag\n",
    "df.incomplete_flag.value_counts()"
   ]
  },
  {
   "cell_type": "code",
   "execution_count": 23,
   "metadata": {
    "scrolled": false
   },
   "outputs": [
    {
     "data": {
      "text/html": [
       "<div>\n",
       "<style scoped>\n",
       "    .dataframe tbody tr th:only-of-type {\n",
       "        vertical-align: middle;\n",
       "    }\n",
       "\n",
       "    .dataframe tbody tr th {\n",
       "        vertical-align: top;\n",
       "    }\n",
       "\n",
       "    .dataframe thead th {\n",
       "        text-align: right;\n",
       "    }\n",
       "</style>\n",
       "<table border=\"1\" class=\"dataframe\">\n",
       "  <thead>\n",
       "    <tr style=\"text-align: right;\">\n",
       "      <th></th>\n",
       "      <th>course_id</th>\n",
       "      <th>userid_DI</th>\n",
       "      <th>viewed</th>\n",
       "      <th>explored</th>\n",
       "      <th>certified</th>\n",
       "      <th>final_cc_cname_DI</th>\n",
       "      <th>LoE_DI</th>\n",
       "      <th>YoB</th>\n",
       "      <th>gender</th>\n",
       "      <th>grade</th>\n",
       "      <th>start_time_DI</th>\n",
       "      <th>last_event_DI</th>\n",
       "      <th>nevents</th>\n",
       "      <th>ndays_act</th>\n",
       "      <th>nplay_video</th>\n",
       "      <th>nchapters</th>\n",
       "      <th>nforum_posts</th>\n",
       "    </tr>\n",
       "  </thead>\n",
       "  <tbody>\n",
       "    <tr>\n",
       "      <th>5</th>\n",
       "      <td>HarvardX/PH207x/2012_Fall</td>\n",
       "      <td>MHxPC130275857</td>\n",
       "      <td>1</td>\n",
       "      <td>1</td>\n",
       "      <td>0</td>\n",
       "      <td>United States</td>\n",
       "      <td>NaN</td>\n",
       "      <td>NaN</td>\n",
       "      <td>NaN</td>\n",
       "      <td>0</td>\n",
       "      <td>2012-09-17</td>\n",
       "      <td>2013-05-23</td>\n",
       "      <td>502.0</td>\n",
       "      <td>16.0</td>\n",
       "      <td>50.0</td>\n",
       "      <td>12.0</td>\n",
       "      <td>0</td>\n",
       "    </tr>\n",
       "    <tr>\n",
       "      <th>7</th>\n",
       "      <td>HarvardX/CB22x/2013_Spring</td>\n",
       "      <td>MHxPC130539455</td>\n",
       "      <td>1</td>\n",
       "      <td>0</td>\n",
       "      <td>0</td>\n",
       "      <td>France</td>\n",
       "      <td>NaN</td>\n",
       "      <td>NaN</td>\n",
       "      <td>NaN</td>\n",
       "      <td>0</td>\n",
       "      <td>2013-01-01</td>\n",
       "      <td>2013-05-14</td>\n",
       "      <td>42.0</td>\n",
       "      <td>6.0</td>\n",
       "      <td>NaN</td>\n",
       "      <td>3.0</td>\n",
       "      <td>0</td>\n",
       "    </tr>\n",
       "    <tr>\n",
       "      <th>8</th>\n",
       "      <td>HarvardX/CB22x/2013_Spring</td>\n",
       "      <td>MHxPC130088379</td>\n",
       "      <td>1</td>\n",
       "      <td>0</td>\n",
       "      <td>0</td>\n",
       "      <td>United States</td>\n",
       "      <td>NaN</td>\n",
       "      <td>NaN</td>\n",
       "      <td>NaN</td>\n",
       "      <td>0</td>\n",
       "      <td>2013-02-18</td>\n",
       "      <td>2013-03-17</td>\n",
       "      <td>70.0</td>\n",
       "      <td>3.0</td>\n",
       "      <td>NaN</td>\n",
       "      <td>3.0</td>\n",
       "      <td>0</td>\n",
       "    </tr>\n",
       "    <tr>\n",
       "      <th>10</th>\n",
       "      <td>HarvardX/ER22x/2013_Spring</td>\n",
       "      <td>MHxPC130088379</td>\n",
       "      <td>1</td>\n",
       "      <td>0</td>\n",
       "      <td>0</td>\n",
       "      <td>United States</td>\n",
       "      <td>NaN</td>\n",
       "      <td>NaN</td>\n",
       "      <td>NaN</td>\n",
       "      <td>0</td>\n",
       "      <td>2013-02-23</td>\n",
       "      <td>2013-06-14</td>\n",
       "      <td>17.0</td>\n",
       "      <td>2.0</td>\n",
       "      <td>NaN</td>\n",
       "      <td>2.0</td>\n",
       "      <td>0</td>\n",
       "    </tr>\n",
       "    <tr>\n",
       "      <th>11</th>\n",
       "      <td>HarvardX/ER22x/2013_Spring</td>\n",
       "      <td>MHxPC130198098</td>\n",
       "      <td>1</td>\n",
       "      <td>0</td>\n",
       "      <td>0</td>\n",
       "      <td>United States</td>\n",
       "      <td>NaN</td>\n",
       "      <td>NaN</td>\n",
       "      <td>NaN</td>\n",
       "      <td>0</td>\n",
       "      <td>2013-06-17</td>\n",
       "      <td>2013-06-17</td>\n",
       "      <td>32.0</td>\n",
       "      <td>1.0</td>\n",
       "      <td>NaN</td>\n",
       "      <td>3.0</td>\n",
       "      <td>0</td>\n",
       "    </tr>\n",
       "  </tbody>\n",
       "</table>\n",
       "</div>"
      ],
      "text/plain": [
       "                     course_id       userid_DI  viewed  explored  certified  \\\n",
       "5    HarvardX/PH207x/2012_Fall  MHxPC130275857       1         1          0   \n",
       "7   HarvardX/CB22x/2013_Spring  MHxPC130539455       1         0          0   \n",
       "8   HarvardX/CB22x/2013_Spring  MHxPC130088379       1         0          0   \n",
       "10  HarvardX/ER22x/2013_Spring  MHxPC130088379       1         0          0   \n",
       "11  HarvardX/ER22x/2013_Spring  MHxPC130198098       1         0          0   \n",
       "\n",
       "   final_cc_cname_DI LoE_DI  YoB gender grade start_time_DI last_event_DI  \\\n",
       "5      United States    NaN  NaN    NaN     0    2012-09-17    2013-05-23   \n",
       "7             France    NaN  NaN    NaN     0    2013-01-01    2013-05-14   \n",
       "8      United States    NaN  NaN    NaN     0    2013-02-18    2013-03-17   \n",
       "10     United States    NaN  NaN    NaN     0    2013-02-23    2013-06-14   \n",
       "11     United States    NaN  NaN    NaN     0    2013-06-17    2013-06-17   \n",
       "\n",
       "    nevents  ndays_act  nplay_video  nchapters  nforum_posts  \n",
       "5     502.0       16.0         50.0       12.0             0  \n",
       "7      42.0        6.0          NaN        3.0             0  \n",
       "8      70.0        3.0          NaN        3.0             0  \n",
       "10     17.0        2.0          NaN        2.0             0  \n",
       "11     32.0        1.0          NaN        3.0             0  "
      ]
     },
     "execution_count": 23,
     "metadata": {},
     "output_type": "execute_result"
    }
   ],
   "source": [
    "# Drop variable incomplete_flag, registered and roles\n",
    "df.drop(['incomplete_flag', 'registered', 'roles'], axis=1,inplace=True)\n",
    "df.head()"
   ]
  },
  {
   "cell_type": "code",
   "execution_count": 24,
   "metadata": {
    "scrolled": true
   },
   "outputs": [
    {
     "data": {
      "text/plain": [
       "(458388, 17)"
      ]
     },
     "execution_count": 24,
     "metadata": {},
     "output_type": "execute_result"
    }
   ],
   "source": [
    "# drop the unreliable records of YoB\n",
    "df = df[df.YoB <= 2002]\n",
    "df.shape"
   ]
  },
  {
   "cell_type": "code",
   "execution_count": 25,
   "metadata": {},
   "outputs": [
    {
     "data": {
      "text/plain": [
       "(451090, 17)"
      ]
     },
     "execution_count": 25,
     "metadata": {},
     "output_type": "execute_result"
    }
   ],
   "source": [
    "# drop the unreliable records and blank values in grade\n",
    "df = df[(df.grade != '1.01') & (df.grade != ' ')]\n",
    "df.shape"
   ]
  },
  {
   "cell_type": "markdown",
   "metadata": {},
   "source": [
    "#### Missing Values"
   ]
  },
  {
   "cell_type": "code",
   "execution_count": 26,
   "metadata": {
    "scrolled": true
   },
   "outputs": [
    {
     "data": {
      "text/plain": [
       "course_id                 0\n",
       "userid_DI                 0\n",
       "viewed                    0\n",
       "explored                  0\n",
       "certified                 0\n",
       "final_cc_cname_DI         0\n",
       "LoE_DI                11176\n",
       "YoB                       0\n",
       "gender                    0\n",
       "grade                 37768\n",
       "start_time_DI             0\n",
       "last_event_DI         81288\n",
       "nevents               85963\n",
       "ndays_act             85963\n",
       "nplay_video          304907\n",
       "nchapters            198253\n",
       "nforum_posts              0\n",
       "dtype: int64"
      ]
     },
     "execution_count": 26,
     "metadata": {},
     "output_type": "execute_result"
    }
   ],
   "source": [
    "# missing values by column\n",
    "df.isna().sum()"
   ]
  },
  {
   "cell_type": "markdown",
   "metadata": {},
   "source": [
    "Besides missing value number of each variable, we will also pull out the proportion of missing values for each variable."
   ]
  },
  {
   "cell_type": "code",
   "execution_count": 27,
   "metadata": {
    "scrolled": false
   },
   "outputs": [
    {
     "data": {
      "text/plain": [
       "course_id            0.000000\n",
       "userid_DI            0.000000\n",
       "viewed               0.000000\n",
       "explored             0.000000\n",
       "certified            0.000000\n",
       "final_cc_cname_DI    0.000000\n",
       "LoE_DI               0.024776\n",
       "YoB                  0.000000\n",
       "gender               0.000000\n",
       "grade                0.083726\n",
       "start_time_DI        0.000000\n",
       "last_event_DI        0.180204\n",
       "nevents              0.190567\n",
       "ndays_act            0.190567\n",
       "nplay_video          0.675934\n",
       "nchapters            0.439498\n",
       "nforum_posts         0.000000\n",
       "dtype: float64"
      ]
     },
     "execution_count": 27,
     "metadata": {},
     "output_type": "execute_result"
    }
   ],
   "source": [
    "# proportion of missing values by rows\n",
    "df.isna().sum() / df.shape[0]"
   ]
  },
  {
   "cell_type": "markdown",
   "metadata": {},
   "source": [
    "Drop missing values in variables 'LoE_DI', 'YoB' and 'gender'."
   ]
  },
  {
   "cell_type": "code",
   "execution_count": 28,
   "metadata": {
    "scrolled": false
   },
   "outputs": [
    {
     "data": {
      "text/plain": [
       "course_id                 0\n",
       "userid_DI                 0\n",
       "viewed                    0\n",
       "explored                  0\n",
       "certified                 0\n",
       "final_cc_cname_DI         0\n",
       "LoE_DI                    0\n",
       "YoB                       0\n",
       "gender                    0\n",
       "grade                     0\n",
       "start_time_DI             0\n",
       "last_event_DI         73490\n",
       "nevents               77559\n",
       "ndays_act             77559\n",
       "nplay_video          272089\n",
       "nchapters            176528\n",
       "nforum_posts              0\n",
       "dtype: int64"
      ]
     },
     "execution_count": 28,
     "metadata": {},
     "output_type": "execute_result"
    }
   ],
   "source": [
    "# drop rows with missing values for column 'LoE_DI', 'gender', 'grade'\n",
    "df.dropna(subset=['LoE_DI', 'YoB', 'gender', 'grade'],inplace=True)\n",
    "df.isna().sum()"
   ]
  },
  {
   "cell_type": "markdown",
   "metadata": {},
   "source": [
    "For missing values in variables 'nevents', 'ndays_act', 'nplay_video', 'nchapters', fill the NA with 0"
   ]
  },
  {
   "cell_type": "code",
   "execution_count": 29,
   "metadata": {},
   "outputs": [
    {
     "data": {
      "text/plain": [
       "course_id                0\n",
       "userid_DI                0\n",
       "viewed                   0\n",
       "explored                 0\n",
       "certified                0\n",
       "final_cc_cname_DI        0\n",
       "LoE_DI                   0\n",
       "YoB                      0\n",
       "gender                   0\n",
       "grade                    0\n",
       "start_time_DI            0\n",
       "last_event_DI        73490\n",
       "nevents                  0\n",
       "ndays_act                0\n",
       "nplay_video              0\n",
       "nchapters                0\n",
       "nforum_posts             0\n",
       "dtype: int64"
      ]
     },
     "execution_count": 29,
     "metadata": {},
     "output_type": "execute_result"
    }
   ],
   "source": [
    "# For missing values in variables 'nevents', 'ndays_act', 'nplay_video', 'nchapters', fill the NA with 0\n",
    "df.nevents = df.nevents.fillna(0)\n",
    "df.ndays_act = df.ndays_act.fillna(0)\n",
    "df.nplay_video = df.nplay_video.fillna(0)\n",
    "df.nchapters = df.nchapters.fillna(0)\n",
    "df.isna().sum()"
   ]
  },
  {
   "cell_type": "markdown",
   "metadata": {},
   "source": [
    "Next we will fill the NAs with the start_time_DI for variable last_event_DI"
   ]
  },
  {
   "cell_type": "code",
   "execution_count": 30,
   "metadata": {},
   "outputs": [],
   "source": [
    "# fill the NAs with the start_time_DI for variable last_event_DI\n",
    "df['last_event_DI'].fillna(df['start_time_DI'], inplace=True)"
   ]
  },
  {
   "cell_type": "code",
   "execution_count": 31,
   "metadata": {
    "scrolled": true
   },
   "outputs": [
    {
     "data": {
      "text/plain": [
       "course_id            0\n",
       "userid_DI            0\n",
       "viewed               0\n",
       "explored             0\n",
       "certified            0\n",
       "final_cc_cname_DI    0\n",
       "LoE_DI               0\n",
       "YoB                  0\n",
       "gender               0\n",
       "grade                0\n",
       "start_time_DI        0\n",
       "last_event_DI        0\n",
       "nevents              0\n",
       "ndays_act            0\n",
       "nplay_video          0\n",
       "nchapters            0\n",
       "nforum_posts         0\n",
       "dtype: int64"
      ]
     },
     "execution_count": 31,
     "metadata": {},
     "output_type": "execute_result"
    }
   ],
   "source": [
    "df.isna().sum()"
   ]
  },
  {
   "cell_type": "markdown",
   "metadata": {},
   "source": [
    "#### Data Type\n",
    "\n",
    "Convert variable 'grade' from object type to numerical type"
   ]
  },
  {
   "cell_type": "code",
   "execution_count": 32,
   "metadata": {
    "scrolled": true
   },
   "outputs": [],
   "source": [
    "# Convert variable 'grade' from object type to numerical type\n",
    "df['grade'] = pd.to_numeric(df.grade)"
   ]
  },
  {
   "cell_type": "code",
   "execution_count": 33,
   "metadata": {
    "scrolled": false
   },
   "outputs": [
    {
     "data": {
      "text/plain": [
       "array([0.  , 1.  , 0.01, 0.29, 0.3 , 0.18, 0.1 , 0.04, 0.11, 0.02, 0.13,\n",
       "       0.92, 0.09, 0.89, 0.79, 0.99, 0.93, 0.52, 0.05, 0.15, 0.9 , 0.38,\n",
       "       0.43, 0.22, 0.45, 0.07, 0.85, 0.12, 0.03, 0.83, 0.84, 0.77, 0.96,\n",
       "       0.33, 0.06, 0.94, 0.6 , 0.87, 0.2 , 0.88, 0.23, 0.91, 0.34, 0.08,\n",
       "       0.39, 0.98, 0.75, 0.57, 0.8 , 0.95, 0.97, 0.65, 0.7 , 0.37, 0.26,\n",
       "       0.76, 0.35, 0.31, 0.36, 0.47, 0.16, 0.71, 0.48, 0.66, 0.42, 0.72,\n",
       "       0.69, 0.4 , 0.14, 0.63, 0.25, 0.51, 0.28, 0.62, 0.54, 0.86, 0.56,\n",
       "       0.24, 0.61, 0.82, 0.53, 0.17, 0.21, 0.49, 0.67, 0.55, 0.32, 0.64,\n",
       "       0.78, 0.73, 0.81, 0.5 , 0.46, 0.19, 0.27, 0.68, 0.58, 0.44, 0.74,\n",
       "       0.59, 0.41])"
      ]
     },
     "execution_count": 33,
     "metadata": {},
     "output_type": "execute_result"
    }
   ],
   "source": [
    "df.grade.unique()"
   ]
  },
  {
   "cell_type": "code",
   "execution_count": 34,
   "metadata": {
    "scrolled": false
   },
   "outputs": [
    {
     "data": {
      "text/plain": [
       "count    402750.000000\n",
       "mean          0.038274\n",
       "std           0.159851\n",
       "min           0.000000\n",
       "25%           0.000000\n",
       "50%           0.000000\n",
       "75%           0.000000\n",
       "max           1.000000\n",
       "Name: grade, dtype: float64"
      ]
     },
     "execution_count": 34,
     "metadata": {},
     "output_type": "execute_result"
    }
   ],
   "source": [
    "df.grade.describe()"
   ]
  },
  {
   "cell_type": "markdown",
   "metadata": {},
   "source": [
    "After cleaning, the min of grade is 0 and the max is 1, looks good"
   ]
  },
  {
   "cell_type": "markdown",
   "metadata": {},
   "source": [
    "Convert 'start_time_DI' and 'last_event_DI' from object to date type."
   ]
  },
  {
   "cell_type": "code",
   "execution_count": 35,
   "metadata": {
    "scrolled": false
   },
   "outputs": [
    {
     "name": "stdout",
     "output_type": "stream",
     "text": [
      "<class 'pandas.core.frame.DataFrame'>\n",
      "Int64Index: 402750 entries, 19330 to 641122\n",
      "Data columns (total 17 columns):\n",
      "course_id            402750 non-null object\n",
      "userid_DI            402750 non-null object\n",
      "viewed               402750 non-null int64\n",
      "explored             402750 non-null int64\n",
      "certified            402750 non-null int64\n",
      "final_cc_cname_DI    402750 non-null object\n",
      "LoE_DI               402750 non-null object\n",
      "YoB                  402750 non-null float64\n",
      "gender               402750 non-null object\n",
      "grade                402750 non-null float64\n",
      "start_time_DI        402750 non-null datetime64[ns]\n",
      "last_event_DI        402750 non-null datetime64[ns]\n",
      "nevents              402750 non-null float64\n",
      "ndays_act            402750 non-null float64\n",
      "nplay_video          402750 non-null float64\n",
      "nchapters            402750 non-null float64\n",
      "nforum_posts         402750 non-null int64\n",
      "dtypes: datetime64[ns](2), float64(6), int64(4), object(5)\n",
      "memory usage: 55.3+ MB\n"
     ]
    }
   ],
   "source": [
    "# Convert 'start_time_DI' and 'last_event_DI' from object to date\n",
    "df['start_time_DI'] = pd.to_datetime(df['start_time_DI'])\n",
    "df['last_event_DI'] = pd.to_datetime(df['last_event_DI'])\n",
    "df.info()"
   ]
  },
  {
   "cell_type": "code",
   "execution_count": 36,
   "metadata": {
    "scrolled": true
   },
   "outputs": [
    {
     "data": {
      "text/html": [
       "<div>\n",
       "<style scoped>\n",
       "    .dataframe tbody tr th:only-of-type {\n",
       "        vertical-align: middle;\n",
       "    }\n",
       "\n",
       "    .dataframe tbody tr th {\n",
       "        vertical-align: top;\n",
       "    }\n",
       "\n",
       "    .dataframe thead th {\n",
       "        text-align: right;\n",
       "    }\n",
       "</style>\n",
       "<table border=\"1\" class=\"dataframe\">\n",
       "  <thead>\n",
       "    <tr style=\"text-align: right;\">\n",
       "      <th></th>\n",
       "      <th>viewed</th>\n",
       "      <th>explored</th>\n",
       "      <th>certified</th>\n",
       "      <th>YoB</th>\n",
       "      <th>grade</th>\n",
       "      <th>nevents</th>\n",
       "      <th>ndays_act</th>\n",
       "      <th>nplay_video</th>\n",
       "      <th>nchapters</th>\n",
       "      <th>nforum_posts</th>\n",
       "    </tr>\n",
       "  </thead>\n",
       "  <tbody>\n",
       "    <tr>\n",
       "      <th>count</th>\n",
       "      <td>402750.000000</td>\n",
       "      <td>402750.000000</td>\n",
       "      <td>402750.000000</td>\n",
       "      <td>402750.000000</td>\n",
       "      <td>402750.000000</td>\n",
       "      <td>402750.000000</td>\n",
       "      <td>402750.000000</td>\n",
       "      <td>402750.000000</td>\n",
       "      <td>402750.000000</td>\n",
       "      <td>402750.000000</td>\n",
       "    </tr>\n",
       "    <tr>\n",
       "      <th>mean</th>\n",
       "      <td>0.594639</td>\n",
       "      <td>0.070977</td>\n",
       "      <td>0.033949</td>\n",
       "      <td>1985.252457</td>\n",
       "      <td>0.038274</td>\n",
       "      <td>343.834975</td>\n",
       "      <td>4.611816</td>\n",
       "      <td>38.210910</td>\n",
       "      <td>2.291404</td>\n",
       "      <td>0.015876</td>\n",
       "    </tr>\n",
       "    <tr>\n",
       "      <th>std</th>\n",
       "      <td>0.490962</td>\n",
       "      <td>0.256787</td>\n",
       "      <td>0.181098</td>\n",
       "      <td>8.820120</td>\n",
       "      <td>0.159851</td>\n",
       "      <td>1302.267213</td>\n",
       "      <td>10.550842</td>\n",
       "      <td>213.796306</td>\n",
       "      <td>4.158952</td>\n",
       "      <td>0.170387</td>\n",
       "    </tr>\n",
       "    <tr>\n",
       "      <th>min</th>\n",
       "      <td>0.000000</td>\n",
       "      <td>0.000000</td>\n",
       "      <td>0.000000</td>\n",
       "      <td>1931.000000</td>\n",
       "      <td>0.000000</td>\n",
       "      <td>0.000000</td>\n",
       "      <td>0.000000</td>\n",
       "      <td>0.000000</td>\n",
       "      <td>0.000000</td>\n",
       "      <td>0.000000</td>\n",
       "    </tr>\n",
       "    <tr>\n",
       "      <th>25%</th>\n",
       "      <td>0.000000</td>\n",
       "      <td>0.000000</td>\n",
       "      <td>0.000000</td>\n",
       "      <td>1982.000000</td>\n",
       "      <td>0.000000</td>\n",
       "      <td>1.000000</td>\n",
       "      <td>1.000000</td>\n",
       "      <td>0.000000</td>\n",
       "      <td>0.000000</td>\n",
       "      <td>0.000000</td>\n",
       "    </tr>\n",
       "    <tr>\n",
       "      <th>50%</th>\n",
       "      <td>1.000000</td>\n",
       "      <td>0.000000</td>\n",
       "      <td>0.000000</td>\n",
       "      <td>1988.000000</td>\n",
       "      <td>0.000000</td>\n",
       "      <td>9.000000</td>\n",
       "      <td>1.000000</td>\n",
       "      <td>0.000000</td>\n",
       "      <td>1.000000</td>\n",
       "      <td>0.000000</td>\n",
       "    </tr>\n",
       "    <tr>\n",
       "      <th>75%</th>\n",
       "      <td>1.000000</td>\n",
       "      <td>0.000000</td>\n",
       "      <td>0.000000</td>\n",
       "      <td>1991.000000</td>\n",
       "      <td>0.000000</td>\n",
       "      <td>100.000000</td>\n",
       "      <td>3.000000</td>\n",
       "      <td>5.000000</td>\n",
       "      <td>3.000000</td>\n",
       "      <td>0.000000</td>\n",
       "    </tr>\n",
       "    <tr>\n",
       "      <th>max</th>\n",
       "      <td>1.000000</td>\n",
       "      <td>1.000000</td>\n",
       "      <td>1.000000</td>\n",
       "      <td>2002.000000</td>\n",
       "      <td>1.000000</td>\n",
       "      <td>53180.000000</td>\n",
       "      <td>205.000000</td>\n",
       "      <td>34596.000000</td>\n",
       "      <td>47.000000</td>\n",
       "      <td>6.000000</td>\n",
       "    </tr>\n",
       "  </tbody>\n",
       "</table>\n",
       "</div>"
      ],
      "text/plain": [
       "              viewed       explored      certified            YoB  \\\n",
       "count  402750.000000  402750.000000  402750.000000  402750.000000   \n",
       "mean        0.594639       0.070977       0.033949    1985.252457   \n",
       "std         0.490962       0.256787       0.181098       8.820120   \n",
       "min         0.000000       0.000000       0.000000    1931.000000   \n",
       "25%         0.000000       0.000000       0.000000    1982.000000   \n",
       "50%         1.000000       0.000000       0.000000    1988.000000   \n",
       "75%         1.000000       0.000000       0.000000    1991.000000   \n",
       "max         1.000000       1.000000       1.000000    2002.000000   \n",
       "\n",
       "               grade        nevents      ndays_act    nplay_video  \\\n",
       "count  402750.000000  402750.000000  402750.000000  402750.000000   \n",
       "mean        0.038274     343.834975       4.611816      38.210910   \n",
       "std         0.159851    1302.267213      10.550842     213.796306   \n",
       "min         0.000000       0.000000       0.000000       0.000000   \n",
       "25%         0.000000       1.000000       1.000000       0.000000   \n",
       "50%         0.000000       9.000000       1.000000       0.000000   \n",
       "75%         0.000000     100.000000       3.000000       5.000000   \n",
       "max         1.000000   53180.000000     205.000000   34596.000000   \n",
       "\n",
       "           nchapters   nforum_posts  \n",
       "count  402750.000000  402750.000000  \n",
       "mean        2.291404       0.015876  \n",
       "std         4.158952       0.170387  \n",
       "min         0.000000       0.000000  \n",
       "25%         0.000000       0.000000  \n",
       "50%         1.000000       0.000000  \n",
       "75%         3.000000       0.000000  \n",
       "max        47.000000       6.000000  "
      ]
     },
     "execution_count": 36,
     "metadata": {},
     "output_type": "execute_result"
    }
   ],
   "source": [
    "df.describe()"
   ]
  },
  {
   "cell_type": "code",
   "execution_count": 37,
   "metadata": {},
   "outputs": [
    {
     "name": "stdout",
     "output_type": "stream",
     "text": [
      "After cleaning, our dataset has 402750 records, with 17 variables\n"
     ]
    }
   ],
   "source": [
    "df.shape\n",
    "print('After cleaning, our dataset has {} records, with {} variables'.format(df.shape[0], df.shape[1]))"
   ]
  },
  {
   "cell_type": "markdown",
   "metadata": {},
   "source": [
    "### Variable names\n",
    "\n",
    "Some variable names are not very intuitive, we will rename them to be more concise and intuitive."
   ]
  },
  {
   "cell_type": "code",
   "execution_count": 38,
   "metadata": {
    "scrolled": true
   },
   "outputs": [
    {
     "data": {
      "text/plain": [
       "Index(['course_id', 'userid_DI', 'viewed', 'explored', 'certified',\n",
       "       'final_cc_cname_DI', 'LoE_DI', 'YoB', 'gender', 'grade',\n",
       "       'start_time_DI', 'last_event_DI', 'nevents', 'ndays_act', 'nplay_video',\n",
       "       'nchapters', 'nforum_posts'],\n",
       "      dtype='object')"
      ]
     },
     "execution_count": 38,
     "metadata": {},
     "output_type": "execute_result"
    }
   ],
   "source": [
    "# get the names of variables\n",
    "df.columns"
   ]
  },
  {
   "cell_type": "code",
   "execution_count": 39,
   "metadata": {},
   "outputs": [],
   "source": [
    "# rename the columns\n",
    "df.columns = ['course_id', 'user_id', 'viewed', 'explored', 'certified',\n",
    "       'country', 'education', 'YoB', 'gender', 'grade',\n",
    "       'time_registered', 'last_event', 'nevents', 'ndays_act', 'nplay_video',\n",
    "       'nchapters', 'nforum_posts']"
   ]
  },
  {
   "cell_type": "code",
   "execution_count": 40,
   "metadata": {},
   "outputs": [
    {
     "data": {
      "text/html": [
       "<div>\n",
       "<style scoped>\n",
       "    .dataframe tbody tr th:only-of-type {\n",
       "        vertical-align: middle;\n",
       "    }\n",
       "\n",
       "    .dataframe tbody tr th {\n",
       "        vertical-align: top;\n",
       "    }\n",
       "\n",
       "    .dataframe thead th {\n",
       "        text-align: right;\n",
       "    }\n",
       "</style>\n",
       "<table border=\"1\" class=\"dataframe\">\n",
       "  <thead>\n",
       "    <tr style=\"text-align: right;\">\n",
       "      <th></th>\n",
       "      <th>Variable</th>\n",
       "      <th>Type</th>\n",
       "    </tr>\n",
       "  </thead>\n",
       "  <tbody>\n",
       "    <tr>\n",
       "      <th>0</th>\n",
       "      <td>course_id</td>\n",
       "      <td>object</td>\n",
       "    </tr>\n",
       "    <tr>\n",
       "      <th>1</th>\n",
       "      <td>user_id</td>\n",
       "      <td>object</td>\n",
       "    </tr>\n",
       "    <tr>\n",
       "      <th>2</th>\n",
       "      <td>viewed</td>\n",
       "      <td>int64</td>\n",
       "    </tr>\n",
       "    <tr>\n",
       "      <th>3</th>\n",
       "      <td>explored</td>\n",
       "      <td>int64</td>\n",
       "    </tr>\n",
       "    <tr>\n",
       "      <th>4</th>\n",
       "      <td>certified</td>\n",
       "      <td>int64</td>\n",
       "    </tr>\n",
       "    <tr>\n",
       "      <th>5</th>\n",
       "      <td>country</td>\n",
       "      <td>object</td>\n",
       "    </tr>\n",
       "    <tr>\n",
       "      <th>6</th>\n",
       "      <td>education</td>\n",
       "      <td>object</td>\n",
       "    </tr>\n",
       "    <tr>\n",
       "      <th>7</th>\n",
       "      <td>YoB</td>\n",
       "      <td>float64</td>\n",
       "    </tr>\n",
       "    <tr>\n",
       "      <th>8</th>\n",
       "      <td>gender</td>\n",
       "      <td>object</td>\n",
       "    </tr>\n",
       "    <tr>\n",
       "      <th>9</th>\n",
       "      <td>grade</td>\n",
       "      <td>float64</td>\n",
       "    </tr>\n",
       "    <tr>\n",
       "      <th>10</th>\n",
       "      <td>time_registered</td>\n",
       "      <td>datetime64[ns]</td>\n",
       "    </tr>\n",
       "    <tr>\n",
       "      <th>11</th>\n",
       "      <td>last_event</td>\n",
       "      <td>datetime64[ns]</td>\n",
       "    </tr>\n",
       "    <tr>\n",
       "      <th>12</th>\n",
       "      <td>nevents</td>\n",
       "      <td>float64</td>\n",
       "    </tr>\n",
       "    <tr>\n",
       "      <th>13</th>\n",
       "      <td>ndays_act</td>\n",
       "      <td>float64</td>\n",
       "    </tr>\n",
       "    <tr>\n",
       "      <th>14</th>\n",
       "      <td>nplay_video</td>\n",
       "      <td>float64</td>\n",
       "    </tr>\n",
       "    <tr>\n",
       "      <th>15</th>\n",
       "      <td>nchapters</td>\n",
       "      <td>float64</td>\n",
       "    </tr>\n",
       "    <tr>\n",
       "      <th>16</th>\n",
       "      <td>nforum_posts</td>\n",
       "      <td>int64</td>\n",
       "    </tr>\n",
       "  </tbody>\n",
       "</table>\n",
       "</div>"
      ],
      "text/plain": [
       "           Variable            Type\n",
       "0         course_id          object\n",
       "1           user_id          object\n",
       "2            viewed           int64\n",
       "3          explored           int64\n",
       "4         certified           int64\n",
       "5           country          object\n",
       "6         education          object\n",
       "7               YoB         float64\n",
       "8            gender          object\n",
       "9             grade         float64\n",
       "10  time_registered  datetime64[ns]\n",
       "11       last_event  datetime64[ns]\n",
       "12          nevents         float64\n",
       "13        ndays_act         float64\n",
       "14      nplay_video         float64\n",
       "15        nchapters         float64\n",
       "16     nforum_posts           int64"
      ]
     },
     "execution_count": 40,
     "metadata": {},
     "output_type": "execute_result"
    }
   ],
   "source": [
    "df_type = pd.DataFrame(df.dtypes).reset_index()\n",
    "df_type.columns = ['Variable', 'Type']\n",
    "df_type.reset_index(drop=True)"
   ]
  },
  {
   "cell_type": "markdown",
   "metadata": {},
   "source": [
    "### Saving Cleaned Data\n",
    "We  will save te cleaned dataset to 'hmx_cleaned.csv' for exploration later."
   ]
  },
  {
   "cell_type": "code",
   "execution_count": 41,
   "metadata": {},
   "outputs": [],
   "source": [
    "df.to_csv('hmx_cleaned.csv', index=False)"
   ]
  }
 ],
 "metadata": {
  "hide_input": false,
  "kernelspec": {
   "display_name": "Python 3",
   "language": "python",
   "name": "python3"
  },
  "language_info": {
   "codemirror_mode": {
    "name": "ipython",
    "version": 3
   },
   "file_extension": ".py",
   "mimetype": "text/x-python",
   "name": "python",
   "nbconvert_exporter": "python",
   "pygments_lexer": "ipython3",
   "version": "3.7.3"
  },
  "latex_envs": {
   "LaTeX_envs_menu_present": true,
   "autoclose": false,
   "autocomplete": true,
   "bibliofile": "biblio.bib",
   "cite_by": "apalike",
   "current_citInitial": 1,
   "eqLabelWithNumbers": true,
   "eqNumInitial": 1,
   "hotkeys": {
    "equation": "Ctrl-E",
    "itemize": "Ctrl-I"
   },
   "labels_anchors": false,
   "latex_user_defs": false,
   "report_style_numbering": false,
   "user_envs_cfg": false
  },
  "toc": {
   "base_numbering": 1,
   "nav_menu": {},
   "number_sections": true,
   "sideBar": true,
   "skip_h1_title": true,
   "title_cell": "Table of Contents",
   "title_sidebar": "Contents",
   "toc_cell": false,
   "toc_position": {},
   "toc_section_display": true,
   "toc_window_display": false
  },
  "varInspector": {
   "cols": {
    "lenName": 16,
    "lenType": 16,
    "lenVar": 40
   },
   "kernels_config": {
    "python": {
     "delete_cmd_postfix": "",
     "delete_cmd_prefix": "del ",
     "library": "var_list.py",
     "varRefreshCmd": "print(var_dic_list())"
    },
    "r": {
     "delete_cmd_postfix": ") ",
     "delete_cmd_prefix": "rm(",
     "library": "var_list.r",
     "varRefreshCmd": "cat(var_dic_list()) "
    }
   },
   "types_to_exclude": [
    "module",
    "function",
    "builtin_function_or_method",
    "instance",
    "_Feature"
   ],
   "window_display": false
  }
 },
 "nbformat": 4,
 "nbformat_minor": 2
}
