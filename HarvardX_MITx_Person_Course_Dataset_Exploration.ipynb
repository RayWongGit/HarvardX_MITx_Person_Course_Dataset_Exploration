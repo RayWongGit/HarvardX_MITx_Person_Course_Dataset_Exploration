{
 "cells": [
  {
   "cell_type": "markdown",
   "metadata": {},
   "source": [
    "# HarvardX_MITx_Person_Course_Dataset_Exploration\n",
    "## by Ray Wong\n",
    "\n",
    "## Preliminary Wrangling\n",
    "\n",
    "The dataset we are using, is named 'HMXPC13_DI_v2_5-14-14.csv', which is de-identified data from the first year (Academic Year 2013: Fall 2012, Spring 2013, and Summer 2013) of MITx and HarvardX courses on the edX platform along with related documentation.\n",
    "\n",
    "These data are aggregate records, and each record represents one individual's activity in one edX course.  \n",
    "\n",
    "The data description can be found in file 'Person+Course+Documentation.pdf', for better understanding of each variable, I also put the description of each variable into a spreadsheet(named 'HMX Data description.xlsx') with some comments.\n",
    "\n",
    "The dataset and documents are available on link below:\n",
    "\n",
    "[dataverse.harvard.edu](https://dataverse.harvard.edu/dataset.xhtml?persistentId=doi:10.7910/DVN/26147)"
   ]
  },
  {
   "cell_type": "code",
   "execution_count": 1,
   "metadata": {},
   "outputs": [],
   "source": [
    "# import all packages and set plots to be embedded inline\n",
    "import numpy as np\n",
    "import pandas as pd\n",
    "import matplotlib.pyplot as plt\n",
    "import seaborn as sb\n",
    "\n",
    "%matplotlib inline"
   ]
  },
  {
   "cell_type": "code",
   "execution_count": 2,
   "metadata": {
    "scrolled": true
   },
   "outputs": [
    {
     "data": {
      "text/html": [
       "<div>\n",
       "<style scoped>\n",
       "    .dataframe tbody tr th:only-of-type {\n",
       "        vertical-align: middle;\n",
       "    }\n",
       "\n",
       "    .dataframe tbody tr th {\n",
       "        vertical-align: top;\n",
       "    }\n",
       "\n",
       "    .dataframe thead th {\n",
       "        text-align: right;\n",
       "    }\n",
       "</style>\n",
       "<table border=\"1\" class=\"dataframe\">\n",
       "  <thead>\n",
       "    <tr style=\"text-align: right;\">\n",
       "      <th></th>\n",
       "      <th>course_id</th>\n",
       "      <th>userid_DI</th>\n",
       "      <th>registered</th>\n",
       "      <th>viewed</th>\n",
       "      <th>explored</th>\n",
       "      <th>certified</th>\n",
       "      <th>final_cc_cname_DI</th>\n",
       "      <th>LoE_DI</th>\n",
       "      <th>YoB</th>\n",
       "      <th>gender</th>\n",
       "      <th>grade</th>\n",
       "      <th>start_time_DI</th>\n",
       "      <th>last_event_DI</th>\n",
       "      <th>nevents</th>\n",
       "      <th>ndays_act</th>\n",
       "      <th>nplay_video</th>\n",
       "      <th>nchapters</th>\n",
       "      <th>nforum_posts</th>\n",
       "      <th>roles</th>\n",
       "      <th>incomplete_flag</th>\n",
       "    </tr>\n",
       "  </thead>\n",
       "  <tbody>\n",
       "    <tr>\n",
       "      <th>0</th>\n",
       "      <td>HarvardX/CB22x/2013_Spring</td>\n",
       "      <td>MHxPC130442623</td>\n",
       "      <td>1</td>\n",
       "      <td>0</td>\n",
       "      <td>0</td>\n",
       "      <td>0</td>\n",
       "      <td>United States</td>\n",
       "      <td>NaN</td>\n",
       "      <td>NaN</td>\n",
       "      <td>NaN</td>\n",
       "      <td>0</td>\n",
       "      <td>2012-12-19</td>\n",
       "      <td>2013-11-17</td>\n",
       "      <td>NaN</td>\n",
       "      <td>9.0</td>\n",
       "      <td>NaN</td>\n",
       "      <td>NaN</td>\n",
       "      <td>0</td>\n",
       "      <td>NaN</td>\n",
       "      <td>1.0</td>\n",
       "    </tr>\n",
       "    <tr>\n",
       "      <th>1</th>\n",
       "      <td>HarvardX/CS50x/2012</td>\n",
       "      <td>MHxPC130442623</td>\n",
       "      <td>1</td>\n",
       "      <td>1</td>\n",
       "      <td>0</td>\n",
       "      <td>0</td>\n",
       "      <td>United States</td>\n",
       "      <td>NaN</td>\n",
       "      <td>NaN</td>\n",
       "      <td>NaN</td>\n",
       "      <td>0</td>\n",
       "      <td>2012-10-15</td>\n",
       "      <td>NaN</td>\n",
       "      <td>NaN</td>\n",
       "      <td>9.0</td>\n",
       "      <td>NaN</td>\n",
       "      <td>1.0</td>\n",
       "      <td>0</td>\n",
       "      <td>NaN</td>\n",
       "      <td>1.0</td>\n",
       "    </tr>\n",
       "    <tr>\n",
       "      <th>2</th>\n",
       "      <td>HarvardX/CB22x/2013_Spring</td>\n",
       "      <td>MHxPC130275857</td>\n",
       "      <td>1</td>\n",
       "      <td>0</td>\n",
       "      <td>0</td>\n",
       "      <td>0</td>\n",
       "      <td>United States</td>\n",
       "      <td>NaN</td>\n",
       "      <td>NaN</td>\n",
       "      <td>NaN</td>\n",
       "      <td>0</td>\n",
       "      <td>2013-02-08</td>\n",
       "      <td>2013-11-17</td>\n",
       "      <td>NaN</td>\n",
       "      <td>16.0</td>\n",
       "      <td>NaN</td>\n",
       "      <td>NaN</td>\n",
       "      <td>0</td>\n",
       "      <td>NaN</td>\n",
       "      <td>1.0</td>\n",
       "    </tr>\n",
       "    <tr>\n",
       "      <th>3</th>\n",
       "      <td>HarvardX/CS50x/2012</td>\n",
       "      <td>MHxPC130275857</td>\n",
       "      <td>1</td>\n",
       "      <td>0</td>\n",
       "      <td>0</td>\n",
       "      <td>0</td>\n",
       "      <td>United States</td>\n",
       "      <td>NaN</td>\n",
       "      <td>NaN</td>\n",
       "      <td>NaN</td>\n",
       "      <td>0</td>\n",
       "      <td>2012-09-17</td>\n",
       "      <td>NaN</td>\n",
       "      <td>NaN</td>\n",
       "      <td>16.0</td>\n",
       "      <td>NaN</td>\n",
       "      <td>NaN</td>\n",
       "      <td>0</td>\n",
       "      <td>NaN</td>\n",
       "      <td>1.0</td>\n",
       "    </tr>\n",
       "    <tr>\n",
       "      <th>4</th>\n",
       "      <td>HarvardX/ER22x/2013_Spring</td>\n",
       "      <td>MHxPC130275857</td>\n",
       "      <td>1</td>\n",
       "      <td>0</td>\n",
       "      <td>0</td>\n",
       "      <td>0</td>\n",
       "      <td>United States</td>\n",
       "      <td>NaN</td>\n",
       "      <td>NaN</td>\n",
       "      <td>NaN</td>\n",
       "      <td>0</td>\n",
       "      <td>2012-12-19</td>\n",
       "      <td>NaN</td>\n",
       "      <td>NaN</td>\n",
       "      <td>16.0</td>\n",
       "      <td>NaN</td>\n",
       "      <td>NaN</td>\n",
       "      <td>0</td>\n",
       "      <td>NaN</td>\n",
       "      <td>1.0</td>\n",
       "    </tr>\n",
       "  </tbody>\n",
       "</table>\n",
       "</div>"
      ],
      "text/plain": [
       "                    course_id       userid_DI  registered  viewed  explored  \\\n",
       "0  HarvardX/CB22x/2013_Spring  MHxPC130442623           1       0         0   \n",
       "1         HarvardX/CS50x/2012  MHxPC130442623           1       1         0   \n",
       "2  HarvardX/CB22x/2013_Spring  MHxPC130275857           1       0         0   \n",
       "3         HarvardX/CS50x/2012  MHxPC130275857           1       0         0   \n",
       "4  HarvardX/ER22x/2013_Spring  MHxPC130275857           1       0         0   \n",
       "\n",
       "   certified final_cc_cname_DI LoE_DI  YoB gender grade start_time_DI  \\\n",
       "0          0     United States    NaN  NaN    NaN     0    2012-12-19   \n",
       "1          0     United States    NaN  NaN    NaN     0    2012-10-15   \n",
       "2          0     United States    NaN  NaN    NaN     0    2013-02-08   \n",
       "3          0     United States    NaN  NaN    NaN     0    2012-09-17   \n",
       "4          0     United States    NaN  NaN    NaN     0    2012-12-19   \n",
       "\n",
       "  last_event_DI  nevents  ndays_act  nplay_video  nchapters  nforum_posts  \\\n",
       "0    2013-11-17      NaN        9.0          NaN        NaN             0   \n",
       "1           NaN      NaN        9.0          NaN        1.0             0   \n",
       "2    2013-11-17      NaN       16.0          NaN        NaN             0   \n",
       "3           NaN      NaN       16.0          NaN        NaN             0   \n",
       "4           NaN      NaN       16.0          NaN        NaN             0   \n",
       "\n",
       "   roles  incomplete_flag  \n",
       "0    NaN              1.0  \n",
       "1    NaN              1.0  \n",
       "2    NaN              1.0  \n",
       "3    NaN              1.0  \n",
       "4    NaN              1.0  "
      ]
     },
     "execution_count": 2,
     "metadata": {},
     "output_type": "execute_result"
    }
   ],
   "source": [
    "# load data into a pandas dataframe and check the first 5 rows\n",
    "df = pd.read_csv('HMXPC13_DI_v2_5-14-14.csv')\n",
    "df.head()"
   ]
  },
  {
   "cell_type": "markdown",
   "metadata": {},
   "source": [
    "### Assessing  Data"
   ]
  },
  {
   "cell_type": "code",
   "execution_count": 3,
   "metadata": {},
   "outputs": [
    {
     "data": {
      "text/plain": [
       "(641138, 20)"
      ]
     },
     "execution_count": 3,
     "metadata": {},
     "output_type": "execute_result"
    }
   ],
   "source": [
    "# dataset size\n",
    "df.shape"
   ]
  },
  {
   "cell_type": "markdown",
   "metadata": {},
   "source": [
    "There are 641138 records in our dataset, with 20 variables."
   ]
  },
  {
   "cell_type": "code",
   "execution_count": 4,
   "metadata": {
    "scrolled": true
   },
   "outputs": [
    {
     "name": "stdout",
     "output_type": "stream",
     "text": [
      "<class 'pandas.core.frame.DataFrame'>\n",
      "RangeIndex: 641138 entries, 0 to 641137\n",
      "Data columns (total 20 columns):\n",
      "course_id            641138 non-null object\n",
      "userid_DI            641138 non-null object\n",
      "registered           641138 non-null int64\n",
      "viewed               641138 non-null int64\n",
      "explored             641138 non-null int64\n",
      "certified            641138 non-null int64\n",
      "final_cc_cname_DI    641138 non-null object\n",
      "LoE_DI               535130 non-null object\n",
      "YoB                  544533 non-null float64\n",
      "gender               554332 non-null object\n",
      "grade                592766 non-null object\n",
      "start_time_DI        641138 non-null object\n",
      "last_event_DI        462184 non-null object\n",
      "nevents              441987 non-null float64\n",
      "ndays_act            478395 non-null float64\n",
      "nplay_video          183608 non-null float64\n",
      "nchapters            382385 non-null float64\n",
      "nforum_posts         641138 non-null int64\n",
      "roles                0 non-null float64\n",
      "incomplete_flag      100161 non-null float64\n",
      "dtypes: float64(7), int64(5), object(8)\n",
      "memory usage: 97.8+ MB\n"
     ]
    }
   ],
   "source": [
    "# basic info\n",
    "df.info()"
   ]
  },
  {
   "cell_type": "markdown",
   "metadata": {},
   "source": [
    "Through the basic info. of the dataset, we found that:\n",
    "- There are so many missing values in the dataset, we will need to look deeper into the missing values to figure out how to handle them\n",
    "- Most of the variable types looks good, but the type of 'grade' is object, while float would be more reasonable， 'YoB', 'nevents', 'ndays_act', 'nplay_video' and 'nchapters' are floating, we need to convert them to int."
   ]
  },
  {
   "cell_type": "code",
   "execution_count": 5,
   "metadata": {
    "scrolled": true
   },
   "outputs": [
    {
     "data": {
      "text/plain": [
       "0"
      ]
     },
     "execution_count": 5,
     "metadata": {},
     "output_type": "execute_result"
    }
   ],
   "source": [
    "# check duplicate\n",
    "df.duplicated().sum()"
   ]
  },
  {
   "cell_type": "markdown",
   "metadata": {},
   "source": [
    "No duplicated record, which is good."
   ]
  },
  {
   "cell_type": "markdown",
   "metadata": {},
   "source": [
    "Next we will check the description of the numerical variabls in our dataset"
   ]
  },
  {
   "cell_type": "code",
   "execution_count": 6,
   "metadata": {
    "scrolled": true
   },
   "outputs": [
    {
     "data": {
      "text/html": [
       "<div>\n",
       "<style scoped>\n",
       "    .dataframe tbody tr th:only-of-type {\n",
       "        vertical-align: middle;\n",
       "    }\n",
       "\n",
       "    .dataframe tbody tr th {\n",
       "        vertical-align: top;\n",
       "    }\n",
       "\n",
       "    .dataframe thead th {\n",
       "        text-align: right;\n",
       "    }\n",
       "</style>\n",
       "<table border=\"1\" class=\"dataframe\">\n",
       "  <thead>\n",
       "    <tr style=\"text-align: right;\">\n",
       "      <th></th>\n",
       "      <th>registered</th>\n",
       "      <th>viewed</th>\n",
       "      <th>explored</th>\n",
       "      <th>certified</th>\n",
       "      <th>YoB</th>\n",
       "      <th>nevents</th>\n",
       "      <th>ndays_act</th>\n",
       "      <th>nplay_video</th>\n",
       "      <th>nchapters</th>\n",
       "      <th>nforum_posts</th>\n",
       "      <th>roles</th>\n",
       "      <th>incomplete_flag</th>\n",
       "    </tr>\n",
       "  </thead>\n",
       "  <tbody>\n",
       "    <tr>\n",
       "      <th>count</th>\n",
       "      <td>641138.0</td>\n",
       "      <td>641138.000000</td>\n",
       "      <td>641138.000000</td>\n",
       "      <td>641138.000000</td>\n",
       "      <td>544533.000000</td>\n",
       "      <td>441987.000000</td>\n",
       "      <td>478395.000000</td>\n",
       "      <td>183608.000000</td>\n",
       "      <td>382385.000000</td>\n",
       "      <td>641138.000000</td>\n",
       "      <td>0.0</td>\n",
       "      <td>100161.0</td>\n",
       "    </tr>\n",
       "    <tr>\n",
       "      <th>mean</th>\n",
       "      <td>1.0</td>\n",
       "      <td>0.624299</td>\n",
       "      <td>0.061899</td>\n",
       "      <td>0.027587</td>\n",
       "      <td>1985.253279</td>\n",
       "      <td>431.008018</td>\n",
       "      <td>5.710254</td>\n",
       "      <td>114.844173</td>\n",
       "      <td>3.634423</td>\n",
       "      <td>0.018968</td>\n",
       "      <td>NaN</td>\n",
       "      <td>1.0</td>\n",
       "    </tr>\n",
       "    <tr>\n",
       "      <th>std</th>\n",
       "      <td>0.0</td>\n",
       "      <td>0.484304</td>\n",
       "      <td>0.240973</td>\n",
       "      <td>0.163786</td>\n",
       "      <td>8.891814</td>\n",
       "      <td>1516.116057</td>\n",
       "      <td>11.866471</td>\n",
       "      <td>426.996844</td>\n",
       "      <td>4.490987</td>\n",
       "      <td>0.229539</td>\n",
       "      <td>NaN</td>\n",
       "      <td>0.0</td>\n",
       "    </tr>\n",
       "    <tr>\n",
       "      <th>min</th>\n",
       "      <td>1.0</td>\n",
       "      <td>0.000000</td>\n",
       "      <td>0.000000</td>\n",
       "      <td>0.000000</td>\n",
       "      <td>1931.000000</td>\n",
       "      <td>1.000000</td>\n",
       "      <td>1.000000</td>\n",
       "      <td>1.000000</td>\n",
       "      <td>1.000000</td>\n",
       "      <td>0.000000</td>\n",
       "      <td>NaN</td>\n",
       "      <td>1.0</td>\n",
       "    </tr>\n",
       "    <tr>\n",
       "      <th>25%</th>\n",
       "      <td>1.0</td>\n",
       "      <td>0.000000</td>\n",
       "      <td>0.000000</td>\n",
       "      <td>0.000000</td>\n",
       "      <td>1982.000000</td>\n",
       "      <td>3.000000</td>\n",
       "      <td>1.000000</td>\n",
       "      <td>5.000000</td>\n",
       "      <td>1.000000</td>\n",
       "      <td>0.000000</td>\n",
       "      <td>NaN</td>\n",
       "      <td>1.0</td>\n",
       "    </tr>\n",
       "    <tr>\n",
       "      <th>50%</th>\n",
       "      <td>1.0</td>\n",
       "      <td>1.000000</td>\n",
       "      <td>0.000000</td>\n",
       "      <td>0.000000</td>\n",
       "      <td>1988.000000</td>\n",
       "      <td>24.000000</td>\n",
       "      <td>2.000000</td>\n",
       "      <td>18.000000</td>\n",
       "      <td>2.000000</td>\n",
       "      <td>0.000000</td>\n",
       "      <td>NaN</td>\n",
       "      <td>1.0</td>\n",
       "    </tr>\n",
       "    <tr>\n",
       "      <th>75%</th>\n",
       "      <td>1.0</td>\n",
       "      <td>1.000000</td>\n",
       "      <td>0.000000</td>\n",
       "      <td>0.000000</td>\n",
       "      <td>1991.000000</td>\n",
       "      <td>158.000000</td>\n",
       "      <td>4.000000</td>\n",
       "      <td>73.000000</td>\n",
       "      <td>4.000000</td>\n",
       "      <td>0.000000</td>\n",
       "      <td>NaN</td>\n",
       "      <td>1.0</td>\n",
       "    </tr>\n",
       "    <tr>\n",
       "      <th>max</th>\n",
       "      <td>1.0</td>\n",
       "      <td>1.000000</td>\n",
       "      <td>1.000000</td>\n",
       "      <td>1.000000</td>\n",
       "      <td>2013.000000</td>\n",
       "      <td>197757.000000</td>\n",
       "      <td>205.000000</td>\n",
       "      <td>98517.000000</td>\n",
       "      <td>48.000000</td>\n",
       "      <td>20.000000</td>\n",
       "      <td>NaN</td>\n",
       "      <td>1.0</td>\n",
       "    </tr>\n",
       "  </tbody>\n",
       "</table>\n",
       "</div>"
      ],
      "text/plain": [
       "       registered         viewed       explored      certified            YoB  \\\n",
       "count    641138.0  641138.000000  641138.000000  641138.000000  544533.000000   \n",
       "mean          1.0       0.624299       0.061899       0.027587    1985.253279   \n",
       "std           0.0       0.484304       0.240973       0.163786       8.891814   \n",
       "min           1.0       0.000000       0.000000       0.000000    1931.000000   \n",
       "25%           1.0       0.000000       0.000000       0.000000    1982.000000   \n",
       "50%           1.0       1.000000       0.000000       0.000000    1988.000000   \n",
       "75%           1.0       1.000000       0.000000       0.000000    1991.000000   \n",
       "max           1.0       1.000000       1.000000       1.000000    2013.000000   \n",
       "\n",
       "             nevents      ndays_act    nplay_video      nchapters  \\\n",
       "count  441987.000000  478395.000000  183608.000000  382385.000000   \n",
       "mean      431.008018       5.710254     114.844173       3.634423   \n",
       "std      1516.116057      11.866471     426.996844       4.490987   \n",
       "min         1.000000       1.000000       1.000000       1.000000   \n",
       "25%         3.000000       1.000000       5.000000       1.000000   \n",
       "50%        24.000000       2.000000      18.000000       2.000000   \n",
       "75%       158.000000       4.000000      73.000000       4.000000   \n",
       "max    197757.000000     205.000000   98517.000000      48.000000   \n",
       "\n",
       "        nforum_posts  roles  incomplete_flag  \n",
       "count  641138.000000    0.0         100161.0  \n",
       "mean        0.018968    NaN              1.0  \n",
       "std         0.229539    NaN              0.0  \n",
       "min         0.000000    NaN              1.0  \n",
       "25%         0.000000    NaN              1.0  \n",
       "50%         0.000000    NaN              1.0  \n",
       "75%         0.000000    NaN              1.0  \n",
       "max        20.000000    NaN              1.0  "
      ]
     },
     "execution_count": 6,
     "metadata": {},
     "output_type": "execute_result"
    }
   ],
   "source": [
    "# description of the dataset\n",
    "df.describe()"
   ]
  },
  {
   "cell_type": "markdown",
   "metadata": {},
   "source": [
    "- Since all the values of variable 'registered' is 1, it makes no difference to our analysis, we will just drop this variable. \n",
    "\n",
    "- The min. values of variables 'nevents', 'ndays_act',\t'nplay_video',\t'nchapters' are 1 instead of 0. Actually this is not the case, since per data description,  the variable 'nevents' are left blank if no interactions beyond registration. We will fill the NA with 0, and see what the other variables will look like.\n",
    "\n",
    "- Seems like there is no value in variable 'roles', we will take care of it when we deal with missing values\n",
    "- max value of year of birth(variable 'YoB') is 2013, this could not be true, we need to look deep into the values to filter out the unreliable ones"
   ]
  },
  {
   "cell_type": "code",
   "execution_count": 7,
   "metadata": {},
   "outputs": [
    {
     "data": {
      "text/plain": [
       "2012.0    472\n",
       "2001.0    142\n",
       "2013.0     61\n",
       "2002.0     45\n",
       "2011.0     34\n",
       "2010.0     17\n",
       "2003.0     10\n",
       "2008.0     10\n",
       "2009.0      8\n",
       "2007.0      6\n",
       "Name: YoB, dtype: int64"
      ]
     },
     "execution_count": 7,
     "metadata": {},
     "output_type": "execute_result"
    }
   ],
   "source": [
    "df[df.YoB>2000].YoB.value_counts()"
   ]
  },
  {
   "cell_type": "markdown",
   "metadata": {},
   "source": [
    "There are really a bunch of unreliable values in this YoB variable. This Wikipedia page[Education in the United States](https://en.wikipedia.org/wiki/Education_in_the_United_States) provides ages of US students go to different schools. Suppose at least elementary school graduates are applicable to study those online courses, then their ages would be 9-10 years old. Based on this, we will filter out those whose Yob is later than 2003."
   ]
  },
  {
   "cell_type": "markdown",
   "metadata": {},
   "source": [
    "We will also check the values of other variables, just to make sure they make sense."
   ]
  },
  {
   "cell_type": "code",
   "execution_count": 8,
   "metadata": {},
   "outputs": [
    {
     "data": {
      "text/plain": [
       "1    400262\n",
       "0    240876\n",
       "Name: viewed, dtype: int64"
      ]
     },
     "execution_count": 8,
     "metadata": {},
     "output_type": "execute_result"
    }
   ],
   "source": [
    "df.viewed.value_counts()"
   ]
  },
  {
   "cell_type": "code",
   "execution_count": 9,
   "metadata": {},
   "outputs": [
    {
     "data": {
      "text/plain": [
       "0    601452\n",
       "1     39686\n",
       "Name: explored, dtype: int64"
      ]
     },
     "execution_count": 9,
     "metadata": {},
     "output_type": "execute_result"
    }
   ],
   "source": [
    "df.explored.value_counts()"
   ]
  },
  {
   "cell_type": "code",
   "execution_count": 10,
   "metadata": {
    "scrolled": false
   },
   "outputs": [
    {
     "data": {
      "text/plain": [
       "0    623451\n",
       "1     17687\n",
       "Name: certified, dtype: int64"
      ]
     },
     "execution_count": 10,
     "metadata": {},
     "output_type": "execute_result"
    }
   ],
   "source": [
    "df.certified.value_counts()"
   ]
  },
  {
   "cell_type": "markdown",
   "metadata": {},
   "source": [
    "These three numerical variables above looks good, though there are some missing values, we will handle that later."
   ]
  },
  {
   "cell_type": "code",
   "execution_count": 11,
   "metadata": {
    "scrolled": true
   },
   "outputs": [
    {
     "data": {
      "text/plain": [
       "United States                             184240\n",
       "India                                      88696\n",
       "Unknown/Other                              82029\n",
       "Other Europe                               40377\n",
       "Other Africa                               23897\n",
       "United Kingdom                             22131\n",
       "Brazil                                     17856\n",
       "Other Middle East/Central Asia             17325\n",
       "Other South Asia                           12992\n",
       "Canada                                     12738\n",
       "Pakistan                                   10824\n",
       "Russian Federation                         10432\n",
       "Spain                                      10003\n",
       "Other South America                         9916\n",
       "Egypt                                       9286\n",
       "Germany                                     8074\n",
       "Nigeria                                     7483\n",
       "Other East Asia                             6446\n",
       "Australia                                   6419\n",
       "Mexico                                      5638\n",
       "Philippines                                 5374\n",
       "Poland                                      5226\n",
       "China                                       5170\n",
       "Greece                                      5162\n",
       "Colombia                                    4803\n",
       "France                                      4700\n",
       "Other North & Central Amer., Caribbean      4434\n",
       "Ukraine                                     4100\n",
       "Morocco                                     3966\n",
       "Indonesia                                   3410\n",
       "Bangladesh                                  3182\n",
       "Japan                                       2270\n",
       "Portugal                                    2193\n",
       "Other Oceania                                346\n",
       "Name: final_cc_cname_DI, dtype: int64"
      ]
     },
     "execution_count": 11,
     "metadata": {},
     "output_type": "execute_result"
    }
   ],
   "source": [
    "df.final_cc_cname_DI.value_counts()"
   ]
  },
  {
   "cell_type": "markdown",
   "metadata": {},
   "source": [
    "Categorical variables **'final_cc_cname_DI'** also looks good."
   ]
  },
  {
   "cell_type": "code",
   "execution_count": 12,
   "metadata": {},
   "outputs": [
    {
     "data": {
      "text/plain": [
       "Bachelor's             219768\n",
       "Secondary              169694\n",
       "Master's               118189\n",
       "Less than Secondary     14092\n",
       "Doctorate               13387\n",
       "Name: LoE_DI, dtype: int64"
      ]
     },
     "execution_count": 12,
     "metadata": {},
     "output_type": "execute_result"
    }
   ],
   "source": [
    "df.LoE_DI.value_counts()"
   ]
  },
  {
   "cell_type": "code",
   "execution_count": 13,
   "metadata": {
    "scrolled": true
   },
   "outputs": [
    {
     "data": {
      "text/plain": [
       "m    411520\n",
       "f    142795\n",
       "o        17\n",
       "Name: gender, dtype: int64"
      ]
     },
     "execution_count": 13,
     "metadata": {},
     "output_type": "execute_result"
    }
   ],
   "source": [
    "df.gender.value_counts()"
   ]
  },
  {
   "cell_type": "markdown",
   "metadata": {},
   "source": [
    "user-provided variables **'LoE', 'YoB' and 'gender'**, the missing values should be just simply because the user did not provide the info. There is not much we can about it, we will consider dropping those records with missing values."
   ]
  },
  {
   "cell_type": "code",
   "execution_count": 14,
   "metadata": {
    "scrolled": true
   },
   "outputs": [
    {
     "data": {
      "text/plain": [
       "0       490868\n",
       "0.01     19891\n",
       "0.0      18525\n",
       "          9028\n",
       "0.02      5417\n",
       "0.03      4769\n",
       "0.04      3912\n",
       "0.05      2238\n",
       "0.06      2203\n",
       "1         2010\n",
       "0.07      1330\n",
       "0.09      1293\n",
       "0.08      1069\n",
       "0.1        817\n",
       "0.13       753\n",
       "0.11       705\n",
       "0.12       680\n",
       "0.89       586\n",
       "0.91       575\n",
       "0.93       551\n",
       "0.15       547\n",
       "0.88       545\n",
       "0.9        541\n",
       "0.96       535\n",
       "0.14       518\n",
       "0.87       507\n",
       "0.97       504\n",
       "0.92       502\n",
       "0.99       502\n",
       "0.94       497\n",
       "         ...  \n",
       "0.61       250\n",
       "0.65       250\n",
       "0.34       249\n",
       "0.6        238\n",
       "0.38       226\n",
       "0.39       226\n",
       "0.4        217\n",
       "0.36       214\n",
       "0.37       213\n",
       "0.35       208\n",
       "0.42       184\n",
       "0.56       182\n",
       "0.45       174\n",
       "0.57       174\n",
       "0.55       173\n",
       "0.46       170\n",
       "0.5        170\n",
       "0.53       167\n",
       "0.59       165\n",
       "0.51       160\n",
       "0.43       157\n",
       "0.47       155\n",
       "0.41       155\n",
       "0.58       153\n",
       "0.44       149\n",
       "0.54       145\n",
       "0.52       142\n",
       "0.48       139\n",
       "0.49       118\n",
       "1.01         6\n",
       "Name: grade, Length: 104, dtype: int64"
      ]
     },
     "execution_count": 14,
     "metadata": {},
     "output_type": "execute_result"
    }
   ],
   "source": [
    "df.grade.value_counts()"
   ]
  },
  {
   "cell_type": "markdown",
   "metadata": {},
   "source": [
    "Something interesting here. The range of grade values is from 0 to 1, however, we found some 1.01 values there, and there is a 0 value while there is also a 0.0 value,And seems like there are some values which are just spaces, but they are not shown as NA."
   ]
  },
  {
   "cell_type": "code",
   "execution_count": 15,
   "metadata": {},
   "outputs": [
    {
     "data": {
      "text/plain": [
       "1.0    100161\n",
       "Name: incomplete_flag, dtype: int64"
      ]
     },
     "execution_count": 15,
     "metadata": {},
     "output_type": "execute_result"
    }
   ],
   "source": [
    "# check values of incomplete_flag variable\n",
    "df.incomplete_flag.value_counts()"
   ]
  },
  {
   "cell_type": "markdown",
   "metadata": {},
   "source": [
    "According to the data description in file 'Person+Course+Documentation.pdf', the variable **'incomplete_flag'** identifies the records which are internally inconsistent, to assure the reliability of the analysis, we would prefer filter those records without a inconsistent problem, which is to say, the value of incomplete_flag != 1. Then we will drop this variable since it is no longer of any importance."
   ]
  },
  {
   "cell_type": "markdown",
   "metadata": {},
   "source": [
    "**Based on the exploration above, what we need to do to handle the data includes:**\n",
    "- Filter to get a subset without inconsistent records\n",
    "- Drop column 'registered'\n",
    "- Filter out the unreliable YoB values\n",
    "- Process missing values\n",
    "- For variable 'grade', drop the unreliable values, drop the values in blank, then convert the data type from object type to numerical type, the 0 nad 0.0 should not be a problem any more after we convert the variable to numerical type since they would be the same\n",
    "\n",
    "\n",
    "\n",
    "\n"
   ]
  },
  {
   "cell_type": "markdown",
   "metadata": {},
   "source": [
    "### Cleaning Data"
   ]
  },
  {
   "cell_type": "markdown",
   "metadata": {},
   "source": [
    "#### Subset\n",
    "\n",
    "Filter to get a subset without inconsistent records, which is to say, the value of variable incomplete_flag != 1"
   ]
  },
  {
   "cell_type": "code",
   "execution_count": 16,
   "metadata": {
    "scrolled": true
   },
   "outputs": [
    {
     "data": {
      "text/html": [
       "<div>\n",
       "<style scoped>\n",
       "    .dataframe tbody tr th:only-of-type {\n",
       "        vertical-align: middle;\n",
       "    }\n",
       "\n",
       "    .dataframe tbody tr th {\n",
       "        vertical-align: top;\n",
       "    }\n",
       "\n",
       "    .dataframe thead th {\n",
       "        text-align: right;\n",
       "    }\n",
       "</style>\n",
       "<table border=\"1\" class=\"dataframe\">\n",
       "  <thead>\n",
       "    <tr style=\"text-align: right;\">\n",
       "      <th></th>\n",
       "      <th>course_id</th>\n",
       "      <th>userid_DI</th>\n",
       "      <th>registered</th>\n",
       "      <th>viewed</th>\n",
       "      <th>explored</th>\n",
       "      <th>certified</th>\n",
       "      <th>final_cc_cname_DI</th>\n",
       "      <th>LoE_DI</th>\n",
       "      <th>YoB</th>\n",
       "      <th>gender</th>\n",
       "      <th>grade</th>\n",
       "      <th>start_time_DI</th>\n",
       "      <th>last_event_DI</th>\n",
       "      <th>nevents</th>\n",
       "      <th>ndays_act</th>\n",
       "      <th>nplay_video</th>\n",
       "      <th>nchapters</th>\n",
       "      <th>nforum_posts</th>\n",
       "      <th>roles</th>\n",
       "      <th>incomplete_flag</th>\n",
       "    </tr>\n",
       "  </thead>\n",
       "  <tbody>\n",
       "    <tr>\n",
       "      <th>5</th>\n",
       "      <td>HarvardX/PH207x/2012_Fall</td>\n",
       "      <td>MHxPC130275857</td>\n",
       "      <td>1</td>\n",
       "      <td>1</td>\n",
       "      <td>1</td>\n",
       "      <td>0</td>\n",
       "      <td>United States</td>\n",
       "      <td>NaN</td>\n",
       "      <td>NaN</td>\n",
       "      <td>NaN</td>\n",
       "      <td>0</td>\n",
       "      <td>2012-09-17</td>\n",
       "      <td>2013-05-23</td>\n",
       "      <td>502.0</td>\n",
       "      <td>16.0</td>\n",
       "      <td>50.0</td>\n",
       "      <td>12.0</td>\n",
       "      <td>0</td>\n",
       "      <td>NaN</td>\n",
       "      <td>NaN</td>\n",
       "    </tr>\n",
       "    <tr>\n",
       "      <th>7</th>\n",
       "      <td>HarvardX/CB22x/2013_Spring</td>\n",
       "      <td>MHxPC130539455</td>\n",
       "      <td>1</td>\n",
       "      <td>1</td>\n",
       "      <td>0</td>\n",
       "      <td>0</td>\n",
       "      <td>France</td>\n",
       "      <td>NaN</td>\n",
       "      <td>NaN</td>\n",
       "      <td>NaN</td>\n",
       "      <td>0</td>\n",
       "      <td>2013-01-01</td>\n",
       "      <td>2013-05-14</td>\n",
       "      <td>42.0</td>\n",
       "      <td>6.0</td>\n",
       "      <td>NaN</td>\n",
       "      <td>3.0</td>\n",
       "      <td>0</td>\n",
       "      <td>NaN</td>\n",
       "      <td>NaN</td>\n",
       "    </tr>\n",
       "    <tr>\n",
       "      <th>8</th>\n",
       "      <td>HarvardX/CB22x/2013_Spring</td>\n",
       "      <td>MHxPC130088379</td>\n",
       "      <td>1</td>\n",
       "      <td>1</td>\n",
       "      <td>0</td>\n",
       "      <td>0</td>\n",
       "      <td>United States</td>\n",
       "      <td>NaN</td>\n",
       "      <td>NaN</td>\n",
       "      <td>NaN</td>\n",
       "      <td>0</td>\n",
       "      <td>2013-02-18</td>\n",
       "      <td>2013-03-17</td>\n",
       "      <td>70.0</td>\n",
       "      <td>3.0</td>\n",
       "      <td>NaN</td>\n",
       "      <td>3.0</td>\n",
       "      <td>0</td>\n",
       "      <td>NaN</td>\n",
       "      <td>NaN</td>\n",
       "    </tr>\n",
       "    <tr>\n",
       "      <th>10</th>\n",
       "      <td>HarvardX/ER22x/2013_Spring</td>\n",
       "      <td>MHxPC130088379</td>\n",
       "      <td>1</td>\n",
       "      <td>1</td>\n",
       "      <td>0</td>\n",
       "      <td>0</td>\n",
       "      <td>United States</td>\n",
       "      <td>NaN</td>\n",
       "      <td>NaN</td>\n",
       "      <td>NaN</td>\n",
       "      <td>0</td>\n",
       "      <td>2013-02-23</td>\n",
       "      <td>2013-06-14</td>\n",
       "      <td>17.0</td>\n",
       "      <td>2.0</td>\n",
       "      <td>NaN</td>\n",
       "      <td>2.0</td>\n",
       "      <td>0</td>\n",
       "      <td>NaN</td>\n",
       "      <td>NaN</td>\n",
       "    </tr>\n",
       "    <tr>\n",
       "      <th>11</th>\n",
       "      <td>HarvardX/ER22x/2013_Spring</td>\n",
       "      <td>MHxPC130198098</td>\n",
       "      <td>1</td>\n",
       "      <td>1</td>\n",
       "      <td>0</td>\n",
       "      <td>0</td>\n",
       "      <td>United States</td>\n",
       "      <td>NaN</td>\n",
       "      <td>NaN</td>\n",
       "      <td>NaN</td>\n",
       "      <td>0</td>\n",
       "      <td>2013-06-17</td>\n",
       "      <td>2013-06-17</td>\n",
       "      <td>32.0</td>\n",
       "      <td>1.0</td>\n",
       "      <td>NaN</td>\n",
       "      <td>3.0</td>\n",
       "      <td>0</td>\n",
       "      <td>NaN</td>\n",
       "      <td>NaN</td>\n",
       "    </tr>\n",
       "  </tbody>\n",
       "</table>\n",
       "</div>"
      ],
      "text/plain": [
       "                     course_id       userid_DI  registered  viewed  explored  \\\n",
       "5    HarvardX/PH207x/2012_Fall  MHxPC130275857           1       1         1   \n",
       "7   HarvardX/CB22x/2013_Spring  MHxPC130539455           1       1         0   \n",
       "8   HarvardX/CB22x/2013_Spring  MHxPC130088379           1       1         0   \n",
       "10  HarvardX/ER22x/2013_Spring  MHxPC130088379           1       1         0   \n",
       "11  HarvardX/ER22x/2013_Spring  MHxPC130198098           1       1         0   \n",
       "\n",
       "    certified final_cc_cname_DI LoE_DI  YoB gender grade start_time_DI  \\\n",
       "5           0     United States    NaN  NaN    NaN     0    2012-09-17   \n",
       "7           0            France    NaN  NaN    NaN     0    2013-01-01   \n",
       "8           0     United States    NaN  NaN    NaN     0    2013-02-18   \n",
       "10          0     United States    NaN  NaN    NaN     0    2013-02-23   \n",
       "11          0     United States    NaN  NaN    NaN     0    2013-06-17   \n",
       "\n",
       "   last_event_DI  nevents  ndays_act  nplay_video  nchapters  nforum_posts  \\\n",
       "5     2013-05-23    502.0       16.0         50.0       12.0             0   \n",
       "7     2013-05-14     42.0        6.0          NaN        3.0             0   \n",
       "8     2013-03-17     70.0        3.0          NaN        3.0             0   \n",
       "10    2013-06-14     17.0        2.0          NaN        2.0             0   \n",
       "11    2013-06-17     32.0        1.0          NaN        3.0             0   \n",
       "\n",
       "    roles  incomplete_flag  \n",
       "5     NaN              NaN  \n",
       "7     NaN              NaN  \n",
       "8     NaN              NaN  \n",
       "10    NaN              NaN  \n",
       "11    NaN              NaN  "
      ]
     },
     "execution_count": 16,
     "metadata": {},
     "output_type": "execute_result"
    }
   ],
   "source": [
    "df = df[df.incomplete_flag != 1]\n",
    "df.head()"
   ]
  },
  {
   "cell_type": "code",
   "execution_count": 17,
   "metadata": {
    "scrolled": false
   },
   "outputs": [
    {
     "data": {
      "text/plain": [
       "Series([], Name: incomplete_flag, dtype: int64)"
      ]
     },
     "execution_count": 17,
     "metadata": {},
     "output_type": "execute_result"
    }
   ],
   "source": [
    "df.incomplete_flag.value_counts()"
   ]
  },
  {
   "cell_type": "markdown",
   "metadata": {},
   "source": [
    "Drop the incomplete_flag column and registered column"
   ]
  },
  {
   "cell_type": "code",
   "execution_count": 18,
   "metadata": {
    "scrolled": true
   },
   "outputs": [
    {
     "data": {
      "text/html": [
       "<div>\n",
       "<style scoped>\n",
       "    .dataframe tbody tr th:only-of-type {\n",
       "        vertical-align: middle;\n",
       "    }\n",
       "\n",
       "    .dataframe tbody tr th {\n",
       "        vertical-align: top;\n",
       "    }\n",
       "\n",
       "    .dataframe thead th {\n",
       "        text-align: right;\n",
       "    }\n",
       "</style>\n",
       "<table border=\"1\" class=\"dataframe\">\n",
       "  <thead>\n",
       "    <tr style=\"text-align: right;\">\n",
       "      <th></th>\n",
       "      <th>course_id</th>\n",
       "      <th>userid_DI</th>\n",
       "      <th>viewed</th>\n",
       "      <th>explored</th>\n",
       "      <th>certified</th>\n",
       "      <th>final_cc_cname_DI</th>\n",
       "      <th>LoE_DI</th>\n",
       "      <th>YoB</th>\n",
       "      <th>gender</th>\n",
       "      <th>grade</th>\n",
       "      <th>start_time_DI</th>\n",
       "      <th>last_event_DI</th>\n",
       "      <th>nevents</th>\n",
       "      <th>ndays_act</th>\n",
       "      <th>nplay_video</th>\n",
       "      <th>nchapters</th>\n",
       "      <th>nforum_posts</th>\n",
       "      <th>roles</th>\n",
       "    </tr>\n",
       "  </thead>\n",
       "  <tbody>\n",
       "    <tr>\n",
       "      <th>5</th>\n",
       "      <td>HarvardX/PH207x/2012_Fall</td>\n",
       "      <td>MHxPC130275857</td>\n",
       "      <td>1</td>\n",
       "      <td>1</td>\n",
       "      <td>0</td>\n",
       "      <td>United States</td>\n",
       "      <td>NaN</td>\n",
       "      <td>NaN</td>\n",
       "      <td>NaN</td>\n",
       "      <td>0</td>\n",
       "      <td>2012-09-17</td>\n",
       "      <td>2013-05-23</td>\n",
       "      <td>502.0</td>\n",
       "      <td>16.0</td>\n",
       "      <td>50.0</td>\n",
       "      <td>12.0</td>\n",
       "      <td>0</td>\n",
       "      <td>NaN</td>\n",
       "    </tr>\n",
       "    <tr>\n",
       "      <th>7</th>\n",
       "      <td>HarvardX/CB22x/2013_Spring</td>\n",
       "      <td>MHxPC130539455</td>\n",
       "      <td>1</td>\n",
       "      <td>0</td>\n",
       "      <td>0</td>\n",
       "      <td>France</td>\n",
       "      <td>NaN</td>\n",
       "      <td>NaN</td>\n",
       "      <td>NaN</td>\n",
       "      <td>0</td>\n",
       "      <td>2013-01-01</td>\n",
       "      <td>2013-05-14</td>\n",
       "      <td>42.0</td>\n",
       "      <td>6.0</td>\n",
       "      <td>NaN</td>\n",
       "      <td>3.0</td>\n",
       "      <td>0</td>\n",
       "      <td>NaN</td>\n",
       "    </tr>\n",
       "    <tr>\n",
       "      <th>8</th>\n",
       "      <td>HarvardX/CB22x/2013_Spring</td>\n",
       "      <td>MHxPC130088379</td>\n",
       "      <td>1</td>\n",
       "      <td>0</td>\n",
       "      <td>0</td>\n",
       "      <td>United States</td>\n",
       "      <td>NaN</td>\n",
       "      <td>NaN</td>\n",
       "      <td>NaN</td>\n",
       "      <td>0</td>\n",
       "      <td>2013-02-18</td>\n",
       "      <td>2013-03-17</td>\n",
       "      <td>70.0</td>\n",
       "      <td>3.0</td>\n",
       "      <td>NaN</td>\n",
       "      <td>3.0</td>\n",
       "      <td>0</td>\n",
       "      <td>NaN</td>\n",
       "    </tr>\n",
       "    <tr>\n",
       "      <th>10</th>\n",
       "      <td>HarvardX/ER22x/2013_Spring</td>\n",
       "      <td>MHxPC130088379</td>\n",
       "      <td>1</td>\n",
       "      <td>0</td>\n",
       "      <td>0</td>\n",
       "      <td>United States</td>\n",
       "      <td>NaN</td>\n",
       "      <td>NaN</td>\n",
       "      <td>NaN</td>\n",
       "      <td>0</td>\n",
       "      <td>2013-02-23</td>\n",
       "      <td>2013-06-14</td>\n",
       "      <td>17.0</td>\n",
       "      <td>2.0</td>\n",
       "      <td>NaN</td>\n",
       "      <td>2.0</td>\n",
       "      <td>0</td>\n",
       "      <td>NaN</td>\n",
       "    </tr>\n",
       "    <tr>\n",
       "      <th>11</th>\n",
       "      <td>HarvardX/ER22x/2013_Spring</td>\n",
       "      <td>MHxPC130198098</td>\n",
       "      <td>1</td>\n",
       "      <td>0</td>\n",
       "      <td>0</td>\n",
       "      <td>United States</td>\n",
       "      <td>NaN</td>\n",
       "      <td>NaN</td>\n",
       "      <td>NaN</td>\n",
       "      <td>0</td>\n",
       "      <td>2013-06-17</td>\n",
       "      <td>2013-06-17</td>\n",
       "      <td>32.0</td>\n",
       "      <td>1.0</td>\n",
       "      <td>NaN</td>\n",
       "      <td>3.0</td>\n",
       "      <td>0</td>\n",
       "      <td>NaN</td>\n",
       "    </tr>\n",
       "  </tbody>\n",
       "</table>\n",
       "</div>"
      ],
      "text/plain": [
       "                     course_id       userid_DI  viewed  explored  certified  \\\n",
       "5    HarvardX/PH207x/2012_Fall  MHxPC130275857       1         1          0   \n",
       "7   HarvardX/CB22x/2013_Spring  MHxPC130539455       1         0          0   \n",
       "8   HarvardX/CB22x/2013_Spring  MHxPC130088379       1         0          0   \n",
       "10  HarvardX/ER22x/2013_Spring  MHxPC130088379       1         0          0   \n",
       "11  HarvardX/ER22x/2013_Spring  MHxPC130198098       1         0          0   \n",
       "\n",
       "   final_cc_cname_DI LoE_DI  YoB gender grade start_time_DI last_event_DI  \\\n",
       "5      United States    NaN  NaN    NaN     0    2012-09-17    2013-05-23   \n",
       "7             France    NaN  NaN    NaN     0    2013-01-01    2013-05-14   \n",
       "8      United States    NaN  NaN    NaN     0    2013-02-18    2013-03-17   \n",
       "10     United States    NaN  NaN    NaN     0    2013-02-23    2013-06-14   \n",
       "11     United States    NaN  NaN    NaN     0    2013-06-17    2013-06-17   \n",
       "\n",
       "    nevents  ndays_act  nplay_video  nchapters  nforum_posts  roles  \n",
       "5     502.0       16.0         50.0       12.0             0    NaN  \n",
       "7      42.0        6.0          NaN        3.0             0    NaN  \n",
       "8      70.0        3.0          NaN        3.0             0    NaN  \n",
       "10     17.0        2.0          NaN        2.0             0    NaN  \n",
       "11     32.0        1.0          NaN        3.0             0    NaN  "
      ]
     },
     "execution_count": 18,
     "metadata": {},
     "output_type": "execute_result"
    }
   ],
   "source": [
    "df.drop(['incomplete_flag', 'registered'], axis=1,inplace=True)\n",
    "df.head()"
   ]
  },
  {
   "cell_type": "markdown",
   "metadata": {},
   "source": [
    "#### Missing Values"
   ]
  },
  {
   "cell_type": "code",
   "execution_count": 19,
   "metadata": {
    "scrolled": true
   },
   "outputs": [
    {
     "data": {
      "text/plain": [
       "course_id                 0\n",
       "userid_DI                 0\n",
       "viewed                    0\n",
       "explored                  0\n",
       "certified                 0\n",
       "final_cc_cname_DI         0\n",
       "LoE_DI                89002\n",
       "YoB                   82147\n",
       "gender                73813\n",
       "grade                 43956\n",
       "start_time_DI             0\n",
       "last_event_DI         93353\n",
       "nevents               98990\n",
       "ndays_act             98990\n",
       "nplay_video          359365\n",
       "nchapters            231160\n",
       "nforum_posts              0\n",
       "roles                540977\n",
       "dtype: int64"
      ]
     },
     "execution_count": 19,
     "metadata": {},
     "output_type": "execute_result"
    }
   ],
   "source": [
    "# missing values by column\n",
    "df.isna().sum()"
   ]
  },
  {
   "cell_type": "markdown",
   "metadata": {},
   "source": [
    "Besides missing value number of each variable, we will also pull out the proportion of missing values for each variable."
   ]
  },
  {
   "cell_type": "code",
   "execution_count": 20,
   "metadata": {
    "scrolled": false
   },
   "outputs": [
    {
     "data": {
      "text/plain": [
       "course_id            0.000000\n",
       "userid_DI            0.000000\n",
       "viewed               0.000000\n",
       "explored             0.000000\n",
       "certified            0.000000\n",
       "final_cc_cname_DI    0.000000\n",
       "LoE_DI               0.164521\n",
       "YoB                  0.151849\n",
       "gender               0.136444\n",
       "grade                0.081253\n",
       "start_time_DI        0.000000\n",
       "last_event_DI        0.172564\n",
       "nevents              0.182984\n",
       "ndays_act            0.182984\n",
       "nplay_video          0.664289\n",
       "nchapters            0.427301\n",
       "nforum_posts         0.000000\n",
       "roles                1.000000\n",
       "dtype: float64"
      ]
     },
     "execution_count": 20,
     "metadata": {},
     "output_type": "execute_result"
    }
   ],
   "source": [
    "# proportion of missing values by rows\n",
    "df.isna().sum() / df.shape[0]"
   ]
  },
  {
   "cell_type": "markdown",
   "metadata": {},
   "source": [
    "Insights of missing values:\n",
    "- The variable 'role' has 100% value misisng. According to the data description, this variable is to identify staff and instructors, but then they are removed from the released, so the whole variable is blank, since this variable is no longer important to us, we will just drop it.\n",
    "- Many variables have 10-20% missing values, we will go over each variable to see what we can do about it.\n",
    "- Some variables like nplay_video, nchapters have more than 40% values missing, we may want to be careful when handling these variables since missing values may represent something, we will figure it out.\n"
   ]
  },
  {
   "cell_type": "code",
   "execution_count": 21,
   "metadata": {
    "scrolled": true
   },
   "outputs": [
    {
     "data": {
      "text/html": [
       "<div>\n",
       "<style scoped>\n",
       "    .dataframe tbody tr th:only-of-type {\n",
       "        vertical-align: middle;\n",
       "    }\n",
       "\n",
       "    .dataframe tbody tr th {\n",
       "        vertical-align: top;\n",
       "    }\n",
       "\n",
       "    .dataframe thead th {\n",
       "        text-align: right;\n",
       "    }\n",
       "</style>\n",
       "<table border=\"1\" class=\"dataframe\">\n",
       "  <thead>\n",
       "    <tr style=\"text-align: right;\">\n",
       "      <th></th>\n",
       "      <th>course_id</th>\n",
       "      <th>userid_DI</th>\n",
       "      <th>viewed</th>\n",
       "      <th>explored</th>\n",
       "      <th>certified</th>\n",
       "      <th>final_cc_cname_DI</th>\n",
       "      <th>LoE_DI</th>\n",
       "      <th>YoB</th>\n",
       "      <th>gender</th>\n",
       "      <th>grade</th>\n",
       "      <th>start_time_DI</th>\n",
       "      <th>last_event_DI</th>\n",
       "      <th>nevents</th>\n",
       "      <th>ndays_act</th>\n",
       "      <th>nplay_video</th>\n",
       "      <th>nchapters</th>\n",
       "      <th>nforum_posts</th>\n",
       "    </tr>\n",
       "  </thead>\n",
       "  <tbody>\n",
       "    <tr>\n",
       "      <th>5</th>\n",
       "      <td>HarvardX/PH207x/2012_Fall</td>\n",
       "      <td>MHxPC130275857</td>\n",
       "      <td>1</td>\n",
       "      <td>1</td>\n",
       "      <td>0</td>\n",
       "      <td>United States</td>\n",
       "      <td>NaN</td>\n",
       "      <td>NaN</td>\n",
       "      <td>NaN</td>\n",
       "      <td>0</td>\n",
       "      <td>2012-09-17</td>\n",
       "      <td>2013-05-23</td>\n",
       "      <td>502.0</td>\n",
       "      <td>16.0</td>\n",
       "      <td>50.0</td>\n",
       "      <td>12.0</td>\n",
       "      <td>0</td>\n",
       "    </tr>\n",
       "    <tr>\n",
       "      <th>7</th>\n",
       "      <td>HarvardX/CB22x/2013_Spring</td>\n",
       "      <td>MHxPC130539455</td>\n",
       "      <td>1</td>\n",
       "      <td>0</td>\n",
       "      <td>0</td>\n",
       "      <td>France</td>\n",
       "      <td>NaN</td>\n",
       "      <td>NaN</td>\n",
       "      <td>NaN</td>\n",
       "      <td>0</td>\n",
       "      <td>2013-01-01</td>\n",
       "      <td>2013-05-14</td>\n",
       "      <td>42.0</td>\n",
       "      <td>6.0</td>\n",
       "      <td>NaN</td>\n",
       "      <td>3.0</td>\n",
       "      <td>0</td>\n",
       "    </tr>\n",
       "    <tr>\n",
       "      <th>8</th>\n",
       "      <td>HarvardX/CB22x/2013_Spring</td>\n",
       "      <td>MHxPC130088379</td>\n",
       "      <td>1</td>\n",
       "      <td>0</td>\n",
       "      <td>0</td>\n",
       "      <td>United States</td>\n",
       "      <td>NaN</td>\n",
       "      <td>NaN</td>\n",
       "      <td>NaN</td>\n",
       "      <td>0</td>\n",
       "      <td>2013-02-18</td>\n",
       "      <td>2013-03-17</td>\n",
       "      <td>70.0</td>\n",
       "      <td>3.0</td>\n",
       "      <td>NaN</td>\n",
       "      <td>3.0</td>\n",
       "      <td>0</td>\n",
       "    </tr>\n",
       "    <tr>\n",
       "      <th>10</th>\n",
       "      <td>HarvardX/ER22x/2013_Spring</td>\n",
       "      <td>MHxPC130088379</td>\n",
       "      <td>1</td>\n",
       "      <td>0</td>\n",
       "      <td>0</td>\n",
       "      <td>United States</td>\n",
       "      <td>NaN</td>\n",
       "      <td>NaN</td>\n",
       "      <td>NaN</td>\n",
       "      <td>0</td>\n",
       "      <td>2013-02-23</td>\n",
       "      <td>2013-06-14</td>\n",
       "      <td>17.0</td>\n",
       "      <td>2.0</td>\n",
       "      <td>NaN</td>\n",
       "      <td>2.0</td>\n",
       "      <td>0</td>\n",
       "    </tr>\n",
       "    <tr>\n",
       "      <th>11</th>\n",
       "      <td>HarvardX/ER22x/2013_Spring</td>\n",
       "      <td>MHxPC130198098</td>\n",
       "      <td>1</td>\n",
       "      <td>0</td>\n",
       "      <td>0</td>\n",
       "      <td>United States</td>\n",
       "      <td>NaN</td>\n",
       "      <td>NaN</td>\n",
       "      <td>NaN</td>\n",
       "      <td>0</td>\n",
       "      <td>2013-06-17</td>\n",
       "      <td>2013-06-17</td>\n",
       "      <td>32.0</td>\n",
       "      <td>1.0</td>\n",
       "      <td>NaN</td>\n",
       "      <td>3.0</td>\n",
       "      <td>0</td>\n",
       "    </tr>\n",
       "  </tbody>\n",
       "</table>\n",
       "</div>"
      ],
      "text/plain": [
       "                     course_id       userid_DI  viewed  explored  certified  \\\n",
       "5    HarvardX/PH207x/2012_Fall  MHxPC130275857       1         1          0   \n",
       "7   HarvardX/CB22x/2013_Spring  MHxPC130539455       1         0          0   \n",
       "8   HarvardX/CB22x/2013_Spring  MHxPC130088379       1         0          0   \n",
       "10  HarvardX/ER22x/2013_Spring  MHxPC130088379       1         0          0   \n",
       "11  HarvardX/ER22x/2013_Spring  MHxPC130198098       1         0          0   \n",
       "\n",
       "   final_cc_cname_DI LoE_DI  YoB gender grade start_time_DI last_event_DI  \\\n",
       "5      United States    NaN  NaN    NaN     0    2012-09-17    2013-05-23   \n",
       "7             France    NaN  NaN    NaN     0    2013-01-01    2013-05-14   \n",
       "8      United States    NaN  NaN    NaN     0    2013-02-18    2013-03-17   \n",
       "10     United States    NaN  NaN    NaN     0    2013-02-23    2013-06-14   \n",
       "11     United States    NaN  NaN    NaN     0    2013-06-17    2013-06-17   \n",
       "\n",
       "    nevents  ndays_act  nplay_video  nchapters  nforum_posts  \n",
       "5     502.0       16.0         50.0       12.0             0  \n",
       "7      42.0        6.0          NaN        3.0             0  \n",
       "8      70.0        3.0          NaN        3.0             0  \n",
       "10     17.0        2.0          NaN        2.0             0  \n",
       "11     32.0        1.0          NaN        3.0             0  "
      ]
     },
     "execution_count": 21,
     "metadata": {},
     "output_type": "execute_result"
    }
   ],
   "source": [
    "# drop 'roles' column\n",
    "df.drop(['roles'],  axis=1, inplace=True)\n",
    "df.head()"
   ]
  },
  {
   "cell_type": "markdown",
   "metadata": {},
   "source": [
    "Drop missing values in variables 'LoE_DI', 'YoB' and 'gender'."
   ]
  },
  {
   "cell_type": "code",
   "execution_count": 22,
   "metadata": {
    "scrolled": true
   },
   "outputs": [
    {
     "data": {
      "text/plain": [
       "course_id                 0\n",
       "userid_DI                 0\n",
       "viewed                    0\n",
       "explored                  0\n",
       "certified                 0\n",
       "final_cc_cname_DI         0\n",
       "LoE_DI                    0\n",
       "YoB                       0\n",
       "gender                    0\n",
       "grade                 37182\n",
       "start_time_DI             0\n",
       "last_event_DI         80498\n",
       "nevents               85215\n",
       "ndays_act             85215\n",
       "nplay_video          302773\n",
       "nchapters            196680\n",
       "nforum_posts              0\n",
       "dtype: int64"
      ]
     },
     "execution_count": 22,
     "metadata": {},
     "output_type": "execute_result"
    }
   ],
   "source": [
    "# drop rows with missing values for column 'LoE_DI', 'gender', 'grade'\n",
    "df.dropna(subset=['LoE_DI', 'YoB', 'gender'],inplace=True)\n",
    "df.isna().sum()"
   ]
  },
  {
   "cell_type": "markdown",
   "metadata": {},
   "source": [
    "As checked earlier, there is 0 values in variable 'grade', so the NA should not be 0s, we will drop the missing values in variable 'grade'."
   ]
  },
  {
   "cell_type": "code",
   "execution_count": 23,
   "metadata": {
    "scrolled": true
   },
   "outputs": [
    {
     "data": {
      "text/plain": [
       "course_id                 0\n",
       "userid_DI                 0\n",
       "viewed                    0\n",
       "explored                  0\n",
       "certified                 0\n",
       "final_cc_cname_DI         0\n",
       "LoE_DI                    0\n",
       "YoB                       0\n",
       "gender                    0\n",
       "grade                     0\n",
       "start_time_DI             0\n",
       "last_event_DI         75729\n",
       "nevents               79939\n",
       "ndays_act             79939\n",
       "nplay_video          278138\n",
       "nchapters            180937\n",
       "nforum_posts              0\n",
       "dtype: int64"
      ]
     },
     "execution_count": 23,
     "metadata": {},
     "output_type": "execute_result"
    }
   ],
   "source": [
    "df.dropna(subset=['grade'], inplace=True)\n",
    "df.isna().sum()"
   ]
  },
  {
   "cell_type": "markdown",
   "metadata": {},
   "source": [
    "Per data description, both values of variables 'last_event_DI' and nevents would be left blank if no interactions beyond registration, so this is how the missing values in these two variables come from, **but one thing we do not know yet is why where are 75729 missing values in variable last_event_DI while there are 79939 in variable 'nevents'**, for now, we will just:\n",
    "- fill the NAs with 0s for variable nevent\n",
    "- fill the NAs with the start_time_DI for variable last_event_DI, this makes sense since in one does not interact with the course, his last event date would be his start time date, which is to say, he survived 0 days.\n",
    "- variable ndays_act is missing the same amount of values as nevents, we have reason to believe that this missing value also represent no interaction. We will also fill the NAs with 0s for this variable"
   ]
  },
  {
   "cell_type": "code",
   "execution_count": 24,
   "metadata": {},
   "outputs": [],
   "source": [
    "df.nevents = df.nevents.fillna(0)\n",
    "df.ndays_act = df.ndays_act.fillna(0)"
   ]
  },
  {
   "cell_type": "code",
   "execution_count": 25,
   "metadata": {
    "scrolled": true
   },
   "outputs": [
    {
     "name": "stderr",
     "output_type": "stream",
     "text": [
      "/Library/anaconda3/lib/python3.7/site-packages/pandas/core/ops.py:1649: FutureWarning: elementwise comparison failed; returning scalar instead, but in the future will perform elementwise comparison\n",
      "  result = method(y)\n"
     ]
    },
    {
     "data": {
      "text/plain": [
       "Series([], Name: ndays_act, dtype: int64)"
      ]
     },
     "execution_count": 25,
     "metadata": {},
     "output_type": "execute_result"
    }
   ],
   "source": [
    "df[df.nevents == '0.0'].ndays_act.value_counts()"
   ]
  },
  {
   "cell_type": "code",
   "execution_count": 26,
   "metadata": {
    "scrolled": true
   },
   "outputs": [
    {
     "data": {
      "text/plain": [
       "course_id                 0\n",
       "userid_DI                 0\n",
       "viewed                    0\n",
       "explored                  0\n",
       "certified                 0\n",
       "final_cc_cname_DI         0\n",
       "LoE_DI                    0\n",
       "YoB                       0\n",
       "gender                    0\n",
       "grade                     0\n",
       "start_time_DI             0\n",
       "last_event_DI         75729\n",
       "nevents                   0\n",
       "ndays_act                 0\n",
       "nplay_video          278138\n",
       "nchapters            180937\n",
       "nforum_posts              0\n",
       "dtype: int64"
      ]
     },
     "execution_count": 26,
     "metadata": {},
     "output_type": "execute_result"
    }
   ],
   "source": [
    "df.isna().sum()"
   ]
  },
  {
   "cell_type": "markdown",
   "metadata": {},
   "source": [
    "Looks good, the 79939 0s in variable ndays_act exactly correspond to the 79939 0s in variable nevents"
   ]
  },
  {
   "cell_type": "markdown",
   "metadata": {},
   "source": [
    "Next we will fill the NAs with the start_time_DI for variable last_event_DI"
   ]
  },
  {
   "cell_type": "code",
   "execution_count": 27,
   "metadata": {},
   "outputs": [],
   "source": [
    "df['last_event_DI'].fillna(df['start_time_DI'], inplace=True)"
   ]
  },
  {
   "cell_type": "code",
   "execution_count": 28,
   "metadata": {
    "scrolled": true
   },
   "outputs": [
    {
     "data": {
      "text/plain": [
       "course_id                 0\n",
       "userid_DI                 0\n",
       "viewed                    0\n",
       "explored                  0\n",
       "certified                 0\n",
       "final_cc_cname_DI         0\n",
       "LoE_DI                    0\n",
       "YoB                       0\n",
       "gender                    0\n",
       "grade                     0\n",
       "start_time_DI             0\n",
       "last_event_DI             0\n",
       "nevents                   0\n",
       "ndays_act                 0\n",
       "nplay_video          278138\n",
       "nchapters            180937\n",
       "nforum_posts              0\n",
       "dtype: int64"
      ]
     },
     "execution_count": 28,
     "metadata": {},
     "output_type": "execute_result"
    }
   ],
   "source": [
    "df.isna().sum()"
   ]
  },
  {
   "cell_type": "markdown",
   "metadata": {},
   "source": [
    "For the last two variables with missing values, we know where nevents is 0, the values of these two variables should be 0, too. But what we are not sure about the other missing values. Whether they are also 0 or represent something else. Before we get any further confirmation from the dataset provider, we will just take them as 0. Then what we are going to do with these 2 variables would be fill NA with 0."
   ]
  },
  {
   "cell_type": "code",
   "execution_count": 29,
   "metadata": {},
   "outputs": [],
   "source": [
    "df.nplay_video = df.nplay_video.fillna(0)\n",
    "df.nchapters = df.nchapters.fillna(0)"
   ]
  },
  {
   "cell_type": "code",
   "execution_count": 30,
   "metadata": {},
   "outputs": [
    {
     "data": {
      "text/plain": [
       "course_id            0\n",
       "userid_DI            0\n",
       "viewed               0\n",
       "explored             0\n",
       "certified            0\n",
       "final_cc_cname_DI    0\n",
       "LoE_DI               0\n",
       "YoB                  0\n",
       "gender               0\n",
       "grade                0\n",
       "start_time_DI        0\n",
       "last_event_DI        0\n",
       "nevents              0\n",
       "ndays_act            0\n",
       "nplay_video          0\n",
       "nchapters            0\n",
       "nforum_posts         0\n",
       "dtype: int64"
      ]
     },
     "execution_count": 30,
     "metadata": {},
     "output_type": "execute_result"
    }
   ],
   "source": [
    "df.isna().sum()"
   ]
  },
  {
   "cell_type": "markdown",
   "metadata": {},
   "source": [
    "#### Data Type\n",
    "\n",
    "For 'grade' variable, first replace 0.0 with 0, then Convert variable 'grade' from object type to numerical type"
   ]
  },
  {
   "cell_type": "code",
   "execution_count": 31,
   "metadata": {
    "scrolled": true
   },
   "outputs": [
    {
     "data": {
      "text/html": [
       "<div>\n",
       "<style scoped>\n",
       "    .dataframe tbody tr th:only-of-type {\n",
       "        vertical-align: middle;\n",
       "    }\n",
       "\n",
       "    .dataframe tbody tr th {\n",
       "        vertical-align: top;\n",
       "    }\n",
       "\n",
       "    .dataframe thead th {\n",
       "        text-align: right;\n",
       "    }\n",
       "</style>\n",
       "<table border=\"1\" class=\"dataframe\">\n",
       "  <thead>\n",
       "    <tr style=\"text-align: right;\">\n",
       "      <th></th>\n",
       "      <th>course_id</th>\n",
       "      <th>userid_DI</th>\n",
       "      <th>viewed</th>\n",
       "      <th>explored</th>\n",
       "      <th>certified</th>\n",
       "      <th>final_cc_cname_DI</th>\n",
       "      <th>LoE_DI</th>\n",
       "      <th>YoB</th>\n",
       "      <th>gender</th>\n",
       "      <th>grade</th>\n",
       "      <th>start_time_DI</th>\n",
       "      <th>last_event_DI</th>\n",
       "      <th>nevents</th>\n",
       "      <th>ndays_act</th>\n",
       "      <th>nplay_video</th>\n",
       "      <th>nchapters</th>\n",
       "      <th>nforum_posts</th>\n",
       "    </tr>\n",
       "  </thead>\n",
       "  <tbody>\n",
       "    <tr>\n",
       "      <th>19455</th>\n",
       "      <td>HarvardX/CS50x/2012</td>\n",
       "      <td>MHxPC130543718</td>\n",
       "      <td>1</td>\n",
       "      <td>0</td>\n",
       "      <td>0</td>\n",
       "      <td>Other South Asia</td>\n",
       "      <td>Bachelor's</td>\n",
       "      <td>1976.0</td>\n",
       "      <td>f</td>\n",
       "      <td></td>\n",
       "      <td>2012-07-24</td>\n",
       "      <td>2013-03-28</td>\n",
       "      <td>1.0</td>\n",
       "      <td>1.0</td>\n",
       "      <td>0.0</td>\n",
       "      <td>2.0</td>\n",
       "      <td>0</td>\n",
       "    </tr>\n",
       "    <tr>\n",
       "      <th>19561</th>\n",
       "      <td>HarvardX/CS50x/2012</td>\n",
       "      <td>MHxPC130475386</td>\n",
       "      <td>1</td>\n",
       "      <td>0</td>\n",
       "      <td>0</td>\n",
       "      <td>Greece</td>\n",
       "      <td>Bachelor's</td>\n",
       "      <td>1992.0</td>\n",
       "      <td>m</td>\n",
       "      <td></td>\n",
       "      <td>2012-07-24</td>\n",
       "      <td>2013-02-13</td>\n",
       "      <td>8.0</td>\n",
       "      <td>2.0</td>\n",
       "      <td>0.0</td>\n",
       "      <td>2.0</td>\n",
       "      <td>0</td>\n",
       "    </tr>\n",
       "    <tr>\n",
       "      <th>19647</th>\n",
       "      <td>HarvardX/CB22x/2013_Spring</td>\n",
       "      <td>MHxPC130126585</td>\n",
       "      <td>1</td>\n",
       "      <td>0</td>\n",
       "      <td>0</td>\n",
       "      <td>Bangladesh</td>\n",
       "      <td>Secondary</td>\n",
       "      <td>1992.0</td>\n",
       "      <td>m</td>\n",
       "      <td></td>\n",
       "      <td>2013-04-09</td>\n",
       "      <td>2013-04-09</td>\n",
       "      <td>23.0</td>\n",
       "      <td>1.0</td>\n",
       "      <td>0.0</td>\n",
       "      <td>2.0</td>\n",
       "      <td>0</td>\n",
       "    </tr>\n",
       "    <tr>\n",
       "      <th>19863</th>\n",
       "      <td>HarvardX/ER22x/2013_Spring</td>\n",
       "      <td>MHxPC130563436</td>\n",
       "      <td>1</td>\n",
       "      <td>0</td>\n",
       "      <td>0</td>\n",
       "      <td>Colombia</td>\n",
       "      <td>Master's</td>\n",
       "      <td>1986.0</td>\n",
       "      <td>m</td>\n",
       "      <td></td>\n",
       "      <td>2012-12-20</td>\n",
       "      <td>2013-03-12</td>\n",
       "      <td>35.0</td>\n",
       "      <td>1.0</td>\n",
       "      <td>0.0</td>\n",
       "      <td>3.0</td>\n",
       "      <td>0</td>\n",
       "    </tr>\n",
       "    <tr>\n",
       "      <th>20775</th>\n",
       "      <td>HarvardX/CS50x/2012</td>\n",
       "      <td>MHxPC130483451</td>\n",
       "      <td>0</td>\n",
       "      <td>0</td>\n",
       "      <td>0</td>\n",
       "      <td>Unknown/Other</td>\n",
       "      <td>Master's</td>\n",
       "      <td>1960.0</td>\n",
       "      <td>f</td>\n",
       "      <td></td>\n",
       "      <td>2012-07-24</td>\n",
       "      <td>2012-07-24</td>\n",
       "      <td>0.0</td>\n",
       "      <td>0.0</td>\n",
       "      <td>0.0</td>\n",
       "      <td>0.0</td>\n",
       "      <td>0</td>\n",
       "    </tr>\n",
       "    <tr>\n",
       "      <th>20946</th>\n",
       "      <td>HarvardX/CS50x/2012</td>\n",
       "      <td>MHxPC130353078</td>\n",
       "      <td>0</td>\n",
       "      <td>0</td>\n",
       "      <td>0</td>\n",
       "      <td>Unknown/Other</td>\n",
       "      <td>Master's</td>\n",
       "      <td>1964.0</td>\n",
       "      <td>f</td>\n",
       "      <td></td>\n",
       "      <td>2012-07-24</td>\n",
       "      <td>2012-07-24</td>\n",
       "      <td>0.0</td>\n",
       "      <td>0.0</td>\n",
       "      <td>0.0</td>\n",
       "      <td>0.0</td>\n",
       "      <td>0</td>\n",
       "    </tr>\n",
       "    <tr>\n",
       "      <th>20956</th>\n",
       "      <td>HarvardX/CS50x/2012</td>\n",
       "      <td>MHxPC130280608</td>\n",
       "      <td>0</td>\n",
       "      <td>0</td>\n",
       "      <td>0</td>\n",
       "      <td>Egypt</td>\n",
       "      <td>Bachelor's</td>\n",
       "      <td>1976.0</td>\n",
       "      <td>m</td>\n",
       "      <td></td>\n",
       "      <td>2012-07-24</td>\n",
       "      <td>2012-07-24</td>\n",
       "      <td>0.0</td>\n",
       "      <td>0.0</td>\n",
       "      <td>0.0</td>\n",
       "      <td>0.0</td>\n",
       "      <td>0</td>\n",
       "    </tr>\n",
       "    <tr>\n",
       "      <th>21640</th>\n",
       "      <td>HarvardX/PH207x/2012_Fall</td>\n",
       "      <td>MHxPC130425156</td>\n",
       "      <td>0</td>\n",
       "      <td>0</td>\n",
       "      <td>0</td>\n",
       "      <td>Unknown/Other</td>\n",
       "      <td>Master's</td>\n",
       "      <td>1978.0</td>\n",
       "      <td>f</td>\n",
       "      <td></td>\n",
       "      <td>2012-07-24</td>\n",
       "      <td>2012-07-24</td>\n",
       "      <td>0.0</td>\n",
       "      <td>0.0</td>\n",
       "      <td>0.0</td>\n",
       "      <td>0.0</td>\n",
       "      <td>0</td>\n",
       "    </tr>\n",
       "    <tr>\n",
       "      <th>21891</th>\n",
       "      <td>HarvardX/CS50x/2012</td>\n",
       "      <td>MHxPC130419239</td>\n",
       "      <td>0</td>\n",
       "      <td>0</td>\n",
       "      <td>0</td>\n",
       "      <td>Canada</td>\n",
       "      <td>Bachelor's</td>\n",
       "      <td>1971.0</td>\n",
       "      <td>f</td>\n",
       "      <td></td>\n",
       "      <td>2012-07-24</td>\n",
       "      <td>2012-07-24</td>\n",
       "      <td>0.0</td>\n",
       "      <td>0.0</td>\n",
       "      <td>0.0</td>\n",
       "      <td>0.0</td>\n",
       "      <td>0</td>\n",
       "    </tr>\n",
       "    <tr>\n",
       "      <th>21956</th>\n",
       "      <td>HarvardX/CS50x/2012</td>\n",
       "      <td>MHxPC130410828</td>\n",
       "      <td>1</td>\n",
       "      <td>0</td>\n",
       "      <td>0</td>\n",
       "      <td>United States</td>\n",
       "      <td>Master's</td>\n",
       "      <td>1948.0</td>\n",
       "      <td>f</td>\n",
       "      <td></td>\n",
       "      <td>2012-07-24</td>\n",
       "      <td>2013-02-15</td>\n",
       "      <td>3.0</td>\n",
       "      <td>1.0</td>\n",
       "      <td>0.0</td>\n",
       "      <td>1.0</td>\n",
       "      <td>0</td>\n",
       "    </tr>\n",
       "    <tr>\n",
       "      <th>21996</th>\n",
       "      <td>HarvardX/CS50x/2012</td>\n",
       "      <td>MHxPC130454747</td>\n",
       "      <td>0</td>\n",
       "      <td>0</td>\n",
       "      <td>0</td>\n",
       "      <td>Egypt</td>\n",
       "      <td>Bachelor's</td>\n",
       "      <td>1985.0</td>\n",
       "      <td>f</td>\n",
       "      <td></td>\n",
       "      <td>2012-10-13</td>\n",
       "      <td>2012-10-13</td>\n",
       "      <td>0.0</td>\n",
       "      <td>0.0</td>\n",
       "      <td>0.0</td>\n",
       "      <td>0.0</td>\n",
       "      <td>0</td>\n",
       "    </tr>\n",
       "    <tr>\n",
       "      <th>22106</th>\n",
       "      <td>HarvardX/CS50x/2012</td>\n",
       "      <td>MHxPC130248930</td>\n",
       "      <td>0</td>\n",
       "      <td>0</td>\n",
       "      <td>0</td>\n",
       "      <td>Philippines</td>\n",
       "      <td>Bachelor's</td>\n",
       "      <td>1973.0</td>\n",
       "      <td>m</td>\n",
       "      <td></td>\n",
       "      <td>2012-07-24</td>\n",
       "      <td>2012-07-24</td>\n",
       "      <td>0.0</td>\n",
       "      <td>0.0</td>\n",
       "      <td>0.0</td>\n",
       "      <td>0.0</td>\n",
       "      <td>0</td>\n",
       "    </tr>\n",
       "    <tr>\n",
       "      <th>22955</th>\n",
       "      <td>HarvardX/CB22x/2013_Spring</td>\n",
       "      <td>MHxPC130162846</td>\n",
       "      <td>1</td>\n",
       "      <td>0</td>\n",
       "      <td>0</td>\n",
       "      <td>Other East Asia</td>\n",
       "      <td>Secondary</td>\n",
       "      <td>1994.0</td>\n",
       "      <td>m</td>\n",
       "      <td></td>\n",
       "      <td>2013-01-14</td>\n",
       "      <td>2013-03-17</td>\n",
       "      <td>31.0</td>\n",
       "      <td>1.0</td>\n",
       "      <td>0.0</td>\n",
       "      <td>2.0</td>\n",
       "      <td>0</td>\n",
       "    </tr>\n",
       "    <tr>\n",
       "      <th>23098</th>\n",
       "      <td>HarvardX/CS50x/2012</td>\n",
       "      <td>MHxPC130040150</td>\n",
       "      <td>0</td>\n",
       "      <td>0</td>\n",
       "      <td>0</td>\n",
       "      <td>Brazil</td>\n",
       "      <td>Bachelor's</td>\n",
       "      <td>1965.0</td>\n",
       "      <td>m</td>\n",
       "      <td></td>\n",
       "      <td>2012-07-25</td>\n",
       "      <td>2012-07-25</td>\n",
       "      <td>0.0</td>\n",
       "      <td>0.0</td>\n",
       "      <td>0.0</td>\n",
       "      <td>0.0</td>\n",
       "      <td>0</td>\n",
       "    </tr>\n",
       "    <tr>\n",
       "      <th>23515</th>\n",
       "      <td>HarvardX/CS50x/2012</td>\n",
       "      <td>MHxPC130414557</td>\n",
       "      <td>0</td>\n",
       "      <td>0</td>\n",
       "      <td>0</td>\n",
       "      <td>United States</td>\n",
       "      <td>Doctorate</td>\n",
       "      <td>1936.0</td>\n",
       "      <td>m</td>\n",
       "      <td></td>\n",
       "      <td>2012-07-25</td>\n",
       "      <td>2012-07-25</td>\n",
       "      <td>0.0</td>\n",
       "      <td>0.0</td>\n",
       "      <td>0.0</td>\n",
       "      <td>0.0</td>\n",
       "      <td>0</td>\n",
       "    </tr>\n",
       "    <tr>\n",
       "      <th>24101</th>\n",
       "      <td>HarvardX/CS50x/2012</td>\n",
       "      <td>MHxPC130232570</td>\n",
       "      <td>0</td>\n",
       "      <td>0</td>\n",
       "      <td>0</td>\n",
       "      <td>Unknown/Other</td>\n",
       "      <td>Master's</td>\n",
       "      <td>1955.0</td>\n",
       "      <td>m</td>\n",
       "      <td></td>\n",
       "      <td>2012-07-25</td>\n",
       "      <td>2012-07-25</td>\n",
       "      <td>0.0</td>\n",
       "      <td>0.0</td>\n",
       "      <td>0.0</td>\n",
       "      <td>0.0</td>\n",
       "      <td>0</td>\n",
       "    </tr>\n",
       "    <tr>\n",
       "      <th>24151</th>\n",
       "      <td>HarvardX/CS50x/2012</td>\n",
       "      <td>MHxPC130361938</td>\n",
       "      <td>1</td>\n",
       "      <td>0</td>\n",
       "      <td>0</td>\n",
       "      <td>Other South America</td>\n",
       "      <td>Secondary</td>\n",
       "      <td>1988.0</td>\n",
       "      <td>f</td>\n",
       "      <td></td>\n",
       "      <td>2012-07-25</td>\n",
       "      <td>2013-04-21</td>\n",
       "      <td>6.0</td>\n",
       "      <td>1.0</td>\n",
       "      <td>0.0</td>\n",
       "      <td>2.0</td>\n",
       "      <td>0</td>\n",
       "    </tr>\n",
       "    <tr>\n",
       "      <th>24567</th>\n",
       "      <td>HarvardX/CS50x/2012</td>\n",
       "      <td>MHxPC130073423</td>\n",
       "      <td>1</td>\n",
       "      <td>1</td>\n",
       "      <td>0</td>\n",
       "      <td>Brazil</td>\n",
       "      <td>Bachelor's</td>\n",
       "      <td>1967.0</td>\n",
       "      <td>m</td>\n",
       "      <td></td>\n",
       "      <td>2012-07-25</td>\n",
       "      <td>2013-04-09</td>\n",
       "      <td>5.0</td>\n",
       "      <td>1.0</td>\n",
       "      <td>0.0</td>\n",
       "      <td>6.0</td>\n",
       "      <td>0</td>\n",
       "    </tr>\n",
       "    <tr>\n",
       "      <th>24945</th>\n",
       "      <td>HarvardX/CS50x/2012</td>\n",
       "      <td>MHxPC130003696</td>\n",
       "      <td>1</td>\n",
       "      <td>0</td>\n",
       "      <td>0</td>\n",
       "      <td>Portugal</td>\n",
       "      <td>Master's</td>\n",
       "      <td>1977.0</td>\n",
       "      <td>m</td>\n",
       "      <td></td>\n",
       "      <td>2013-01-05</td>\n",
       "      <td>2013-04-03</td>\n",
       "      <td>10.0</td>\n",
       "      <td>1.0</td>\n",
       "      <td>0.0</td>\n",
       "      <td>3.0</td>\n",
       "      <td>0</td>\n",
       "    </tr>\n",
       "    <tr>\n",
       "      <th>25672</th>\n",
       "      <td>HarvardX/CS50x/2012</td>\n",
       "      <td>MHxPC130226162</td>\n",
       "      <td>0</td>\n",
       "      <td>0</td>\n",
       "      <td>0</td>\n",
       "      <td>Portugal</td>\n",
       "      <td>Secondary</td>\n",
       "      <td>1974.0</td>\n",
       "      <td>m</td>\n",
       "      <td></td>\n",
       "      <td>2012-08-14</td>\n",
       "      <td>2012-08-14</td>\n",
       "      <td>0.0</td>\n",
       "      <td>0.0</td>\n",
       "      <td>0.0</td>\n",
       "      <td>0.0</td>\n",
       "      <td>0</td>\n",
       "    </tr>\n",
       "    <tr>\n",
       "      <th>25783</th>\n",
       "      <td>HarvardX/CS50x/2012</td>\n",
       "      <td>MHxPC130401567</td>\n",
       "      <td>0</td>\n",
       "      <td>0</td>\n",
       "      <td>0</td>\n",
       "      <td>Unknown/Other</td>\n",
       "      <td>Bachelor's</td>\n",
       "      <td>1959.0</td>\n",
       "      <td>f</td>\n",
       "      <td></td>\n",
       "      <td>2012-07-26</td>\n",
       "      <td>2012-07-26</td>\n",
       "      <td>0.0</td>\n",
       "      <td>0.0</td>\n",
       "      <td>0.0</td>\n",
       "      <td>0.0</td>\n",
       "      <td>0</td>\n",
       "    </tr>\n",
       "    <tr>\n",
       "      <th>25837</th>\n",
       "      <td>HarvardX/CS50x/2012</td>\n",
       "      <td>MHxPC130463259</td>\n",
       "      <td>1</td>\n",
       "      <td>1</td>\n",
       "      <td>0</td>\n",
       "      <td>Brazil</td>\n",
       "      <td>Bachelor's</td>\n",
       "      <td>1967.0</td>\n",
       "      <td>m</td>\n",
       "      <td></td>\n",
       "      <td>2012-07-26</td>\n",
       "      <td>2013-03-25</td>\n",
       "      <td>221.0</td>\n",
       "      <td>23.0</td>\n",
       "      <td>0.0</td>\n",
       "      <td>12.0</td>\n",
       "      <td>0</td>\n",
       "    </tr>\n",
       "    <tr>\n",
       "      <th>25903</th>\n",
       "      <td>HarvardX/CS50x/2012</td>\n",
       "      <td>MHxPC130234278</td>\n",
       "      <td>0</td>\n",
       "      <td>0</td>\n",
       "      <td>0</td>\n",
       "      <td>Brazil</td>\n",
       "      <td>Bachelor's</td>\n",
       "      <td>1967.0</td>\n",
       "      <td>m</td>\n",
       "      <td></td>\n",
       "      <td>2012-07-26</td>\n",
       "      <td>2012-07-26</td>\n",
       "      <td>0.0</td>\n",
       "      <td>0.0</td>\n",
       "      <td>0.0</td>\n",
       "      <td>0.0</td>\n",
       "      <td>0</td>\n",
       "    </tr>\n",
       "    <tr>\n",
       "      <th>25933</th>\n",
       "      <td>HarvardX/CB22x/2013_Spring</td>\n",
       "      <td>MHxPC130297277</td>\n",
       "      <td>0</td>\n",
       "      <td>0</td>\n",
       "      <td>0</td>\n",
       "      <td>Unknown/Other</td>\n",
       "      <td>Master's</td>\n",
       "      <td>1974.0</td>\n",
       "      <td>m</td>\n",
       "      <td></td>\n",
       "      <td>2013-01-10</td>\n",
       "      <td>2013-11-17</td>\n",
       "      <td>0.0</td>\n",
       "      <td>0.0</td>\n",
       "      <td>0.0</td>\n",
       "      <td>0.0</td>\n",
       "      <td>0</td>\n",
       "    </tr>\n",
       "    <tr>\n",
       "      <th>25998</th>\n",
       "      <td>HarvardX/CS50x/2012</td>\n",
       "      <td>MHxPC130064377</td>\n",
       "      <td>0</td>\n",
       "      <td>0</td>\n",
       "      <td>0</td>\n",
       "      <td>Canada</td>\n",
       "      <td>Secondary</td>\n",
       "      <td>1967.0</td>\n",
       "      <td>f</td>\n",
       "      <td></td>\n",
       "      <td>2012-07-26</td>\n",
       "      <td>2012-07-26</td>\n",
       "      <td>0.0</td>\n",
       "      <td>0.0</td>\n",
       "      <td>0.0</td>\n",
       "      <td>0.0</td>\n",
       "      <td>0</td>\n",
       "    </tr>\n",
       "    <tr>\n",
       "      <th>26012</th>\n",
       "      <td>HarvardX/CS50x/2012</td>\n",
       "      <td>MHxPC130326514</td>\n",
       "      <td>0</td>\n",
       "      <td>0</td>\n",
       "      <td>0</td>\n",
       "      <td>Indonesia</td>\n",
       "      <td>Bachelor's</td>\n",
       "      <td>1984.0</td>\n",
       "      <td>m</td>\n",
       "      <td></td>\n",
       "      <td>2012-07-26</td>\n",
       "      <td>2012-07-26</td>\n",
       "      <td>0.0</td>\n",
       "      <td>0.0</td>\n",
       "      <td>0.0</td>\n",
       "      <td>0.0</td>\n",
       "      <td>0</td>\n",
       "    </tr>\n",
       "    <tr>\n",
       "      <th>26106</th>\n",
       "      <td>HarvardX/CS50x/2012</td>\n",
       "      <td>MHxPC130160703</td>\n",
       "      <td>0</td>\n",
       "      <td>0</td>\n",
       "      <td>0</td>\n",
       "      <td>United States</td>\n",
       "      <td>Master's</td>\n",
       "      <td>1941.0</td>\n",
       "      <td>m</td>\n",
       "      <td></td>\n",
       "      <td>2012-07-27</td>\n",
       "      <td>2012-07-27</td>\n",
       "      <td>0.0</td>\n",
       "      <td>0.0</td>\n",
       "      <td>0.0</td>\n",
       "      <td>0.0</td>\n",
       "      <td>0</td>\n",
       "    </tr>\n",
       "    <tr>\n",
       "      <th>26627</th>\n",
       "      <td>HarvardX/CS50x/2012</td>\n",
       "      <td>MHxPC130215295</td>\n",
       "      <td>0</td>\n",
       "      <td>0</td>\n",
       "      <td>0</td>\n",
       "      <td>Spain</td>\n",
       "      <td>Secondary</td>\n",
       "      <td>1990.0</td>\n",
       "      <td>f</td>\n",
       "      <td></td>\n",
       "      <td>2012-07-27</td>\n",
       "      <td>2012-07-27</td>\n",
       "      <td>0.0</td>\n",
       "      <td>0.0</td>\n",
       "      <td>0.0</td>\n",
       "      <td>0.0</td>\n",
       "      <td>0</td>\n",
       "    </tr>\n",
       "    <tr>\n",
       "      <th>27028</th>\n",
       "      <td>HarvardX/CS50x/2012</td>\n",
       "      <td>MHxPC130272001</td>\n",
       "      <td>0</td>\n",
       "      <td>0</td>\n",
       "      <td>0</td>\n",
       "      <td>Indonesia</td>\n",
       "      <td>Bachelor's</td>\n",
       "      <td>1990.0</td>\n",
       "      <td>f</td>\n",
       "      <td></td>\n",
       "      <td>2012-07-27</td>\n",
       "      <td>2012-07-27</td>\n",
       "      <td>0.0</td>\n",
       "      <td>0.0</td>\n",
       "      <td>0.0</td>\n",
       "      <td>0.0</td>\n",
       "      <td>0</td>\n",
       "    </tr>\n",
       "    <tr>\n",
       "      <th>27446</th>\n",
       "      <td>HarvardX/PH278x/2013_Spring</td>\n",
       "      <td>MHxPC130352271</td>\n",
       "      <td>1</td>\n",
       "      <td>0</td>\n",
       "      <td>0</td>\n",
       "      <td>Unknown/Other</td>\n",
       "      <td>Master's</td>\n",
       "      <td>1969.0</td>\n",
       "      <td>f</td>\n",
       "      <td></td>\n",
       "      <td>2013-05-19</td>\n",
       "      <td>2013-05-19</td>\n",
       "      <td>15.0</td>\n",
       "      <td>1.0</td>\n",
       "      <td>3.0</td>\n",
       "      <td>1.0</td>\n",
       "      <td>0</td>\n",
       "    </tr>\n",
       "    <tr>\n",
       "      <th>...</th>\n",
       "      <td>...</td>\n",
       "      <td>...</td>\n",
       "      <td>...</td>\n",
       "      <td>...</td>\n",
       "      <td>...</td>\n",
       "      <td>...</td>\n",
       "      <td>...</td>\n",
       "      <td>...</td>\n",
       "      <td>...</td>\n",
       "      <td>...</td>\n",
       "      <td>...</td>\n",
       "      <td>...</td>\n",
       "      <td>...</td>\n",
       "      <td>...</td>\n",
       "      <td>...</td>\n",
       "      <td>...</td>\n",
       "      <td>...</td>\n",
       "    </tr>\n",
       "    <tr>\n",
       "      <th>636821</th>\n",
       "      <td>MITx/8.MReV/2013_Summer</td>\n",
       "      <td>MHxPC130535043</td>\n",
       "      <td>1</td>\n",
       "      <td>0</td>\n",
       "      <td>0</td>\n",
       "      <td>Unknown/Other</td>\n",
       "      <td>Bachelor's</td>\n",
       "      <td>1990.0</td>\n",
       "      <td>m</td>\n",
       "      <td></td>\n",
       "      <td>2013-08-20</td>\n",
       "      <td>2013-08-20</td>\n",
       "      <td>13.0</td>\n",
       "      <td>1.0</td>\n",
       "      <td>0.0</td>\n",
       "      <td>1.0</td>\n",
       "      <td>0</td>\n",
       "    </tr>\n",
       "    <tr>\n",
       "      <th>636910</th>\n",
       "      <td>MITx/8.MReV/2013_Summer</td>\n",
       "      <td>MHxPC130450930</td>\n",
       "      <td>0</td>\n",
       "      <td>0</td>\n",
       "      <td>0</td>\n",
       "      <td>Brazil</td>\n",
       "      <td>Bachelor's</td>\n",
       "      <td>1986.0</td>\n",
       "      <td>m</td>\n",
       "      <td></td>\n",
       "      <td>2013-08-20</td>\n",
       "      <td>2013-08-20</td>\n",
       "      <td>6.0</td>\n",
       "      <td>1.0</td>\n",
       "      <td>0.0</td>\n",
       "      <td>1.0</td>\n",
       "      <td>0</td>\n",
       "    </tr>\n",
       "    <tr>\n",
       "      <th>637165</th>\n",
       "      <td>MITx/8.MReV/2013_Summer</td>\n",
       "      <td>MHxPC130493235</td>\n",
       "      <td>0</td>\n",
       "      <td>0</td>\n",
       "      <td>0</td>\n",
       "      <td>Other Middle East/Central Asia</td>\n",
       "      <td>Bachelor's</td>\n",
       "      <td>1992.0</td>\n",
       "      <td>m</td>\n",
       "      <td></td>\n",
       "      <td>2013-08-21</td>\n",
       "      <td>2013-08-21</td>\n",
       "      <td>0.0</td>\n",
       "      <td>0.0</td>\n",
       "      <td>0.0</td>\n",
       "      <td>0.0</td>\n",
       "      <td>0</td>\n",
       "    </tr>\n",
       "    <tr>\n",
       "      <th>637177</th>\n",
       "      <td>MITx/8.MReV/2013_Summer</td>\n",
       "      <td>MHxPC130191262</td>\n",
       "      <td>1</td>\n",
       "      <td>0</td>\n",
       "      <td>0</td>\n",
       "      <td>Spain</td>\n",
       "      <td>Bachelor's</td>\n",
       "      <td>1985.0</td>\n",
       "      <td>m</td>\n",
       "      <td></td>\n",
       "      <td>2013-08-21</td>\n",
       "      <td>2013-08-21</td>\n",
       "      <td>80.0</td>\n",
       "      <td>1.0</td>\n",
       "      <td>0.0</td>\n",
       "      <td>2.0</td>\n",
       "      <td>0</td>\n",
       "    </tr>\n",
       "    <tr>\n",
       "      <th>637356</th>\n",
       "      <td>MITx/8.MReV/2013_Summer</td>\n",
       "      <td>MHxPC130113656</td>\n",
       "      <td>1</td>\n",
       "      <td>0</td>\n",
       "      <td>0</td>\n",
       "      <td>China</td>\n",
       "      <td>Bachelor's</td>\n",
       "      <td>1989.0</td>\n",
       "      <td>m</td>\n",
       "      <td></td>\n",
       "      <td>2013-08-22</td>\n",
       "      <td>2013-08-22</td>\n",
       "      <td>5.0</td>\n",
       "      <td>1.0</td>\n",
       "      <td>0.0</td>\n",
       "      <td>1.0</td>\n",
       "      <td>0</td>\n",
       "    </tr>\n",
       "    <tr>\n",
       "      <th>637624</th>\n",
       "      <td>MITx/8.MReV/2013_Summer</td>\n",
       "      <td>MHxPC130042096</td>\n",
       "      <td>0</td>\n",
       "      <td>0</td>\n",
       "      <td>0</td>\n",
       "      <td>Bangladesh</td>\n",
       "      <td>Secondary</td>\n",
       "      <td>1993.0</td>\n",
       "      <td>m</td>\n",
       "      <td></td>\n",
       "      <td>2013-08-23</td>\n",
       "      <td>2013-08-28</td>\n",
       "      <td>1.0</td>\n",
       "      <td>1.0</td>\n",
       "      <td>0.0</td>\n",
       "      <td>0.0</td>\n",
       "      <td>0</td>\n",
       "    </tr>\n",
       "    <tr>\n",
       "      <th>637691</th>\n",
       "      <td>MITx/8.MReV/2013_Summer</td>\n",
       "      <td>MHxPC130215637</td>\n",
       "      <td>1</td>\n",
       "      <td>0</td>\n",
       "      <td>0</td>\n",
       "      <td>China</td>\n",
       "      <td>Bachelor's</td>\n",
       "      <td>1989.0</td>\n",
       "      <td>m</td>\n",
       "      <td></td>\n",
       "      <td>2013-08-24</td>\n",
       "      <td>2013-09-03</td>\n",
       "      <td>33.0</td>\n",
       "      <td>2.0</td>\n",
       "      <td>0.0</td>\n",
       "      <td>1.0</td>\n",
       "      <td>0</td>\n",
       "    </tr>\n",
       "    <tr>\n",
       "      <th>637986</th>\n",
       "      <td>MITx/8.MReV/2013_Summer</td>\n",
       "      <td>MHxPC130332704</td>\n",
       "      <td>1</td>\n",
       "      <td>0</td>\n",
       "      <td>0</td>\n",
       "      <td>Morocco</td>\n",
       "      <td>Bachelor's</td>\n",
       "      <td>1990.0</td>\n",
       "      <td>m</td>\n",
       "      <td></td>\n",
       "      <td>2013-08-25</td>\n",
       "      <td>2013-08-25</td>\n",
       "      <td>86.0</td>\n",
       "      <td>1.0</td>\n",
       "      <td>0.0</td>\n",
       "      <td>2.0</td>\n",
       "      <td>0</td>\n",
       "    </tr>\n",
       "    <tr>\n",
       "      <th>638641</th>\n",
       "      <td>MITx/8.MReV/2013_Summer</td>\n",
       "      <td>MHxPC130567813</td>\n",
       "      <td>0</td>\n",
       "      <td>0</td>\n",
       "      <td>0</td>\n",
       "      <td>Unknown/Other</td>\n",
       "      <td>Secondary</td>\n",
       "      <td>1990.0</td>\n",
       "      <td>m</td>\n",
       "      <td></td>\n",
       "      <td>2013-08-28</td>\n",
       "      <td>2013-08-28</td>\n",
       "      <td>0.0</td>\n",
       "      <td>0.0</td>\n",
       "      <td>0.0</td>\n",
       "      <td>0.0</td>\n",
       "      <td>0</td>\n",
       "    </tr>\n",
       "    <tr>\n",
       "      <th>638812</th>\n",
       "      <td>MITx/8.MReV/2013_Summer</td>\n",
       "      <td>MHxPC130211597</td>\n",
       "      <td>0</td>\n",
       "      <td>0</td>\n",
       "      <td>0</td>\n",
       "      <td>Unknown/Other</td>\n",
       "      <td>Master's</td>\n",
       "      <td>1987.0</td>\n",
       "      <td>m</td>\n",
       "      <td></td>\n",
       "      <td>2013-08-28</td>\n",
       "      <td>2013-08-28</td>\n",
       "      <td>0.0</td>\n",
       "      <td>0.0</td>\n",
       "      <td>0.0</td>\n",
       "      <td>0.0</td>\n",
       "      <td>0</td>\n",
       "    </tr>\n",
       "    <tr>\n",
       "      <th>638962</th>\n",
       "      <td>MITx/8.MReV/2013_Summer</td>\n",
       "      <td>MHxPC130332139</td>\n",
       "      <td>0</td>\n",
       "      <td>0</td>\n",
       "      <td>0</td>\n",
       "      <td>Other Middle East/Central Asia</td>\n",
       "      <td>Secondary</td>\n",
       "      <td>1995.0</td>\n",
       "      <td>m</td>\n",
       "      <td></td>\n",
       "      <td>2013-08-31</td>\n",
       "      <td>2013-08-31</td>\n",
       "      <td>3.0</td>\n",
       "      <td>1.0</td>\n",
       "      <td>0.0</td>\n",
       "      <td>0.0</td>\n",
       "      <td>0</td>\n",
       "    </tr>\n",
       "    <tr>\n",
       "      <th>639027</th>\n",
       "      <td>MITx/8.MReV/2013_Summer</td>\n",
       "      <td>MHxPC130166647</td>\n",
       "      <td>1</td>\n",
       "      <td>0</td>\n",
       "      <td>0</td>\n",
       "      <td>India</td>\n",
       "      <td>Master's</td>\n",
       "      <td>1975.0</td>\n",
       "      <td>m</td>\n",
       "      <td></td>\n",
       "      <td>2013-08-29</td>\n",
       "      <td>2013-08-31</td>\n",
       "      <td>64.0</td>\n",
       "      <td>3.0</td>\n",
       "      <td>0.0</td>\n",
       "      <td>4.0</td>\n",
       "      <td>0</td>\n",
       "    </tr>\n",
       "    <tr>\n",
       "      <th>639071</th>\n",
       "      <td>MITx/8.MReV/2013_Summer</td>\n",
       "      <td>MHxPC130550995</td>\n",
       "      <td>1</td>\n",
       "      <td>0</td>\n",
       "      <td>0</td>\n",
       "      <td>India</td>\n",
       "      <td>Bachelor's</td>\n",
       "      <td>1979.0</td>\n",
       "      <td>m</td>\n",
       "      <td></td>\n",
       "      <td>2013-08-29</td>\n",
       "      <td>2013-09-03</td>\n",
       "      <td>3.0</td>\n",
       "      <td>1.0</td>\n",
       "      <td>0.0</td>\n",
       "      <td>1.0</td>\n",
       "      <td>0</td>\n",
       "    </tr>\n",
       "    <tr>\n",
       "      <th>639235</th>\n",
       "      <td>MITx/8.MReV/2013_Summer</td>\n",
       "      <td>MHxPC130014168</td>\n",
       "      <td>0</td>\n",
       "      <td>0</td>\n",
       "      <td>0</td>\n",
       "      <td>Unknown/Other</td>\n",
       "      <td>Bachelor's</td>\n",
       "      <td>1985.0</td>\n",
       "      <td>m</td>\n",
       "      <td></td>\n",
       "      <td>2013-08-30</td>\n",
       "      <td>2013-08-30</td>\n",
       "      <td>0.0</td>\n",
       "      <td>0.0</td>\n",
       "      <td>0.0</td>\n",
       "      <td>0.0</td>\n",
       "      <td>0</td>\n",
       "    </tr>\n",
       "    <tr>\n",
       "      <th>639251</th>\n",
       "      <td>MITx/8.MReV/2013_Summer</td>\n",
       "      <td>MHxPC130261518</td>\n",
       "      <td>0</td>\n",
       "      <td>0</td>\n",
       "      <td>0</td>\n",
       "      <td>Other Middle East/Central Asia</td>\n",
       "      <td>Secondary</td>\n",
       "      <td>1994.0</td>\n",
       "      <td>m</td>\n",
       "      <td></td>\n",
       "      <td>2013-08-30</td>\n",
       "      <td>2013-08-30</td>\n",
       "      <td>1.0</td>\n",
       "      <td>1.0</td>\n",
       "      <td>0.0</td>\n",
       "      <td>0.0</td>\n",
       "      <td>0</td>\n",
       "    </tr>\n",
       "    <tr>\n",
       "      <th>639258</th>\n",
       "      <td>MITx/8.MReV/2013_Summer</td>\n",
       "      <td>MHxPC130561999</td>\n",
       "      <td>0</td>\n",
       "      <td>0</td>\n",
       "      <td>0</td>\n",
       "      <td>Unknown/Other</td>\n",
       "      <td>Bachelor's</td>\n",
       "      <td>1989.0</td>\n",
       "      <td>m</td>\n",
       "      <td></td>\n",
       "      <td>2013-08-30</td>\n",
       "      <td>2013-08-30</td>\n",
       "      <td>0.0</td>\n",
       "      <td>0.0</td>\n",
       "      <td>0.0</td>\n",
       "      <td>0.0</td>\n",
       "      <td>0</td>\n",
       "    </tr>\n",
       "    <tr>\n",
       "      <th>639325</th>\n",
       "      <td>MITx/8.MReV/2013_Summer</td>\n",
       "      <td>MHxPC130378388</td>\n",
       "      <td>1</td>\n",
       "      <td>0</td>\n",
       "      <td>0</td>\n",
       "      <td>Other Africa</td>\n",
       "      <td>Bachelor's</td>\n",
       "      <td>1990.0</td>\n",
       "      <td>m</td>\n",
       "      <td></td>\n",
       "      <td>2013-09-05</td>\n",
       "      <td>2013-09-05</td>\n",
       "      <td>15.0</td>\n",
       "      <td>1.0</td>\n",
       "      <td>0.0</td>\n",
       "      <td>2.0</td>\n",
       "      <td>0</td>\n",
       "    </tr>\n",
       "    <tr>\n",
       "      <th>639470</th>\n",
       "      <td>MITx/8.MReV/2013_Summer</td>\n",
       "      <td>MHxPC130559003</td>\n",
       "      <td>1</td>\n",
       "      <td>0</td>\n",
       "      <td>0</td>\n",
       "      <td>China</td>\n",
       "      <td>Bachelor's</td>\n",
       "      <td>1988.0</td>\n",
       "      <td>m</td>\n",
       "      <td></td>\n",
       "      <td>2013-08-31</td>\n",
       "      <td>2013-08-31</td>\n",
       "      <td>13.0</td>\n",
       "      <td>1.0</td>\n",
       "      <td>0.0</td>\n",
       "      <td>3.0</td>\n",
       "      <td>0</td>\n",
       "    </tr>\n",
       "    <tr>\n",
       "      <th>639564</th>\n",
       "      <td>MITx/8.MReV/2013_Summer</td>\n",
       "      <td>MHxPC130037756</td>\n",
       "      <td>0</td>\n",
       "      <td>0</td>\n",
       "      <td>0</td>\n",
       "      <td>Unknown/Other</td>\n",
       "      <td>Secondary</td>\n",
       "      <td>1989.0</td>\n",
       "      <td>m</td>\n",
       "      <td></td>\n",
       "      <td>2013-08-31</td>\n",
       "      <td>2013-08-31</td>\n",
       "      <td>0.0</td>\n",
       "      <td>0.0</td>\n",
       "      <td>0.0</td>\n",
       "      <td>0.0</td>\n",
       "      <td>0</td>\n",
       "    </tr>\n",
       "    <tr>\n",
       "      <th>639903</th>\n",
       "      <td>MITx/8.MReV/2013_Summer</td>\n",
       "      <td>MHxPC130350957</td>\n",
       "      <td>1</td>\n",
       "      <td>0</td>\n",
       "      <td>0</td>\n",
       "      <td>Brazil</td>\n",
       "      <td>Bachelor's</td>\n",
       "      <td>1985.0</td>\n",
       "      <td>m</td>\n",
       "      <td></td>\n",
       "      <td>2013-09-02</td>\n",
       "      <td>2013-09-02</td>\n",
       "      <td>29.0</td>\n",
       "      <td>1.0</td>\n",
       "      <td>0.0</td>\n",
       "      <td>3.0</td>\n",
       "      <td>0</td>\n",
       "    </tr>\n",
       "    <tr>\n",
       "      <th>639957</th>\n",
       "      <td>MITx/8.MReV/2013_Summer</td>\n",
       "      <td>MHxPC130168886</td>\n",
       "      <td>1</td>\n",
       "      <td>0</td>\n",
       "      <td>0</td>\n",
       "      <td>Morocco</td>\n",
       "      <td>Bachelor's</td>\n",
       "      <td>1990.0</td>\n",
       "      <td>m</td>\n",
       "      <td></td>\n",
       "      <td>2013-09-03</td>\n",
       "      <td>2013-09-03</td>\n",
       "      <td>37.0</td>\n",
       "      <td>1.0</td>\n",
       "      <td>0.0</td>\n",
       "      <td>3.0</td>\n",
       "      <td>0</td>\n",
       "    </tr>\n",
       "    <tr>\n",
       "      <th>639975</th>\n",
       "      <td>MITx/8.MReV/2013_Summer</td>\n",
       "      <td>MHxPC130101234</td>\n",
       "      <td>0</td>\n",
       "      <td>0</td>\n",
       "      <td>0</td>\n",
       "      <td>Unknown/Other</td>\n",
       "      <td>Master's</td>\n",
       "      <td>1987.0</td>\n",
       "      <td>m</td>\n",
       "      <td></td>\n",
       "      <td>2013-09-02</td>\n",
       "      <td>2013-09-02</td>\n",
       "      <td>0.0</td>\n",
       "      <td>0.0</td>\n",
       "      <td>0.0</td>\n",
       "      <td>0.0</td>\n",
       "      <td>0</td>\n",
       "    </tr>\n",
       "    <tr>\n",
       "      <th>639983</th>\n",
       "      <td>MITx/8.MReV/2013_Summer</td>\n",
       "      <td>MHxPC130287151</td>\n",
       "      <td>1</td>\n",
       "      <td>0</td>\n",
       "      <td>0</td>\n",
       "      <td>India</td>\n",
       "      <td>Master's</td>\n",
       "      <td>1975.0</td>\n",
       "      <td>m</td>\n",
       "      <td></td>\n",
       "      <td>2013-09-02</td>\n",
       "      <td>2013-09-02</td>\n",
       "      <td>127.0</td>\n",
       "      <td>1.0</td>\n",
       "      <td>0.0</td>\n",
       "      <td>2.0</td>\n",
       "      <td>0</td>\n",
       "    </tr>\n",
       "    <tr>\n",
       "      <th>640045</th>\n",
       "      <td>MITx/8.MReV/2013_Summer</td>\n",
       "      <td>MHxPC130442874</td>\n",
       "      <td>0</td>\n",
       "      <td>0</td>\n",
       "      <td>0</td>\n",
       "      <td>Unknown/Other</td>\n",
       "      <td>Bachelor's</td>\n",
       "      <td>1989.0</td>\n",
       "      <td>m</td>\n",
       "      <td></td>\n",
       "      <td>2013-09-02</td>\n",
       "      <td>2013-09-02</td>\n",
       "      <td>0.0</td>\n",
       "      <td>0.0</td>\n",
       "      <td>0.0</td>\n",
       "      <td>0.0</td>\n",
       "      <td>0</td>\n",
       "    </tr>\n",
       "    <tr>\n",
       "      <th>640284</th>\n",
       "      <td>MITx/8.MReV/2013_Summer</td>\n",
       "      <td>MHxPC130538415</td>\n",
       "      <td>0</td>\n",
       "      <td>0</td>\n",
       "      <td>0</td>\n",
       "      <td>Morocco</td>\n",
       "      <td>Bachelor's</td>\n",
       "      <td>1990.0</td>\n",
       "      <td>m</td>\n",
       "      <td></td>\n",
       "      <td>2013-09-03</td>\n",
       "      <td>2013-09-04</td>\n",
       "      <td>13.0</td>\n",
       "      <td>2.0</td>\n",
       "      <td>0.0</td>\n",
       "      <td>0.0</td>\n",
       "      <td>0</td>\n",
       "    </tr>\n",
       "    <tr>\n",
       "      <th>640527</th>\n",
       "      <td>MITx/8.MReV/2013_Summer</td>\n",
       "      <td>MHxPC130457639</td>\n",
       "      <td>1</td>\n",
       "      <td>0</td>\n",
       "      <td>0</td>\n",
       "      <td>China</td>\n",
       "      <td>Bachelor's</td>\n",
       "      <td>1989.0</td>\n",
       "      <td>m</td>\n",
       "      <td></td>\n",
       "      <td>2013-09-04</td>\n",
       "      <td>2013-09-05</td>\n",
       "      <td>5.0</td>\n",
       "      <td>2.0</td>\n",
       "      <td>0.0</td>\n",
       "      <td>1.0</td>\n",
       "      <td>0</td>\n",
       "    </tr>\n",
       "    <tr>\n",
       "      <th>640549</th>\n",
       "      <td>MITx/8.MReV/2013_Summer</td>\n",
       "      <td>MHxPC130259393</td>\n",
       "      <td>0</td>\n",
       "      <td>0</td>\n",
       "      <td>0</td>\n",
       "      <td>Unknown/Other</td>\n",
       "      <td>Secondary</td>\n",
       "      <td>1993.0</td>\n",
       "      <td>m</td>\n",
       "      <td></td>\n",
       "      <td>2013-09-04</td>\n",
       "      <td>2013-09-04</td>\n",
       "      <td>0.0</td>\n",
       "      <td>0.0</td>\n",
       "      <td>0.0</td>\n",
       "      <td>0.0</td>\n",
       "      <td>0</td>\n",
       "    </tr>\n",
       "    <tr>\n",
       "      <th>640551</th>\n",
       "      <td>MITx/8.MReV/2013_Summer</td>\n",
       "      <td>MHxPC130339170</td>\n",
       "      <td>1</td>\n",
       "      <td>0</td>\n",
       "      <td>0</td>\n",
       "      <td>Germany</td>\n",
       "      <td>Bachelor's</td>\n",
       "      <td>1986.0</td>\n",
       "      <td>m</td>\n",
       "      <td></td>\n",
       "      <td>2013-09-04</td>\n",
       "      <td>2013-09-04</td>\n",
       "      <td>44.0</td>\n",
       "      <td>1.0</td>\n",
       "      <td>0.0</td>\n",
       "      <td>4.0</td>\n",
       "      <td>0</td>\n",
       "    </tr>\n",
       "    <tr>\n",
       "      <th>640659</th>\n",
       "      <td>MITx/8.MReV/2013_Summer</td>\n",
       "      <td>MHxPC130016513</td>\n",
       "      <td>0</td>\n",
       "      <td>0</td>\n",
       "      <td>0</td>\n",
       "      <td>Unknown/Other</td>\n",
       "      <td>Secondary</td>\n",
       "      <td>1995.0</td>\n",
       "      <td>m</td>\n",
       "      <td></td>\n",
       "      <td>2013-09-05</td>\n",
       "      <td>2013-09-05</td>\n",
       "      <td>0.0</td>\n",
       "      <td>0.0</td>\n",
       "      <td>0.0</td>\n",
       "      <td>0.0</td>\n",
       "      <td>0</td>\n",
       "    </tr>\n",
       "    <tr>\n",
       "      <th>640960</th>\n",
       "      <td>MITx/8.MReV/2013_Summer</td>\n",
       "      <td>MHxPC130321951</td>\n",
       "      <td>1</td>\n",
       "      <td>0</td>\n",
       "      <td>0</td>\n",
       "      <td>Other South Asia</td>\n",
       "      <td>Secondary</td>\n",
       "      <td>1991.0</td>\n",
       "      <td>m</td>\n",
       "      <td></td>\n",
       "      <td>2013-09-06</td>\n",
       "      <td>2013-09-06</td>\n",
       "      <td>38.0</td>\n",
       "      <td>1.0</td>\n",
       "      <td>0.0</td>\n",
       "      <td>3.0</td>\n",
       "      <td>0</td>\n",
       "    </tr>\n",
       "  </tbody>\n",
       "</table>\n",
       "<p>7306 rows × 17 columns</p>\n",
       "</div>"
      ],
      "text/plain": [
       "                          course_id       userid_DI  viewed  explored  \\\n",
       "19455           HarvardX/CS50x/2012  MHxPC130543718       1         0   \n",
       "19561           HarvardX/CS50x/2012  MHxPC130475386       1         0   \n",
       "19647    HarvardX/CB22x/2013_Spring  MHxPC130126585       1         0   \n",
       "19863    HarvardX/ER22x/2013_Spring  MHxPC130563436       1         0   \n",
       "20775           HarvardX/CS50x/2012  MHxPC130483451       0         0   \n",
       "20946           HarvardX/CS50x/2012  MHxPC130353078       0         0   \n",
       "20956           HarvardX/CS50x/2012  MHxPC130280608       0         0   \n",
       "21640     HarvardX/PH207x/2012_Fall  MHxPC130425156       0         0   \n",
       "21891           HarvardX/CS50x/2012  MHxPC130419239       0         0   \n",
       "21956           HarvardX/CS50x/2012  MHxPC130410828       1         0   \n",
       "21996           HarvardX/CS50x/2012  MHxPC130454747       0         0   \n",
       "22106           HarvardX/CS50x/2012  MHxPC130248930       0         0   \n",
       "22955    HarvardX/CB22x/2013_Spring  MHxPC130162846       1         0   \n",
       "23098           HarvardX/CS50x/2012  MHxPC130040150       0         0   \n",
       "23515           HarvardX/CS50x/2012  MHxPC130414557       0         0   \n",
       "24101           HarvardX/CS50x/2012  MHxPC130232570       0         0   \n",
       "24151           HarvardX/CS50x/2012  MHxPC130361938       1         0   \n",
       "24567           HarvardX/CS50x/2012  MHxPC130073423       1         1   \n",
       "24945           HarvardX/CS50x/2012  MHxPC130003696       1         0   \n",
       "25672           HarvardX/CS50x/2012  MHxPC130226162       0         0   \n",
       "25783           HarvardX/CS50x/2012  MHxPC130401567       0         0   \n",
       "25837           HarvardX/CS50x/2012  MHxPC130463259       1         1   \n",
       "25903           HarvardX/CS50x/2012  MHxPC130234278       0         0   \n",
       "25933    HarvardX/CB22x/2013_Spring  MHxPC130297277       0         0   \n",
       "25998           HarvardX/CS50x/2012  MHxPC130064377       0         0   \n",
       "26012           HarvardX/CS50x/2012  MHxPC130326514       0         0   \n",
       "26106           HarvardX/CS50x/2012  MHxPC130160703       0         0   \n",
       "26627           HarvardX/CS50x/2012  MHxPC130215295       0         0   \n",
       "27028           HarvardX/CS50x/2012  MHxPC130272001       0         0   \n",
       "27446   HarvardX/PH278x/2013_Spring  MHxPC130352271       1         0   \n",
       "...                             ...             ...     ...       ...   \n",
       "636821      MITx/8.MReV/2013_Summer  MHxPC130535043       1         0   \n",
       "636910      MITx/8.MReV/2013_Summer  MHxPC130450930       0         0   \n",
       "637165      MITx/8.MReV/2013_Summer  MHxPC130493235       0         0   \n",
       "637177      MITx/8.MReV/2013_Summer  MHxPC130191262       1         0   \n",
       "637356      MITx/8.MReV/2013_Summer  MHxPC130113656       1         0   \n",
       "637624      MITx/8.MReV/2013_Summer  MHxPC130042096       0         0   \n",
       "637691      MITx/8.MReV/2013_Summer  MHxPC130215637       1         0   \n",
       "637986      MITx/8.MReV/2013_Summer  MHxPC130332704       1         0   \n",
       "638641      MITx/8.MReV/2013_Summer  MHxPC130567813       0         0   \n",
       "638812      MITx/8.MReV/2013_Summer  MHxPC130211597       0         0   \n",
       "638962      MITx/8.MReV/2013_Summer  MHxPC130332139       0         0   \n",
       "639027      MITx/8.MReV/2013_Summer  MHxPC130166647       1         0   \n",
       "639071      MITx/8.MReV/2013_Summer  MHxPC130550995       1         0   \n",
       "639235      MITx/8.MReV/2013_Summer  MHxPC130014168       0         0   \n",
       "639251      MITx/8.MReV/2013_Summer  MHxPC130261518       0         0   \n",
       "639258      MITx/8.MReV/2013_Summer  MHxPC130561999       0         0   \n",
       "639325      MITx/8.MReV/2013_Summer  MHxPC130378388       1         0   \n",
       "639470      MITx/8.MReV/2013_Summer  MHxPC130559003       1         0   \n",
       "639564      MITx/8.MReV/2013_Summer  MHxPC130037756       0         0   \n",
       "639903      MITx/8.MReV/2013_Summer  MHxPC130350957       1         0   \n",
       "639957      MITx/8.MReV/2013_Summer  MHxPC130168886       1         0   \n",
       "639975      MITx/8.MReV/2013_Summer  MHxPC130101234       0         0   \n",
       "639983      MITx/8.MReV/2013_Summer  MHxPC130287151       1         0   \n",
       "640045      MITx/8.MReV/2013_Summer  MHxPC130442874       0         0   \n",
       "640284      MITx/8.MReV/2013_Summer  MHxPC130538415       0         0   \n",
       "640527      MITx/8.MReV/2013_Summer  MHxPC130457639       1         0   \n",
       "640549      MITx/8.MReV/2013_Summer  MHxPC130259393       0         0   \n",
       "640551      MITx/8.MReV/2013_Summer  MHxPC130339170       1         0   \n",
       "640659      MITx/8.MReV/2013_Summer  MHxPC130016513       0         0   \n",
       "640960      MITx/8.MReV/2013_Summer  MHxPC130321951       1         0   \n",
       "\n",
       "        certified               final_cc_cname_DI      LoE_DI     YoB gender  \\\n",
       "19455           0                Other South Asia  Bachelor's  1976.0      f   \n",
       "19561           0                          Greece  Bachelor's  1992.0      m   \n",
       "19647           0                      Bangladesh   Secondary  1992.0      m   \n",
       "19863           0                        Colombia    Master's  1986.0      m   \n",
       "20775           0                   Unknown/Other    Master's  1960.0      f   \n",
       "20946           0                   Unknown/Other    Master's  1964.0      f   \n",
       "20956           0                           Egypt  Bachelor's  1976.0      m   \n",
       "21640           0                   Unknown/Other    Master's  1978.0      f   \n",
       "21891           0                          Canada  Bachelor's  1971.0      f   \n",
       "21956           0                   United States    Master's  1948.0      f   \n",
       "21996           0                           Egypt  Bachelor's  1985.0      f   \n",
       "22106           0                     Philippines  Bachelor's  1973.0      m   \n",
       "22955           0                 Other East Asia   Secondary  1994.0      m   \n",
       "23098           0                          Brazil  Bachelor's  1965.0      m   \n",
       "23515           0                   United States   Doctorate  1936.0      m   \n",
       "24101           0                   Unknown/Other    Master's  1955.0      m   \n",
       "24151           0             Other South America   Secondary  1988.0      f   \n",
       "24567           0                          Brazil  Bachelor's  1967.0      m   \n",
       "24945           0                        Portugal    Master's  1977.0      m   \n",
       "25672           0                        Portugal   Secondary  1974.0      m   \n",
       "25783           0                   Unknown/Other  Bachelor's  1959.0      f   \n",
       "25837           0                          Brazil  Bachelor's  1967.0      m   \n",
       "25903           0                          Brazil  Bachelor's  1967.0      m   \n",
       "25933           0                   Unknown/Other    Master's  1974.0      m   \n",
       "25998           0                          Canada   Secondary  1967.0      f   \n",
       "26012           0                       Indonesia  Bachelor's  1984.0      m   \n",
       "26106           0                   United States    Master's  1941.0      m   \n",
       "26627           0                           Spain   Secondary  1990.0      f   \n",
       "27028           0                       Indonesia  Bachelor's  1990.0      f   \n",
       "27446           0                   Unknown/Other    Master's  1969.0      f   \n",
       "...           ...                             ...         ...     ...    ...   \n",
       "636821          0                   Unknown/Other  Bachelor's  1990.0      m   \n",
       "636910          0                          Brazil  Bachelor's  1986.0      m   \n",
       "637165          0  Other Middle East/Central Asia  Bachelor's  1992.0      m   \n",
       "637177          0                           Spain  Bachelor's  1985.0      m   \n",
       "637356          0                           China  Bachelor's  1989.0      m   \n",
       "637624          0                      Bangladesh   Secondary  1993.0      m   \n",
       "637691          0                           China  Bachelor's  1989.0      m   \n",
       "637986          0                         Morocco  Bachelor's  1990.0      m   \n",
       "638641          0                   Unknown/Other   Secondary  1990.0      m   \n",
       "638812          0                   Unknown/Other    Master's  1987.0      m   \n",
       "638962          0  Other Middle East/Central Asia   Secondary  1995.0      m   \n",
       "639027          0                           India    Master's  1975.0      m   \n",
       "639071          0                           India  Bachelor's  1979.0      m   \n",
       "639235          0                   Unknown/Other  Bachelor's  1985.0      m   \n",
       "639251          0  Other Middle East/Central Asia   Secondary  1994.0      m   \n",
       "639258          0                   Unknown/Other  Bachelor's  1989.0      m   \n",
       "639325          0                    Other Africa  Bachelor's  1990.0      m   \n",
       "639470          0                           China  Bachelor's  1988.0      m   \n",
       "639564          0                   Unknown/Other   Secondary  1989.0      m   \n",
       "639903          0                          Brazil  Bachelor's  1985.0      m   \n",
       "639957          0                         Morocco  Bachelor's  1990.0      m   \n",
       "639975          0                   Unknown/Other    Master's  1987.0      m   \n",
       "639983          0                           India    Master's  1975.0      m   \n",
       "640045          0                   Unknown/Other  Bachelor's  1989.0      m   \n",
       "640284          0                         Morocco  Bachelor's  1990.0      m   \n",
       "640527          0                           China  Bachelor's  1989.0      m   \n",
       "640549          0                   Unknown/Other   Secondary  1993.0      m   \n",
       "640551          0                         Germany  Bachelor's  1986.0      m   \n",
       "640659          0                   Unknown/Other   Secondary  1995.0      m   \n",
       "640960          0                Other South Asia   Secondary  1991.0      m   \n",
       "\n",
       "       grade start_time_DI last_event_DI  nevents  ndays_act  nplay_video  \\\n",
       "19455           2012-07-24    2013-03-28      1.0        1.0          0.0   \n",
       "19561           2012-07-24    2013-02-13      8.0        2.0          0.0   \n",
       "19647           2013-04-09    2013-04-09     23.0        1.0          0.0   \n",
       "19863           2012-12-20    2013-03-12     35.0        1.0          0.0   \n",
       "20775           2012-07-24    2012-07-24      0.0        0.0          0.0   \n",
       "20946           2012-07-24    2012-07-24      0.0        0.0          0.0   \n",
       "20956           2012-07-24    2012-07-24      0.0        0.0          0.0   \n",
       "21640           2012-07-24    2012-07-24      0.0        0.0          0.0   \n",
       "21891           2012-07-24    2012-07-24      0.0        0.0          0.0   \n",
       "21956           2012-07-24    2013-02-15      3.0        1.0          0.0   \n",
       "21996           2012-10-13    2012-10-13      0.0        0.0          0.0   \n",
       "22106           2012-07-24    2012-07-24      0.0        0.0          0.0   \n",
       "22955           2013-01-14    2013-03-17     31.0        1.0          0.0   \n",
       "23098           2012-07-25    2012-07-25      0.0        0.0          0.0   \n",
       "23515           2012-07-25    2012-07-25      0.0        0.0          0.0   \n",
       "24101           2012-07-25    2012-07-25      0.0        0.0          0.0   \n",
       "24151           2012-07-25    2013-04-21      6.0        1.0          0.0   \n",
       "24567           2012-07-25    2013-04-09      5.0        1.0          0.0   \n",
       "24945           2013-01-05    2013-04-03     10.0        1.0          0.0   \n",
       "25672           2012-08-14    2012-08-14      0.0        0.0          0.0   \n",
       "25783           2012-07-26    2012-07-26      0.0        0.0          0.0   \n",
       "25837           2012-07-26    2013-03-25    221.0       23.0          0.0   \n",
       "25903           2012-07-26    2012-07-26      0.0        0.0          0.0   \n",
       "25933           2013-01-10    2013-11-17      0.0        0.0          0.0   \n",
       "25998           2012-07-26    2012-07-26      0.0        0.0          0.0   \n",
       "26012           2012-07-26    2012-07-26      0.0        0.0          0.0   \n",
       "26106           2012-07-27    2012-07-27      0.0        0.0          0.0   \n",
       "26627           2012-07-27    2012-07-27      0.0        0.0          0.0   \n",
       "27028           2012-07-27    2012-07-27      0.0        0.0          0.0   \n",
       "27446           2013-05-19    2013-05-19     15.0        1.0          3.0   \n",
       "...      ...           ...           ...      ...        ...          ...   \n",
       "636821          2013-08-20    2013-08-20     13.0        1.0          0.0   \n",
       "636910          2013-08-20    2013-08-20      6.0        1.0          0.0   \n",
       "637165          2013-08-21    2013-08-21      0.0        0.0          0.0   \n",
       "637177          2013-08-21    2013-08-21     80.0        1.0          0.0   \n",
       "637356          2013-08-22    2013-08-22      5.0        1.0          0.0   \n",
       "637624          2013-08-23    2013-08-28      1.0        1.0          0.0   \n",
       "637691          2013-08-24    2013-09-03     33.0        2.0          0.0   \n",
       "637986          2013-08-25    2013-08-25     86.0        1.0          0.0   \n",
       "638641          2013-08-28    2013-08-28      0.0        0.0          0.0   \n",
       "638812          2013-08-28    2013-08-28      0.0        0.0          0.0   \n",
       "638962          2013-08-31    2013-08-31      3.0        1.0          0.0   \n",
       "639027          2013-08-29    2013-08-31     64.0        3.0          0.0   \n",
       "639071          2013-08-29    2013-09-03      3.0        1.0          0.0   \n",
       "639235          2013-08-30    2013-08-30      0.0        0.0          0.0   \n",
       "639251          2013-08-30    2013-08-30      1.0        1.0          0.0   \n",
       "639258          2013-08-30    2013-08-30      0.0        0.0          0.0   \n",
       "639325          2013-09-05    2013-09-05     15.0        1.0          0.0   \n",
       "639470          2013-08-31    2013-08-31     13.0        1.0          0.0   \n",
       "639564          2013-08-31    2013-08-31      0.0        0.0          0.0   \n",
       "639903          2013-09-02    2013-09-02     29.0        1.0          0.0   \n",
       "639957          2013-09-03    2013-09-03     37.0        1.0          0.0   \n",
       "639975          2013-09-02    2013-09-02      0.0        0.0          0.0   \n",
       "639983          2013-09-02    2013-09-02    127.0        1.0          0.0   \n",
       "640045          2013-09-02    2013-09-02      0.0        0.0          0.0   \n",
       "640284          2013-09-03    2013-09-04     13.0        2.0          0.0   \n",
       "640527          2013-09-04    2013-09-05      5.0        2.0          0.0   \n",
       "640549          2013-09-04    2013-09-04      0.0        0.0          0.0   \n",
       "640551          2013-09-04    2013-09-04     44.0        1.0          0.0   \n",
       "640659          2013-09-05    2013-09-05      0.0        0.0          0.0   \n",
       "640960          2013-09-06    2013-09-06     38.0        1.0          0.0   \n",
       "\n",
       "        nchapters  nforum_posts  \n",
       "19455         2.0             0  \n",
       "19561         2.0             0  \n",
       "19647         2.0             0  \n",
       "19863         3.0             0  \n",
       "20775         0.0             0  \n",
       "20946         0.0             0  \n",
       "20956         0.0             0  \n",
       "21640         0.0             0  \n",
       "21891         0.0             0  \n",
       "21956         1.0             0  \n",
       "21996         0.0             0  \n",
       "22106         0.0             0  \n",
       "22955         2.0             0  \n",
       "23098         0.0             0  \n",
       "23515         0.0             0  \n",
       "24101         0.0             0  \n",
       "24151         2.0             0  \n",
       "24567         6.0             0  \n",
       "24945         3.0             0  \n",
       "25672         0.0             0  \n",
       "25783         0.0             0  \n",
       "25837        12.0             0  \n",
       "25903         0.0             0  \n",
       "25933         0.0             0  \n",
       "25998         0.0             0  \n",
       "26012         0.0             0  \n",
       "26106         0.0             0  \n",
       "26627         0.0             0  \n",
       "27028         0.0             0  \n",
       "27446         1.0             0  \n",
       "...           ...           ...  \n",
       "636821        1.0             0  \n",
       "636910        1.0             0  \n",
       "637165        0.0             0  \n",
       "637177        2.0             0  \n",
       "637356        1.0             0  \n",
       "637624        0.0             0  \n",
       "637691        1.0             0  \n",
       "637986        2.0             0  \n",
       "638641        0.0             0  \n",
       "638812        0.0             0  \n",
       "638962        0.0             0  \n",
       "639027        4.0             0  \n",
       "639071        1.0             0  \n",
       "639235        0.0             0  \n",
       "639251        0.0             0  \n",
       "639258        0.0             0  \n",
       "639325        2.0             0  \n",
       "639470        3.0             0  \n",
       "639564        0.0             0  \n",
       "639903        3.0             0  \n",
       "639957        3.0             0  \n",
       "639975        0.0             0  \n",
       "639983        2.0             0  \n",
       "640045        0.0             0  \n",
       "640284        0.0             0  \n",
       "640527        1.0             0  \n",
       "640549        0.0             0  \n",
       "640551        4.0             0  \n",
       "640659        0.0             0  \n",
       "640960        3.0             0  \n",
       "\n",
       "[7306 rows x 17 columns]"
      ]
     },
     "execution_count": 31,
     "metadata": {},
     "output_type": "execute_result"
    }
   ],
   "source": [
    "# records with the grade value in blank\n",
    "df[df.grade == ' ']"
   ]
  },
  {
   "cell_type": "code",
   "execution_count": 32,
   "metadata": {
    "scrolled": true
   },
   "outputs": [
    {
     "data": {
      "text/plain": [
       "0       331485\n",
       "0.01     15574\n",
       "0.0      13526\n",
       "0.02      4235\n",
       "0.03      3620\n",
       "0.04      3186\n",
       "0.05      1787\n",
       "0.06      1675\n",
       "1         1604\n",
       "0.07      1055\n",
       "0.09      1014\n",
       "0.08       834\n",
       "0.1        630\n",
       "0.13       606\n",
       "0.12       547\n",
       "0.11       542\n",
       "0.89       461\n",
       "0.88       436\n",
       "0.91       435\n",
       "0.9        419\n",
       "0.15       408\n",
       "0.14       405\n",
       "0.93       400\n",
       "0.96       393\n",
       "0.94       388\n",
       "0.87       388\n",
       "0.86       386\n",
       "0.97       377\n",
       "0.16       374\n",
       "0.92       364\n",
       "         ...  \n",
       "0.34       191\n",
       "0.61       190\n",
       "0.63       189\n",
       "0.65       189\n",
       "0.6        186\n",
       "0.38       184\n",
       "0.4        180\n",
       "0.37       172\n",
       "0.36       169\n",
       "0.35       168\n",
       "0.56       145\n",
       "0.42       145\n",
       "0.57       141\n",
       "0.46       141\n",
       "0.45       140\n",
       "0.55       139\n",
       "0.5        135\n",
       "0.59       128\n",
       "0.51       126\n",
       "0.47       125\n",
       "0.53       124\n",
       "0.41       123\n",
       "0.43       122\n",
       "0.58       117\n",
       "0.54       115\n",
       "0.52       114\n",
       "0.44       108\n",
       "0.48       104\n",
       "0.49        92\n",
       "1.01         5\n",
       "Name: grade, Length: 103, dtype: int64"
      ]
     },
     "execution_count": 32,
     "metadata": {},
     "output_type": "execute_result"
    }
   ],
   "source": [
    "# drop records of grade values in blank\n",
    "df = df[df.grade != ' ']\n",
    "df.grade.value_counts()"
   ]
  },
  {
   "cell_type": "code",
   "execution_count": 33,
   "metadata": {},
   "outputs": [],
   "source": [
    "# drop unreliable values where the value is 1.01\n",
    "df = df[df.grade != '1.01']"
   ]
  },
  {
   "cell_type": "code",
   "execution_count": 34,
   "metadata": {
    "scrolled": true
   },
   "outputs": [],
   "source": [
    "# Convert variable 'grade' from object type to numerical type\n",
    "df['grade'] = pd.to_numeric(df.grade)"
   ]
  },
  {
   "cell_type": "code",
   "execution_count": 35,
   "metadata": {
    "scrolled": true
   },
   "outputs": [
    {
     "data": {
      "text/plain": [
       "0.00    345011\n",
       "0.01     15574\n",
       "0.02      4235\n",
       "0.03      3620\n",
       "0.04      3186\n",
       "0.05      1787\n",
       "0.06      1675\n",
       "1.00      1604\n",
       "0.07      1055\n",
       "0.09      1014\n",
       "0.08       834\n",
       "0.10       630\n",
       "0.13       606\n",
       "0.12       547\n",
       "0.11       542\n",
       "0.89       461\n",
       "0.88       436\n",
       "0.91       435\n",
       "0.90       419\n",
       "0.15       408\n",
       "0.14       405\n",
       "0.93       400\n",
       "0.96       393\n",
       "0.87       388\n",
       "0.94       388\n",
       "0.86       386\n",
       "0.97       377\n",
       "0.16       374\n",
       "0.92       364\n",
       "0.99       361\n",
       "         ...  \n",
       "0.39       192\n",
       "0.34       191\n",
       "0.61       190\n",
       "0.65       189\n",
       "0.63       189\n",
       "0.60       186\n",
       "0.38       184\n",
       "0.40       180\n",
       "0.37       172\n",
       "0.36       169\n",
       "0.35       168\n",
       "0.56       145\n",
       "0.42       145\n",
       "0.57       141\n",
       "0.46       141\n",
       "0.45       140\n",
       "0.55       139\n",
       "0.50       135\n",
       "0.59       128\n",
       "0.51       126\n",
       "0.47       125\n",
       "0.53       124\n",
       "0.41       123\n",
       "0.43       122\n",
       "0.58       117\n",
       "0.54       115\n",
       "0.52       114\n",
       "0.44       108\n",
       "0.48       104\n",
       "0.49        92\n",
       "Name: grade, Length: 101, dtype: int64"
      ]
     },
     "execution_count": 35,
     "metadata": {},
     "output_type": "execute_result"
    }
   ],
   "source": [
    "df.grade.value_counts()"
   ]
  },
  {
   "cell_type": "code",
   "execution_count": 36,
   "metadata": {
    "scrolled": true
   },
   "outputs": [
    {
     "data": {
      "text/plain": [
       "count    403124.000000\n",
       "mean          0.038242\n",
       "std           0.159782\n",
       "min           0.000000\n",
       "25%           0.000000\n",
       "50%           0.000000\n",
       "75%           0.000000\n",
       "max           1.000000\n",
       "Name: grade, dtype: float64"
      ]
     },
     "execution_count": 36,
     "metadata": {},
     "output_type": "execute_result"
    }
   ],
   "source": [
    "df.grade.describe()"
   ]
  },
  {
   "cell_type": "markdown",
   "metadata": {},
   "source": [
    "After cleaning, the min of grade is 0 and the max is 1, looks good"
   ]
  },
  {
   "cell_type": "code",
   "execution_count": 37,
   "metadata": {},
   "outputs": [],
   "source": [
    "# convert 'YoB', 'nevents', 'ndays_act', 'nplay_video' and 'nplay_video'  to int\n",
    "df['YoB'] = df['YoB'].astype('int')\n",
    "df['nevents'] = df['nevents'].astype(int)\n",
    "df['ndays_act'] = df['ndays_act'].astype(int)\n",
    "df['nplay_video'] = df['nplay_video'].astype(int)\n",
    "df['nchapters'] = df['nchapters'].astype(int)"
   ]
  },
  {
   "cell_type": "code",
   "execution_count": 38,
   "metadata": {
    "scrolled": true
   },
   "outputs": [
    {
     "data": {
      "text/plain": [
       "course_id             object\n",
       "userid_DI             object\n",
       "viewed                 int64\n",
       "explored               int64\n",
       "certified              int64\n",
       "final_cc_cname_DI     object\n",
       "LoE_DI                object\n",
       "YoB                    int64\n",
       "gender                object\n",
       "grade                float64\n",
       "start_time_DI         object\n",
       "last_event_DI         object\n",
       "nevents                int64\n",
       "ndays_act              int64\n",
       "nplay_video            int64\n",
       "nchapters              int64\n",
       "nforum_posts           int64\n",
       "dtype: object"
      ]
     },
     "execution_count": 38,
     "metadata": {},
     "output_type": "execute_result"
    }
   ],
   "source": [
    "df.dtypes"
   ]
  },
  {
   "cell_type": "markdown",
   "metadata": {},
   "source": [
    "We  will save te cleaned dataset to 'hmx_cleaned.csv' for exploration later."
   ]
  },
  {
   "cell_type": "code",
   "execution_count": 39,
   "metadata": {},
   "outputs": [],
   "source": [
    "df.to_csv('hmx_cleaned.csv', index=False)"
   ]
  },
  {
   "cell_type": "markdown",
   "metadata": {},
   "source": [
    "### Reloading and Accessing Data"
   ]
  },
  {
   "cell_type": "code",
   "execution_count": 40,
   "metadata": {},
   "outputs": [],
   "source": [
    "# import all packages and set plots to be embedded inline\n",
    "import numpy as np\n",
    "import pandas as pd\n",
    "import matplotlib.pyplot as plt\n",
    "import seaborn as sb\n",
    "\n",
    "%matplotlib inline"
   ]
  },
  {
   "cell_type": "code",
   "execution_count": 41,
   "metadata": {
    "scrolled": true
   },
   "outputs": [
    {
     "data": {
      "text/html": [
       "<div>\n",
       "<style scoped>\n",
       "    .dataframe tbody tr th:only-of-type {\n",
       "        vertical-align: middle;\n",
       "    }\n",
       "\n",
       "    .dataframe tbody tr th {\n",
       "        vertical-align: top;\n",
       "    }\n",
       "\n",
       "    .dataframe thead th {\n",
       "        text-align: right;\n",
       "    }\n",
       "</style>\n",
       "<table border=\"1\" class=\"dataframe\">\n",
       "  <thead>\n",
       "    <tr style=\"text-align: right;\">\n",
       "      <th></th>\n",
       "      <th>course_id</th>\n",
       "      <th>userid_DI</th>\n",
       "      <th>viewed</th>\n",
       "      <th>explored</th>\n",
       "      <th>certified</th>\n",
       "      <th>final_cc_cname_DI</th>\n",
       "      <th>LoE_DI</th>\n",
       "      <th>YoB</th>\n",
       "      <th>gender</th>\n",
       "      <th>grade</th>\n",
       "      <th>start_time_DI</th>\n",
       "      <th>last_event_DI</th>\n",
       "      <th>nevents</th>\n",
       "      <th>ndays_act</th>\n",
       "      <th>nplay_video</th>\n",
       "      <th>nchapters</th>\n",
       "      <th>nforum_posts</th>\n",
       "    </tr>\n",
       "  </thead>\n",
       "  <tbody>\n",
       "    <tr>\n",
       "      <th>0</th>\n",
       "      <td>HarvardX/CS50x/2012</td>\n",
       "      <td>MHxPC130288276</td>\n",
       "      <td>0</td>\n",
       "      <td>0</td>\n",
       "      <td>0</td>\n",
       "      <td>United States</td>\n",
       "      <td>Secondary</td>\n",
       "      <td>2012</td>\n",
       "      <td>m</td>\n",
       "      <td>0.0</td>\n",
       "      <td>2013-08-30</td>\n",
       "      <td>2013-08-30</td>\n",
       "      <td>0</td>\n",
       "      <td>0</td>\n",
       "      <td>0</td>\n",
       "      <td>0</td>\n",
       "      <td>0</td>\n",
       "    </tr>\n",
       "    <tr>\n",
       "      <th>1</th>\n",
       "      <td>HarvardX/CS50x/2012</td>\n",
       "      <td>MHxPC130422039</td>\n",
       "      <td>0</td>\n",
       "      <td>0</td>\n",
       "      <td>0</td>\n",
       "      <td>Unknown/Other</td>\n",
       "      <td>Secondary</td>\n",
       "      <td>1987</td>\n",
       "      <td>m</td>\n",
       "      <td>0.0</td>\n",
       "      <td>2012-07-24</td>\n",
       "      <td>2012-07-24</td>\n",
       "      <td>0</td>\n",
       "      <td>0</td>\n",
       "      <td>0</td>\n",
       "      <td>0</td>\n",
       "      <td>0</td>\n",
       "    </tr>\n",
       "    <tr>\n",
       "      <th>2</th>\n",
       "      <td>HarvardX/CS50x/2012</td>\n",
       "      <td>MHxPC130407931</td>\n",
       "      <td>0</td>\n",
       "      <td>0</td>\n",
       "      <td>0</td>\n",
       "      <td>United States</td>\n",
       "      <td>Secondary</td>\n",
       "      <td>1968</td>\n",
       "      <td>f</td>\n",
       "      <td>0.0</td>\n",
       "      <td>2012-07-24</td>\n",
       "      <td>2012-07-24</td>\n",
       "      <td>0</td>\n",
       "      <td>0</td>\n",
       "      <td>0</td>\n",
       "      <td>0</td>\n",
       "      <td>0</td>\n",
       "    </tr>\n",
       "    <tr>\n",
       "      <th>3</th>\n",
       "      <td>HarvardX/PH207x/2012_Fall</td>\n",
       "      <td>MHxPC130313697</td>\n",
       "      <td>0</td>\n",
       "      <td>0</td>\n",
       "      <td>0</td>\n",
       "      <td>India</td>\n",
       "      <td>Bachelor's</td>\n",
       "      <td>1989</td>\n",
       "      <td>m</td>\n",
       "      <td>0.0</td>\n",
       "      <td>2012-07-24</td>\n",
       "      <td>2013-07-27</td>\n",
       "      <td>6</td>\n",
       "      <td>3</td>\n",
       "      <td>0</td>\n",
       "      <td>0</td>\n",
       "      <td>0</td>\n",
       "    </tr>\n",
       "    <tr>\n",
       "      <th>4</th>\n",
       "      <td>HarvardX/CS50x/2012</td>\n",
       "      <td>MHxPC130064950</td>\n",
       "      <td>0</td>\n",
       "      <td>0</td>\n",
       "      <td>0</td>\n",
       "      <td>Unknown/Other</td>\n",
       "      <td>Master's</td>\n",
       "      <td>1978</td>\n",
       "      <td>m</td>\n",
       "      <td>0.0</td>\n",
       "      <td>2012-07-24</td>\n",
       "      <td>2012-07-24</td>\n",
       "      <td>0</td>\n",
       "      <td>0</td>\n",
       "      <td>0</td>\n",
       "      <td>0</td>\n",
       "      <td>0</td>\n",
       "    </tr>\n",
       "  </tbody>\n",
       "</table>\n",
       "</div>"
      ],
      "text/plain": [
       "                   course_id       userid_DI  viewed  explored  certified  \\\n",
       "0        HarvardX/CS50x/2012  MHxPC130288276       0         0          0   \n",
       "1        HarvardX/CS50x/2012  MHxPC130422039       0         0          0   \n",
       "2        HarvardX/CS50x/2012  MHxPC130407931       0         0          0   \n",
       "3  HarvardX/PH207x/2012_Fall  MHxPC130313697       0         0          0   \n",
       "4        HarvardX/CS50x/2012  MHxPC130064950       0         0          0   \n",
       "\n",
       "  final_cc_cname_DI      LoE_DI   YoB gender  grade start_time_DI  \\\n",
       "0     United States   Secondary  2012      m    0.0    2013-08-30   \n",
       "1     Unknown/Other   Secondary  1987      m    0.0    2012-07-24   \n",
       "2     United States   Secondary  1968      f    0.0    2012-07-24   \n",
       "3             India  Bachelor's  1989      m    0.0    2012-07-24   \n",
       "4     Unknown/Other    Master's  1978      m    0.0    2012-07-24   \n",
       "\n",
       "  last_event_DI  nevents  ndays_act  nplay_video  nchapters  nforum_posts  \n",
       "0    2013-08-30        0          0            0          0             0  \n",
       "1    2012-07-24        0          0            0          0             0  \n",
       "2    2012-07-24        0          0            0          0             0  \n",
       "3    2013-07-27        6          3            0          0             0  \n",
       "4    2012-07-24        0          0            0          0             0  "
      ]
     },
     "execution_count": 41,
     "metadata": {},
     "output_type": "execute_result"
    }
   ],
   "source": [
    "hmx = pd.read_csv('hmx_cleaned.csv')\n",
    "hmx.head()"
   ]
  },
  {
   "cell_type": "code",
   "execution_count": 42,
   "metadata": {},
   "outputs": [
    {
     "name": "stdout",
     "output_type": "stream",
     "text": [
      "(403124, 17)\n",
      "\n",
      "\n",
      "<class 'pandas.core.frame.DataFrame'>\n",
      "RangeIndex: 403124 entries, 0 to 403123\n",
      "Data columns (total 17 columns):\n",
      "course_id            403124 non-null object\n",
      "userid_DI            403124 non-null object\n",
      "viewed               403124 non-null int64\n",
      "explored             403124 non-null int64\n",
      "certified            403124 non-null int64\n",
      "final_cc_cname_DI    403124 non-null object\n",
      "LoE_DI               403124 non-null object\n",
      "YoB                  403124 non-null int64\n",
      "gender               403124 non-null object\n",
      "grade                403124 non-null float64\n",
      "start_time_DI        403124 non-null object\n",
      "last_event_DI        403124 non-null object\n",
      "nevents              403124 non-null int64\n",
      "ndays_act            403124 non-null int64\n",
      "nplay_video          403124 non-null int64\n",
      "nchapters            403124 non-null int64\n",
      "nforum_posts         403124 non-null int64\n",
      "dtypes: float64(1), int64(9), object(7)\n",
      "memory usage: 52.3+ MB\n",
      "None\n",
      "\n",
      "\n",
      "              viewed       explored      certified            YoB  \\\n",
      "count  403124.000000  403124.000000  403124.000000  403124.000000   \n",
      "mean        0.594554       0.070953       0.033918    1985.277242   \n",
      "std         0.490979       0.256747       0.181017       8.853543   \n",
      "min         0.000000       0.000000       0.000000    1931.000000   \n",
      "25%         0.000000       0.000000       0.000000    1982.000000   \n",
      "50%         1.000000       0.000000       0.000000    1988.000000   \n",
      "75%         1.000000       0.000000       0.000000    1991.000000   \n",
      "max         1.000000       1.000000       1.000000    2013.000000   \n",
      "\n",
      "               grade        nevents      ndays_act    nplay_video  \\\n",
      "count  403124.000000  403124.000000  403124.000000  403124.000000   \n",
      "mean        0.038242     343.617552       4.609671      38.188436   \n",
      "std         0.159782    1301.735515      10.546970     213.703374   \n",
      "min         0.000000       0.000000       0.000000       0.000000   \n",
      "25%         0.000000       1.000000       1.000000       0.000000   \n",
      "50%         0.000000       9.000000       1.000000       0.000000   \n",
      "75%         0.000000     100.000000       3.000000       5.000000   \n",
      "max         1.000000   53180.000000     205.000000   34596.000000   \n",
      "\n",
      "           nchapters   nforum_posts  \n",
      "count  403124.000000  403124.000000  \n",
      "mean        2.290784       0.015861  \n",
      "std         4.158024       0.170309  \n",
      "min         0.000000       0.000000  \n",
      "25%         0.000000       0.000000  \n",
      "50%         1.000000       0.000000  \n",
      "75%         3.000000       0.000000  \n",
      "max        47.000000       6.000000  \n"
     ]
    }
   ],
   "source": [
    "print(hmx.shape)\n",
    "print('\\n')\n",
    "print(hmx.info())\n",
    "print('\\n')\n",
    "print(hmx.describe())"
   ]
  },
  {
   "cell_type": "markdown",
   "metadata": {},
   "source": [
    "### What is the structure of your dataset?\n",
    "The cleaned dataset has 402756 records with 17 variables. Among these 17 variables, 1 are float type, 9 are int type, the other 7 are object type.\n",
    "\n",
    "### What is/are the main feature(s) of interest in your dataset?\n",
    "\n",
    "The feature of interest are 'certified' and 'grade'\n",
    "- certified, represent whether or not a student earns a certificate\n",
    "- grade, is the final grade the student gets from the course, ranges from 0 to 1.\n",
    "\n",
    "### What features in the dataset do you think will help support your investigation into your feature(s) of interest?\n",
    "\n",
    "I assume features below would support the investigation into 'certified' and 'grade':\n",
    "- demographic variables: including age(variable 'YoB'), gender(variable 'gender'), country('final_cc_cname_DI'), level of eduction(variable 'LoE_DI')\n",
    "- student activities variables: like 'nplay_video', 'nforum_posts', etc.\n",
    "\n"
   ]
  },
  {
   "cell_type": "markdown",
   "metadata": {},
   "source": [
    "## Univariate Exploration\n",
    "\n",
    "First we will explore in general how many students are certified and how many are not."
   ]
  },
  {
   "cell_type": "code",
   "execution_count": 43,
   "metadata": {},
   "outputs": [
    {
     "data": {
      "image/png": "[encoded data removed]",
      "text/plain": [
       "<Figure size 432x288 with 1 Axes>"
      ]
     },
     "metadata": {
      "needs_background": "light"
     },
     "output_type": "display_data"
    }
   ],
   "source": [
    "sb.countplot(data=hmx, x='certified');"
   ]
  },
  {
   "cell_type": "markdown",
   "metadata": {},
   "source": [
    "We can see that almost 400000 students are not certified, only less than 20000 are.We will also check the proportion below to have a better understanding."
   ]
  },
  {
   "cell_type": "code",
   "execution_count": 44,
   "metadata": {
    "scrolled": false
   },
   "outputs": [
    {
     "data": {
      "image/png": "[encoded data removed]",
      "text/plain": [
       "<Figure size 432x288 with 1 Axes>"
      ]
     },
     "metadata": {
      "needs_background": "light"
     },
     "output_type": "display_data"
    }
   ],
   "source": [
    "sb.countplot(data=hmx, x='certified')\n",
    "n_records = hmx.shape[0]\n",
    "tick_props = np.arange(0, 1+0.1, 0.1)\n",
    "tick_names = ['{:.1f}'.format(x) for x in tick_props]\n",
    "plt.yticks(tick_props*n_records, tick_names);"
   ]
  },
  {
   "cell_type": "markdown",
   "metadata": {},
   "source": [
    "Only as low as around 3% of the students are certified."
   ]
  },
  {
   "cell_type": "markdown",
   "metadata": {},
   "source": [
    "'grade' is a continuous variable ranges from 0 to 1, we will plot a histogram to check the distribution of this variable."
   ]
  },
  {
   "cell_type": "code",
   "execution_count": 45,
   "metadata": {
    "scrolled": true
   },
   "outputs": [
    {
     "data": {
      "image/png": "[encoded data removed]",
      "text/plain": [
       "<Figure size 864x576 with 4 Axes>"
      ]
     },
     "metadata": {
      "needs_background": "light"
     },
     "output_type": "display_data"
    }
   ],
   "source": [
    "plt.figure(figsize = (12, 8))\n",
    "\n",
    "plt.subplot(2, 2, 1)\n",
    "bins = np.arange(0, 1+0.1, 0.1)\n",
    "plt.hist(data=hmx, x='grade', bins=bins)\n",
    "\n",
    "plt.subplot(2, 2, 2)\n",
    "bins = np.arange(0, 1+0.1, 0.01)\n",
    "plt.hist(data=hmx, x='grade', bins=bins)\n",
    "\n",
    "plt.subplot(2, 2, 3)\n",
    "bins = np.arange(0, 1+0.1, 0.05)\n",
    "plt.hist(data=hmx, x='grade', bins=bins)\n",
    "\n",
    "plt.subplot(2, 2, 4)\n",
    "bins = np.arange(0, 1+0.1, 0.02)\n",
    "plt.hist(data=hmx, x='grade', bins=bins);\n"
   ]
  },
  {
   "cell_type": "markdown",
   "metadata": {},
   "source": [
    "There is a long tail of the histograms, we will apply a square root transform to see how the plots look."
   ]
  },
  {
   "cell_type": "code",
   "execution_count": 46,
   "metadata": {
    "scrolled": true
   },
   "outputs": [
    {
     "data": {
      "text/html": [
       "<div>\n",
       "<style scoped>\n",
       "    .dataframe tbody tr th:only-of-type {\n",
       "        vertical-align: middle;\n",
       "    }\n",
       "\n",
       "    .dataframe tbody tr th {\n",
       "        vertical-align: top;\n",
       "    }\n",
       "\n",
       "    .dataframe thead th {\n",
       "        text-align: right;\n",
       "    }\n",
       "</style>\n",
       "<table border=\"1\" class=\"dataframe\">\n",
       "  <thead>\n",
       "    <tr style=\"text-align: right;\">\n",
       "      <th></th>\n",
       "      <th>course_id</th>\n",
       "      <th>userid_DI</th>\n",
       "      <th>viewed</th>\n",
       "      <th>explored</th>\n",
       "      <th>certified</th>\n",
       "      <th>final_cc_cname_DI</th>\n",
       "      <th>LoE_DI</th>\n",
       "      <th>YoB</th>\n",
       "      <th>gender</th>\n",
       "      <th>grade</th>\n",
       "      <th>start_time_DI</th>\n",
       "      <th>last_event_DI</th>\n",
       "      <th>nevents</th>\n",
       "      <th>ndays_act</th>\n",
       "      <th>nplay_video</th>\n",
       "      <th>nchapters</th>\n",
       "      <th>nforum_posts</th>\n",
       "      <th>grade_sqrt</th>\n",
       "    </tr>\n",
       "  </thead>\n",
       "  <tbody>\n",
       "    <tr>\n",
       "      <th>0</th>\n",
       "      <td>HarvardX/CS50x/2012</td>\n",
       "      <td>MHxPC130288276</td>\n",
       "      <td>0</td>\n",
       "      <td>0</td>\n",
       "      <td>0</td>\n",
       "      <td>United States</td>\n",
       "      <td>Secondary</td>\n",
       "      <td>2012</td>\n",
       "      <td>m</td>\n",
       "      <td>0.0</td>\n",
       "      <td>2013-08-30</td>\n",
       "      <td>2013-08-30</td>\n",
       "      <td>0</td>\n",
       "      <td>0</td>\n",
       "      <td>0</td>\n",
       "      <td>0</td>\n",
       "      <td>0</td>\n",
       "      <td>0.0</td>\n",
       "    </tr>\n",
       "    <tr>\n",
       "      <th>1</th>\n",
       "      <td>HarvardX/CS50x/2012</td>\n",
       "      <td>MHxPC130422039</td>\n",
       "      <td>0</td>\n",
       "      <td>0</td>\n",
       "      <td>0</td>\n",
       "      <td>Unknown/Other</td>\n",
       "      <td>Secondary</td>\n",
       "      <td>1987</td>\n",
       "      <td>m</td>\n",
       "      <td>0.0</td>\n",
       "      <td>2012-07-24</td>\n",
       "      <td>2012-07-24</td>\n",
       "      <td>0</td>\n",
       "      <td>0</td>\n",
       "      <td>0</td>\n",
       "      <td>0</td>\n",
       "      <td>0</td>\n",
       "      <td>0.0</td>\n",
       "    </tr>\n",
       "    <tr>\n",
       "      <th>2</th>\n",
       "      <td>HarvardX/CS50x/2012</td>\n",
       "      <td>MHxPC130407931</td>\n",
       "      <td>0</td>\n",
       "      <td>0</td>\n",
       "      <td>0</td>\n",
       "      <td>United States</td>\n",
       "      <td>Secondary</td>\n",
       "      <td>1968</td>\n",
       "      <td>f</td>\n",
       "      <td>0.0</td>\n",
       "      <td>2012-07-24</td>\n",
       "      <td>2012-07-24</td>\n",
       "      <td>0</td>\n",
       "      <td>0</td>\n",
       "      <td>0</td>\n",
       "      <td>0</td>\n",
       "      <td>0</td>\n",
       "      <td>0.0</td>\n",
       "    </tr>\n",
       "    <tr>\n",
       "      <th>3</th>\n",
       "      <td>HarvardX/PH207x/2012_Fall</td>\n",
       "      <td>MHxPC130313697</td>\n",
       "      <td>0</td>\n",
       "      <td>0</td>\n",
       "      <td>0</td>\n",
       "      <td>India</td>\n",
       "      <td>Bachelor's</td>\n",
       "      <td>1989</td>\n",
       "      <td>m</td>\n",
       "      <td>0.0</td>\n",
       "      <td>2012-07-24</td>\n",
       "      <td>2013-07-27</td>\n",
       "      <td>6</td>\n",
       "      <td>3</td>\n",
       "      <td>0</td>\n",
       "      <td>0</td>\n",
       "      <td>0</td>\n",
       "      <td>0.0</td>\n",
       "    </tr>\n",
       "    <tr>\n",
       "      <th>4</th>\n",
       "      <td>HarvardX/CS50x/2012</td>\n",
       "      <td>MHxPC130064950</td>\n",
       "      <td>0</td>\n",
       "      <td>0</td>\n",
       "      <td>0</td>\n",
       "      <td>Unknown/Other</td>\n",
       "      <td>Master's</td>\n",
       "      <td>1978</td>\n",
       "      <td>m</td>\n",
       "      <td>0.0</td>\n",
       "      <td>2012-07-24</td>\n",
       "      <td>2012-07-24</td>\n",
       "      <td>0</td>\n",
       "      <td>0</td>\n",
       "      <td>0</td>\n",
       "      <td>0</td>\n",
       "      <td>0</td>\n",
       "      <td>0.0</td>\n",
       "    </tr>\n",
       "  </tbody>\n",
       "</table>\n",
       "</div>"
      ],
      "text/plain": [
       "                   course_id       userid_DI  viewed  explored  certified  \\\n",
       "0        HarvardX/CS50x/2012  MHxPC130288276       0         0          0   \n",
       "1        HarvardX/CS50x/2012  MHxPC130422039       0         0          0   \n",
       "2        HarvardX/CS50x/2012  MHxPC130407931       0         0          0   \n",
       "3  HarvardX/PH207x/2012_Fall  MHxPC130313697       0         0          0   \n",
       "4        HarvardX/CS50x/2012  MHxPC130064950       0         0          0   \n",
       "\n",
       "  final_cc_cname_DI      LoE_DI   YoB gender  grade start_time_DI  \\\n",
       "0     United States   Secondary  2012      m    0.0    2013-08-30   \n",
       "1     Unknown/Other   Secondary  1987      m    0.0    2012-07-24   \n",
       "2     United States   Secondary  1968      f    0.0    2012-07-24   \n",
       "3             India  Bachelor's  1989      m    0.0    2012-07-24   \n",
       "4     Unknown/Other    Master's  1978      m    0.0    2012-07-24   \n",
       "\n",
       "  last_event_DI  nevents  ndays_act  nplay_video  nchapters  nforum_posts  \\\n",
       "0    2013-08-30        0          0            0          0             0   \n",
       "1    2012-07-24        0          0            0          0             0   \n",
       "2    2012-07-24        0          0            0          0             0   \n",
       "3    2013-07-27        6          3            0          0             0   \n",
       "4    2012-07-24        0          0            0          0             0   \n",
       "\n",
       "   grade_sqrt  \n",
       "0         0.0  \n",
       "1         0.0  \n",
       "2         0.0  \n",
       "3         0.0  \n",
       "4         0.0  "
      ]
     },
     "execution_count": 46,
     "metadata": {},
     "output_type": "execute_result"
    }
   ],
   "source": [
    "# create a new columns with the grade values transformed in square root\n",
    "hmx['grade_sqrt'] = np.sqrt(hmx['grade'])\n",
    "hmx.head()"
   ]
  },
  {
   "cell_type": "code",
   "execution_count": 47,
   "metadata": {
    "scrolled": true
   },
   "outputs": [
    {
     "data": {
      "image/png": "[encoded data removed]",
      "text/plain": [
       "<Figure size 864x576 with 1 Axes>"
      ]
     },
     "metadata": {
      "needs_background": "light"
     },
     "output_type": "display_data"
    }
   ],
   "source": [
    "plt.figure(figsize=(12, 8))\n",
    "ticks = [0.0, 0.1, 0.2, 0.3, 0.4, 0.4, 0.5, 0.6, 0.7, 0.8, 0.9, 1.0]\n",
    "plt.hist(data=hmx, x='grade_sqrt', bins=99)\n",
    "plt.xticks(ticks);"
   ]
  },
  {
   "cell_type": "markdown",
   "metadata": {},
   "source": [
    "That does not make too much difference, let us also try a cube root transform"
   ]
  },
  {
   "cell_type": "code",
   "execution_count": 48,
   "metadata": {},
   "outputs": [
    {
     "data": {
      "text/html": [
       "<div>\n",
       "<style scoped>\n",
       "    .dataframe tbody tr th:only-of-type {\n",
       "        vertical-align: middle;\n",
       "    }\n",
       "\n",
       "    .dataframe tbody tr th {\n",
       "        vertical-align: top;\n",
       "    }\n",
       "\n",
       "    .dataframe thead th {\n",
       "        text-align: right;\n",
       "    }\n",
       "</style>\n",
       "<table border=\"1\" class=\"dataframe\">\n",
       "  <thead>\n",
       "    <tr style=\"text-align: right;\">\n",
       "      <th></th>\n",
       "      <th>course_id</th>\n",
       "      <th>userid_DI</th>\n",
       "      <th>viewed</th>\n",
       "      <th>explored</th>\n",
       "      <th>certified</th>\n",
       "      <th>final_cc_cname_DI</th>\n",
       "      <th>LoE_DI</th>\n",
       "      <th>YoB</th>\n",
       "      <th>gender</th>\n",
       "      <th>grade</th>\n",
       "      <th>start_time_DI</th>\n",
       "      <th>last_event_DI</th>\n",
       "      <th>nevents</th>\n",
       "      <th>ndays_act</th>\n",
       "      <th>nplay_video</th>\n",
       "      <th>nchapters</th>\n",
       "      <th>nforum_posts</th>\n",
       "      <th>grade_sqrt</th>\n",
       "      <th>grade_cbrt</th>\n",
       "    </tr>\n",
       "  </thead>\n",
       "  <tbody>\n",
       "    <tr>\n",
       "      <th>0</th>\n",
       "      <td>HarvardX/CS50x/2012</td>\n",
       "      <td>MHxPC130288276</td>\n",
       "      <td>0</td>\n",
       "      <td>0</td>\n",
       "      <td>0</td>\n",
       "      <td>United States</td>\n",
       "      <td>Secondary</td>\n",
       "      <td>2012</td>\n",
       "      <td>m</td>\n",
       "      <td>0.0</td>\n",
       "      <td>2013-08-30</td>\n",
       "      <td>2013-08-30</td>\n",
       "      <td>0</td>\n",
       "      <td>0</td>\n",
       "      <td>0</td>\n",
       "      <td>0</td>\n",
       "      <td>0</td>\n",
       "      <td>0.0</td>\n",
       "      <td>0.0</td>\n",
       "    </tr>\n",
       "    <tr>\n",
       "      <th>1</th>\n",
       "      <td>HarvardX/CS50x/2012</td>\n",
       "      <td>MHxPC130422039</td>\n",
       "      <td>0</td>\n",
       "      <td>0</td>\n",
       "      <td>0</td>\n",
       "      <td>Unknown/Other</td>\n",
       "      <td>Secondary</td>\n",
       "      <td>1987</td>\n",
       "      <td>m</td>\n",
       "      <td>0.0</td>\n",
       "      <td>2012-07-24</td>\n",
       "      <td>2012-07-24</td>\n",
       "      <td>0</td>\n",
       "      <td>0</td>\n",
       "      <td>0</td>\n",
       "      <td>0</td>\n",
       "      <td>0</td>\n",
       "      <td>0.0</td>\n",
       "      <td>0.0</td>\n",
       "    </tr>\n",
       "    <tr>\n",
       "      <th>2</th>\n",
       "      <td>HarvardX/CS50x/2012</td>\n",
       "      <td>MHxPC130407931</td>\n",
       "      <td>0</td>\n",
       "      <td>0</td>\n",
       "      <td>0</td>\n",
       "      <td>United States</td>\n",
       "      <td>Secondary</td>\n",
       "      <td>1968</td>\n",
       "      <td>f</td>\n",
       "      <td>0.0</td>\n",
       "      <td>2012-07-24</td>\n",
       "      <td>2012-07-24</td>\n",
       "      <td>0</td>\n",
       "      <td>0</td>\n",
       "      <td>0</td>\n",
       "      <td>0</td>\n",
       "      <td>0</td>\n",
       "      <td>0.0</td>\n",
       "      <td>0.0</td>\n",
       "    </tr>\n",
       "    <tr>\n",
       "      <th>3</th>\n",
       "      <td>HarvardX/PH207x/2012_Fall</td>\n",
       "      <td>MHxPC130313697</td>\n",
       "      <td>0</td>\n",
       "      <td>0</td>\n",
       "      <td>0</td>\n",
       "      <td>India</td>\n",
       "      <td>Bachelor's</td>\n",
       "      <td>1989</td>\n",
       "      <td>m</td>\n",
       "      <td>0.0</td>\n",
       "      <td>2012-07-24</td>\n",
       "      <td>2013-07-27</td>\n",
       "      <td>6</td>\n",
       "      <td>3</td>\n",
       "      <td>0</td>\n",
       "      <td>0</td>\n",
       "      <td>0</td>\n",
       "      <td>0.0</td>\n",
       "      <td>0.0</td>\n",
       "    </tr>\n",
       "    <tr>\n",
       "      <th>4</th>\n",
       "      <td>HarvardX/CS50x/2012</td>\n",
       "      <td>MHxPC130064950</td>\n",
       "      <td>0</td>\n",
       "      <td>0</td>\n",
       "      <td>0</td>\n",
       "      <td>Unknown/Other</td>\n",
       "      <td>Master's</td>\n",
       "      <td>1978</td>\n",
       "      <td>m</td>\n",
       "      <td>0.0</td>\n",
       "      <td>2012-07-24</td>\n",
       "      <td>2012-07-24</td>\n",
       "      <td>0</td>\n",
       "      <td>0</td>\n",
       "      <td>0</td>\n",
       "      <td>0</td>\n",
       "      <td>0</td>\n",
       "      <td>0.0</td>\n",
       "      <td>0.0</td>\n",
       "    </tr>\n",
       "  </tbody>\n",
       "</table>\n",
       "</div>"
      ],
      "text/plain": [
       "                   course_id       userid_DI  viewed  explored  certified  \\\n",
       "0        HarvardX/CS50x/2012  MHxPC130288276       0         0          0   \n",
       "1        HarvardX/CS50x/2012  MHxPC130422039       0         0          0   \n",
       "2        HarvardX/CS50x/2012  MHxPC130407931       0         0          0   \n",
       "3  HarvardX/PH207x/2012_Fall  MHxPC130313697       0         0          0   \n",
       "4        HarvardX/CS50x/2012  MHxPC130064950       0         0          0   \n",
       "\n",
       "  final_cc_cname_DI      LoE_DI   YoB gender  grade start_time_DI  \\\n",
       "0     United States   Secondary  2012      m    0.0    2013-08-30   \n",
       "1     Unknown/Other   Secondary  1987      m    0.0    2012-07-24   \n",
       "2     United States   Secondary  1968      f    0.0    2012-07-24   \n",
       "3             India  Bachelor's  1989      m    0.0    2012-07-24   \n",
       "4     Unknown/Other    Master's  1978      m    0.0    2012-07-24   \n",
       "\n",
       "  last_event_DI  nevents  ndays_act  nplay_video  nchapters  nforum_posts  \\\n",
       "0    2013-08-30        0          0            0          0             0   \n",
       "1    2012-07-24        0          0            0          0             0   \n",
       "2    2012-07-24        0          0            0          0             0   \n",
       "3    2013-07-27        6          3            0          0             0   \n",
       "4    2012-07-24        0          0            0          0             0   \n",
       "\n",
       "   grade_sqrt  grade_cbrt  \n",
       "0         0.0         0.0  \n",
       "1         0.0         0.0  \n",
       "2         0.0         0.0  \n",
       "3         0.0         0.0  \n",
       "4         0.0         0.0  "
      ]
     },
     "execution_count": 48,
     "metadata": {},
     "output_type": "execute_result"
    }
   ],
   "source": [
    "# create a new columns with the grade values transformed in cute root\n",
    "hmx['grade_cbrt'] = np.sqrt(hmx['grade'])\n",
    "hmx.head()"
   ]
  },
  {
   "cell_type": "code",
   "execution_count": 49,
   "metadata": {
    "scrolled": true
   },
   "outputs": [
    {
     "data": {
      "image/png": "[encoded data removed]",
      "text/plain": [
       "<Figure size 864x576 with 1 Axes>"
      ]
     },
     "metadata": {
      "needs_background": "light"
     },
     "output_type": "display_data"
    }
   ],
   "source": [
    "plt.figure(figsize=(12, 8))\n",
    "plt.hist(data=hmx, x='grade_cbrt', bins=99);"
   ]
  },
  {
   "cell_type": "markdown",
   "metadata": {},
   "source": [
    "A cube root transformation does not make too much differece, either. This could be because there are way too many students with the grade value 0."
   ]
  },
  {
   "cell_type": "markdown",
   "metadata": {},
   "source": [
    "After checking the variables of interest, let's also check some other variables."
   ]
  },
  {
   "cell_type": "code",
   "execution_count": 50,
   "metadata": {
    "scrolled": true
   },
   "outputs": [],
   "source": [
    "# get the dataframe of top 10 country\n",
    "by_country = hmx.groupby('final_cc_cname_DI').count()\n",
    "by_country.reset_index(inplace=True)\n",
    "by_country.sort_values('userid_DI', ascending=False, inplace=True)\n",
    "by_country['count_proportion'] = by_country['userid_DI'] / n_records\n",
    "top10 = by_country.iloc[0:9, ]"
   ]
  },
  {
   "cell_type": "code",
   "execution_count": 51,
   "metadata": {
    "scrolled": true
   },
   "outputs": [
    {
     "data": {
      "image/png": "[encoded data removed]",
      "text/plain": [
       "<Figure size 432x288 with 1 Axes>"
      ]
     },
     "metadata": {
      "needs_background": "light"
     },
     "output_type": "display_data"
    }
   ],
   "source": [
    "# bar chart of top 10 countries\n",
    "ticks = np.arange(0.00, 0.30+0.01, 0.03)\n",
    "plt.barh(y=top10.final_cc_cname_DI, width=top10.count_proportion)\n",
    "plt.gca().invert_yaxis()\n",
    "plt.xticks(ticks);"
   ]
  },
  {
   "cell_type": "markdown",
   "metadata": {},
   "source": [
    "Around 30% students are from US, and about 70% are from overseas. Among those from abroad, about 15% are from India. "
   ]
  },
  {
   "cell_type": "code",
   "execution_count": 52,
   "metadata": {},
   "outputs": [
    {
     "data": {
      "image/png": "[encoded data removed]",
      "text/plain": [
       "<Figure size 432x288 with 1 Axes>"
      ]
     },
     "metadata": {
      "needs_background": "light"
     },
     "output_type": "display_data"
    }
   ],
   "source": [
    "# Level of educatoin\n",
    "n_records = hmx.shape[0]\n",
    "max_value = hmx.LoE_DI.value_counts().max()\n",
    "max_prop = max_value / n_records\n",
    "tick_props = np.arange(0, max_prop+0.01, 0.05)\n",
    "tick_names = ['{:.2f}'.format(x) for x in tick_props]\n",
    "\n",
    "base_color = sb.color_palette()[0]\n",
    "order = ['Less than Secondary','Secondary', \"Bachelor's\", \"Master's\", 'Doctorate']\n",
    "sb.countplot(data=hmx, x='LoE_DI', color=base_color, order=order)\n",
    "plt.xticks(rotation=15)\n",
    "plt.yticks(tick_props*n_records, tick_names);"
   ]
  },
  {
   "cell_type": "markdown",
   "metadata": {},
   "source": [
    "As much as 40% students hold a Bachelor's Degree, while around 20% hold a Master's, 3% hold a Doctorate Degree. That is to say, the mojority of the students have a education level of Bachelor's or higher. We are educating the well educated."
   ]
  },
  {
   "cell_type": "markdown",
   "metadata": {},
   "source": [
    "In order to get va insight of the students age, it is better to convert the year of birth to age. Since some students registered their year of birth infomation in year 2012 while some registered in year 2013, to be accurate, to get the ages of students, we had better substract the year of birth by year of registration. The year of registration can be extracted from the 'start_time_DI' variable."
   ]
  },
  {
   "cell_type": "code",
   "execution_count": 53,
   "metadata": {},
   "outputs": [
    {
     "name": "stdout",
     "output_type": "stream",
     "text": [
      "count    403124.000000\n",
      "mean         27.258536\n",
      "std           8.866568\n",
      "min           0.000000\n",
      "25%          21.000000\n",
      "50%          25.000000\n",
      "75%          30.000000\n",
      "max          82.000000\n",
      "Name: age, dtype: float64\n",
      "\n",
      "\n"
     ]
    },
    {
     "data": {
      "text/html": [
       "<div>\n",
       "<style scoped>\n",
       "    .dataframe tbody tr th:only-of-type {\n",
       "        vertical-align: middle;\n",
       "    }\n",
       "\n",
       "    .dataframe tbody tr th {\n",
       "        vertical-align: top;\n",
       "    }\n",
       "\n",
       "    .dataframe thead th {\n",
       "        text-align: right;\n",
       "    }\n",
       "</style>\n",
       "<table border=\"1\" class=\"dataframe\">\n",
       "  <thead>\n",
       "    <tr style=\"text-align: right;\">\n",
       "      <th></th>\n",
       "      <th>course_id</th>\n",
       "      <th>userid_DI</th>\n",
       "      <th>viewed</th>\n",
       "      <th>explored</th>\n",
       "      <th>certified</th>\n",
       "      <th>final_cc_cname_DI</th>\n",
       "      <th>LoE_DI</th>\n",
       "      <th>YoB</th>\n",
       "      <th>gender</th>\n",
       "      <th>grade</th>\n",
       "      <th>...</th>\n",
       "      <th>last_event_DI</th>\n",
       "      <th>nevents</th>\n",
       "      <th>ndays_act</th>\n",
       "      <th>nplay_video</th>\n",
       "      <th>nchapters</th>\n",
       "      <th>nforum_posts</th>\n",
       "      <th>grade_sqrt</th>\n",
       "      <th>grade_cbrt</th>\n",
       "      <th>start_year</th>\n",
       "      <th>age</th>\n",
       "    </tr>\n",
       "  </thead>\n",
       "  <tbody>\n",
       "    <tr>\n",
       "      <th>0</th>\n",
       "      <td>HarvardX/CS50x/2012</td>\n",
       "      <td>MHxPC130288276</td>\n",
       "      <td>0</td>\n",
       "      <td>0</td>\n",
       "      <td>0</td>\n",
       "      <td>United States</td>\n",
       "      <td>Secondary</td>\n",
       "      <td>2012</td>\n",
       "      <td>m</td>\n",
       "      <td>0.0</td>\n",
       "      <td>...</td>\n",
       "      <td>2013-08-30</td>\n",
       "      <td>0</td>\n",
       "      <td>0</td>\n",
       "      <td>0</td>\n",
       "      <td>0</td>\n",
       "      <td>0</td>\n",
       "      <td>0.0</td>\n",
       "      <td>0.0</td>\n",
       "      <td>2013</td>\n",
       "      <td>1</td>\n",
       "    </tr>\n",
       "  </tbody>\n",
       "</table>\n",
       "<p>1 rows × 21 columns</p>\n",
       "</div>"
      ],
      "text/plain": [
       "             course_id       userid_DI  viewed  explored  certified  \\\n",
       "0  HarvardX/CS50x/2012  MHxPC130288276       0         0          0   \n",
       "\n",
       "  final_cc_cname_DI     LoE_DI   YoB gender  grade  ... last_event_DI nevents  \\\n",
       "0     United States  Secondary  2012      m    0.0  ...    2013-08-30       0   \n",
       "\n",
       "   ndays_act  nplay_video  nchapters  nforum_posts  grade_sqrt  grade_cbrt  \\\n",
       "0          0            0          0             0         0.0         0.0   \n",
       "\n",
       "   start_year  age  \n",
       "0        2013    1  \n",
       "\n",
       "[1 rows x 21 columns]"
      ]
     },
     "execution_count": 53,
     "metadata": {},
     "output_type": "execute_result"
    }
   ],
   "source": [
    "# create age variable\n",
    "hmx['start_year'] = hmx.start_time_DI.apply(lambda x: int(x[:4]))\n",
    "hmx['age'] = hmx['start_year'] - hmx['YoB']\n",
    "print(hmx.age.describe())\n",
    "print('\\n')\n",
    "hmx.head(1)"
   ]
  },
  {
   "cell_type": "code",
   "execution_count": 54,
   "metadata": {
    "scrolled": true
   },
   "outputs": [
    {
     "data": {
      "image/png": "[encoded data removed]",
      "text/plain": [
       "<Figure size 720x432 with 1 Axes>"
      ]
     },
     "metadata": {
      "needs_background": "light"
     },
     "output_type": "display_data"
    }
   ],
   "source": [
    "# distribution of age\n",
    "plt.figure(figsize=(10,6))\n",
    "max_age = hmx.age.max()\n",
    "min_age = hmx.age.min()\n",
    "\n",
    "bins = np.arange(0, max_age+1, 1)\n",
    "ticks = np.arange(8, max_age+1, 2)\n",
    "plt.hist(data=hmx, x='age', bins=bins)\n",
    "plt.xticks(ticks)\n",
    "plt.xlim(8, 82);"
   ]
  },
  {
   "cell_type": "markdown",
   "metadata": {},
   "source": [
    "The peak appears at age 22-24. And there is a long tail at the age > 50."
   ]
  },
  {
   "cell_type": "markdown",
   "metadata": {},
   "source": [
    "Next we will look at gender variable to see the proportion of male and female"
   ]
  },
  {
   "cell_type": "code",
   "execution_count": 55,
   "metadata": {},
   "outputs": [
    {
     "data": {
      "text/plain": [
       "m    298802\n",
       "f    104322\n",
       "Name: gender, dtype: int64"
      ]
     },
     "execution_count": 55,
     "metadata": {},
     "output_type": "execute_result"
    }
   ],
   "source": [
    "hmx.gender.value_counts()"
   ]
  },
  {
   "cell_type": "code",
   "execution_count": 56,
   "metadata": {
    "scrolled": true
   },
   "outputs": [
    {
     "data": {
      "image/png": "[encoded data removed]",
      "text/plain": [
       "<Figure size 432x288 with 1 Axes>"
      ]
     },
     "metadata": {
      "needs_background": "light"
     },
     "output_type": "display_data"
    }
   ],
   "source": [
    "sb.countplot(data=hmx, x='gender')\n",
    "n_records = hmx.shape[0]\n",
    "tick_props = np.arange(0, 1+0.1, 0.1)\n",
    "tick_names = ['{:.1f}'.format(x) for x in tick_props]\n",
    "plt.yticks(tick_props*n_records, tick_names);"
   ]
  },
  {
   "cell_type": "markdown",
   "metadata": {},
   "source": [
    "About 75% of the students are male and only about 25% are female."
   ]
  },
  {
   "cell_type": "markdown",
   "metadata": {},
   "source": [
    "At last, we will check the distribution of the student activity variables."
   ]
  },
  {
   "cell_type": "code",
   "execution_count": 57,
   "metadata": {},
   "outputs": [
    {
     "data": {
      "image/png": "[encoded data removed]",
      "text/plain": [
       "<Figure size 1440x720 with 5 Axes>"
      ]
     },
     "metadata": {
      "needs_background": "light"
     },
     "output_type": "display_data"
    }
   ],
   "source": [
    "plt.figure(figsize=(20,10))\n",
    "\n",
    "plt.subplot(3, 2, 1)\n",
    "plt.hist(data=hmx, x='nevents', bins=50)\n",
    "plt.xlabel('Number of events')\n",
    "\n",
    "plt.subplot(3, 2, 2)\n",
    "plt.hist(data=hmx, x='ndays_act', bins=50)\n",
    "plt.xlabel('Number of days')\n",
    "\n",
    "plt.subplot(3, 2, 3)\n",
    "plt.hist(data=hmx, x='nplay_video', bins=50)\n",
    "plt.xlabel('Number of videos played')\n",
    "\n",
    "plt.subplot(3, 2, 4)\n",
    "plt.hist(data=hmx, x='nchapters', bins=40)\n",
    "plt.xlabel('Number of chapters')\n",
    "\n",
    "plt.subplot(3, 2, 5)\n",
    "plt.hist(data=hmx, x='nforum_posts')\n",
    "plt.xlabel('Number of posts');"
   ]
  },
  {
   "cell_type": "markdown",
   "metadata": {},
   "source": [
    "Regarding the number of activity, the majority is 0, this is not surprising based on the earlier exploration"
   ]
  },
  {
   "cell_type": "markdown",
   "metadata": {},
   "source": [
    "### Discuss the distribution(s) of your variable(s) of interest. Were there any unusual points? Did you need to perform any transformations?\n",
    "\n",
    "- certified: this variable is greatly unbalanced, nearly 97% are with a value 0.\n",
    "- grade: the grade variable is seriously right skewed. We first tried a square root transformation, which does not help too much, then we tried a cute root transform, that does not change too much either. This could be because there are too many grades with a value of 0, comparatively makes it the transformation does not work well \n",
    "\n",
    "### Of the features you investigated, were there any unusual distributions? Did you perform any operations on the data to tidy, adjust, or change the form of the data? If so, why did you do this?\n",
    "\n",
    "- country: 30% of the students are from US, about 15% are from India. It's surprising that UK and Brazil are also among the top 10 countries, with about 3% students each, while China with the largest population lags behind.\n",
    "- education level: The majority of the students have a education level of bachelar's degree or high. Which is to say, we are educating the well educated through MOOCs.\n",
    "- age: Since there is no column of age, we need to get this info. by subtracting year of birth with year of start. In the data cleaning section, we has to drop some records since the reported age to too small to be able to take courses, like there are 0 or 1 years old, that's unreliable. There are a few outliers of more than 80 years old, that may look not right, but we leave them as they are, we are not sure that people more than 80 years old could not be taking MOOCs. With the remained records, we see the distribution is right biased, with a peak near age 22-24, tail at age 50+.\n",
    "- gender: about 75% students are male, almoast 3 times the number of female.This is a little surprising. We did nit imagine that  would be such a big gap by gender.\n",
    "- activity variables: based on the exploration above, especially for certified and grade, it is not surprising that all the activity variables are right scewed, most of the values are 0."
   ]
  },
  {
   "cell_type": "code",
   "execution_count": 58,
   "metadata": {},
   "outputs": [
    {
     "name": "stdout",
     "output_type": "stream",
     "text": [
      "<class 'pandas.core.frame.DataFrame'>\n",
      "RangeIndex: 403124 entries, 0 to 403123\n",
      "Data columns (total 21 columns):\n",
      "course_id            403124 non-null object\n",
      "userid_DI            403124 non-null object\n",
      "viewed               403124 non-null int64\n",
      "explored             403124 non-null int64\n",
      "certified            403124 non-null int64\n",
      "final_cc_cname_DI    403124 non-null object\n",
      "LoE_DI               403124 non-null object\n",
      "YoB                  403124 non-null int64\n",
      "gender               403124 non-null object\n",
      "grade                403124 non-null float64\n",
      "start_time_DI        403124 non-null object\n",
      "last_event_DI        403124 non-null object\n",
      "nevents              403124 non-null int64\n",
      "ndays_act            403124 non-null int64\n",
      "nplay_video          403124 non-null int64\n",
      "nchapters            403124 non-null int64\n",
      "nforum_posts         403124 non-null int64\n",
      "grade_sqrt           403124 non-null float64\n",
      "grade_cbrt           403124 non-null float64\n",
      "start_year           403124 non-null int64\n",
      "age                  403124 non-null int64\n",
      "dtypes: float64(3), int64(11), object(7)\n",
      "memory usage: 64.6+ MB\n"
     ]
    }
   ],
   "source": [
    "hmx.info()"
   ]
  },
  {
   "cell_type": "markdown",
   "metadata": {},
   "source": [
    "## Bivariate Exploration\n",
    "\n",
    "Next, we will explore relationship between two variables"
   ]
  },
  {
   "cell_type": "code",
   "execution_count": 59,
   "metadata": {
    "scrolled": true
   },
   "outputs": [
    {
     "data": {
      "image/png": "[encoded data removed]",
      "text/plain": [
       "<Figure size 432x288 with 1 Axes>"
      ]
     },
     "metadata": {
      "needs_background": "light"
     },
     "output_type": "display_data"
    }
   ],
   "source": [
    "# scatter plot of grade VS nevents\n",
    "\n",
    "plt.scatter(data=hmx, x='nevents', y='grade', alpha=0.05);"
   ]
  },
  {
   "cell_type": "code",
   "execution_count": 60,
   "metadata": {
    "scrolled": true
   },
   "outputs": [
    {
     "data": {
      "image/png": "[encoded data removed]",
      "text/plain": [
       "<Figure size 432x288 with 1 Axes>"
      ]
     },
     "metadata": {
      "needs_background": "light"
     },
     "output_type": "display_data"
    }
   ],
   "source": [
    "# scatter plot of grade VS age\n",
    "\n",
    "plt.scatter(data=hmx, x='age', y='grade',alpha=0.05);"
   ]
  },
  {
   "cell_type": "code",
   "execution_count": 61,
   "metadata": {},
   "outputs": [
    {
     "data": {
      "image/png": "[encoded data removed]",
      "text/plain": [
       "<Figure size 432x288 with 1 Axes>"
      ]
     },
     "metadata": {
      "needs_background": "light"
     },
     "output_type": "display_data"
    }
   ],
   "source": [
    "# certified by level of education\n",
    "order = ['Less than Secondary','Secondary', \"Bachelor's\", \"Master's\", 'Doctorate']\n",
    "sb.countplot(data=hmx, x='LoE_DI', hue='certified', order=order)\n",
    "plt.xticks(rotation=15);"
   ]
  },
  {
   "cell_type": "code",
   "execution_count": 62,
   "metadata": {
    "scrolled": true
   },
   "outputs": [
    {
     "data": {
      "image/png": "[encoded data removed]",
      "text/plain": [
       "<Figure size 432x288 with 1 Axes>"
      ]
     },
     "metadata": {
      "needs_background": "light"
     },
     "output_type": "display_data"
    }
   ],
   "source": [
    "# certified by gender\n",
    "sb.countplot(data=hmx, x='gender', hue='certified');"
   ]
  },
  {
   "cell_type": "code",
   "execution_count": 63,
   "metadata": {
    "scrolled": true
   },
   "outputs": [
    {
     "data": {
      "image/png": "[encoded data removed]",
      "text/plain": [
       "<Figure size 432x288 with 1 Axes>"
      ]
     },
     "metadata": {
      "needs_background": "light"
     },
     "output_type": "display_data"
    }
   ],
   "source": [
    "# gender by level of education\n",
    "order = ['Less than Secondary','Secondary', \"Bachelor's\", \"Master's\", 'Doctorate']\n",
    "sb.countplot(data=hmx, x='LoE_DI', hue='gender', order=order)\n",
    "plt.xticks(rotation=15);"
   ]
  },
  {
   "cell_type": "code",
   "execution_count": 64,
   "metadata": {},
   "outputs": [
    {
     "data": {
      "image/png": "[encoded data removed]",
      "text/plain": [
       "<Figure size 432x432 with 1 Axes>"
      ]
     },
     "metadata": {
      "needs_background": "light"
     },
     "output_type": "display_data"
    }
   ],
   "source": [
    "# boxplot of age distribution by gender\n",
    "plt.figure(figsize=(6, 6))\n",
    "sb.boxplot(data=hmx, x='gender', y='age');"
   ]
  },
  {
   "cell_type": "markdown",
   "metadata": {},
   "source": [
    "### Talk about some of the relationships you observed in this part of the investigation. How did the feature(s) of interest vary with other features in the dataset?\n",
    "\n",
    "Although it is that obvious, seems like that more nevents, the more likely the grade is higher; Students around 20-30 years old are more likely to get a higher grade.\n",
    "\n",
    "### Did you observe any interesting relationships between the other features (not the main feature(s) of interest)?\n",
    "\n",
    "The age of female students is a little higher than male students. "
   ]
  },
  {
   "cell_type": "markdown",
   "metadata": {},
   "source": [
    "## Multivariate Exploration\n"
   ]
  },
  {
   "cell_type": "code",
   "execution_count": 65,
   "metadata": {
    "scrolled": true
   },
   "outputs": [
    {
     "data": {
      "image/png": "[encoded data removed]",
      "text/plain": [
       "<Figure size 288x288 with 1 Axes>"
      ]
     },
     "metadata": {
      "needs_background": "light"
     },
     "output_type": "display_data"
    }
   ],
   "source": [
    "# scatter plot of grade VS nevents by certified\n",
    "g = sb.FacetGrid(data = hmx, hue = 'certified', height=4)\n",
    "g.map(plt.scatter, 'nevents', 'grade', alpha=0.05);"
   ]
  },
  {
   "cell_type": "code",
   "execution_count": 66,
   "metadata": {
    "scrolled": true
   },
   "outputs": [
    {
     "data": {
      "image/png": "[encoded data removed]",
      "text/plain": [
       "<Figure size 288x288 with 1 Axes>"
      ]
     },
     "metadata": {
      "needs_background": "light"
     },
     "output_type": "display_data"
    }
   ],
   "source": [
    "# scatter plot of grade VS age by certified\n",
    "g = sb.FacetGrid(data = hmx, hue = 'certified', height=4)\n",
    "g.map(plt.scatter, 'age', 'grade',alpha=0.05);"
   ]
  },
  {
   "cell_type": "code",
   "execution_count": 67,
   "metadata": {
    "scrolled": true
   },
   "outputs": [
    {
     "data": {
      "image/png": "[encoded data removed]",
      "text/plain": [
       "<Figure size 864x576 with 1 Axes>"
      ]
     },
     "metadata": {
      "needs_background": "light"
     },
     "output_type": "display_data"
    }
   ],
   "source": [
    "# Violin plot of age distribution by gender, by education level\n",
    "plt.figure(figsize=(12, 8))\n",
    "order = ['Less than Secondary','Secondary', \"Bachelor's\", \"Master's\", 'Doctorate']\n",
    "sb.violinplot(data=hmx, x='LoE_DI', y='age', hue='gender', order=order);"
   ]
  },
  {
   "cell_type": "markdown",
   "metadata": {},
   "source": [
    "### Talk about some of the relationships you observed in this part of the investigation. Were there features that strengthened each other in terms of looking at your feature(s) of interest?\n",
    "\n",
    "In general, more nevents, 20-30 years old, grade more than 0.5 are more likely to be certified.\n",
    "\n",
    "### Were there any interesting or surprising interactions between features?\n",
    "\n",
    "As explored earlier, the average age of female students ia a little older than the male students, but when we break down by education level, for most of the categories, the average age is very close. Seems like that is no perticular level of education makes older female more likely to learn rather than male students."
   ]
  },
  {
   "cell_type": "code",
   "execution_count": 68,
   "metadata": {},
   "outputs": [],
   "source": [
    "# Since we created some new features, we had bette save the new dataset for further exploration\n",
    "hmx.to_csv('hmx_eda.csv', index=False)"
   ]
  },
  {
   "cell_type": "code",
   "execution_count": null,
   "metadata": {},
   "outputs": [],
   "source": []
  }
 ],
 "metadata": {
  "hide_input": false,
  "kernelspec": {
   "display_name": "Python 3",
   "language": "python",
   "name": "python3"
  },
  "language_info": {
   "codemirror_mode": {
    "name": "ipython",
    "version": 3
   },
   "file_extension": ".py",
   "mimetype": "text/x-python",
   "name": "python",
   "nbconvert_exporter": "python",
   "pygments_lexer": "ipython3",
   "version": "3.7.3"
  },
  "latex_envs": {
   "LaTeX_envs_menu_present": true,
   "autoclose": false,
   "autocomplete": true,
   "bibliofile": "biblio.bib",
   "cite_by": "apalike",
   "current_citInitial": 1,
   "eqLabelWithNumbers": true,
   "eqNumInitial": 1,
   "hotkeys": {
    "equation": "Ctrl-E",
    "itemize": "Ctrl-I"
   },
   "labels_anchors": false,
   "latex_user_defs": false,
   "report_style_numbering": false,
   "user_envs_cfg": false
  },
  "toc": {
   "base_numbering": 1,
   "nav_menu": {},
   "number_sections": true,
   "sideBar": true,
   "skip_h1_title": true,
   "title_cell": "Table of Contents",
   "title_sidebar": "Contents",
   "toc_cell": false,
   "toc_position": {},
   "toc_section_display": true,
   "toc_window_display": true
  },
  "varInspector": {
   "cols": {
    "lenName": 16,
    "lenType": 16,
    "lenVar": 40
   },
   "kernels_config": {
    "python": {
     "delete_cmd_postfix": "",
     "delete_cmd_prefix": "del ",
     "library": "var_list.py",
     "varRefreshCmd": "print(var_dic_list())"
    },
    "r": {
     "delete_cmd_postfix": ") ",
     "delete_cmd_prefix": "rm(",
     "library": "var_list.r",
     "varRefreshCmd": "cat(var_dic_list()) "
    }
   },
   "types_to_exclude": [
    "module",
    "function",
    "builtin_function_or_method",
    "instance",
    "_Feature"
   ],
   "window_display": false
  }
 },
 "nbformat": 4,
 "nbformat_minor": 2
}
