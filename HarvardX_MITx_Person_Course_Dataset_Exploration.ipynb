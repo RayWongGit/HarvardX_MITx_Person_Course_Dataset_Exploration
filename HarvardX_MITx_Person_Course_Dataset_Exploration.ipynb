{
 "cells": [
  {
   "cell_type": "markdown",
   "metadata": {},
   "source": [
    "# HarvardX_MITx_Person_Course_Dataset_Exploration\n",
    "\n",
    "In this project, we explore the patterns of retention in MOOC. \n",
    "\n",
    "# Research questions\n",
    "Our research questions in this project are:\n",
    "\n",
    "- What are the certification rates among different subpopulations\n",
    "- What factors affect certification rate\n",
    "\n",
    "# Exploration of Registered\n",
    "\n"
   ]
  },
  {
   "cell_type": "markdown",
   "metadata": {},
   "source": [
    "## Loading Data"
   ]
  },
  {
   "cell_type": "code",
   "execution_count": 1,
   "metadata": {},
   "outputs": [],
   "source": [
    "# import packages \n",
    "import numpy as np\n",
    "import pandas as pd\n",
    "import matplotlib.pyplot as plt\n",
    "import seaborn as sb\n",
    "import datetime\n",
    "import scipy.stats as stats\n",
    "from scipy.stats import chisquare\n",
    "from scipy.stats import ttest_ind \n",
    "from scipy.stats import binom_test\n",
    "from scipy.stats import chi2_contingency\n",
    "from statsmodels.stats.weightstats import ztest\n",
    "\n",
    "%matplotlib inline"
   ]
  },
  {
   "cell_type": "code",
   "execution_count": 2,
   "metadata": {
    "scrolled": true
   },
   "outputs": [
    {
     "data": {
      "text/html": [
       "<div>\n",
       "<style scoped>\n",
       "    .dataframe tbody tr th:only-of-type {\n",
       "        vertical-align: middle;\n",
       "    }\n",
       "\n",
       "    .dataframe tbody tr th {\n",
       "        vertical-align: top;\n",
       "    }\n",
       "\n",
       "    .dataframe thead th {\n",
       "        text-align: right;\n",
       "    }\n",
       "</style>\n",
       "<table border=\"1\" class=\"dataframe\">\n",
       "  <thead>\n",
       "    <tr style=\"text-align: right;\">\n",
       "      <th></th>\n",
       "      <th>course_id</th>\n",
       "      <th>user_id</th>\n",
       "      <th>viewed</th>\n",
       "      <th>explored</th>\n",
       "      <th>certified</th>\n",
       "      <th>country</th>\n",
       "      <th>education</th>\n",
       "      <th>gender</th>\n",
       "      <th>grade</th>\n",
       "      <th>time_registered</th>\n",
       "      <th>...</th>\n",
       "      <th>course_code</th>\n",
       "      <th>semester</th>\n",
       "      <th>region</th>\n",
       "      <th>age</th>\n",
       "      <th>course_launch</th>\n",
       "      <th>course_wrap</th>\n",
       "      <th>course_duration</th>\n",
       "      <th>registered_launch_delta</th>\n",
       "      <th>course_subject</th>\n",
       "      <th>lifetime_proportion</th>\n",
       "    </tr>\n",
       "  </thead>\n",
       "  <tbody>\n",
       "    <tr>\n",
       "      <th>0</th>\n",
       "      <td>HarvardX/CS50x/2012</td>\n",
       "      <td>MHxPC130422039</td>\n",
       "      <td>0</td>\n",
       "      <td>0</td>\n",
       "      <td>0</td>\n",
       "      <td>Unknown/Other</td>\n",
       "      <td>Secondary</td>\n",
       "      <td>m</td>\n",
       "      <td>0.0</td>\n",
       "      <td>2012-07-24</td>\n",
       "      <td>...</td>\n",
       "      <td>CS50x</td>\n",
       "      <td>2012_Fall</td>\n",
       "      <td>NonUS</td>\n",
       "      <td>25.0</td>\n",
       "      <td>2012-10-15</td>\n",
       "      <td>2013-04-15</td>\n",
       "      <td>182</td>\n",
       "      <td>-83</td>\n",
       "      <td>OTHERS</td>\n",
       "      <td>0.000000</td>\n",
       "    </tr>\n",
       "    <tr>\n",
       "      <th>1</th>\n",
       "      <td>HarvardX/CS50x/2012</td>\n",
       "      <td>MHxPC130407931</td>\n",
       "      <td>0</td>\n",
       "      <td>0</td>\n",
       "      <td>0</td>\n",
       "      <td>United States</td>\n",
       "      <td>Secondary</td>\n",
       "      <td>f</td>\n",
       "      <td>0.0</td>\n",
       "      <td>2012-07-24</td>\n",
       "      <td>...</td>\n",
       "      <td>CS50x</td>\n",
       "      <td>2012_Fall</td>\n",
       "      <td>US</td>\n",
       "      <td>44.0</td>\n",
       "      <td>2012-10-15</td>\n",
       "      <td>2013-04-15</td>\n",
       "      <td>182</td>\n",
       "      <td>-83</td>\n",
       "      <td>OTHERS</td>\n",
       "      <td>0.000000</td>\n",
       "    </tr>\n",
       "    <tr>\n",
       "      <th>2</th>\n",
       "      <td>HarvardX/PH207x/2012_Fall</td>\n",
       "      <td>MHxPC130313697</td>\n",
       "      <td>0</td>\n",
       "      <td>0</td>\n",
       "      <td>0</td>\n",
       "      <td>India</td>\n",
       "      <td>Bachelor's</td>\n",
       "      <td>m</td>\n",
       "      <td>0.0</td>\n",
       "      <td>2012-07-24</td>\n",
       "      <td>...</td>\n",
       "      <td>PH207x</td>\n",
       "      <td>2012_Fall</td>\n",
       "      <td>NonUS</td>\n",
       "      <td>23.0</td>\n",
       "      <td>2012-10-15</td>\n",
       "      <td>2013-01-30</td>\n",
       "      <td>107</td>\n",
       "      <td>-83</td>\n",
       "      <td>OTHERS</td>\n",
       "      <td>266.355140</td>\n",
       "    </tr>\n",
       "    <tr>\n",
       "      <th>3</th>\n",
       "      <td>HarvardX/CS50x/2012</td>\n",
       "      <td>MHxPC130064950</td>\n",
       "      <td>0</td>\n",
       "      <td>0</td>\n",
       "      <td>0</td>\n",
       "      <td>Unknown/Other</td>\n",
       "      <td>Master's</td>\n",
       "      <td>m</td>\n",
       "      <td>0.0</td>\n",
       "      <td>2012-07-24</td>\n",
       "      <td>...</td>\n",
       "      <td>CS50x</td>\n",
       "      <td>2012_Fall</td>\n",
       "      <td>NonUS</td>\n",
       "      <td>34.0</td>\n",
       "      <td>2012-10-15</td>\n",
       "      <td>2013-04-15</td>\n",
       "      <td>182</td>\n",
       "      <td>-83</td>\n",
       "      <td>OTHERS</td>\n",
       "      <td>0.000000</td>\n",
       "    </tr>\n",
       "    <tr>\n",
       "      <th>4</th>\n",
       "      <td>HarvardX/PH207x/2012_Fall</td>\n",
       "      <td>MHxPC130237753</td>\n",
       "      <td>1</td>\n",
       "      <td>0</td>\n",
       "      <td>0</td>\n",
       "      <td>United States</td>\n",
       "      <td>Secondary</td>\n",
       "      <td>m</td>\n",
       "      <td>0.0</td>\n",
       "      <td>2012-07-24</td>\n",
       "      <td>...</td>\n",
       "      <td>PH207x</td>\n",
       "      <td>2012_Fall</td>\n",
       "      <td>US</td>\n",
       "      <td>19.0</td>\n",
       "      <td>2012-10-15</td>\n",
       "      <td>2013-01-30</td>\n",
       "      <td>107</td>\n",
       "      <td>-83</td>\n",
       "      <td>OTHERS</td>\n",
       "      <td>65.420561</td>\n",
       "    </tr>\n",
       "  </tbody>\n",
       "</table>\n",
       "<p>5 rows × 27 columns</p>\n",
       "</div>"
      ],
      "text/plain": [
       "                   course_id         user_id  viewed  explored  certified  \\\n",
       "0        HarvardX/CS50x/2012  MHxPC130422039       0         0          0   \n",
       "1        HarvardX/CS50x/2012  MHxPC130407931       0         0          0   \n",
       "2  HarvardX/PH207x/2012_Fall  MHxPC130313697       0         0          0   \n",
       "3        HarvardX/CS50x/2012  MHxPC130064950       0         0          0   \n",
       "4  HarvardX/PH207x/2012_Fall  MHxPC130237753       1         0          0   \n",
       "\n",
       "         country   education gender  grade time_registered  ... course_code  \\\n",
       "0  Unknown/Other   Secondary      m    0.0      2012-07-24  ...       CS50x   \n",
       "1  United States   Secondary      f    0.0      2012-07-24  ...       CS50x   \n",
       "2          India  Bachelor's      m    0.0      2012-07-24  ...      PH207x   \n",
       "3  Unknown/Other    Master's      m    0.0      2012-07-24  ...       CS50x   \n",
       "4  United States   Secondary      m    0.0      2012-07-24  ...      PH207x   \n",
       "\n",
       "    semester  region   age  course_launch  course_wrap course_duration  \\\n",
       "0  2012_Fall   NonUS  25.0     2012-10-15   2013-04-15             182   \n",
       "1  2012_Fall      US  44.0     2012-10-15   2013-04-15             182   \n",
       "2  2012_Fall   NonUS  23.0     2012-10-15   2013-01-30             107   \n",
       "3  2012_Fall   NonUS  34.0     2012-10-15   2013-04-15             182   \n",
       "4  2012_Fall      US  19.0     2012-10-15   2013-01-30             107   \n",
       "\n",
       "  registered_launch_delta course_subject lifetime_proportion  \n",
       "0                     -83         OTHERS            0.000000  \n",
       "1                     -83         OTHERS            0.000000  \n",
       "2                     -83         OTHERS          266.355140  \n",
       "3                     -83         OTHERS            0.000000  \n",
       "4                     -83         OTHERS           65.420561  \n",
       "\n",
       "[5 rows x 27 columns]"
      ]
     },
     "execution_count": 2,
     "metadata": {},
     "output_type": "execute_result"
    }
   ],
   "source": [
    "# load dataset of registered\n",
    "df_registered = pd.read_csv('data/hmx_eda.csv', parse_dates=['time_registered', 'last_event', 'course_launch', 'course_wrap'])\n",
    "df_registered.head()"
   ]
  },
  {
   "cell_type": "markdown",
   "metadata": {},
   "source": [
    "## Background of registered dataset\n",
    "\n",
    "### Basic Information"
   ]
  },
  {
   "cell_type": "code",
   "execution_count": 3,
   "metadata": {
    "scrolled": true
   },
   "outputs": [
    {
     "name": "stdout",
     "output_type": "stream",
     "text": [
      "The dataset for registered has 402750 records with 27 columns\n"
     ]
    }
   ],
   "source": [
    "# size of registered\n",
    "print('The dataset for registered has {} records with {} columns'.format(df_registered.shape[0], df_registered.shape[1]))"
   ]
  },
  {
   "cell_type": "code",
   "execution_count": 4,
   "metadata": {
    "scrolled": true
   },
   "outputs": [
    {
     "name": "stdout",
     "output_type": "stream",
     "text": [
      "<class 'pandas.core.frame.DataFrame'>\n",
      "RangeIndex: 402750 entries, 0 to 402749\n",
      "Data columns (total 27 columns):\n",
      "course_id                  402750 non-null object\n",
      "user_id                    402750 non-null object\n",
      "viewed                     402750 non-null int64\n",
      "explored                   402750 non-null int64\n",
      "certified                  402750 non-null int64\n",
      "country                    402750 non-null object\n",
      "education                  402750 non-null object\n",
      "gender                     402750 non-null object\n",
      "grade                      402750 non-null float64\n",
      "time_registered            402750 non-null datetime64[ns]\n",
      "last_event                 402750 non-null datetime64[ns]\n",
      "nevents                    402750 non-null float64\n",
      "ndays_act                  402750 non-null float64\n",
      "nplay_video                402750 non-null float64\n",
      "nchapters                  402750 non-null float64\n",
      "nforum_posts               402750 non-null int64\n",
      "institution                402750 non-null object\n",
      "course_code                402750 non-null object\n",
      "semester                   402750 non-null object\n",
      "region                     402750 non-null object\n",
      "age                        402750 non-null float64\n",
      "course_launch              402750 non-null datetime64[ns]\n",
      "course_wrap                402750 non-null datetime64[ns]\n",
      "course_duration            402750 non-null int64\n",
      "registered_launch_delta    402750 non-null int64\n",
      "course_subject             402750 non-null object\n",
      "lifetime_proportion        402750 non-null float64\n",
      "dtypes: datetime64[ns](4), float64(7), int64(6), object(10)\n",
      "memory usage: 83.0+ MB\n"
     ]
    }
   ],
   "source": [
    "# basic info \n",
    "df_registered.info()"
   ]
  },
  {
   "cell_type": "code",
   "execution_count": 5,
   "metadata": {
    "scrolled": false,
    "slideshow": {
     "slide_type": "-"
    }
   },
   "outputs": [
    {
     "data": {
      "text/html": [
       "<div>\n",
       "<style scoped>\n",
       "    .dataframe tbody tr th:only-of-type {\n",
       "        vertical-align: middle;\n",
       "    }\n",
       "\n",
       "    .dataframe tbody tr th {\n",
       "        vertical-align: top;\n",
       "    }\n",
       "\n",
       "    .dataframe thead th {\n",
       "        text-align: right;\n",
       "    }\n",
       "</style>\n",
       "<table border=\"1\" class=\"dataframe\">\n",
       "  <thead>\n",
       "    <tr style=\"text-align: right;\">\n",
       "      <th></th>\n",
       "      <th>viewed</th>\n",
       "      <th>explored</th>\n",
       "      <th>certified</th>\n",
       "      <th>grade</th>\n",
       "      <th>nevents</th>\n",
       "      <th>ndays_act</th>\n",
       "      <th>nplay_video</th>\n",
       "      <th>nchapters</th>\n",
       "      <th>nforum_posts</th>\n",
       "      <th>age</th>\n",
       "      <th>course_duration</th>\n",
       "      <th>registered_launch_delta</th>\n",
       "      <th>lifetime_proportion</th>\n",
       "    </tr>\n",
       "  </thead>\n",
       "  <tbody>\n",
       "    <tr>\n",
       "      <th>count</th>\n",
       "      <td>402750.00</td>\n",
       "      <td>402750.00</td>\n",
       "      <td>402750.00</td>\n",
       "      <td>402750.00</td>\n",
       "      <td>402750.00</td>\n",
       "      <td>402750.00</td>\n",
       "      <td>402750.00</td>\n",
       "      <td>402750.00</td>\n",
       "      <td>402750.00</td>\n",
       "      <td>402750.00</td>\n",
       "      <td>402750.00</td>\n",
       "      <td>402750.00</td>\n",
       "      <td>402750.00</td>\n",
       "    </tr>\n",
       "    <tr>\n",
       "      <th>mean</th>\n",
       "      <td>0.59</td>\n",
       "      <td>0.07</td>\n",
       "      <td>0.03</td>\n",
       "      <td>0.04</td>\n",
       "      <td>343.83</td>\n",
       "      <td>4.61</td>\n",
       "      <td>38.21</td>\n",
       "      <td>2.29</td>\n",
       "      <td>0.02</td>\n",
       "      <td>27.28</td>\n",
       "      <td>129.06</td>\n",
       "      <td>9.91</td>\n",
       "      <td>46.02</td>\n",
       "    </tr>\n",
       "    <tr>\n",
       "      <th>std</th>\n",
       "      <td>0.49</td>\n",
       "      <td>0.26</td>\n",
       "      <td>0.18</td>\n",
       "      <td>0.16</td>\n",
       "      <td>1302.27</td>\n",
       "      <td>10.55</td>\n",
       "      <td>213.80</td>\n",
       "      <td>4.16</td>\n",
       "      <td>0.17</td>\n",
       "      <td>8.83</td>\n",
       "      <td>33.93</td>\n",
       "      <td>73.51</td>\n",
       "      <td>55.42</td>\n",
       "    </tr>\n",
       "    <tr>\n",
       "      <th>min</th>\n",
       "      <td>0.00</td>\n",
       "      <td>0.00</td>\n",
       "      <td>0.00</td>\n",
       "      <td>0.00</td>\n",
       "      <td>0.00</td>\n",
       "      <td>0.00</td>\n",
       "      <td>0.00</td>\n",
       "      <td>0.00</td>\n",
       "      <td>0.00</td>\n",
       "      <td>10.00</td>\n",
       "      <td>71.00</td>\n",
       "      <td>-147.00</td>\n",
       "      <td>0.00</td>\n",
       "    </tr>\n",
       "    <tr>\n",
       "      <th>25%</th>\n",
       "      <td>0.00</td>\n",
       "      <td>0.00</td>\n",
       "      <td>0.00</td>\n",
       "      <td>0.00</td>\n",
       "      <td>1.00</td>\n",
       "      <td>1.00</td>\n",
       "      <td>0.00</td>\n",
       "      <td>0.00</td>\n",
       "      <td>0.00</td>\n",
       "      <td>21.00</td>\n",
       "      <td>107.00</td>\n",
       "      <td>-36.00</td>\n",
       "      <td>0.00</td>\n",
       "    </tr>\n",
       "    <tr>\n",
       "      <th>50%</th>\n",
       "      <td>1.00</td>\n",
       "      <td>0.00</td>\n",
       "      <td>0.00</td>\n",
       "      <td>0.00</td>\n",
       "      <td>9.00</td>\n",
       "      <td>1.00</td>\n",
       "      <td>0.00</td>\n",
       "      <td>1.00</td>\n",
       "      <td>0.00</td>\n",
       "      <td>25.00</td>\n",
       "      <td>120.00</td>\n",
       "      <td>-3.00</td>\n",
       "      <td>21.67</td>\n",
       "    </tr>\n",
       "    <tr>\n",
       "      <th>75%</th>\n",
       "      <td>1.00</td>\n",
       "      <td>0.00</td>\n",
       "      <td>0.00</td>\n",
       "      <td>0.00</td>\n",
       "      <td>100.00</td>\n",
       "      <td>3.00</td>\n",
       "      <td>5.00</td>\n",
       "      <td>3.00</td>\n",
       "      <td>0.00</td>\n",
       "      <td>30.00</td>\n",
       "      <td>166.00</td>\n",
       "      <td>33.00</td>\n",
       "      <td>80.77</td>\n",
       "    </tr>\n",
       "    <tr>\n",
       "      <th>max</th>\n",
       "      <td>1.00</td>\n",
       "      <td>1.00</td>\n",
       "      <td>1.00</td>\n",
       "      <td>1.00</td>\n",
       "      <td>53180.00</td>\n",
       "      <td>205.00</td>\n",
       "      <td>34596.00</td>\n",
       "      <td>47.00</td>\n",
       "      <td>6.00</td>\n",
       "      <td>82.00</td>\n",
       "      <td>182.00</td>\n",
       "      <td>327.00</td>\n",
       "      <td>339.80</td>\n",
       "    </tr>\n",
       "  </tbody>\n",
       "</table>\n",
       "</div>"
      ],
      "text/plain": [
       "          viewed   explored  certified      grade    nevents  ndays_act  \\\n",
       "count  402750.00  402750.00  402750.00  402750.00  402750.00  402750.00   \n",
       "mean        0.59       0.07       0.03       0.04     343.83       4.61   \n",
       "std         0.49       0.26       0.18       0.16    1302.27      10.55   \n",
       "min         0.00       0.00       0.00       0.00       0.00       0.00   \n",
       "25%         0.00       0.00       0.00       0.00       1.00       1.00   \n",
       "50%         1.00       0.00       0.00       0.00       9.00       1.00   \n",
       "75%         1.00       0.00       0.00       0.00     100.00       3.00   \n",
       "max         1.00       1.00       1.00       1.00   53180.00     205.00   \n",
       "\n",
       "       nplay_video  nchapters  nforum_posts        age  course_duration  \\\n",
       "count    402750.00  402750.00     402750.00  402750.00        402750.00   \n",
       "mean         38.21       2.29          0.02      27.28           129.06   \n",
       "std         213.80       4.16          0.17       8.83            33.93   \n",
       "min           0.00       0.00          0.00      10.00            71.00   \n",
       "25%           0.00       0.00          0.00      21.00           107.00   \n",
       "50%           0.00       1.00          0.00      25.00           120.00   \n",
       "75%           5.00       3.00          0.00      30.00           166.00   \n",
       "max       34596.00      47.00          6.00      82.00           182.00   \n",
       "\n",
       "       registered_launch_delta  lifetime_proportion  \n",
       "count                402750.00            402750.00  \n",
       "mean                      9.91                46.02  \n",
       "std                      73.51                55.42  \n",
       "min                    -147.00                 0.00  \n",
       "25%                     -36.00                 0.00  \n",
       "50%                      -3.00                21.67  \n",
       "75%                      33.00                80.77  \n",
       "max                     327.00               339.80  "
      ]
     },
     "execution_count": 5,
     "metadata": {},
     "output_type": "execute_result"
    }
   ],
   "source": [
    "# statistical description\n",
    "df_registered.describe().round(2)"
   ]
  },
  {
   "cell_type": "code",
   "execution_count": 6,
   "metadata": {},
   "outputs": [
    {
     "data": {
      "text/plain": [
       "16"
      ]
     },
     "execution_count": 6,
     "metadata": {},
     "output_type": "execute_result"
    }
   ],
   "source": [
    "# number of unique course_id\n",
    "df_registered.course_id.nunique()"
   ]
  },
  {
   "cell_type": "code",
   "execution_count": 7,
   "metadata": {
    "scrolled": false
   },
   "outputs": [
    {
     "data": {
      "text/plain": [
       "HarvardX/CS50x/2012            84402\n",
       "MITx/6.00x/2012_Fall           52504\n",
       "HarvardX/ER22x/2013_Spring     40444\n",
       "MITx/6.00x/2013_Spring         36595\n",
       "HarvardX/PH207x/2012_Fall      32337\n",
       "HarvardX/PH278x/2013_Spring    26277\n",
       "MITx/6.002x/2012_Fall          23738\n",
       "MITx/14.73x/2013_Spring        20840\n",
       "HarvardX/CB22x/2013_Spring     19860\n",
       "MITx/8.02x/2013_Spring         16198\n",
       "MITx/7.00x/2013_Spring         14287\n",
       "MITx/6.002x/2013_Spring        11885\n",
       "MITx/3.091x/2012_Fall          10112\n",
       "MITx/8.MReV/2013_Summer         6193\n",
       "MITx/2.01x/2013_Spring          3762\n",
       "MITx/3.091x/2013_Spring         3316\n",
       "Name: course_id, dtype: int64"
      ]
     },
     "execution_count": 7,
     "metadata": {},
     "output_type": "execute_result"
    }
   ],
   "source": [
    "# value counts of course_id\n",
    "df_registered.course_id.value_counts()"
   ]
  },
  {
   "cell_type": "code",
   "execution_count": 8,
   "metadata": {},
   "outputs": [
    {
     "data": {
      "text/plain": [
       "count       16.00\n",
       "mean     25171.88\n",
       "std      21006.65\n",
       "min       3316.00\n",
       "25%      11441.75\n",
       "50%      20350.00\n",
       "75%      33401.50\n",
       "max      84402.00\n",
       "Name: course_id, dtype: float64"
      ]
     },
     "execution_count": 8,
     "metadata": {},
     "output_type": "execute_result"
    }
   ],
   "source": [
    "# min count and  max count\n",
    "df_registered.course_id.value_counts().describe().round(2)"
   ]
  },
  {
   "cell_type": "code",
   "execution_count": 9,
   "metadata": {},
   "outputs": [
    {
     "data": {
      "image/png": "[encoded data removed]",
      "text/plain": [
       "<Figure size 720x432 with 1 Axes>"
      ]
     },
     "metadata": {
      "needs_background": "light"
     },
     "output_type": "display_data"
    }
   ],
   "source": [
    "# bar plot of course_id\n",
    "plt.figure(figsize=(10, 6))\n",
    "df_registered.course_id.value_counts().sort_values(ascending=False).plot(kind='barh')\n",
    "plt.xlabel('Number of Registrants')\n",
    "plt.ylabel('Course ID')\n",
    "plt.savefig(\"plots/1.pdf\", bbox_inches='tight', edge_color='black');"
   ]
  },
  {
   "cell_type": "markdown",
   "metadata": {},
   "source": [
    "There are 16 courses in this dataset. This includes 3 courses offered twice. The number of enrolments varies a lot from course to course. The minimum enrolment is 3316, while the maximum is 84402."
   ]
  },
  {
   "cell_type": "code",
   "execution_count": 10,
   "metadata": {},
   "outputs": [
    {
     "data": {
      "text/plain": [
       "1    239491\n",
       "0    163259\n",
       "Name: viewed, dtype: int64"
      ]
     },
     "execution_count": 10,
     "metadata": {},
     "output_type": "execute_result"
    }
   ],
   "source": [
    "# value counts of viewed\n",
    "df_registered.viewed.value_counts()"
   ]
  },
  {
   "cell_type": "code",
   "execution_count": 11,
   "metadata": {
    "scrolled": true
   },
   "outputs": [
    {
     "data": {
      "image/png": "[encoded data removed]",
      "text/plain": [
       "<Figure size 432x288 with 1 Axes>"
      ]
     },
     "metadata": {
      "needs_background": "light"
     },
     "output_type": "display_data"
    }
   ],
   "source": [
    "# bar chart of viewed \n",
    "sb.countplot(data=df_registered, x='viewed')\n",
    "n_records = df_registered.shape[0]\n",
    "tick_props = np.arange(0, 1+0.1, 0.1)\n",
    "tick_names = ['{:.2f}'.format(x) for x in tick_props]\n",
    "plt.yticks(tick_props*n_records, tick_names)\n",
    "plt.xlabel('Viewed Or Not')\n",
    "plt.xticks([0, 1], ['Viewed', 'Not Viewed'])\n",
    "plt.ylabel('Proportion');"
   ]
  },
  {
   "cell_type": "markdown",
   "metadata": {},
   "source": [
    "Around 60% of the registered viewed the courses"
   ]
  },
  {
   "cell_type": "code",
   "execution_count": 12,
   "metadata": {},
   "outputs": [
    {
     "data": {
      "text/plain": [
       "0    374164\n",
       "1     28586\n",
       "Name: explored, dtype: int64"
      ]
     },
     "execution_count": 12,
     "metadata": {},
     "output_type": "execute_result"
    }
   ],
   "source": [
    "# value counts of explored\n",
    "df_registered.explored.value_counts()"
   ]
  },
  {
   "cell_type": "code",
   "execution_count": 13,
   "metadata": {
    "scrolled": true
   },
   "outputs": [
    {
     "data": {
      "image/png": "[encoded data removed]",
      "text/plain": [
       "<Figure size 432x288 with 1 Axes>"
      ]
     },
     "metadata": {
      "needs_background": "light"
     },
     "output_type": "display_data"
    }
   ],
   "source": [
    "# bar chart of explored\n",
    "sb.countplot(data=df_registered, x='explored')\n",
    "n_records = df_registered.shape[0]\n",
    "tick_props = np.arange(0, 1+0.1, 0.1)\n",
    "tick_names = ['{:.2f}'.format(x) for x in tick_props]\n",
    "plt.yticks(tick_props*n_records, tick_names)\n",
    "plt.xlabel('Explored Or Not')\n",
    "plt.xticks([0, 1], ['Explored', 'Not Explored'])\n",
    "plt.ylabel('Proportion');"
   ]
  },
  {
   "cell_type": "markdown",
   "metadata": {},
   "source": [
    "Only less than 10% registered explored the course. "
   ]
  },
  {
   "cell_type": "markdown",
   "metadata": {},
   "source": [
    "### Demographics"
   ]
  },
  {
   "cell_type": "markdown",
   "metadata": {},
   "source": [
    "***Country***"
   ]
  },
  {
   "cell_type": "code",
   "execution_count": 14,
   "metadata": {},
   "outputs": [
    {
     "data": {
      "image/png": "[encoded data removed]",
      "text/plain": [
       "<Figure size 864x576 with 1 Axes>"
      ]
     },
     "metadata": {
      "needs_background": "light"
     },
     "output_type": "display_data"
    }
   ],
   "source": [
    "# country of registered\n",
    "(df_registered.groupby('country').user_id.count() / df_registered.shape[0]).sort_values().plot(figsize=(12, 8), kind='barh');\n",
    "plt.xlabel('Proportion')\n",
    "plt.ylabel('Country')\n",
    "plt.savefig(\"plots/2.pdf\", bbox_inches='tight');"
   ]
  },
  {
   "cell_type": "markdown",
   "metadata": {},
   "source": [
    "US has the largest number of registrants, around 30% registrants are from US. India has second largest number of registrants, the percentage is about 15%."
   ]
  },
  {
   "cell_type": "markdown",
   "metadata": {},
   "source": [
    "***Level of Education***"
   ]
  },
  {
   "cell_type": "code",
   "execution_count": 15,
   "metadata": {},
   "outputs": [
    {
     "data": {
      "image/png": "[encoded data removed]",
      "text/plain": [
       "<Figure size 432x288 with 1 Axes>"
      ]
     },
     "metadata": {
      "needs_background": "light"
     },
     "output_type": "display_data"
    }
   ],
   "source": [
    "# Level of educatoin\n",
    "n_records = df_registered.shape[0]\n",
    "max_value = df_registered.education.value_counts().max()\n",
    "max_prop = max_value / n_records\n",
    "tick_props = np.arange(0, max_prop+0.01, 0.05)\n",
    "tick_names = ['{:.2f}'.format(x) for x in tick_props]\n",
    "\n",
    "base_color = sb.color_palette()[0]\n",
    "order = ['Less than Secondary','Secondary', \"Bachelor's\", \"Master's\", 'Doctorate']\n",
    "sb.countplot(data=df_registered, x='education', color=base_color, order=order)\n",
    "plt.xticks(rotation=15)\n",
    "plt.yticks(tick_props*n_records, tick_names)\n",
    "plt.xlabel('Level of Education')\n",
    "plt.ylabel('Proportion')\n",
    "plt.savefig(\"plots/3.pdf\", bbox_inches='tight');"
   ]
  },
  {
   "cell_type": "markdown",
   "metadata": {},
   "source": [
    "As much as 40% students hold a Bachelor's Degree, while around 20% hold a Master's, 3% hold a Doctorate Degree. That is to say, the majority of the students have an education level of Bachelor's or higher. We are educating the well educated in MOOC."
   ]
  },
  {
   "cell_type": "markdown",
   "metadata": {},
   "source": [
    "***Age***"
   ]
  },
  {
   "cell_type": "code",
   "execution_count": 16,
   "metadata": {
    "scrolled": true
   },
   "outputs": [
    {
     "data": {
      "text/plain": [
       "count    402750.00\n",
       "mean         27.28\n",
       "std           8.83\n",
       "min          10.00\n",
       "25%          21.00\n",
       "50%          25.00\n",
       "75%          30.00\n",
       "max          82.00\n",
       "Name: age, dtype: float64"
      ]
     },
     "execution_count": 16,
     "metadata": {},
     "output_type": "execute_result"
    }
   ],
   "source": [
    "# statistical description of age\n",
    "df_registered['age'].describe().round(2)"
   ]
  },
  {
   "cell_type": "code",
   "execution_count": 17,
   "metadata": {
    "scrolled": true
   },
   "outputs": [
    {
     "data": {
      "image/png": "[encoded data removed]",
      "text/plain": [
       "<Figure size 720x432 with 1 Axes>"
      ]
     },
     "metadata": {
      "needs_background": "light"
     },
     "output_type": "display_data"
    }
   ],
   "source": [
    "# distribution of age\n",
    "plt.figure(figsize=(10,6))\n",
    "max_age = df_registered.age.max()\n",
    "min_age = df_registered.age.min()\n",
    "\n",
    "bins = np.arange(0, max_age+1, 1)\n",
    "ticks = np.arange(8, max_age+1, 2)\n",
    "plt.hist(data=df_registered, x='age', bins=bins)\n",
    "plt.xticks(ticks)\n",
    "plt.xlim(0, 83)\n",
    "plt.xlabel('Age')\n",
    "plt.ylabel('Count')\n",
    "plt.savefig(\"plots/4.pdf\", bbox_inches='tight');"
   ]
  },
  {
   "cell_type": "markdown",
   "metadata": {},
   "source": [
    "The age of the learners varies from 10 years old to 82 years old. Most learners are in their 20s and 30s. The peak of the distribution appears at around 20 years old, and there is a long tail for more than 50 years old."
   ]
  },
  {
   "cell_type": "markdown",
   "metadata": {},
   "source": [
    "***Gender***"
   ]
  },
  {
   "cell_type": "code",
   "execution_count": 18,
   "metadata": {},
   "outputs": [
    {
     "data": {
      "text/plain": [
       "m    298463\n",
       "f    104287\n",
       "Name: gender, dtype: int64"
      ]
     },
     "execution_count": 18,
     "metadata": {},
     "output_type": "execute_result"
    }
   ],
   "source": [
    "# value counts of gender\n",
    "df_registered.gender.value_counts()"
   ]
  },
  {
   "cell_type": "code",
   "execution_count": 19,
   "metadata": {
    "scrolled": false
   },
   "outputs": [
    {
     "data": {
      "image/png": "[encoded data removed]",
      "text/plain": [
       "<Figure size 432x288 with 1 Axes>"
      ]
     },
     "metadata": {
      "needs_background": "light"
     },
     "output_type": "display_data"
    }
   ],
   "source": [
    "# bar chart of gender\n",
    "sb.countplot(data=df_registered, x='gender')\n",
    "n_records = df_registered.shape[0]\n",
    "tick_props = np.arange(0, 1+0.1, 0.1)\n",
    "tick_names = ['{:.1f}'.format(x) for x in tick_props]\n",
    "plt.yticks(tick_props*n_records, tick_names)\n",
    "plt.xlabel('Gender')\n",
    "plt.ylabel('Proportion')\n",
    "plt.savefig(\"plots/5.pdf\", bbox_inches='tight');"
   ]
  },
  {
   "cell_type": "markdown",
   "metadata": {},
   "source": [
    "About 75% of the students are male and only about 25% are female."
   ]
  },
  {
   "cell_type": "markdown",
   "metadata": {},
   "source": [
    "## Overall certification rate\n",
    "\n",
    "### Overall certification rate of registered"
   ]
  },
  {
   "cell_type": "code",
   "execution_count": 20,
   "metadata": {},
   "outputs": [],
   "source": [
    "# count of certified\n",
    "certified_count = df_registered[df_registered.certified == 1].shape[0]"
   ]
  },
  {
   "cell_type": "code",
   "execution_count": 21,
   "metadata": {
    "scrolled": true
   },
   "outputs": [
    {
     "name": "stdout",
     "output_type": "stream",
     "text": [
      "Among 402750 registered, only 13673 finally got certified, the overall certification rate is about 3%\n"
     ]
    }
   ],
   "source": [
    "print('Among {} registered, only {} finally got certified, the overall certification rate is about {:.0%}'.format(df_registered.shape[0], certified_count, (certified_count/ df_registered.shape[0])))\n"
   ]
  },
  {
   "cell_type": "markdown",
   "metadata": {},
   "source": [
    "### Overall certification rate of viewed"
   ]
  },
  {
   "cell_type": "code",
   "execution_count": 22,
   "metadata": {},
   "outputs": [
    {
     "data": {
      "text/plain": [
       "0    225818\n",
       "1     13673\n",
       "Name: certified, dtype: int64"
      ]
     },
     "execution_count": 22,
     "metadata": {},
     "output_type": "execute_result"
    }
   ],
   "source": [
    "# value counts of certified among viewed\n",
    "df_registered[df_registered.viewed == 1].certified.value_counts()"
   ]
  },
  {
   "cell_type": "code",
   "execution_count": 23,
   "metadata": {},
   "outputs": [
    {
     "data": {
      "text/plain": [
       "5.709191577136511"
      ]
     },
     "execution_count": 23,
     "metadata": {},
     "output_type": "execute_result"
    }
   ],
   "source": [
    "# certification rate of viewed\n",
    "100*df_registered[df_registered.viewed == 1].certified.value_counts()[1] / df_registered[df_registered.viewed == 1].shape[0]\n"
   ]
  },
  {
   "cell_type": "code",
   "execution_count": 24,
   "metadata": {},
   "outputs": [
    {
     "data": {
      "image/png": "[encoded data removed]",
      "text/plain": [
       "<Figure size 432x432 with 1 Axes>"
      ]
     },
     "metadata": {
      "needs_background": "light"
     },
     "output_type": "display_data"
    }
   ],
   "source": [
    "# overall certification rate of viewed\n",
    "plt.figure(figsize=(6, 6))\n",
    "sb.countplot(data=df_registered[df_registered.viewed == 1], x='certified')\n",
    "n_records = df_registered[df_registered.viewed == 1].shape[0]\n",
    "tick_props = np.arange(0, 1+0.1, 0.1)\n",
    "tick_names = ['{:.1f}'.format(x) for x in tick_props]\n",
    "plt.yticks(tick_props*n_records, tick_names)\n",
    "plt.xlabel('Certified or Not')\n",
    "plt.xticks([0, 1], ['Not Certified', 'Certified'])\n",
    "plt.ylabel('Proportion')\n",
    "plt.savefig(\"plots/6.pdf\", bbox_inches='tight');"
   ]
  },
  {
   "cell_type": "markdown",
   "metadata": {},
   "source": [
    "The certification rate of viewed is about 6%. This is higher than the overall certification rate, but this is still very low."
   ]
  },
  {
   "cell_type": "markdown",
   "metadata": {},
   "source": [
    "### Overall certification rate of explored"
   ]
  },
  {
   "cell_type": "code",
   "execution_count": 25,
   "metadata": {
    "scrolled": true
   },
   "outputs": [
    {
     "data": {
      "text/plain": [
       "0    15513\n",
       "1    13073\n",
       "Name: certified, dtype: int64"
      ]
     },
     "execution_count": 25,
     "metadata": {},
     "output_type": "execute_result"
    }
   ],
   "source": [
    "# value counts of certified among viewed\n",
    "df_registered[df_registered.explored == 1].certified.value_counts()"
   ]
  },
  {
   "cell_type": "code",
   "execution_count": 26,
   "metadata": {},
   "outputs": [
    {
     "data": {
      "text/plain": [
       "45.73217658993913"
      ]
     },
     "execution_count": 26,
     "metadata": {},
     "output_type": "execute_result"
    }
   ],
   "source": [
    "# certification rate of viewed\n",
    "100*df_registered[df_registered.explored == 1].certified.value_counts()[1] / df_registered[df_registered.explored == 1].shape[0]"
   ]
  },
  {
   "cell_type": "code",
   "execution_count": 27,
   "metadata": {
    "scrolled": true
   },
   "outputs": [
    {
     "data": {
      "image/png": "[encoded data removed]",
      "text/plain": [
       "<Figure size 432x432 with 1 Axes>"
      ]
     },
     "metadata": {
      "needs_background": "light"
     },
     "output_type": "display_data"
    }
   ],
   "source": [
    "# overall certification rate of viewed\n",
    "plt.figure(figsize=(6, 6))\n",
    "sb.countplot(data=df_registered[df_registered.explored == 1], x='certified')\n",
    "n_records = df_registered[df_registered.explored == 1].shape[0]\n",
    "tick_props = np.arange(0, 1+0.1, 0.1)\n",
    "tick_names = ['{:.1f}'.format(x) for x in tick_props]\n",
    "plt.yticks(tick_props*n_records, tick_names)\n",
    "plt.xlabel('Certified or Not')\n",
    "plt.xticks([0, 1], ['Not Certified', 'Certified'])\n",
    "plt.ylabel('Proportion')\n",
    "plt.savefig(\"plots/7.pdf\", bbox_inches='tight');"
   ]
  },
  {
   "cell_type": "markdown",
   "metadata": {},
   "source": [
    "The certification rate of explored is about 46%. "
   ]
  },
  {
   "cell_type": "markdown",
   "metadata": {},
   "source": [
    "Based on above, numbers of learners from each subpopulation  as well we overall certification rate are shown in table below:\n",
    "\n",
    "|  Subpopulation | Count  |  Percentage of Registered (%) | Overall Certification Rate (%)| \n",
    "|---|---|---|---|\n",
    "| Registered  | 402750  | 100 | 3 |  \n",
    "| Viewed  | 239491  |  59 | 6 | \n",
    "| Explored  | 28586  | 7 | 46  | "
   ]
  },
  {
   "cell_type": "markdown",
   "metadata": {},
   "source": [
    "## Certification rate by course\n",
    "\n",
    "### Certification rate of registered by course"
   ]
  },
  {
   "cell_type": "code",
   "execution_count": 28,
   "metadata": {
    "scrolled": true
   },
   "outputs": [
    {
     "name": "stdout",
     "output_type": "stream",
     "text": [
      "Certification rate of registered:\n"
     ]
    },
    {
     "data": {
      "text/plain": [
       "course_id\n",
       "HarvardX/CS50x/2012            1.26\n",
       "HarvardX/CB22x/2013_Spring     1.62\n",
       "HarvardX/PH278x/2013_Spring    2.41\n",
       "MITx/8.02x/2013_Spring         2.56\n",
       "MITx/6.00x/2013_Spring         2.61\n",
       "MITx/6.00x/2012_Fall           3.06\n",
       "MITx/3.091x/2013_Spring        3.20\n",
       "MITx/8.MReV/2013_Summer        3.33\n",
       "MITx/7.00x/2013_Spring         3.77\n",
       "MITx/6.002x/2013_Spring        3.95\n",
       "MITx/2.01x/2013_Spring         4.33\n",
       "MITx/3.091x/2012_Fall          4.48\n",
       "HarvardX/ER22x/2013_Spring     4.87\n",
       "MITx/6.002x/2012_Fall          4.89\n",
       "HarvardX/PH207x/2012_Fall      5.36\n",
       "MITx/14.73x/2013_Spring        9.04\n",
       "Name: certified, dtype: float64"
      ]
     },
     "execution_count": 28,
     "metadata": {},
     "output_type": "execute_result"
    }
   ],
   "source": [
    "# certification rate of registered \n",
    "certification_rate_registered = 100*(df_registered[df_registered.certified==1].groupby('course_id').certified.count()) / df_registered.groupby('course_id').certified.count()\n",
    "print('Certification rate of registered:')\n",
    "certification_rate_registered.sort_values(ascending=True).round(2)\n"
   ]
  },
  {
   "cell_type": "code",
   "execution_count": 29,
   "metadata": {
    "scrolled": true
   },
   "outputs": [
    {
     "data": {
      "image/png": "[encoded data removed]",
      "text/plain": [
       "<Figure size 720x504 with 1 Axes>"
      ]
     },
     "metadata": {
      "needs_background": "light"
     },
     "output_type": "display_data"
    }
   ],
   "source": [
    "# bar chart of certification rate of registered\n",
    "certification_rate_registered.sort_values(ascending=True).plot(figsize=(10, 7), kind='barh')\n",
    "plt.xlabel('Certification rate(%)')\n",
    "plt.ylabel('Course ID')\n",
    "plt.savefig(\"plots/8.pdf\", bbox_inches='tight');"
   ]
  },
  {
   "cell_type": "code",
   "execution_count": 30,
   "metadata": {
    "scrolled": true
   },
   "outputs": [
    {
     "data": {
      "text/plain": [
       "count    16.00\n",
       "mean      3.80\n",
       "std       1.83\n",
       "min       1.26\n",
       "25%       2.60\n",
       "50%       3.55\n",
       "75%       4.58\n",
       "max       9.04\n",
       "Name: certified, dtype: float64"
      ]
     },
     "execution_count": 30,
     "metadata": {},
     "output_type": "execute_result"
    }
   ],
   "source": [
    "# statistical description\n",
    "certification_rate_registered.describe().round(2)"
   ]
  },
  {
   "cell_type": "markdown",
   "metadata": {},
   "source": [
    "For the 16 courses, the certification rates of registered range from 1.26% to 9.04%, with a mean of 3.80% and a standard deviation of 1.83%. The certification rates are very low."
   ]
  },
  {
   "cell_type": "markdown",
   "metadata": {},
   "source": [
    "### Certification rate of viewed by course"
   ]
  },
  {
   "cell_type": "code",
   "execution_count": 31,
   "metadata": {
    "scrolled": true
   },
   "outputs": [
    {
     "name": "stdout",
     "output_type": "stream",
     "text": [
      "Certification rate of viewed:\n"
     ]
    },
    {
     "data": {
      "text/plain": [
       "course_id\n",
       "MITx/6.00x/2013_Spring          2.61\n",
       "HarvardX/CB22x/2013_Spring      2.92\n",
       "HarvardX/CS50x/2012             3.08\n",
       "MITx/3.091x/2013_Spring         3.20\n",
       "MITx/8.02x/2013_Spring          3.36\n",
       "MITx/8.MReV/2013_Summer         4.37\n",
       "MITx/6.00x/2012_Fall            4.97\n",
       "MITx/7.00x/2013_Spring          5.62\n",
       "HarvardX/PH278x/2013_Spring     6.09\n",
       "MITx/2.01x/2013_Spring          6.25\n",
       "MITx/6.002x/2013_Spring         7.55\n",
       "MITx/6.002x/2012_Fall           7.79\n",
       "HarvardX/ER22x/2013_Spring      8.37\n",
       "MITx/3.091x/2012_Fall           8.94\n",
       "HarvardX/PH207x/2012_Fall       9.00\n",
       "MITx/14.73x/2013_Spring        14.28\n",
       "Name: certified, dtype: float64"
      ]
     },
     "execution_count": 31,
     "metadata": {},
     "output_type": "execute_result"
    }
   ],
   "source": [
    "# subset of viewed\n",
    "df_viewed = df_registered[df_registered.viewed == 1]\n",
    "\n",
    "# certification rate by course\n",
    "certification_rate_viewed = 100*(df_viewed[df_viewed.certified==1].groupby('course_id').certified.count()) / df_viewed.groupby('course_id').certified.count()\n",
    "print('Certification rate of viewed:')\n",
    "certification_rate_viewed.sort_values(ascending=True).round(2)\n"
   ]
  },
  {
   "cell_type": "code",
   "execution_count": 32,
   "metadata": {
    "scrolled": true
   },
   "outputs": [
    {
     "data": {
      "image/png": "[encoded data removed]",
      "text/plain": [
       "<Figure size 720x504 with 1 Axes>"
      ]
     },
     "metadata": {
      "needs_background": "light"
     },
     "output_type": "display_data"
    }
   ],
   "source": [
    "# bar chart of certification rate of viewed\n",
    "certification_rate_viewed.sort_values(ascending=True).plot(figsize=(10, 7), kind='barh')\n",
    "plt.xlabel('Certification rate(%)')\n",
    "plt.ylabel('Course ID')\n",
    "plt.savefig(\"plots/9.pdf\", bbox_inches='tight');"
   ]
  },
  {
   "cell_type": "code",
   "execution_count": 33,
   "metadata": {
    "scrolled": true
   },
   "outputs": [
    {
     "data": {
      "text/plain": [
       "count    16.00\n",
       "mean      6.15\n",
       "std       3.11\n",
       "min       2.61\n",
       "25%       3.32\n",
       "50%       5.86\n",
       "75%       7.94\n",
       "max      14.28\n",
       "Name: certified, dtype: float64"
      ]
     },
     "execution_count": 33,
     "metadata": {},
     "output_type": "execute_result"
    }
   ],
   "source": [
    "# statistical description\n",
    "certification_rate_viewed.describe().round(2)"
   ]
  },
  {
   "cell_type": "markdown",
   "metadata": {},
   "source": [
    "The certification rates of viewed vary from 2.61% to 14.28%, with a mean of 6.15% and standard deviation of 3.11%."
   ]
  },
  {
   "cell_type": "markdown",
   "metadata": {},
   "source": [
    "### Certification rate of explored by course"
   ]
  },
  {
   "cell_type": "code",
   "execution_count": 34,
   "metadata": {
    "scrolled": false
   },
   "outputs": [
    {
     "name": "stdout",
     "output_type": "stream",
     "text": [
      "Certification rate of explored:\n"
     ]
    },
    {
     "data": {
      "text/plain": [
       "course_id\n",
       "HarvardX/CS50x/2012            14.59\n",
       "MITx/8.02x/2013_Spring         42.12\n",
       "MITx/2.01x/2013_Spring         42.52\n",
       "HarvardX/PH207x/2012_Fall      45.24\n",
       "MITx/6.00x/2013_Spring         47.23\n",
       "MITx/7.00x/2013_Spring         50.10\n",
       "MITx/6.00x/2012_Fall           55.91\n",
       "HarvardX/ER22x/2013_Spring     56.18\n",
       "HarvardX/PH278x/2013_Spring    58.72\n",
       "MITx/6.002x/2012_Fall          61.97\n",
       "MITx/8.MReV/2013_Summer        70.80\n",
       "MITx/6.002x/2013_Spring        71.32\n",
       "MITx/3.091x/2012_Fall          72.02\n",
       "MITx/14.73x/2013_Spring        72.49\n",
       "HarvardX/CB22x/2013_Spring     74.19\n",
       "MITx/3.091x/2013_Spring        80.00\n",
       "Name: certified, dtype: float64"
      ]
     },
     "execution_count": 34,
     "metadata": {},
     "output_type": "execute_result"
    }
   ],
   "source": [
    "# subset of explored\n",
    "df_explored = df_registered[df_registered.explored == 1]\n",
    "\n",
    "\n",
    "# certification rate by course\n",
    "certification_rate_explored = (100*(df_explored[df_explored.certified==1].groupby('course_id').certified.count()) / df_explored.groupby('course_id').certified.count()).round(2)\n",
    "print('Certification rate of explored:')\n",
    "certification_rate_explored.sort_values(ascending=True).round(2)"
   ]
  },
  {
   "cell_type": "code",
   "execution_count": 35,
   "metadata": {
    "scrolled": true
   },
   "outputs": [
    {
     "data": {
      "image/png": "[encoded data removed]",
      "text/plain": [
       "<Figure size 720x504 with 1 Axes>"
      ]
     },
     "metadata": {
      "needs_background": "light"
     },
     "output_type": "display_data"
    }
   ],
   "source": [
    "# bar chart of certification rate of explored\n",
    "certification_rate_explored.sort_values(ascending=True).plot(figsize=(10, 7), kind='barh')\n",
    "plt.xlabel('Certification rate(%)')\n",
    "plt.ylabel('Course ID')\n",
    "plt.savefig(\"plots/10.pdf\", bbox_inches='tight');"
   ]
  },
  {
   "cell_type": "code",
   "execution_count": 36,
   "metadata": {
    "scrolled": false
   },
   "outputs": [
    {
     "data": {
      "text/plain": [
       "count    16.0\n",
       "mean     57.0\n",
       "std      17.0\n",
       "min      15.0\n",
       "25%      47.0\n",
       "50%      57.0\n",
       "75%      71.0\n",
       "max      80.0\n",
       "Name: certified, dtype: float64"
      ]
     },
     "execution_count": 36,
     "metadata": {},
     "output_type": "execute_result"
    }
   ],
   "source": [
    "# statistical description\n",
    "certification_rate_explored.describe().round()"
   ]
  },
  {
   "cell_type": "markdown",
   "metadata": {},
   "source": [
    "The certification rate of explored varies from 14.59% to 80.00%, with a mean of 57.21% and standard deviation of 17.0%"
   ]
  },
  {
   "cell_type": "markdown",
   "metadata": {},
   "source": [
    "Based on above, we will make a table to show the certification rate by course among different subpopulations."
   ]
  },
  {
   "cell_type": "code",
   "execution_count": 37,
   "metadata": {
    "scrolled": true
   },
   "outputs": [
    {
     "data": {
      "text/html": [
       "<div>\n",
       "<style scoped>\n",
       "    .dataframe tbody tr th:only-of-type {\n",
       "        vertical-align: middle;\n",
       "    }\n",
       "\n",
       "    .dataframe tbody tr th {\n",
       "        vertical-align: top;\n",
       "    }\n",
       "\n",
       "    .dataframe thead th {\n",
       "        text-align: right;\n",
       "    }\n",
       "</style>\n",
       "<table border=\"1\" class=\"dataframe\">\n",
       "  <thead>\n",
       "    <tr style=\"text-align: right;\">\n",
       "      <th></th>\n",
       "      <th>course_id</th>\n",
       "      <th>certification_rate_registered</th>\n",
       "      <th>certification_rate_viewed</th>\n",
       "      <th>certification_rate_explored</th>\n",
       "    </tr>\n",
       "  </thead>\n",
       "  <tbody>\n",
       "    <tr>\n",
       "      <th>0</th>\n",
       "      <td>HarvardX/CB22x/2013_Spring</td>\n",
       "      <td>1.62</td>\n",
       "      <td>2.92</td>\n",
       "      <td>74.19</td>\n",
       "    </tr>\n",
       "    <tr>\n",
       "      <th>1</th>\n",
       "      <td>HarvardX/CS50x/2012</td>\n",
       "      <td>1.26</td>\n",
       "      <td>3.08</td>\n",
       "      <td>14.59</td>\n",
       "    </tr>\n",
       "    <tr>\n",
       "      <th>2</th>\n",
       "      <td>HarvardX/ER22x/2013_Spring</td>\n",
       "      <td>4.87</td>\n",
       "      <td>8.37</td>\n",
       "      <td>56.18</td>\n",
       "    </tr>\n",
       "    <tr>\n",
       "      <th>3</th>\n",
       "      <td>HarvardX/PH207x/2012_Fall</td>\n",
       "      <td>5.36</td>\n",
       "      <td>9.00</td>\n",
       "      <td>45.24</td>\n",
       "    </tr>\n",
       "    <tr>\n",
       "      <th>4</th>\n",
       "      <td>HarvardX/PH278x/2013_Spring</td>\n",
       "      <td>2.41</td>\n",
       "      <td>6.09</td>\n",
       "      <td>58.72</td>\n",
       "    </tr>\n",
       "    <tr>\n",
       "      <th>5</th>\n",
       "      <td>MITx/14.73x/2013_Spring</td>\n",
       "      <td>9.04</td>\n",
       "      <td>14.28</td>\n",
       "      <td>72.49</td>\n",
       "    </tr>\n",
       "    <tr>\n",
       "      <th>6</th>\n",
       "      <td>MITx/2.01x/2013_Spring</td>\n",
       "      <td>4.33</td>\n",
       "      <td>6.25</td>\n",
       "      <td>42.52</td>\n",
       "    </tr>\n",
       "    <tr>\n",
       "      <th>7</th>\n",
       "      <td>MITx/3.091x/2012_Fall</td>\n",
       "      <td>4.48</td>\n",
       "      <td>8.94</td>\n",
       "      <td>72.02</td>\n",
       "    </tr>\n",
       "    <tr>\n",
       "      <th>8</th>\n",
       "      <td>MITx/3.091x/2013_Spring</td>\n",
       "      <td>3.20</td>\n",
       "      <td>3.20</td>\n",
       "      <td>80.00</td>\n",
       "    </tr>\n",
       "    <tr>\n",
       "      <th>9</th>\n",
       "      <td>MITx/6.002x/2012_Fall</td>\n",
       "      <td>4.89</td>\n",
       "      <td>7.79</td>\n",
       "      <td>61.97</td>\n",
       "    </tr>\n",
       "    <tr>\n",
       "      <th>10</th>\n",
       "      <td>MITx/6.002x/2013_Spring</td>\n",
       "      <td>3.95</td>\n",
       "      <td>7.55</td>\n",
       "      <td>71.32</td>\n",
       "    </tr>\n",
       "    <tr>\n",
       "      <th>11</th>\n",
       "      <td>MITx/6.00x/2012_Fall</td>\n",
       "      <td>3.06</td>\n",
       "      <td>4.97</td>\n",
       "      <td>55.91</td>\n",
       "    </tr>\n",
       "    <tr>\n",
       "      <th>12</th>\n",
       "      <td>MITx/6.00x/2013_Spring</td>\n",
       "      <td>2.61</td>\n",
       "      <td>2.61</td>\n",
       "      <td>47.23</td>\n",
       "    </tr>\n",
       "    <tr>\n",
       "      <th>13</th>\n",
       "      <td>MITx/7.00x/2013_Spring</td>\n",
       "      <td>3.77</td>\n",
       "      <td>5.62</td>\n",
       "      <td>50.10</td>\n",
       "    </tr>\n",
       "    <tr>\n",
       "      <th>14</th>\n",
       "      <td>MITx/8.02x/2013_Spring</td>\n",
       "      <td>2.56</td>\n",
       "      <td>3.36</td>\n",
       "      <td>42.12</td>\n",
       "    </tr>\n",
       "    <tr>\n",
       "      <th>15</th>\n",
       "      <td>MITx/8.MReV/2013_Summer</td>\n",
       "      <td>3.33</td>\n",
       "      <td>4.37</td>\n",
       "      <td>70.80</td>\n",
       "    </tr>\n",
       "  </tbody>\n",
       "</table>\n",
       "</div>"
      ],
      "text/plain": [
       "                      course_id  certification_rate_registered  \\\n",
       "0    HarvardX/CB22x/2013_Spring                           1.62   \n",
       "1           HarvardX/CS50x/2012                           1.26   \n",
       "2    HarvardX/ER22x/2013_Spring                           4.87   \n",
       "3     HarvardX/PH207x/2012_Fall                           5.36   \n",
       "4   HarvardX/PH278x/2013_Spring                           2.41   \n",
       "5       MITx/14.73x/2013_Spring                           9.04   \n",
       "6        MITx/2.01x/2013_Spring                           4.33   \n",
       "7         MITx/3.091x/2012_Fall                           4.48   \n",
       "8       MITx/3.091x/2013_Spring                           3.20   \n",
       "9         MITx/6.002x/2012_Fall                           4.89   \n",
       "10      MITx/6.002x/2013_Spring                           3.95   \n",
       "11         MITx/6.00x/2012_Fall                           3.06   \n",
       "12       MITx/6.00x/2013_Spring                           2.61   \n",
       "13       MITx/7.00x/2013_Spring                           3.77   \n",
       "14       MITx/8.02x/2013_Spring                           2.56   \n",
       "15      MITx/8.MReV/2013_Summer                           3.33   \n",
       "\n",
       "    certification_rate_viewed  certification_rate_explored  \n",
       "0                        2.92                        74.19  \n",
       "1                        3.08                        14.59  \n",
       "2                        8.37                        56.18  \n",
       "3                        9.00                        45.24  \n",
       "4                        6.09                        58.72  \n",
       "5                       14.28                        72.49  \n",
       "6                        6.25                        42.52  \n",
       "7                        8.94                        72.02  \n",
       "8                        3.20                        80.00  \n",
       "9                        7.79                        61.97  \n",
       "10                       7.55                        71.32  \n",
       "11                       4.97                        55.91  \n",
       "12                       2.61                        47.23  \n",
       "13                       5.62                        50.10  \n",
       "14                       3.36                        42.12  \n",
       "15                       4.37                        70.80  "
      ]
     },
     "execution_count": 37,
     "metadata": {},
     "output_type": "execute_result"
    }
   ],
   "source": [
    "certification_rate_course = pd.merge(pd.merge(certification_rate_registered.round(2), certification_rate_viewed.round(2), left_index=True, right_index=True), \\\n",
    "         certification_rate_explored.round(2), left_index=True, right_index=True).reset_index()\n",
    "certification_rate_course.columns = ['course_id', 'certification_rate_registered', 'certification_rate_viewed', 'certification_rate_explored']\n",
    "certification_rate_course"
   ]
  },
  {
   "cell_type": "code",
   "execution_count": 38,
   "metadata": {
    "scrolled": true
   },
   "outputs": [
    {
     "data": {
      "text/html": [
       "<div>\n",
       "<style scoped>\n",
       "    .dataframe tbody tr th:only-of-type {\n",
       "        vertical-align: middle;\n",
       "    }\n",
       "\n",
       "    .dataframe tbody tr th {\n",
       "        vertical-align: top;\n",
       "    }\n",
       "\n",
       "    .dataframe thead th {\n",
       "        text-align: right;\n",
       "    }\n",
       "</style>\n",
       "<table border=\"1\" class=\"dataframe\">\n",
       "  <thead>\n",
       "    <tr style=\"text-align: right;\">\n",
       "      <th></th>\n",
       "      <th>course_id</th>\n",
       "      <th>certification_rate_registered</th>\n",
       "      <th>certification_rate_viewed</th>\n",
       "      <th>certification_rate_explored</th>\n",
       "    </tr>\n",
       "  </thead>\n",
       "  <tbody>\n",
       "    <tr>\n",
       "      <th>0</th>\n",
       "      <td></td>\n",
       "      <td></td>\n",
       "      <td></td>\n",
       "      <td></td>\n",
       "    </tr>\n",
       "    <tr>\n",
       "      <th>1</th>\n",
       "      <td>mean</td>\n",
       "      <td>3.8</td>\n",
       "      <td>6.15</td>\n",
       "      <td>57.21</td>\n",
       "    </tr>\n",
       "    <tr>\n",
       "      <th>2</th>\n",
       "      <td>std</td>\n",
       "      <td>1.83</td>\n",
       "      <td>3.11</td>\n",
       "      <td>16.78</td>\n",
       "    </tr>\n",
       "    <tr>\n",
       "      <th>3</th>\n",
       "      <td>min</td>\n",
       "      <td>1.26</td>\n",
       "      <td>2.61</td>\n",
       "      <td>14.59</td>\n",
       "    </tr>\n",
       "    <tr>\n",
       "      <th>4</th>\n",
       "      <td>25%</td>\n",
       "      <td>2.6</td>\n",
       "      <td>3.32</td>\n",
       "      <td>46.73</td>\n",
       "    </tr>\n",
       "    <tr>\n",
       "      <th>5</th>\n",
       "      <td>50%</td>\n",
       "      <td>3.55</td>\n",
       "      <td>5.86</td>\n",
       "      <td>57.45</td>\n",
       "    </tr>\n",
       "    <tr>\n",
       "      <th>6</th>\n",
       "      <td>75%</td>\n",
       "      <td>4.58</td>\n",
       "      <td>7.94</td>\n",
       "      <td>71.49</td>\n",
       "    </tr>\n",
       "    <tr>\n",
       "      <th>7</th>\n",
       "      <td>max</td>\n",
       "      <td>9.04</td>\n",
       "      <td>14.28</td>\n",
       "      <td>80</td>\n",
       "    </tr>\n",
       "  </tbody>\n",
       "</table>\n",
       "</div>"
      ],
      "text/plain": [
       "  course_id certification_rate_registered certification_rate_viewed  \\\n",
       "0                                                                     \n",
       "1      mean                           3.8                      6.15   \n",
       "2       std                          1.83                      3.11   \n",
       "3       min                          1.26                      2.61   \n",
       "4       25%                           2.6                      3.32   \n",
       "5       50%                          3.55                      5.86   \n",
       "6       75%                          4.58                      7.94   \n",
       "7       max                          9.04                     14.28   \n",
       "\n",
       "  certification_rate_explored  \n",
       "0                              \n",
       "1                       57.21  \n",
       "2                       16.78  \n",
       "3                       14.59  \n",
       "4                       46.73  \n",
       "5                       57.45  \n",
       "6                       71.49  \n",
       "7                          80  "
      ]
     },
     "execution_count": 38,
     "metadata": {},
     "output_type": "execute_result"
    }
   ],
   "source": [
    "certification_rate_course_des = pd.merge(pd.merge(certification_rate_registered.describe().round(2), certification_rate_viewed.describe().round(2), left_index=True, right_index=True), \\\n",
    "         certification_rate_explored.describe().round(2), left_index=True, right_index=True).reset_index()\n",
    "certification_rate_course_des.columns = ['course_id', 'certification_rate_registered', 'certification_rate_viewed', 'certification_rate_explored']\n",
    "certification_rate_course_des.iloc[0] = ''\n",
    "certification_rate_course_des"
   ]
  },
  {
   "cell_type": "code",
   "execution_count": 39,
   "metadata": {},
   "outputs": [
    {
     "data": {
      "text/html": [
       "<div>\n",
       "<style scoped>\n",
       "    .dataframe tbody tr th:only-of-type {\n",
       "        vertical-align: middle;\n",
       "    }\n",
       "\n",
       "    .dataframe tbody tr th {\n",
       "        vertical-align: top;\n",
       "    }\n",
       "\n",
       "    .dataframe thead th {\n",
       "        text-align: right;\n",
       "    }\n",
       "</style>\n",
       "<table border=\"1\" class=\"dataframe\">\n",
       "  <thead>\n",
       "    <tr style=\"text-align: right;\">\n",
       "      <th></th>\n",
       "      <th>course_id</th>\n",
       "      <th>certification_rate_registered</th>\n",
       "      <th>certification_rate_viewed</th>\n",
       "      <th>certification_rate_explored</th>\n",
       "    </tr>\n",
       "  </thead>\n",
       "  <tbody>\n",
       "    <tr>\n",
       "      <th>0</th>\n",
       "      <td>HarvardX/CB22x/2013_Spring</td>\n",
       "      <td>1.62</td>\n",
       "      <td>2.92</td>\n",
       "      <td>74.19</td>\n",
       "    </tr>\n",
       "    <tr>\n",
       "      <th>1</th>\n",
       "      <td>HarvardX/CS50x/2012</td>\n",
       "      <td>1.26</td>\n",
       "      <td>3.08</td>\n",
       "      <td>14.59</td>\n",
       "    </tr>\n",
       "    <tr>\n",
       "      <th>2</th>\n",
       "      <td>HarvardX/ER22x/2013_Spring</td>\n",
       "      <td>4.87</td>\n",
       "      <td>8.37</td>\n",
       "      <td>56.18</td>\n",
       "    </tr>\n",
       "    <tr>\n",
       "      <th>3</th>\n",
       "      <td>HarvardX/PH207x/2012_Fall</td>\n",
       "      <td>5.36</td>\n",
       "      <td>9</td>\n",
       "      <td>45.24</td>\n",
       "    </tr>\n",
       "    <tr>\n",
       "      <th>4</th>\n",
       "      <td>HarvardX/PH278x/2013_Spring</td>\n",
       "      <td>2.41</td>\n",
       "      <td>6.09</td>\n",
       "      <td>58.72</td>\n",
       "    </tr>\n",
       "    <tr>\n",
       "      <th>5</th>\n",
       "      <td>MITx/14.73x/2013_Spring</td>\n",
       "      <td>9.04</td>\n",
       "      <td>14.28</td>\n",
       "      <td>72.49</td>\n",
       "    </tr>\n",
       "    <tr>\n",
       "      <th>6</th>\n",
       "      <td>MITx/2.01x/2013_Spring</td>\n",
       "      <td>4.33</td>\n",
       "      <td>6.25</td>\n",
       "      <td>42.52</td>\n",
       "    </tr>\n",
       "    <tr>\n",
       "      <th>7</th>\n",
       "      <td>MITx/3.091x/2012_Fall</td>\n",
       "      <td>4.48</td>\n",
       "      <td>8.94</td>\n",
       "      <td>72.02</td>\n",
       "    </tr>\n",
       "    <tr>\n",
       "      <th>8</th>\n",
       "      <td>MITx/3.091x/2013_Spring</td>\n",
       "      <td>3.2</td>\n",
       "      <td>3.2</td>\n",
       "      <td>80</td>\n",
       "    </tr>\n",
       "    <tr>\n",
       "      <th>9</th>\n",
       "      <td>MITx/6.002x/2012_Fall</td>\n",
       "      <td>4.89</td>\n",
       "      <td>7.79</td>\n",
       "      <td>61.97</td>\n",
       "    </tr>\n",
       "    <tr>\n",
       "      <th>10</th>\n",
       "      <td>MITx/6.002x/2013_Spring</td>\n",
       "      <td>3.95</td>\n",
       "      <td>7.55</td>\n",
       "      <td>71.32</td>\n",
       "    </tr>\n",
       "    <tr>\n",
       "      <th>11</th>\n",
       "      <td>MITx/6.00x/2012_Fall</td>\n",
       "      <td>3.06</td>\n",
       "      <td>4.97</td>\n",
       "      <td>55.91</td>\n",
       "    </tr>\n",
       "    <tr>\n",
       "      <th>12</th>\n",
       "      <td>MITx/6.00x/2013_Spring</td>\n",
       "      <td>2.61</td>\n",
       "      <td>2.61</td>\n",
       "      <td>47.23</td>\n",
       "    </tr>\n",
       "    <tr>\n",
       "      <th>13</th>\n",
       "      <td>MITx/7.00x/2013_Spring</td>\n",
       "      <td>3.77</td>\n",
       "      <td>5.62</td>\n",
       "      <td>50.1</td>\n",
       "    </tr>\n",
       "    <tr>\n",
       "      <th>14</th>\n",
       "      <td>MITx/8.02x/2013_Spring</td>\n",
       "      <td>2.56</td>\n",
       "      <td>3.36</td>\n",
       "      <td>42.12</td>\n",
       "    </tr>\n",
       "    <tr>\n",
       "      <th>15</th>\n",
       "      <td>MITx/8.MReV/2013_Summer</td>\n",
       "      <td>3.33</td>\n",
       "      <td>4.37</td>\n",
       "      <td>70.8</td>\n",
       "    </tr>\n",
       "    <tr>\n",
       "      <th>0</th>\n",
       "      <td></td>\n",
       "      <td></td>\n",
       "      <td></td>\n",
       "      <td></td>\n",
       "    </tr>\n",
       "    <tr>\n",
       "      <th>1</th>\n",
       "      <td>mean</td>\n",
       "      <td>3.8</td>\n",
       "      <td>6.15</td>\n",
       "      <td>57.21</td>\n",
       "    </tr>\n",
       "    <tr>\n",
       "      <th>2</th>\n",
       "      <td>std</td>\n",
       "      <td>1.83</td>\n",
       "      <td>3.11</td>\n",
       "      <td>16.78</td>\n",
       "    </tr>\n",
       "    <tr>\n",
       "      <th>3</th>\n",
       "      <td>min</td>\n",
       "      <td>1.26</td>\n",
       "      <td>2.61</td>\n",
       "      <td>14.59</td>\n",
       "    </tr>\n",
       "    <tr>\n",
       "      <th>4</th>\n",
       "      <td>25%</td>\n",
       "      <td>2.6</td>\n",
       "      <td>3.32</td>\n",
       "      <td>46.73</td>\n",
       "    </tr>\n",
       "    <tr>\n",
       "      <th>5</th>\n",
       "      <td>50%</td>\n",
       "      <td>3.55</td>\n",
       "      <td>5.86</td>\n",
       "      <td>57.45</td>\n",
       "    </tr>\n",
       "    <tr>\n",
       "      <th>6</th>\n",
       "      <td>75%</td>\n",
       "      <td>4.58</td>\n",
       "      <td>7.94</td>\n",
       "      <td>71.49</td>\n",
       "    </tr>\n",
       "    <tr>\n",
       "      <th>7</th>\n",
       "      <td>max</td>\n",
       "      <td>9.04</td>\n",
       "      <td>14.28</td>\n",
       "      <td>80</td>\n",
       "    </tr>\n",
       "  </tbody>\n",
       "</table>\n",
       "</div>"
      ],
      "text/plain": [
       "                      course_id certification_rate_registered  \\\n",
       "0    HarvardX/CB22x/2013_Spring                          1.62   \n",
       "1           HarvardX/CS50x/2012                          1.26   \n",
       "2    HarvardX/ER22x/2013_Spring                          4.87   \n",
       "3     HarvardX/PH207x/2012_Fall                          5.36   \n",
       "4   HarvardX/PH278x/2013_Spring                          2.41   \n",
       "5       MITx/14.73x/2013_Spring                          9.04   \n",
       "6        MITx/2.01x/2013_Spring                          4.33   \n",
       "7         MITx/3.091x/2012_Fall                          4.48   \n",
       "8       MITx/3.091x/2013_Spring                           3.2   \n",
       "9         MITx/6.002x/2012_Fall                          4.89   \n",
       "10      MITx/6.002x/2013_Spring                          3.95   \n",
       "11         MITx/6.00x/2012_Fall                          3.06   \n",
       "12       MITx/6.00x/2013_Spring                          2.61   \n",
       "13       MITx/7.00x/2013_Spring                          3.77   \n",
       "14       MITx/8.02x/2013_Spring                          2.56   \n",
       "15      MITx/8.MReV/2013_Summer                          3.33   \n",
       "0                                                               \n",
       "1                          mean                           3.8   \n",
       "2                           std                          1.83   \n",
       "3                           min                          1.26   \n",
       "4                           25%                           2.6   \n",
       "5                           50%                          3.55   \n",
       "6                           75%                          4.58   \n",
       "7                           max                          9.04   \n",
       "\n",
       "   certification_rate_viewed certification_rate_explored  \n",
       "0                       2.92                       74.19  \n",
       "1                       3.08                       14.59  \n",
       "2                       8.37                       56.18  \n",
       "3                          9                       45.24  \n",
       "4                       6.09                       58.72  \n",
       "5                      14.28                       72.49  \n",
       "6                       6.25                       42.52  \n",
       "7                       8.94                       72.02  \n",
       "8                        3.2                          80  \n",
       "9                       7.79                       61.97  \n",
       "10                      7.55                       71.32  \n",
       "11                      4.97                       55.91  \n",
       "12                      2.61                       47.23  \n",
       "13                      5.62                        50.1  \n",
       "14                      3.36                       42.12  \n",
       "15                      4.37                        70.8  \n",
       "0                                                         \n",
       "1                       6.15                       57.21  \n",
       "2                       3.11                       16.78  \n",
       "3                       2.61                       14.59  \n",
       "4                       3.32                       46.73  \n",
       "5                       5.86                       57.45  \n",
       "6                       7.94                       71.49  \n",
       "7                      14.28                          80  "
      ]
     },
     "execution_count": 39,
     "metadata": {},
     "output_type": "execute_result"
    }
   ],
   "source": [
    "pd.concat([certification_rate_course, certification_rate_course_des])"
   ]
  },
  {
   "cell_type": "markdown",
   "metadata": {},
   "source": [
    "## Certification rate of registered is meaningless\n",
    "\n",
    "### Never Returned"
   ]
  },
  {
   "cell_type": "code",
   "execution_count": 40,
   "metadata": {},
   "outputs": [
    {
     "name": "stdout",
     "output_type": "stream",
     "text": [
      "41% of the registrants never returned to the course after registration\n"
     ]
    }
   ],
   "source": [
    "never_returned = df_registered[df_registered.viewed==0].shape[0]/df_registered.shape[0]\n",
    "print('{:.0%} of the registrants never returned to the course after registration'.format(never_returned))"
   ]
  },
  {
   "cell_type": "markdown",
   "metadata": {},
   "source": [
    "### Grade"
   ]
  },
  {
   "cell_type": "code",
   "execution_count": 41,
   "metadata": {},
   "outputs": [
    {
     "data": {
      "image/png": "[encoded data removed]",
      "text/plain": [
       "<Figure size 864x432 with 1 Axes>"
      ]
     },
     "metadata": {
      "needs_background": "light"
     },
     "output_type": "display_data"
    }
   ],
   "source": [
    "# distribution of grade in bin size 0.05\n",
    "plt.figure(figsize=(12, 6))\n",
    "ticks = [0.0, 0.1, 0.2, 0.3, 0.4, 0.4, 0.5, 0.6, 0.7, 0.8, 0.9, 1.0]\n",
    "bins = np.arange(0, 1+0.1, 0.05)\n",
    "plt.hist(data=df_registered, x='grade', bins=bins)\n",
    "plt.xlabel('Grade')\n",
    "plt.ylabel('Count')\n",
    "plt.xticks(ticks)\n",
    "plt.savefig(\"plots/11.pdf\", bbox_inches='tight');"
   ]
  },
  {
   "cell_type": "markdown",
   "metadata": {},
   "source": [
    "The distribution of grade is seriously right skewed. Most learners have a grade of close to 0."
   ]
  },
  {
   "cell_type": "code",
   "execution_count": 42,
   "metadata": {
    "scrolled": true
   },
   "outputs": [
    {
     "name": "stdout",
     "output_type": "stream",
     "text": [
      "86% learners got a grade of 0\n"
     ]
    }
   ],
   "source": [
    "# proportion of learners with a grade of 0\n",
    "grade0_prop = df_registered[df_registered.grade==0].shape[0] / df_registered.shape[0]\n",
    "\n",
    "print('{:.0%} learners got a grade of 0'.format(grade0_prop))"
   ]
  },
  {
   "cell_type": "markdown",
   "metadata": {},
   "source": [
    "### nevents, ndays_act, nplay_video, nchapters, nforum_posts: activities"
   ]
  },
  {
   "cell_type": "code",
   "execution_count": 43,
   "metadata": {},
   "outputs": [
    {
     "data": {
      "image/png": "[encoded data removed]",
      "text/plain": [
       "<Figure size 1800x1800 with 5 Axes>"
      ]
     },
     "metadata": {
      "needs_background": "light"
     },
     "output_type": "display_data"
    }
   ],
   "source": [
    "# distribution of nevents, ndays_act, nplay_video, nchapters, nforum_posts\n",
    "plt.figure(figsize=(25, 25))\n",
    "\n",
    "plt.subplot(3, 2, 1)\n",
    "plt.hist(data=df_registered, x='nevents', bins=50)\n",
    "plt.xlabel('Number of Events', fontsize=18)\n",
    "plt.ylabel('Count', fontsize=18)\n",
    "\n",
    "plt.subplot(3, 2, 2)\n",
    "plt.hist(data=df_registered, x='ndays_act', bins=50)\n",
    "plt.xlabel('Number of Active Days', fontsize=18)\n",
    "\n",
    "\n",
    "plt.subplot(3, 2, 3)\n",
    "plt.hist(data=df_registered, x='nplay_video', bins=20)\n",
    "plt.xlabel('Number of Videos Played', fontsize=18)\n",
    "plt.ylabel('Count', fontsize=18)\n",
    "\n",
    "plt.subplot(3, 2, 4)\n",
    "plt.hist(data=df_registered, x='nchapters', bins=50)\n",
    "plt.xlabel('Number of Chapters', fontsize=18)\n",
    "\n",
    "\n",
    "plt.subplot(3, 2, 5)\n",
    "plt.hist(data=df_registered, x='nforum_posts', bins=20)\n",
    "plt.xlabel('Number of Forum Posts', fontsize=18)\n",
    "plt.ylabel('Count', fontsize=18)\n",
    "plt.savefig(\"plots/12.pdf\", bbox_inches='tight');"
   ]
  },
  {
   "cell_type": "markdown",
   "metadata": {},
   "source": [
    "The nevents, ndays_act, nplay_video, nchapters, nforum_posts are close to 0 for most of the learners."
   ]
  },
  {
   "cell_type": "markdown",
   "metadata": {},
   "source": [
    "Based on the exploration above, 41% of the registrants never returned to the course after registration, 86% learners got a grade of 0, the nevents, ndays_act, nplay_video, nchapters, nforum_posts are close to 0 from most of the learners. All these indicate that many learners did not intend to complete the course. The completion rate of all the registrants is meaningless and misleading, we need to explore completion rate in the context of learners' intention."
   ]
  },
  {
   "cell_type": "markdown",
   "metadata": {},
   "source": [
    "# Exploration of Intended"
   ]
  },
  {
   "cell_type": "markdown",
   "metadata": {},
   "source": [
    "## Define Intended\n",
    "\n",
    "We totally agree that the learners in MOOC are behaving differently from the traditional education learners. Some registered just to bookmark a course and most of them never came back; Some prospective college students registered to decide which major to take; Some registered to audit the course, did not mean to complete the course. However, we argue that there are still some students who intended to complete the course. Their behavior is similar to that of the traditional education. This subpopulation is our target of research. We will define the intended below to explore their retention pattern. The intended is defined as those who intended to complete a course.\n",
    "\n",
    "As we know, in traditional on-campus courses, there are 2 weeks that the students can audit the course to decide whether to take the course or not. 2 weeks is roughly 13% of a semester long course. Similarly we will use 13% proportion to filter the intended.\n",
    "\n",
    "However, this 13% proportion alone may not be enough. To define intended, we will also make sure a learner interacted with the course during his lifetime. We will also use 13% of chapters viewed to filter the intended.\n",
    "\n",
    "There are some learners who interacted a lot with the course but did not meant to complete the course. We assume that these learners are less likely to do the quizzes and assignments thus their grade may be pretty low. To exclude them from our subset, we will make sure all the intended have a grade greater than 0.\n",
    "\n",
    "Based on the above, we will use these 3 conditions to filter the intended:\n",
    "\n",
    "- The learner's lifetime is more than 13% of the course duration\n",
    "- The learner interacted with at least 13% of the chapters\n",
    "- The learner's grade is greater than 0\n",
    "\n",
    "In order to get our subset, first we need to do some feature engineering.\n",
    "\n",
    "We have the number of chapters the learner viewed, but we do not have the number of chapters in the course. We assume that for each course at least one learner who certified view all the chapters. We will regard the max of nchapters as the number of chapters of the course. Then we will calculate the proportion of chapters viewed in chapters of the course.\n"
   ]
  },
  {
   "cell_type": "code",
   "execution_count": 44,
   "metadata": {
    "scrolled": true
   },
   "outputs": [],
   "source": [
    "# create a dictionary with the course_id as the key, the max of nchapters as the value\n",
    "nchapters_dic_key = df_registered.groupby('course_id').nchapters.max().index\n",
    "nchapters_dic_value = df_registered.groupby('course_id').nchapters.max().values\n",
    "nchapters_dic = dict(zip(nchapters_dic_key, nchapters_dic_value))\n"
   ]
  },
  {
   "cell_type": "code",
   "execution_count": 45,
   "metadata": {
    "scrolled": true
   },
   "outputs": [],
   "source": [
    "# map the dictionary to create a new column course_chapters, then create chapters_proportion variable.\n",
    "df_registered['course_chapters'] = df_registered['course_id'].map(nchapters_dic)\n",
    "df_registered['chapters_proportion'] = 100*df_registered['nchapters'] / df_registered['course_chapters']\n"
   ]
  },
  {
   "cell_type": "code",
   "execution_count": 46,
   "metadata": {
    "scrolled": true
   },
   "outputs": [
    {
     "data": {
      "text/html": [
       "<div>\n",
       "<style scoped>\n",
       "    .dataframe tbody tr th:only-of-type {\n",
       "        vertical-align: middle;\n",
       "    }\n",
       "\n",
       "    .dataframe tbody tr th {\n",
       "        vertical-align: top;\n",
       "    }\n",
       "\n",
       "    .dataframe thead th {\n",
       "        text-align: right;\n",
       "    }\n",
       "</style>\n",
       "<table border=\"1\" class=\"dataframe\">\n",
       "  <thead>\n",
       "    <tr style=\"text-align: right;\">\n",
       "      <th></th>\n",
       "      <th>course_id</th>\n",
       "      <th>user_id</th>\n",
       "      <th>viewed</th>\n",
       "      <th>explored</th>\n",
       "      <th>certified</th>\n",
       "      <th>country</th>\n",
       "      <th>education</th>\n",
       "      <th>gender</th>\n",
       "      <th>grade</th>\n",
       "      <th>time_registered</th>\n",
       "      <th>...</th>\n",
       "      <th>region</th>\n",
       "      <th>age</th>\n",
       "      <th>course_launch</th>\n",
       "      <th>course_wrap</th>\n",
       "      <th>course_duration</th>\n",
       "      <th>registered_launch_delta</th>\n",
       "      <th>course_subject</th>\n",
       "      <th>lifetime_proportion</th>\n",
       "      <th>course_chapters</th>\n",
       "      <th>chapters_proportion</th>\n",
       "    </tr>\n",
       "  </thead>\n",
       "  <tbody>\n",
       "    <tr>\n",
       "      <th>30</th>\n",
       "      <td>HarvardX/CS50x/2012</td>\n",
       "      <td>MHxPC130320562</td>\n",
       "      <td>1</td>\n",
       "      <td>1</td>\n",
       "      <td>1</td>\n",
       "      <td>Other Europe</td>\n",
       "      <td>Master's</td>\n",
       "      <td>m</td>\n",
       "      <td>1.00</td>\n",
       "      <td>2012-07-24</td>\n",
       "      <td>...</td>\n",
       "      <td>NonUS</td>\n",
       "      <td>29.0</td>\n",
       "      <td>2012-10-15</td>\n",
       "      <td>2013-04-15</td>\n",
       "      <td>182</td>\n",
       "      <td>-83</td>\n",
       "      <td>OTHERS</td>\n",
       "      <td>111.538462</td>\n",
       "      <td>12.0</td>\n",
       "      <td>100.00</td>\n",
       "    </tr>\n",
       "    <tr>\n",
       "      <th>61</th>\n",
       "      <td>HarvardX/PH207x/2012_Fall</td>\n",
       "      <td>MHxPC130123976</td>\n",
       "      <td>1</td>\n",
       "      <td>1</td>\n",
       "      <td>0</td>\n",
       "      <td>Other Europe</td>\n",
       "      <td>Master's</td>\n",
       "      <td>f</td>\n",
       "      <td>0.29</td>\n",
       "      <td>2012-07-24</td>\n",
       "      <td>...</td>\n",
       "      <td>NonUS</td>\n",
       "      <td>29.0</td>\n",
       "      <td>2012-10-15</td>\n",
       "      <td>2013-01-30</td>\n",
       "      <td>107</td>\n",
       "      <td>-83</td>\n",
       "      <td>OTHERS</td>\n",
       "      <td>267.289720</td>\n",
       "      <td>16.0</td>\n",
       "      <td>56.25</td>\n",
       "    </tr>\n",
       "    <tr>\n",
       "      <th>116</th>\n",
       "      <td>HarvardX/ER22x/2013_Spring</td>\n",
       "      <td>MHxPC130076788</td>\n",
       "      <td>1</td>\n",
       "      <td>1</td>\n",
       "      <td>0</td>\n",
       "      <td>Other South Asia</td>\n",
       "      <td>Secondary</td>\n",
       "      <td>m</td>\n",
       "      <td>0.30</td>\n",
       "      <td>2012-12-20</td>\n",
       "      <td>...</td>\n",
       "      <td>NonUS</td>\n",
       "      <td>18.0</td>\n",
       "      <td>2013-03-02</td>\n",
       "      <td>2013-07-26</td>\n",
       "      <td>146</td>\n",
       "      <td>-72</td>\n",
       "      <td>OTHERS</td>\n",
       "      <td>102.054795</td>\n",
       "      <td>34.0</td>\n",
       "      <td>50.00</td>\n",
       "    </tr>\n",
       "    <tr>\n",
       "      <th>158</th>\n",
       "      <td>HarvardX/CS50x/2012</td>\n",
       "      <td>MHxPC130574671</td>\n",
       "      <td>1</td>\n",
       "      <td>1</td>\n",
       "      <td>1</td>\n",
       "      <td>Egypt</td>\n",
       "      <td>Secondary</td>\n",
       "      <td>m</td>\n",
       "      <td>1.00</td>\n",
       "      <td>2012-10-16</td>\n",
       "      <td>...</td>\n",
       "      <td>NonUS</td>\n",
       "      <td>17.0</td>\n",
       "      <td>2012-10-15</td>\n",
       "      <td>2013-04-15</td>\n",
       "      <td>182</td>\n",
       "      <td>1</td>\n",
       "      <td>OTHERS</td>\n",
       "      <td>136.263736</td>\n",
       "      <td>12.0</td>\n",
       "      <td>100.00</td>\n",
       "    </tr>\n",
       "    <tr>\n",
       "      <th>190</th>\n",
       "      <td>HarvardX/PH207x/2012_Fall</td>\n",
       "      <td>MHxPC130118631</td>\n",
       "      <td>1</td>\n",
       "      <td>0</td>\n",
       "      <td>0</td>\n",
       "      <td>Other Europe</td>\n",
       "      <td>Master's</td>\n",
       "      <td>m</td>\n",
       "      <td>0.18</td>\n",
       "      <td>2012-07-24</td>\n",
       "      <td>...</td>\n",
       "      <td>NonUS</td>\n",
       "      <td>29.0</td>\n",
       "      <td>2012-10-15</td>\n",
       "      <td>2013-01-30</td>\n",
       "      <td>107</td>\n",
       "      <td>-83</td>\n",
       "      <td>OTHERS</td>\n",
       "      <td>35.514019</td>\n",
       "      <td>16.0</td>\n",
       "      <td>43.75</td>\n",
       "    </tr>\n",
       "  </tbody>\n",
       "</table>\n",
       "<p>5 rows × 29 columns</p>\n",
       "</div>"
      ],
      "text/plain": [
       "                      course_id         user_id  viewed  explored  certified  \\\n",
       "30          HarvardX/CS50x/2012  MHxPC130320562       1         1          1   \n",
       "61    HarvardX/PH207x/2012_Fall  MHxPC130123976       1         1          0   \n",
       "116  HarvardX/ER22x/2013_Spring  MHxPC130076788       1         1          0   \n",
       "158         HarvardX/CS50x/2012  MHxPC130574671       1         1          1   \n",
       "190   HarvardX/PH207x/2012_Fall  MHxPC130118631       1         0          0   \n",
       "\n",
       "              country  education gender  grade time_registered  ... region  \\\n",
       "30       Other Europe   Master's      m   1.00      2012-07-24  ...  NonUS   \n",
       "61       Other Europe   Master's      f   0.29      2012-07-24  ...  NonUS   \n",
       "116  Other South Asia  Secondary      m   0.30      2012-12-20  ...  NonUS   \n",
       "158             Egypt  Secondary      m   1.00      2012-10-16  ...  NonUS   \n",
       "190      Other Europe   Master's      m   0.18      2012-07-24  ...  NonUS   \n",
       "\n",
       "      age  course_launch  course_wrap  course_duration  \\\n",
       "30   29.0     2012-10-15   2013-04-15              182   \n",
       "61   29.0     2012-10-15   2013-01-30              107   \n",
       "116  18.0     2013-03-02   2013-07-26              146   \n",
       "158  17.0     2012-10-15   2013-04-15              182   \n",
       "190  29.0     2012-10-15   2013-01-30              107   \n",
       "\n",
       "     registered_launch_delta course_subject lifetime_proportion  \\\n",
       "30                       -83         OTHERS          111.538462   \n",
       "61                       -83         OTHERS          267.289720   \n",
       "116                      -72         OTHERS          102.054795   \n",
       "158                        1         OTHERS          136.263736   \n",
       "190                      -83         OTHERS           35.514019   \n",
       "\n",
       "    course_chapters chapters_proportion  \n",
       "30             12.0              100.00  \n",
       "61             16.0               56.25  \n",
       "116            34.0               50.00  \n",
       "158            12.0              100.00  \n",
       "190            16.0               43.75  \n",
       "\n",
       "[5 rows x 29 columns]"
      ]
     },
     "execution_count": 46,
     "metadata": {},
     "output_type": "execute_result"
    }
   ],
   "source": [
    "# create intended variable based on the 2 conditions: lifetime_proportion > 13% and chapters_proportion > 13%\n",
    "intended_condition =  (df_registered['lifetime_proportion'] > 13) & (df_registered['chapters_proportion'] > 13) & (df_registered['grade'] > 0) \n",
    "df_intended= df_registered[intended_condition] \n",
    "df_intended.head()"
   ]
  },
  {
   "cell_type": "markdown",
   "metadata": {},
   "source": [
    "Since our main focus is on intended, we will drop viewed and explored"
   ]
  },
  {
   "cell_type": "code",
   "execution_count": 47,
   "metadata": {},
   "outputs": [],
   "source": [
    "# drop viewed and explored\n",
    "df_intended = df_intended.drop(['viewed', 'explored'], axis=1)"
   ]
  },
  {
   "cell_type": "code",
   "execution_count": 48,
   "metadata": {},
   "outputs": [
    {
     "name": "stdout",
     "output_type": "stream",
     "text": [
      "The intended dataset has 48278 records with 27 columns\n"
     ]
    }
   ],
   "source": [
    "# size of the dataset\n",
    "print('The intended dataset has {} records with {} columns'.format(df_intended.shape[0], df_intended.shape[1]))"
   ]
  },
  {
   "cell_type": "code",
   "execution_count": 49,
   "metadata": {},
   "outputs": [
    {
     "name": "stdout",
     "output_type": "stream",
     "text": [
      "12% of the registered in our dataset intended to complete a course\n"
     ]
    }
   ],
   "source": [
    "# proportion of subset\n",
    "\n",
    "print('{:.0%} of the registered in our dataset intended to complete a course'.format(df_intended.shape[0]/df_registered.shape[0]))\n"
   ]
  },
  {
   "cell_type": "code",
   "execution_count": 50,
   "metadata": {
    "scrolled": true
   },
   "outputs": [
    {
     "name": "stdout",
     "output_type": "stream",
     "text": [
      "<class 'pandas.core.frame.DataFrame'>\n",
      "Int64Index: 48278 entries, 30 to 402436\n",
      "Data columns (total 27 columns):\n",
      "course_id                  48278 non-null object\n",
      "user_id                    48278 non-null object\n",
      "certified                  48278 non-null int64\n",
      "country                    48278 non-null object\n",
      "education                  48278 non-null object\n",
      "gender                     48278 non-null object\n",
      "grade                      48278 non-null float64\n",
      "time_registered            48278 non-null datetime64[ns]\n",
      "last_event                 48278 non-null datetime64[ns]\n",
      "nevents                    48278 non-null float64\n",
      "ndays_act                  48278 non-null float64\n",
      "nplay_video                48278 non-null float64\n",
      "nchapters                  48278 non-null float64\n",
      "nforum_posts               48278 non-null int64\n",
      "institution                48278 non-null object\n",
      "course_code                48278 non-null object\n",
      "semester                   48278 non-null object\n",
      "region                     48278 non-null object\n",
      "age                        48278 non-null float64\n",
      "course_launch              48278 non-null datetime64[ns]\n",
      "course_wrap                48278 non-null datetime64[ns]\n",
      "course_duration            48278 non-null int64\n",
      "registered_launch_delta    48278 non-null int64\n",
      "course_subject             48278 non-null object\n",
      "lifetime_proportion        48278 non-null float64\n",
      "course_chapters            48278 non-null float64\n",
      "chapters_proportion        48278 non-null float64\n",
      "dtypes: datetime64[ns](4), float64(9), int64(4), object(10)\n",
      "memory usage: 10.3+ MB\n"
     ]
    }
   ],
   "source": [
    "# basic info \n",
    "df_intended.info()"
   ]
  },
  {
   "cell_type": "code",
   "execution_count": 51,
   "metadata": {
    "scrolled": false
   },
   "outputs": [
    {
     "data": {
      "text/html": [
       "<div>\n",
       "<style scoped>\n",
       "    .dataframe tbody tr th:only-of-type {\n",
       "        vertical-align: middle;\n",
       "    }\n",
       "\n",
       "    .dataframe tbody tr th {\n",
       "        vertical-align: top;\n",
       "    }\n",
       "\n",
       "    .dataframe thead th {\n",
       "        text-align: right;\n",
       "    }\n",
       "</style>\n",
       "<table border=\"1\" class=\"dataframe\">\n",
       "  <thead>\n",
       "    <tr style=\"text-align: right;\">\n",
       "      <th></th>\n",
       "      <th>certified</th>\n",
       "      <th>grade</th>\n",
       "      <th>nevents</th>\n",
       "      <th>ndays_act</th>\n",
       "      <th>nplay_video</th>\n",
       "      <th>nchapters</th>\n",
       "      <th>nforum_posts</th>\n",
       "      <th>age</th>\n",
       "      <th>course_duration</th>\n",
       "      <th>registered_launch_delta</th>\n",
       "      <th>lifetime_proportion</th>\n",
       "      <th>course_chapters</th>\n",
       "      <th>chapters_proportion</th>\n",
       "    </tr>\n",
       "  </thead>\n",
       "  <tbody>\n",
       "    <tr>\n",
       "      <th>count</th>\n",
       "      <td>48278.00</td>\n",
       "      <td>48278.00</td>\n",
       "      <td>48278.00</td>\n",
       "      <td>48278.00</td>\n",
       "      <td>48278.00</td>\n",
       "      <td>48278.00</td>\n",
       "      <td>48278.00</td>\n",
       "      <td>48278.00</td>\n",
       "      <td>48278.00</td>\n",
       "      <td>48278.00</td>\n",
       "      <td>48278.00</td>\n",
       "      <td>48278.00</td>\n",
       "      <td>48278.00</td>\n",
       "    </tr>\n",
       "    <tr>\n",
       "      <th>mean</th>\n",
       "      <td>0.28</td>\n",
       "      <td>0.31</td>\n",
       "      <td>2428.19</td>\n",
       "      <td>22.97</td>\n",
       "      <td>256.98</td>\n",
       "      <td>9.51</td>\n",
       "      <td>0.08</td>\n",
       "      <td>26.96</td>\n",
       "      <td>114.53</td>\n",
       "      <td>-2.26</td>\n",
       "      <td>89.31</td>\n",
       "      <td>19.33</td>\n",
       "      <td>49.72</td>\n",
       "    </tr>\n",
       "    <tr>\n",
       "      <th>std</th>\n",
       "      <td>0.45</td>\n",
       "      <td>0.36</td>\n",
       "      <td>2973.88</td>\n",
       "      <td>21.46</td>\n",
       "      <td>529.60</td>\n",
       "      <td>7.00</td>\n",
       "      <td>0.39</td>\n",
       "      <td>8.56</td>\n",
       "      <td>20.81</td>\n",
       "      <td>42.52</td>\n",
       "      <td>59.20</td>\n",
       "      <td>6.75</td>\n",
       "      <td>30.53</td>\n",
       "    </tr>\n",
       "    <tr>\n",
       "      <th>min</th>\n",
       "      <td>0.00</td>\n",
       "      <td>0.01</td>\n",
       "      <td>1.00</td>\n",
       "      <td>1.00</td>\n",
       "      <td>0.00</td>\n",
       "      <td>2.00</td>\n",
       "      <td>0.00</td>\n",
       "      <td>11.00</td>\n",
       "      <td>71.00</td>\n",
       "      <td>-147.00</td>\n",
       "      <td>13.01</td>\n",
       "      <td>11.00</td>\n",
       "      <td>13.64</td>\n",
       "    </tr>\n",
       "    <tr>\n",
       "      <th>25%</th>\n",
       "      <td>0.00</td>\n",
       "      <td>0.02</td>\n",
       "      <td>561.00</td>\n",
       "      <td>8.00</td>\n",
       "      <td>8.00</td>\n",
       "      <td>4.00</td>\n",
       "      <td>0.00</td>\n",
       "      <td>21.00</td>\n",
       "      <td>107.00</td>\n",
       "      <td>-26.00</td>\n",
       "      <td>38.78</td>\n",
       "      <td>16.00</td>\n",
       "      <td>21.05</td>\n",
       "    </tr>\n",
       "    <tr>\n",
       "      <th>50%</th>\n",
       "      <td>0.00</td>\n",
       "      <td>0.11</td>\n",
       "      <td>1264.50</td>\n",
       "      <td>15.00</td>\n",
       "      <td>86.00</td>\n",
       "      <td>7.00</td>\n",
       "      <td>0.00</td>\n",
       "      <td>25.00</td>\n",
       "      <td>111.00</td>\n",
       "      <td>-2.00</td>\n",
       "      <td>88.79</td>\n",
       "      <td>19.00</td>\n",
       "      <td>38.24</td>\n",
       "    </tr>\n",
       "    <tr>\n",
       "      <th>75%</th>\n",
       "      <td>1.00</td>\n",
       "      <td>0.66</td>\n",
       "      <td>3173.00</td>\n",
       "      <td>32.00</td>\n",
       "      <td>278.00</td>\n",
       "      <td>13.00</td>\n",
       "      <td>0.00</td>\n",
       "      <td>30.00</td>\n",
       "      <td>120.00</td>\n",
       "      <td>12.00</td>\n",
       "      <td>115.75</td>\n",
       "      <td>19.00</td>\n",
       "      <td>81.73</td>\n",
       "    </tr>\n",
       "    <tr>\n",
       "      <th>max</th>\n",
       "      <td>1.00</td>\n",
       "      <td>1.00</td>\n",
       "      <td>53180.00</td>\n",
       "      <td>162.00</td>\n",
       "      <td>24564.00</td>\n",
       "      <td>47.00</td>\n",
       "      <td>6.00</td>\n",
       "      <td>78.00</td>\n",
       "      <td>182.00</td>\n",
       "      <td>325.00</td>\n",
       "      <td>339.80</td>\n",
       "      <td>47.00</td>\n",
       "      <td>100.00</td>\n",
       "    </tr>\n",
       "  </tbody>\n",
       "</table>\n",
       "</div>"
      ],
      "text/plain": [
       "       certified     grade   nevents  ndays_act  nplay_video  nchapters  \\\n",
       "count   48278.00  48278.00  48278.00   48278.00     48278.00   48278.00   \n",
       "mean        0.28      0.31   2428.19      22.97       256.98       9.51   \n",
       "std         0.45      0.36   2973.88      21.46       529.60       7.00   \n",
       "min         0.00      0.01      1.00       1.00         0.00       2.00   \n",
       "25%         0.00      0.02    561.00       8.00         8.00       4.00   \n",
       "50%         0.00      0.11   1264.50      15.00        86.00       7.00   \n",
       "75%         1.00      0.66   3173.00      32.00       278.00      13.00   \n",
       "max         1.00      1.00  53180.00     162.00     24564.00      47.00   \n",
       "\n",
       "       nforum_posts       age  course_duration  registered_launch_delta  \\\n",
       "count      48278.00  48278.00         48278.00                 48278.00   \n",
       "mean           0.08     26.96           114.53                    -2.26   \n",
       "std            0.39      8.56            20.81                    42.52   \n",
       "min            0.00     11.00            71.00                  -147.00   \n",
       "25%            0.00     21.00           107.00                   -26.00   \n",
       "50%            0.00     25.00           111.00                    -2.00   \n",
       "75%            0.00     30.00           120.00                    12.00   \n",
       "max            6.00     78.00           182.00                   325.00   \n",
       "\n",
       "       lifetime_proportion  course_chapters  chapters_proportion  \n",
       "count             48278.00         48278.00             48278.00  \n",
       "mean                 89.31            19.33                49.72  \n",
       "std                  59.20             6.75                30.53  \n",
       "min                  13.01            11.00                13.64  \n",
       "25%                  38.78            16.00                21.05  \n",
       "50%                  88.79            19.00                38.24  \n",
       "75%                 115.75            19.00                81.73  \n",
       "max                 339.80            47.00               100.00  "
      ]
     },
     "execution_count": 51,
     "metadata": {},
     "output_type": "execute_result"
    }
   ],
   "source": [
    "# statistical description\n",
    "df_intended.describe().round(2)"
   ]
  },
  {
   "cell_type": "markdown",
   "metadata": {},
   "source": [
    "## Certification rate of intended"
   ]
  },
  {
   "cell_type": "markdown",
   "metadata": {},
   "source": [
    "### Overall certification rate of intended"
   ]
  },
  {
   "cell_type": "code",
   "execution_count": 52,
   "metadata": {
    "scrolled": true
   },
   "outputs": [
    {
     "data": {
      "text/plain": [
       "0    34615\n",
       "1    13663\n",
       "Name: certified, dtype: int64"
      ]
     },
     "execution_count": 52,
     "metadata": {},
     "output_type": "execute_result"
    }
   ],
   "source": [
    "# value counts of certified among intended\n",
    "df_intended.certified.value_counts()"
   ]
  },
  {
   "cell_type": "code",
   "execution_count": 53,
   "metadata": {},
   "outputs": [
    {
     "data": {
      "text/plain": [
       "28.3006752558101"
      ]
     },
     "execution_count": 53,
     "metadata": {},
     "output_type": "execute_result"
    }
   ],
   "source": [
    "# certification rate of intended\n",
    "100*df_intended.certified.value_counts()[1] / df_intended.shape[0]"
   ]
  },
  {
   "cell_type": "code",
   "execution_count": 54,
   "metadata": {
    "scrolled": false
   },
   "outputs": [
    {
     "data": {
      "image/png": "[encoded data removed]",
      "text/plain": [
       "<Figure size 432x432 with 1 Axes>"
      ]
     },
     "metadata": {
      "needs_background": "light"
     },
     "output_type": "display_data"
    }
   ],
   "source": [
    "# overall certification rate of intended\n",
    "plt.figure(figsize=(6, 6))\n",
    "sb.countplot(data=df_intended, x='certified')\n",
    "n_records = df_intended.shape[0]\n",
    "tick_props = np.arange(0, 1+0.1, 0.1)\n",
    "tick_names = ['{:.1f}'.format(x) for x in tick_props]\n",
    "plt.yticks(tick_props*n_records, tick_names)\n",
    "plt.xlabel('Certified or Not')\n",
    "plt.xticks([0, 1], ['Not Certified', 'Certified'])\n",
    "plt.ylabel('Proportion')\n",
    "plt.savefig(\"plots/13.pdf\", bbox_inches='tight');"
   ]
  },
  {
   "cell_type": "markdown",
   "metadata": {},
   "source": [
    "### Certification rate of intended by course"
   ]
  },
  {
   "cell_type": "code",
   "execution_count": 55,
   "metadata": {
    "scrolled": false
   },
   "outputs": [
    {
     "name": "stdout",
     "output_type": "stream",
     "text": [
      "Certification rate of intended:\n"
     ]
    },
    {
     "data": {
      "text/plain": [
       "course_id\n",
       "HarvardX/CB22x/2013_Spring      25.42\n",
       "HarvardX/CS50x/2012            100.00\n",
       "HarvardX/ER22x/2013_Spring      43.57\n",
       "HarvardX/PH207x/2012_Fall       28.73\n",
       "HarvardX/PH278x/2013_Spring     25.86\n",
       "MITx/14.73x/2013_Spring         41.66\n",
       "MITx/2.01x/2013_Spring          22.30\n",
       "MITx/3.091x/2012_Fall           36.27\n",
       "MITx/3.091x/2013_Spring         27.89\n",
       "MITx/6.002x/2012_Fall           31.88\n",
       "MITx/6.002x/2013_Spring         27.57\n",
       "MITx/6.00x/2012_Fall            18.70\n",
       "MITx/6.00x/2013_Spring          12.94\n",
       "MITx/7.00x/2013_Spring          26.20\n",
       "MITx/8.02x/2013_Spring          20.70\n",
       "MITx/8.MReV/2013_Summer         28.65\n",
       "Name: certified, dtype: float64"
      ]
     },
     "execution_count": 55,
     "metadata": {},
     "output_type": "execute_result"
    }
   ],
   "source": [
    "# certification rate by course\n",
    "certification_rate_intended = 100*(df_intended[df_intended.certified==1].groupby('course_id').certified.count()) / df_intended.groupby('course_id').certified.count()\n",
    "print('Certification rate of intended:')\n",
    "certification_rate_intended.round(2)\n"
   ]
  },
  {
   "cell_type": "code",
   "execution_count": 56,
   "metadata": {},
   "outputs": [
    {
     "data": {
      "image/png": "[encoded data removed]",
      "text/plain": [
       "<Figure size 720x504 with 1 Axes>"
      ]
     },
     "metadata": {
      "needs_background": "light"
     },
     "output_type": "display_data"
    }
   ],
   "source": [
    "# bar chart of certification rate of intended\n",
    "certification_rate_intended.sort_values(ascending=True).plot(figsize=(10, 7), kind='barh')\n",
    "plt.xlabel('Certification rate(%)')\n",
    "plt.ylabel('Course ID')\n",
    "plt.savefig(\"plots/14.pdf\", bbox_inches='tight');"
   ]
  },
  {
   "cell_type": "code",
   "execution_count": 57,
   "metadata": {
    "scrolled": true
   },
   "outputs": [
    {
     "data": {
      "text/plain": [
       "count     16.00\n",
       "mean      32.40\n",
       "std       19.67\n",
       "min       12.94\n",
       "25%       24.64\n",
       "50%       27.73\n",
       "75%       32.97\n",
       "max      100.00\n",
       "Name: certified, dtype: float64"
      ]
     },
     "execution_count": 57,
     "metadata": {},
     "output_type": "execute_result"
    }
   ],
   "source": [
    "# statistical description\n",
    "certification_rate_intended.describe().round(2)"
   ]
  },
  {
   "cell_type": "markdown",
   "metadata": {},
   "source": [
    "The certification rate of intended ranges from 13% to 100%, with a mean of 32% and standard deviation of 19.67%. This is a little higher than the certification rate of the viewed. But it is still very low."
   ]
  },
  {
   "cell_type": "markdown",
   "metadata": {},
   "source": [
    "### Certification rate of intended vs. explored by course\n",
    "\n",
    "How significant is the difference between Certification rate of intended and Certification rate of explored? We will conduct an t test below to check it out."
   ]
  },
  {
   "cell_type": "code",
   "execution_count": 58,
   "metadata": {},
   "outputs": [
    {
     "name": "stdout",
     "output_type": "stream",
     "text": [
      "The p value is 0.0005925877994708971\n",
      "\n",
      "p is very small, there is a significant difference between the two means\n"
     ]
    }
   ],
   "source": [
    "# independent t test\n",
    "t, p = stats.ttest_ind(certification_rate_intended, certification_rate_explored)\n",
    "print('The p value is {}\\n'.format(p))\n",
    "if p < 0.05:\n",
    "    print('p is very small, there is a significant difference between the two means')\n",
    "else:\n",
    "    print('p is relatively large, there is no significant difference between the two means')"
   ]
  },
  {
   "cell_type": "code",
   "execution_count": 59,
   "metadata": {},
   "outputs": [],
   "source": [
    "certification_rate_audited = [54.98, 64.05, 72.85, 47.12, 51.17, 65.16, 70.6, 48.49, 61.16, 52.92, 77.09, 47.86, 70.83,\n",
    "                              71.9, 43.96, 57.14, 44.98, 50.78, 35.67, 61.15, 34.08, 25.64, 47.79, 29.47, 60.23, 19.1, \n",
    "                              44.26, 58.81, 5.24, 56.74, 31.59, 21.11, 7.58, 64.16, 20.23, 63.18, 26.68, 48.4, 55.21, \n",
    "                              37.43, 14.6, 59.63, 45.56, 20.34, 62.19, 23.02, 47.9, 17.98, 49.23, 45.69, 16.37, 62.21, \n",
    "                              36.14, 50.19, 63.73, 66.58, 42.75, 31.29, 51.7, 38.17, 39.71, 50.85, 36.38, 51.34, 42.25, \n",
    "                              55.36, 32.77, 44.69, 61.45, 40.35, 11.72, 60.79, 38.88, 68.98, 4.21, 49.68, 34.14, 42.82, \n",
    "                              12.36, 36.26, 8.51, 59.54, 35.97, 62.85, 56.34, 60.78, 22.54, 29.88, 58.72, 61.71, 52.74,\n",
    "                              35.48, 65.12, 5.45, 64.17, 62.25, 21.05, 53.07, 46.73, 59.03, 35.2, 32.13, 15.16, 31.5,\n",
    "                              27.23, 19.39, 22.35, 6.17, 65.42, 17.92, 27.07,64.71, 29.59, 7.67, 32.94, 16.44, 39.76,\n",
    "                              14.86, 34.21, 18.83, 33.81, 55.0, 24.33, 63.6, 38.69, 27.44, 19.09, 26.66, 20.84, 12.7,\n",
    "                              17.03, 36.5, 16.5, 10.72, 11.21, 13.38, 10.94, 9.88, 3.14, 18.22, 45.24, 39.99, 35.52, \n",
    "                              26.38, 17.62, 38.88, 35.13, 54.68, 8.65, 5.94, 13.26, 31.71, 36.97, 24.16, 39.35, 44.49, \n",
    "                              19.74, 36.94, 35.61, 18.27, 33.47, 56.12, 27.18, 44.82, 44.8, 34.6, 33.21, 35.2, 51.37, \n",
    "                              44.31, 49.32, 48.52, 13.46, 54.85, 10.62,13.35, 11.18, 48.18, 42.34, 51.72, 51.22, 53.3,\n",
    "                              45.77, 13.79, 25.12, 28.06, 43.72, 17.62, 11.41, 19.42, 64.76, 28.04, 36.73, 39.6, 29.23, \n",
    "                              33.5, 37.2, 36.2, 26.42, 46.3, 33.67, 28.72, 31.25, 32.34, 23.51, 24.0, 26.7, 21.72, 34.97,\n",
    "                              37.81, 27.63, 41.65, 21.72, 23.24, 2.93, 3.36, 66.3, 33.33, 42.52, 17.87, 12.62, 32.63, 25.5,\n",
    "                              38.3, 6.28, 24.57, 7.43, 0.75, 7.43, 22.18, 51.01, 18.6, 2.12, 6.85, 4.33, 59.72, 68.31, 2.04, \n",
    "                              5.76, 23.51, 3.78, 30.03, 7.31, 0.9, 11.43, 19.32, 12.68, 4.91, 5.93, 12.74, 26.51, \n",
    "                              2.6, 7.85, 19.94, 2.19, 13.11, 9.23, 6.73, 20.05, 5.5, 15.89, 8.48, 53.66, 2.14, \n",
    "                              13.86, 4.55, 7.64, 12.87, 27.24, 22.38, 22.31, 8.93, 8.06, 1.19, 0.71, 8.21, 6.66, \n",
    "                              10.39, 6.56, 7.49, 5.03, 10.44]"
   ]
  },
  {
   "cell_type": "code",
   "execution_count": 60,
   "metadata": {},
   "outputs": [
    {
     "name": "stdout",
     "output_type": "stream",
     "text": [
      "The p value is 0.9485836725262293\n",
      "\n",
      "p is relatively large, there is no significant difference between the two means\n"
     ]
    }
   ],
   "source": [
    "# independent t test\n",
    "t, p = stats.ttest_ind(certification_rate_intended, certification_rate_audited)\n",
    "print('The p value is {}\\n'.format(p))\n",
    "if p < 0.05:\n",
    "    print('p is very small, there is a significant difference between the two means')\n",
    "else:\n",
    "    print('p is relatively large, there is no significant difference between the two means')"
   ]
  },
  {
   "cell_type": "markdown",
   "metadata": {},
   "source": [
    "## Variables affecting certification rate\n",
    "\n",
    "For the following exploration we will try to figure out what variables affect certification rate."
   ]
  },
  {
   "cell_type": "markdown",
   "metadata": {},
   "source": [
    "### Preprocessing \n",
    "First we will create a new variable certification_rate for further exploration."
   ]
  },
  {
   "cell_type": "code",
   "execution_count": 61,
   "metadata": {},
   "outputs": [
    {
     "data": {
      "text/plain": [
       "{'HarvardX/CB22x/2013_Spring': 25.41567695961995,\n",
       " 'HarvardX/CS50x/2012': 100.0,\n",
       " 'HarvardX/ER22x/2013_Spring': 43.56809597867141,\n",
       " 'HarvardX/PH207x/2012_Fall': 28.730106100795755,\n",
       " 'HarvardX/PH278x/2013_Spring': 25.85924713584288,\n",
       " 'MITx/14.73x/2013_Spring': 41.65929203539823,\n",
       " 'MITx/2.01x/2013_Spring': 22.298221614227085,\n",
       " 'MITx/3.091x/2012_Fall': 36.269015212169734,\n",
       " 'MITx/3.091x/2013_Spring': 27.894736842105264,\n",
       " 'MITx/6.002x/2012_Fall': 31.876889255289914,\n",
       " 'MITx/6.002x/2013_Spring': 27.565982404692082,\n",
       " 'MITx/6.00x/2012_Fall': 18.69833507975317,\n",
       " 'MITx/6.00x/2013_Spring': 12.9381513059954,\n",
       " 'MITx/7.00x/2013_Spring': 26.203208556149733,\n",
       " 'MITx/8.02x/2013_Spring': 20.7,\n",
       " 'MITx/8.MReV/2013_Summer': 28.650904033379692}"
      ]
     },
     "execution_count": 61,
     "metadata": {},
     "output_type": "execute_result"
    }
   ],
   "source": [
    "# create a dictionary with course_id as the key and certification rate as value\n",
    "certi_dic_key = certification_rate_intended.index\n",
    "certi_dic_value = certification_rate_intended.values\n",
    "certi_dic = dict(zip(certi_dic_key, certi_dic_value))\n",
    "certi_dic"
   ]
  },
  {
   "cell_type": "code",
   "execution_count": 62,
   "metadata": {
    "scrolled": false
   },
   "outputs": [
    {
     "data": {
      "text/html": [
       "<div>\n",
       "<style scoped>\n",
       "    .dataframe tbody tr th:only-of-type {\n",
       "        vertical-align: middle;\n",
       "    }\n",
       "\n",
       "    .dataframe tbody tr th {\n",
       "        vertical-align: top;\n",
       "    }\n",
       "\n",
       "    .dataframe thead th {\n",
       "        text-align: right;\n",
       "    }\n",
       "</style>\n",
       "<table border=\"1\" class=\"dataframe\">\n",
       "  <thead>\n",
       "    <tr style=\"text-align: right;\">\n",
       "      <th></th>\n",
       "      <th>course_id</th>\n",
       "      <th>user_id</th>\n",
       "      <th>certified</th>\n",
       "      <th>country</th>\n",
       "      <th>education</th>\n",
       "      <th>gender</th>\n",
       "      <th>grade</th>\n",
       "      <th>time_registered</th>\n",
       "      <th>last_event</th>\n",
       "      <th>nevents</th>\n",
       "      <th>...</th>\n",
       "      <th>age</th>\n",
       "      <th>course_launch</th>\n",
       "      <th>course_wrap</th>\n",
       "      <th>course_duration</th>\n",
       "      <th>registered_launch_delta</th>\n",
       "      <th>course_subject</th>\n",
       "      <th>lifetime_proportion</th>\n",
       "      <th>course_chapters</th>\n",
       "      <th>chapters_proportion</th>\n",
       "      <th>certification_rate</th>\n",
       "    </tr>\n",
       "  </thead>\n",
       "  <tbody>\n",
       "    <tr>\n",
       "      <th>30</th>\n",
       "      <td>HarvardX/CS50x/2012</td>\n",
       "      <td>MHxPC130320562</td>\n",
       "      <td>1</td>\n",
       "      <td>Other Europe</td>\n",
       "      <td>Master's</td>\n",
       "      <td>m</td>\n",
       "      <td>1.0</td>\n",
       "      <td>2012-07-24</td>\n",
       "      <td>2013-05-06</td>\n",
       "      <td>691.0</td>\n",
       "      <td>...</td>\n",
       "      <td>29.0</td>\n",
       "      <td>2012-10-15</td>\n",
       "      <td>2013-04-15</td>\n",
       "      <td>182</td>\n",
       "      <td>-83</td>\n",
       "      <td>OTHERS</td>\n",
       "      <td>111.538462</td>\n",
       "      <td>12.0</td>\n",
       "      <td>100.0</td>\n",
       "      <td>100.0</td>\n",
       "    </tr>\n",
       "  </tbody>\n",
       "</table>\n",
       "<p>1 rows × 28 columns</p>\n",
       "</div>"
      ],
      "text/plain": [
       "              course_id         user_id  certified       country education  \\\n",
       "30  HarvardX/CS50x/2012  MHxPC130320562          1  Other Europe  Master's   \n",
       "\n",
       "   gender  grade time_registered last_event  nevents  ...   age  \\\n",
       "30      m    1.0      2012-07-24 2013-05-06    691.0  ...  29.0   \n",
       "\n",
       "    course_launch  course_wrap  course_duration registered_launch_delta  \\\n",
       "30     2012-10-15   2013-04-15              182                     -83   \n",
       "\n",
       "   course_subject lifetime_proportion course_chapters  chapters_proportion  \\\n",
       "30         OTHERS          111.538462            12.0                100.0   \n",
       "\n",
       "   certification_rate  \n",
       "30              100.0  \n",
       "\n",
       "[1 rows x 28 columns]"
      ]
     },
     "execution_count": 62,
     "metadata": {},
     "output_type": "execute_result"
    }
   ],
   "source": [
    "# create variable certification_rate\n",
    "\n",
    "df_intended['certification_rate'] = df_intended.course_id.map(certi_dic).round(0)\n",
    "df_intended.head(1)"
   ]
  },
  {
   "cell_type": "markdown",
   "metadata": {},
   "source": [
    "### Dependent variables and independent variables\n",
    "There are three **dependent variables:** certified, grade and certification rate.\n",
    "\n",
    "Certified identifies whether the learner completed the course and got a certification or not. The value would be 1 if the learner got a certification, 0 otherwise. This is on learner level.\n",
    "\n",
    "Grade is the final grade in the course, ranges from 0 to 1. Learners need to get at least a certain grade to be certified. This is also on learner level.\n",
    "\n",
    "Certification rate is proportion of certified among intended. This is on course level.\n",
    "\n",
    "For **independent variables**, we will divide them into 3 categories:\n",
    "\n",
    "- **Course related variables:** Including course_id, institution, course_code, semester, course_duration, course_chapters, course_subject\n",
    "- **Learners Demographic variables:** Including country, level of education, age, gender\n",
    "- **Learners activity variables:** Including user_id, nevents, ndays_act, nplay_video, chapters_proportion, nforum_posts, registered_launch_delta, lifetime_proportion\n",
    "\n",
    "We will use course related variables to explore certification rate, use learner related variables(demographic variables and activity variables) to explore certified and grade. "
   ]
  },
  {
   "cell_type": "markdown",
   "metadata": {},
   "source": [
    "### Course related variables\n",
    "\n",
    "In this part, we explore Course related variabes: Including course_id, institution, course_code, semester,  course_duration, course_chapters"
   ]
  },
  {
   "cell_type": "markdown",
   "metadata": {},
   "source": [
    "#### certification rate by institution by course"
   ]
  },
  {
   "cell_type": "code",
   "execution_count": 63,
   "metadata": {},
   "outputs": [
    {
     "data": {
      "text/plain": [
       "institution  course_id                  \n",
       "HarvardX     HarvardX/CB22x/2013_Spring      25.0\n",
       "             HarvardX/CS50x/2012            100.0\n",
       "             HarvardX/ER22x/2013_Spring      44.0\n",
       "             HarvardX/PH207x/2012_Fall       29.0\n",
       "             HarvardX/PH278x/2013_Spring     26.0\n",
       "MITx         MITx/14.73x/2013_Spring         42.0\n",
       "             MITx/2.01x/2013_Spring          22.0\n",
       "             MITx/3.091x/2012_Fall           36.0\n",
       "             MITx/3.091x/2013_Spring         28.0\n",
       "             MITx/6.002x/2012_Fall           32.0\n",
       "             MITx/6.002x/2013_Spring         28.0\n",
       "             MITx/6.00x/2012_Fall            19.0\n",
       "             MITx/6.00x/2013_Spring          13.0\n",
       "             MITx/7.00x/2013_Spring          26.0\n",
       "             MITx/8.02x/2013_Spring          21.0\n",
       "             MITx/8.MReV/2013_Summer         29.0\n",
       "Name: certification_rate, dtype: float64"
      ]
     },
     "execution_count": 63,
     "metadata": {},
     "output_type": "execute_result"
    }
   ],
   "source": [
    "# certification rate by institute by course\n",
    "institution_course_certi = df_intended.groupby(['institution', 'course_id']).certification_rate.mean()\n",
    "institution_course_certi.round(2)"
   ]
  },
  {
   "cell_type": "code",
   "execution_count": 64,
   "metadata": {
    "scrolled": false
   },
   "outputs": [
    {
     "name": "stdout",
     "output_type": "stream",
     "text": [
      "Statistical Descriptionn of Certification rate of Harvardx courses:\n"
     ]
    },
    {
     "data": {
      "text/html": [
       "<div>\n",
       "<style scoped>\n",
       "    .dataframe tbody tr th:only-of-type {\n",
       "        vertical-align: middle;\n",
       "    }\n",
       "\n",
       "    .dataframe tbody tr th {\n",
       "        vertical-align: top;\n",
       "    }\n",
       "\n",
       "    .dataframe thead th {\n",
       "        text-align: right;\n",
       "    }\n",
       "</style>\n",
       "<table border=\"1\" class=\"dataframe\">\n",
       "  <thead>\n",
       "    <tr style=\"text-align: right;\">\n",
       "      <th></th>\n",
       "      <th>certification_rate</th>\n",
       "    </tr>\n",
       "  </thead>\n",
       "  <tbody>\n",
       "    <tr>\n",
       "      <th>count</th>\n",
       "      <td>5.00</td>\n",
       "    </tr>\n",
       "    <tr>\n",
       "      <th>mean</th>\n",
       "      <td>44.80</td>\n",
       "    </tr>\n",
       "    <tr>\n",
       "      <th>std</th>\n",
       "      <td>31.79</td>\n",
       "    </tr>\n",
       "    <tr>\n",
       "      <th>min</th>\n",
       "      <td>25.00</td>\n",
       "    </tr>\n",
       "    <tr>\n",
       "      <th>25%</th>\n",
       "      <td>26.00</td>\n",
       "    </tr>\n",
       "    <tr>\n",
       "      <th>50%</th>\n",
       "      <td>29.00</td>\n",
       "    </tr>\n",
       "    <tr>\n",
       "      <th>75%</th>\n",
       "      <td>44.00</td>\n",
       "    </tr>\n",
       "    <tr>\n",
       "      <th>max</th>\n",
       "      <td>100.00</td>\n",
       "    </tr>\n",
       "  </tbody>\n",
       "</table>\n",
       "</div>"
      ],
      "text/plain": [
       "       certification_rate\n",
       "count                5.00\n",
       "mean                44.80\n",
       "std                 31.79\n",
       "min                 25.00\n",
       "25%                 26.00\n",
       "50%                 29.00\n",
       "75%                 44.00\n",
       "max                100.00"
      ]
     },
     "execution_count": 64,
     "metadata": {},
     "output_type": "execute_result"
    }
   ],
   "source": [
    "# statistical description\n",
    "print('Statistical Descriptionn of Certification rate of Harvardx courses:')\n",
    "institution_course_certi['HarvardX'].describe().round(2).to_frame()"
   ]
  },
  {
   "cell_type": "code",
   "execution_count": 65,
   "metadata": {
    "scrolled": false
   },
   "outputs": [
    {
     "name": "stdout",
     "output_type": "stream",
     "text": [
      "Statistical Descriptionn of Certification rate of MITx courses:\n"
     ]
    },
    {
     "data": {
      "text/plain": [
       "count    11.00\n",
       "mean     26.91\n",
       "std       8.12\n",
       "min      13.00\n",
       "25%      21.50\n",
       "50%      28.00\n",
       "75%      30.50\n",
       "max      42.00\n",
       "Name: certification_rate, dtype: float64"
      ]
     },
     "execution_count": 65,
     "metadata": {},
     "output_type": "execute_result"
    }
   ],
   "source": [
    "print('Statistical Descriptionn of Certification rate of MITx courses:')\n",
    "institution_course_certi['MITx'].describe().round(2)"
   ]
  },
  {
   "cell_type": "code",
   "execution_count": 66,
   "metadata": {
    "scrolled": true
   },
   "outputs": [
    {
     "data": {
      "image/png": "[encoded data removed]",
      "text/plain": [
       "<Figure size 720x432 with 1 Axes>"
      ]
     },
     "metadata": {
      "needs_background": "light"
     },
     "output_type": "display_data"
    }
   ],
   "source": [
    "#boxplot of certification rate by institution\n",
    "institution_course_df = institution_course_certi.reset_index()\n",
    "institution_course_df.columns = ['institution', 'course_id', 'certification_rate']\n",
    "\n",
    "plt.figure(figsize=(10, 6))\n",
    "sb.boxplot(data=institution_course_df, x = 'institution', y = 'certification_rate')\n",
    "plt.xlabel('Institution')\n",
    "plt.ylabel('Certification Rate(%)')\n",
    "plt.savefig(\"plots/15.pdf\", bbox_inches='tight');"
   ]
  },
  {
   "cell_type": "code",
   "execution_count": 67,
   "metadata": {
    "scrolled": true
   },
   "outputs": [
    {
     "name": "stdout",
     "output_type": "stream",
     "text": [
      "The 5 HarvardX courses have a mean certification rate of 44.8 and a median of 29.0 \n",
      "\n",
      "The 11 MITx courses have a mean certification rate of 26.90909090909091 and a median of 28.0\n"
     ]
    }
   ],
   "source": [
    "print('The 5 HarvardX courses have a mean certification rate of {} and a median of {} \\n'.format(institution_course_certi['HarvardX'].mean(), institution_course_certi['HarvardX'].median()))\n",
    "\n",
    "print('The 11 MITx courses have a mean certification rate of {} and a median of {}'.format(institution_course_certi['MITx'].mean(), institution_course_certi['MITx'].median()))"
   ]
  },
  {
   "cell_type": "code",
   "execution_count": 68,
   "metadata": {},
   "outputs": [
    {
     "name": "stdout",
     "output_type": "stream",
     "text": [
      "The p value is 0.0918006594506718\n",
      "\n",
      "p is relatively large, there is no sufficient evidence to show the significant difference between the two means\n"
     ]
    }
   ],
   "source": [
    "# we will use an independent t test to check how significant is the difference between mean certification rate of HarvardX and MITx\n",
    "\n",
    "t, p = stats.ttest_ind(institution_course_certi['HarvardX'], institution_course_certi['MITx'])\n",
    "\n",
    "print('The p value is {}\\n'.format(p))\n",
    "if p < 0.05:\n",
    "    print('p is very small, there is a significant difference between the two means')\n",
    "else:\n",
    "    print('p is relatively large, there is no sufficient evidence to show the significant difference between the two means')\n"
   ]
  },
  {
   "cell_type": "markdown",
   "metadata": {},
   "source": [
    "#### certification by different launch"
   ]
  },
  {
   "cell_type": "code",
   "execution_count": 69,
   "metadata": {},
   "outputs": [
    {
     "data": {
      "text/plain": [
       "(16, 13)"
      ]
     },
     "execution_count": 69,
     "metadata": {},
     "output_type": "execute_result"
    }
   ],
   "source": [
    "# number of unique course_id and unique courses\n",
    "\n",
    "df_intended.course_id.nunique(), df_intended.course_code.nunique()"
   ]
  },
  {
   "cell_type": "code",
   "execution_count": 70,
   "metadata": {},
   "outputs": [
    {
     "data": {
      "text/plain": [
       "array(['HarvardX/CS50x/2012', 'HarvardX/PH207x/2012_Fall',\n",
       "       'HarvardX/ER22x/2013_Spring', 'HarvardX/PH278x/2013_Spring',\n",
       "       'HarvardX/CB22x/2013_Spring', 'MITx/14.73x/2013_Spring',\n",
       "       'MITx/6.002x/2012_Fall', 'MITx/6.00x/2013_Spring',\n",
       "       'MITx/6.00x/2012_Fall', 'MITx/6.002x/2013_Spring',\n",
       "       'MITx/8.02x/2013_Spring', 'MITx/8.MReV/2013_Summer',\n",
       "       'MITx/7.00x/2013_Spring', 'MITx/3.091x/2012_Fall',\n",
       "       'MITx/2.01x/2013_Spring', 'MITx/3.091x/2013_Spring'], dtype=object)"
      ]
     },
     "execution_count": 70,
     "metadata": {},
     "output_type": "execute_result"
    }
   ],
   "source": [
    "df_intended.course_id.unique()"
   ]
  },
  {
   "cell_type": "markdown",
   "metadata": {},
   "source": [
    "6.00x, 6.002x and 3.091x were offered twice. We will compare the certification rate between the two times."
   ]
  },
  {
   "cell_type": "code",
   "execution_count": 71,
   "metadata": {},
   "outputs": [
    {
     "data": {
      "text/plain": [
       "course_id\n",
       "MITx/3.091x/2012_Fall      36.0\n",
       "MITx/3.091x/2013_Spring    28.0\n",
       "MITx/6.002x/2012_Fall      32.0\n",
       "MITx/6.002x/2013_Spring    28.0\n",
       "MITx/6.00x/2012_Fall       19.0\n",
       "MITx/6.00x/2013_Spring     13.0\n",
       "Name: certification_rate, dtype: float64"
      ]
     },
     "execution_count": 71,
     "metadata": {},
     "output_type": "execute_result"
    }
   ],
   "source": [
    "# certification rate of courses offered two times\n",
    "offered_twice_list = ['6.00x', '6.002x', '3.091x']\n",
    "offered_twice_df = df_intended[df_intended.course_code.isin(offered_twice_list)]\n",
    "offered_twice_df.groupby(['course_id']).certification_rate.mean()"
   ]
  },
  {
   "cell_type": "markdown",
   "metadata": {},
   "source": [
    "The certification rate of the second launch all drops."
   ]
  },
  {
   "cell_type": "markdown",
   "metadata": {},
   "source": [
    "#### certification rate by semester"
   ]
  },
  {
   "cell_type": "code",
   "execution_count": 72,
   "metadata": {},
   "outputs": [
    {
     "data": {
      "text/html": [
       "<div>\n",
       "<style scoped>\n",
       "    .dataframe tbody tr th:only-of-type {\n",
       "        vertical-align: middle;\n",
       "    }\n",
       "\n",
       "    .dataframe tbody tr th {\n",
       "        vertical-align: top;\n",
       "    }\n",
       "\n",
       "    .dataframe thead th {\n",
       "        text-align: right;\n",
       "    }\n",
       "</style>\n",
       "<table border=\"1\" class=\"dataframe\">\n",
       "  <thead>\n",
       "    <tr style=\"text-align: right;\">\n",
       "      <th></th>\n",
       "      <th>semester</th>\n",
       "      <th>course_id</th>\n",
       "      <th>certification_rate</th>\n",
       "    </tr>\n",
       "  </thead>\n",
       "  <tbody>\n",
       "    <tr>\n",
       "      <th>0</th>\n",
       "      <td>2012_Fall</td>\n",
       "      <td>HarvardX/CS50x/2012</td>\n",
       "      <td>100.0</td>\n",
       "    </tr>\n",
       "    <tr>\n",
       "      <th>1</th>\n",
       "      <td>2012_Fall</td>\n",
       "      <td>HarvardX/PH207x/2012_Fall</td>\n",
       "      <td>29.0</td>\n",
       "    </tr>\n",
       "    <tr>\n",
       "      <th>2</th>\n",
       "      <td>2012_Fall</td>\n",
       "      <td>MITx/3.091x/2012_Fall</td>\n",
       "      <td>36.0</td>\n",
       "    </tr>\n",
       "    <tr>\n",
       "      <th>3</th>\n",
       "      <td>2012_Fall</td>\n",
       "      <td>MITx/6.002x/2012_Fall</td>\n",
       "      <td>32.0</td>\n",
       "    </tr>\n",
       "    <tr>\n",
       "      <th>4</th>\n",
       "      <td>2012_Fall</td>\n",
       "      <td>MITx/6.00x/2012_Fall</td>\n",
       "      <td>19.0</td>\n",
       "    </tr>\n",
       "    <tr>\n",
       "      <th>5</th>\n",
       "      <td>2013_Spring</td>\n",
       "      <td>HarvardX/CB22x/2013_Spring</td>\n",
       "      <td>25.0</td>\n",
       "    </tr>\n",
       "    <tr>\n",
       "      <th>6</th>\n",
       "      <td>2013_Spring</td>\n",
       "      <td>HarvardX/ER22x/2013_Spring</td>\n",
       "      <td>44.0</td>\n",
       "    </tr>\n",
       "    <tr>\n",
       "      <th>7</th>\n",
       "      <td>2013_Spring</td>\n",
       "      <td>HarvardX/PH278x/2013_Spring</td>\n",
       "      <td>26.0</td>\n",
       "    </tr>\n",
       "    <tr>\n",
       "      <th>8</th>\n",
       "      <td>2013_Spring</td>\n",
       "      <td>MITx/14.73x/2013_Spring</td>\n",
       "      <td>42.0</td>\n",
       "    </tr>\n",
       "    <tr>\n",
       "      <th>9</th>\n",
       "      <td>2013_Spring</td>\n",
       "      <td>MITx/2.01x/2013_Spring</td>\n",
       "      <td>22.0</td>\n",
       "    </tr>\n",
       "    <tr>\n",
       "      <th>10</th>\n",
       "      <td>2013_Spring</td>\n",
       "      <td>MITx/3.091x/2013_Spring</td>\n",
       "      <td>28.0</td>\n",
       "    </tr>\n",
       "    <tr>\n",
       "      <th>11</th>\n",
       "      <td>2013_Spring</td>\n",
       "      <td>MITx/6.002x/2013_Spring</td>\n",
       "      <td>28.0</td>\n",
       "    </tr>\n",
       "    <tr>\n",
       "      <th>12</th>\n",
       "      <td>2013_Spring</td>\n",
       "      <td>MITx/6.00x/2013_Spring</td>\n",
       "      <td>13.0</td>\n",
       "    </tr>\n",
       "    <tr>\n",
       "      <th>13</th>\n",
       "      <td>2013_Spring</td>\n",
       "      <td>MITx/7.00x/2013_Spring</td>\n",
       "      <td>26.0</td>\n",
       "    </tr>\n",
       "    <tr>\n",
       "      <th>14</th>\n",
       "      <td>2013_Spring</td>\n",
       "      <td>MITx/8.02x/2013_Spring</td>\n",
       "      <td>21.0</td>\n",
       "    </tr>\n",
       "    <tr>\n",
       "      <th>15</th>\n",
       "      <td>2013_Summer</td>\n",
       "      <td>MITx/8.MReV/2013_Summer</td>\n",
       "      <td>29.0</td>\n",
       "    </tr>\n",
       "  </tbody>\n",
       "</table>\n",
       "</div>"
      ],
      "text/plain": [
       "       semester                    course_id  certification_rate\n",
       "0     2012_Fall          HarvardX/CS50x/2012               100.0\n",
       "1     2012_Fall    HarvardX/PH207x/2012_Fall                29.0\n",
       "2     2012_Fall        MITx/3.091x/2012_Fall                36.0\n",
       "3     2012_Fall        MITx/6.002x/2012_Fall                32.0\n",
       "4     2012_Fall         MITx/6.00x/2012_Fall                19.0\n",
       "5   2013_Spring   HarvardX/CB22x/2013_Spring                25.0\n",
       "6   2013_Spring   HarvardX/ER22x/2013_Spring                44.0\n",
       "7   2013_Spring  HarvardX/PH278x/2013_Spring                26.0\n",
       "8   2013_Spring      MITx/14.73x/2013_Spring                42.0\n",
       "9   2013_Spring       MITx/2.01x/2013_Spring                22.0\n",
       "10  2013_Spring      MITx/3.091x/2013_Spring                28.0\n",
       "11  2013_Spring      MITx/6.002x/2013_Spring                28.0\n",
       "12  2013_Spring       MITx/6.00x/2013_Spring                13.0\n",
       "13  2013_Spring       MITx/7.00x/2013_Spring                26.0\n",
       "14  2013_Spring       MITx/8.02x/2013_Spring                21.0\n",
       "15  2013_Summer      MITx/8.MReV/2013_Summer                29.0"
      ]
     },
     "execution_count": 72,
     "metadata": {},
     "output_type": "execute_result"
    }
   ],
   "source": [
    "# certification rate by semester by course\n",
    "semester_certi_df = df_intended.groupby(['semester', 'course_id']).certification_rate.mean().reset_index()\n",
    "semester_certi_df.columns = ['semester', 'course_id', 'certification_rate']\n",
    "semester_certi_df"
   ]
  },
  {
   "cell_type": "code",
   "execution_count": 73,
   "metadata": {
    "scrolled": true
   },
   "outputs": [
    {
     "data": {
      "image/png": "[encoded data removed]",
      "text/plain": [
       "<Figure size 720x432 with 1 Axes>"
      ]
     },
     "metadata": {
      "needs_background": "light"
     },
     "output_type": "display_data"
    }
   ],
   "source": [
    "# Boxplot of certificationr rate by semester\n",
    "plt.figure(figsize=(10, 6))\n",
    "sb.boxplot(data=semester_certi_df, x='semester', y='certification_rate')\n",
    "plt.xlabel('Semester')\n",
    "plt.ylabel('Certification Rate(%)')\n",
    "plt.savefig(\"plots/16.pdf\", bbox_inches='tight');"
   ]
  },
  {
   "cell_type": "markdown",
   "metadata": {},
   "source": [
    "The median certification rate for semester 2013_Spring is lower than 2012_Fall. 2013_Summer is much higher than 2013_Spring. However, since there is only 1 course in semester 2013_Summer, this is not very reliable."
   ]
  },
  {
   "cell_type": "code",
   "execution_count": 74,
   "metadata": {},
   "outputs": [],
   "source": [
    "# ANOVA test\n",
    "fall_certi = semester_certi_df[semester_certi_df.semester=='2012_Fall'].certification_rate\n",
    "spring_certi = semester_certi_df[semester_certi_df.semester=='2013_Spring'].certification_rate\n",
    "summer_certi = semester_certi_df[semester_certi_df.semester=='2013_Summer'].certification_rate\n",
    "f, p = stats.f_oneway(fall_certi, spring_certi, summer_certi)\n",
    "\n",
    "print('The p value is {}\\n'.format(p))\n",
    "if p < 0.05:\n",
    "    print('p is very small, there is a significant difference between the means of the three groups')\n",
    "else:\n",
    "    print('p is relatively large, there is no sufficient evidence to show the significant difference between means of the three groups')\n",
    "    "
   ]
  },
  {
   "cell_type": "markdown",
   "metadata": {},
   "source": [
    "#### course duration VS certification rate"
   ]
  },
  {
   "cell_type": "code",
   "execution_count": null,
   "metadata": {},
   "outputs": [],
   "source": [
    "# certification rate by course duration by course\n",
    "duration_certi_df = df_intended.groupby(['course_duration', 'course_id']).certification_rate.mean().reset_index()\n",
    "duration_certi_df.columns = ['course_duration', 'course_id', 'certification_rate']\n",
    "duration_certi_df"
   ]
  },
  {
   "cell_type": "code",
   "execution_count": null,
   "metadata": {
    "scrolled": true
   },
   "outputs": [],
   "source": [
    "# scatter plot of course duration VS certification rate\n",
    "plt.figure(figsize=(6, 6))\n",
    "plt.scatter(data=duration_certi_df, x='course_duration', y='certification_rate');\n",
    "plt.xlabel('Course Duration(day)')\n",
    "plt.ylabel('Certification Rate(%)')\n",
    "plt.savefig(\"plots/17.pdf\", bbox_inches='tight');"
   ]
  },
  {
   "cell_type": "markdown",
   "metadata": {},
   "source": [
    "Although there are some outliers, the overall trend is as course duration increases, certification rate decreases, we will check the correlation coefficient below."
   ]
  },
  {
   "cell_type": "code",
   "execution_count": null,
   "metadata": {
    "scrolled": true
   },
   "outputs": [],
   "source": [
    "# Pearson's correlation coefficient\n",
    "np.corrcoef(duration_certi_df['course_duration'], duration_certi_df['certification_rate'])"
   ]
  },
  {
   "cell_type": "markdown",
   "metadata": {},
   "source": [
    "The Pearson's correlation coefficient is not very big. There is a moderate positive correlation between course duration and certification rate."
   ]
  },
  {
   "cell_type": "markdown",
   "metadata": {},
   "source": [
    "#### course chapters VS certification rate"
   ]
  },
  {
   "cell_type": "code",
   "execution_count": null,
   "metadata": {},
   "outputs": [],
   "source": [
    "# certification rate by course chapters by course\n",
    "chapters_certi_df = df_intended.groupby(['course_chapters', 'course_id']).certification_rate.mean().reset_index()\n",
    "chapters_certi_df.columns = ['course_chapters', 'course_id', 'certification_rate']\n",
    "# scatter plot of course chapters VS certification rate\n",
    "plt.figure(figsize=(6, 6))\n",
    "plt.scatter(data=chapters_certi_df, x='course_chapters', y='certification_rate');\n",
    "plt.xlabel('Number of Course Chapters')\n",
    "plt.ylabel('Certification rate(%)')\n",
    "plt.savefig(\"plots/18.pdf\", bbox_inches='tight');"
   ]
  },
  {
   "cell_type": "code",
   "execution_count": null,
   "metadata": {
    "scrolled": true
   },
   "outputs": [],
   "source": [
    "# Pearson's correlation coefficient\n",
    "np.corrcoef(chapters_certi_df['course_chapters'], chapters_certi_df['certification_rate'])"
   ]
  },
  {
   "cell_type": "markdown",
   "metadata": {},
   "source": [
    "There is a weak negative correlation between course chapters and certification rate."
   ]
  },
  {
   "cell_type": "markdown",
   "metadata": {},
   "source": [
    "#### Course Subject"
   ]
  },
  {
   "cell_type": "code",
   "execution_count": null,
   "metadata": {
    "scrolled": true
   },
   "outputs": [],
   "source": [
    "# certification rate by course subject by course\n",
    "course_subject_certi = df_intended.groupby(['course_subject', 'course_id']).certification_rate.mean()\n",
    "course_subject_certi.round(2)"
   ]
  },
  {
   "cell_type": "code",
   "execution_count": null,
   "metadata": {
    "scrolled": false
   },
   "outputs": [],
   "source": [
    "# statistical description\n",
    "print('Statistical Descriptionn of Certification rate of STEM courses:')\n",
    "course_subject_certi['STEM'].describe().round(2).to_frame()"
   ]
  },
  {
   "cell_type": "code",
   "execution_count": null,
   "metadata": {
    "scrolled": false
   },
   "outputs": [],
   "source": [
    "# statistical description\n",
    "print('Statistical Descriptionn of Certification rate of NON STEM courses:')\n",
    "course_subject_certi['OTHERS'].describe().round(2)"
   ]
  },
  {
   "cell_type": "code",
   "execution_count": null,
   "metadata": {
    "scrolled": true
   },
   "outputs": [],
   "source": [
    "#boxplot of certification rate by course subject\n",
    "course_subject_df = course_subject_certi.reset_index()\n",
    "course_subject_df.columns = ['course_subject', 'course_id', 'certification_rate']\n",
    "\n",
    "plt.figure(figsize=(10, 6))\n",
    "sb.boxplot(data=course_subject_df, x = 'course_subject', y = 'certification_rate')\n",
    "plt.xlabel('Course Subject')\n",
    "plt.ylabel('Certification Rate(%)')\n",
    "plt.savefig(\"plots/000.pdf\", bbox_inches='tight');"
   ]
  },
  {
   "cell_type": "code",
   "execution_count": null,
   "metadata": {
    "scrolled": true
   },
   "outputs": [],
   "source": [
    "print('The 9 STEM courses have a mean certification rate of {} and a median of {} \\n'.format(course_subject_certi['STEM'].mean(), course_subject_certi['STEM'].median()))\n",
    "\n",
    "print('The 7 NON-STEM courses have a mean certification rate of {} and a median of {}'.format(course_subject_certi['OTHERS'].mean(), course_subject_certi['OTHERS'].median()))"
   ]
  },
  {
   "cell_type": "code",
   "execution_count": null,
   "metadata": {},
   "outputs": [],
   "source": [
    "# we will use an independent t test to check how significant is the difference between mean certification rate of STEM courses and NON-STEM courses\n",
    "\n",
    "t, p = stats.ttest_ind(course_subject_certi['STEM'], course_subject_certi['OTHERS'])\n",
    "\n",
    "print('The p value is {}\\n'.format(p))\n",
    "if p < 0.05:\n",
    "    print('p is very small, there is a significant difference between the two means')\n",
    "else:\n",
    "    print('p is relatively large, there is no sufficient evidence to show the significant difference between the two means')\n"
   ]
  },
  {
   "cell_type": "code",
   "execution_count": null,
   "metadata": {},
   "outputs": [],
   "source": [
    "# 2 sample z test\n",
    "t_sta, p = ztest(course_subject_certi['STEM'], course_subject_certi['OTHERS'])\n",
    "\n",
    "print('The p value is {}\\n'.format(p))\n",
    "if p < 0.05:\n",
    "    print('p is very small, there is a significant difference between the two means')\n",
    "else:\n",
    "    print('p is relatively large, there is no sufficient evidence to show the significant difference between the two means')\n"
   ]
  },
  {
   "cell_type": "code",
   "execution_count": null,
   "metadata": {
    "scrolled": true
   },
   "outputs": [],
   "source": [
    "# Wilcoxon rank-sum test\n",
    "\n",
    "sta, p = stats.ranksums(course_subject_certi['STEM'], course_subject_certi['OTHERS'])\n",
    "\n",
    "print('The p value is {}\\n'.format(p))\n",
    "if p < 0.05:\n",
    "    print('p is very small, there is a significant difference between the two means')\n",
    "else:\n",
    "    print('p is relatively large, there is no significant difference between the two means')"
   ]
  },
  {
   "cell_type": "markdown",
   "metadata": {},
   "source": [
    "### Demographic  variables\n",
    "\n",
    "In this part, we explore Learners Demographic variables: Including country, level of education, age, gender\n"
   ]
  },
  {
   "cell_type": "markdown",
   "metadata": {},
   "source": [
    "#### country VS certified"
   ]
  },
  {
   "cell_type": "code",
   "execution_count": null,
   "metadata": {
    "scrolled": true
   },
   "outputs": [],
   "source": [
    "# number of intended by country\n",
    "intended_country = df_intended.groupby('country').size()\n",
    "intended_country"
   ]
  },
  {
   "cell_type": "code",
   "execution_count": null,
   "metadata": {
    "scrolled": true
   },
   "outputs": [],
   "source": [
    "# number of certified by country\n",
    "certified_country = df_intended[df_intended.certified==1].groupby('country').size()\n",
    "certified_country"
   ]
  },
  {
   "cell_type": "code",
   "execution_count": null,
   "metadata": {
    "scrolled": true
   },
   "outputs": [],
   "source": [
    "# certification rate by country\n",
    "certification_rate_country = 100*(certified_country / intended_country)\n",
    "\n",
    "certification_rate_country.sort_values(ascending=False).round(2)"
   ]
  },
  {
   "cell_type": "code",
   "execution_count": null,
   "metadata": {
    "scrolled": true
   },
   "outputs": [],
   "source": [
    "# certification rate by country\n",
    "certification_rate_country.sort_values(ascending=True).plot(figsize = (12,8), kind='barh')\n",
    "plt.xlabel('Certification Rate(%)')\n",
    "plt.ylabel('Country/ Region')\n",
    "plt.savefig(\"plots/19.pdf\", bbox_inches='tight');"
   ]
  },
  {
   "cell_type": "markdown",
   "metadata": {},
   "source": [
    "The first few countries with a higher certification rate are from Europe"
   ]
  },
  {
   "cell_type": "markdown",
   "metadata": {},
   "source": [
    "We will conduct a chi square test to whether certification is related to country"
   ]
  },
  {
   "cell_type": "code",
   "execution_count": null,
   "metadata": {
    "scrolled": true
   },
   "outputs": [],
   "source": [
    "# number of uncertified by country\n",
    "uncertified_country = intended_country - certified_country\n",
    "uncertified_country"
   ]
  },
  {
   "cell_type": "code",
   "execution_count": null,
   "metadata": {
    "scrolled": true
   },
   "outputs": [],
   "source": [
    "# get the frequency of certified and uncertified\n",
    "certi_uncerti_table = pd.concat([certified_country, uncertified_country], axis=1).rename(columns={0: 'certified', 1: 'uncertified'})\n",
    "certi_uncerti_table"
   ]
  },
  {
   "cell_type": "code",
   "execution_count": null,
   "metadata": {},
   "outputs": [],
   "source": [
    "# chi square test for independence\n",
    "\n",
    "stat, p, dof, expected = chi2_contingency(certi_uncerti_table)\n",
    "\n",
    "print('The p value is {}\\n'.format(p))\n",
    "if p < 0.05:\n",
    "    print('p is very small, there is a significant difference')\n",
    "else:\n",
    "    print('p is relatively large, there is no significant difference')"
   ]
  },
  {
   "cell_type": "code",
   "execution_count": null,
   "metadata": {},
   "outputs": [],
   "source": [
    "# one way chi square test\n",
    "\n",
    "chisq, p = stats.chisquare(certification_rate_country)\n",
    "\n",
    "print('The p value is {}\\n'.format(p))\n",
    "if p < 0.05:\n",
    "    print('p is very small, there is a significant difference')\n",
    "else:\n",
    "    print('p is relatively large, there is no significant difference')\n"
   ]
  },
  {
   "cell_type": "markdown",
   "metadata": {},
   "source": [
    "#### education VS certified"
   ]
  },
  {
   "cell_type": "code",
   "execution_count": null,
   "metadata": {
    "scrolled": true
   },
   "outputs": [],
   "source": [
    "certification_rate_edu = 100*(df_intended[df_intended.certified==1].groupby('education').certified.count()) / df_intended.groupby('education').certified.count()\n",
    "\n",
    "certification_rate_edu.sort_values(ascending=False)"
   ]
  },
  {
   "cell_type": "code",
   "execution_count": null,
   "metadata": {},
   "outputs": [],
   "source": [
    "# certification rate by level of education\n",
    "plt.figure(figsize=(10, 6))\n",
    "certification_rate_edu.sort_values(ascending=True).plot(kind='bar')\n",
    "plt.xlabel('Level of Education')\n",
    "plt.ylabel('Certification Rate (%)')\n",
    "plt.xticks(rotation=30)\n",
    "plt.savefig(\"plots/20.pdf\", bbox_inches='tight');"
   ]
  },
  {
   "cell_type": "markdown",
   "metadata": {},
   "source": [
    "Master's has the highest certification rate. While Bachelor's has the lowest certification rate."
   ]
  },
  {
   "cell_type": "code",
   "execution_count": null,
   "metadata": {},
   "outputs": [],
   "source": [
    "# chi square test \n",
    "chisq , p = stats.chisquare(certification_rate_edu)\n",
    "\n",
    "print('The p value is {}\\n'.format(p))\n",
    "if p < 0.05:\n",
    "    print('p is very small, there is a significant difference')\n",
    "else:\n",
    "    print('p is relatively large, there is no significant difference')\n"
   ]
  },
  {
   "cell_type": "markdown",
   "metadata": {},
   "source": [
    "#### age VS certified"
   ]
  },
  {
   "cell_type": "code",
   "execution_count": null,
   "metadata": {},
   "outputs": [],
   "source": [
    "# boxplot of age VS certified or not\n",
    "plt.figure(figsize=(6, 6))\n",
    "sb.boxplot(data=df_intended, x='certified', y='age')\n",
    "plt.xticks(ticks=[0, 1], labels = ['Uncertified', 'Certified'])\n",
    "plt.xlabel('Certified or Not')\n",
    "plt.ylabel('Age')\n",
    "plt.savefig(\"plots/21.pdf\", bbox_inches='tight');"
   ]
  },
  {
   "cell_type": "markdown",
   "metadata": {},
   "source": [
    "There is no significant difference between age in certified and uncertified."
   ]
  },
  {
   "cell_type": "code",
   "execution_count": null,
   "metadata": {},
   "outputs": [],
   "source": [
    "# two samples t test\n",
    "t, p = stats.ttest_ind(df_intended[df_intended.certified==1].age, df_intended[df_intended.certified==0].age)\n",
    "\n",
    "print('The p value is {}\\n'.format(p))\n",
    "if p < 0.05:\n",
    "    print('p is very small, there is a significant difference')\n",
    "else:\n",
    "    print('p is relatively large, there is no significant difference')\n"
   ]
  },
  {
   "cell_type": "markdown",
   "metadata": {},
   "source": [
    "#### gender VS certified"
   ]
  },
  {
   "cell_type": "code",
   "execution_count": null,
   "metadata": {
    "scrolled": true
   },
   "outputs": [],
   "source": [
    "# certification rate by gender by course\n",
    "certification_gender = 100*df_intended[df_intended.certified==1].groupby(['gender', 'course_id']).certified.count() / df_intended.groupby(['gender', 'course_id']).certified.count()"
   ]
  },
  {
   "cell_type": "code",
   "execution_count": null,
   "metadata": {},
   "outputs": [],
   "source": [
    "# statistical description\n",
    "print('Statistical Descriptionn of Certification rate of female:')\n",
    "certification_gender['f'].describe()"
   ]
  },
  {
   "cell_type": "code",
   "execution_count": null,
   "metadata": {},
   "outputs": [],
   "source": [
    "# statistical description\n",
    "print('Statistical Descriptionn of Certification rate of male:')\n",
    "certification_gender['m'].describe()"
   ]
  },
  {
   "cell_type": "code",
   "execution_count": null,
   "metadata": {},
   "outputs": [],
   "source": [
    "certification_gender"
   ]
  },
  {
   "cell_type": "code",
   "execution_count": null,
   "metadata": {},
   "outputs": [],
   "source": [
    "#boxplot of certification rate by gender \n",
    "certification_gender_df = certification_gender.reset_index()\n",
    "certification_gender_df.columns = ['gender', 'course_id', 'certification_rate']\n",
    "\n",
    "plt.figure(figsize=(10, 6))\n",
    "sb.boxplot(data=certification_gender_df, x = 'gender', y = 'certification_rate')\n",
    "plt.xlabel('Gender')\n",
    "plt.xticks([0, 1], ['Female', 'Male'])\n",
    "plt.ylabel('Certification Rate (%)')\n",
    "plt.savefig(\"plots/22.pdf\", bbox_inches='tight');"
   ]
  },
  {
   "cell_type": "markdown",
   "metadata": {},
   "source": [
    "Looks like female has a higher mean certification rate then male. How significant is this difference. We will do an independent t test below."
   ]
  },
  {
   "cell_type": "code",
   "execution_count": null,
   "metadata": {},
   "outputs": [],
   "source": [
    "# independent t test\n",
    "t, p = stats.ttest_ind(certification_gender['f'], certification_gender['m'])\n",
    "\n",
    "print('The p value is {}\\n'.format(p))\n",
    "if p < 0.05:\n",
    "    print('p is very small, there is a significant difference between the two means')\n",
    "else:\n",
    "    print('p is relatively large, there is no significant difference between the two means')"
   ]
  },
  {
   "cell_type": "markdown",
   "metadata": {},
   "source": [
    "#### age VS grade"
   ]
  },
  {
   "cell_type": "code",
   "execution_count": null,
   "metadata": {
    "scrolled": false
   },
   "outputs": [],
   "source": [
    "# scatter plot of grade VS age\n",
    "plt.scatter(data=df_intended, x='age', y='grade',alpha=0.05)\n",
    "plt.xlabel('Age')\n",
    "plt.ylabel('Grade')\n",
    "plt.savefig(\"plots/23.pdf\", bbox_inches='tight');"
   ]
  },
  {
   "cell_type": "markdown",
   "metadata": {},
   "source": [
    "It is not a very strong correlation, but we can still see that as age increase, the likelihood of getting a higher grade drops. students of age 20-30 are more likely to get a higher grade, while it is less likely for older age."
   ]
  },
  {
   "cell_type": "code",
   "execution_count": null,
   "metadata": {},
   "outputs": [],
   "source": [
    "# Pearson's correlation coefficient\n",
    "np.corrcoef(df_intended['age'], df_intended['grade'])"
   ]
  },
  {
   "cell_type": "markdown",
   "metadata": {},
   "source": [
    "The Pearson's correlation coefficient is pretty small, there is no significant correlation between age and grade."
   ]
  },
  {
   "cell_type": "markdown",
   "metadata": {},
   "source": [
    "#### region VS certified"
   ]
  },
  {
   "cell_type": "code",
   "execution_count": null,
   "metadata": {},
   "outputs": [],
   "source": [
    "df_intended.region.value_counts()"
   ]
  },
  {
   "cell_type": "code",
   "execution_count": null,
   "metadata": {
    "scrolled": false
   },
   "outputs": [],
   "source": [
    "# certification rate by region by course\n",
    "certification_region = 100*df_intended[df_intended.certified==1].groupby(['region', 'course_id']).certified.count() / df_intended.groupby(['region', 'course_id']).certified.count()\n",
    "certification_region\n"
   ]
  },
  {
   "cell_type": "code",
   "execution_count": null,
   "metadata": {},
   "outputs": [],
   "source": [
    "# statistical description\n",
    "print('Statistical Descriptionn of Certification rate of US Region:')\n",
    "certification_region['US'].describe()"
   ]
  },
  {
   "cell_type": "code",
   "execution_count": null,
   "metadata": {},
   "outputs": [],
   "source": [
    "# statistical description\n",
    "print('Statistical Descriptionn of Certification rate of Non-US region:')\n",
    "certification_region['NonUS'].describe()"
   ]
  },
  {
   "cell_type": "code",
   "execution_count": null,
   "metadata": {},
   "outputs": [],
   "source": [
    "#boxplot of certification rate by region\n",
    "certification_region_df = certification_region.reset_index()\n",
    "certification_region_df.columns = ['region', 'course_id', 'certification_rate']\n",
    "\n",
    "plt.figure(figsize=(10, 6))\n",
    "sb.boxplot(data=certification_region_df, x = 'region', y = 'certification_rate')\n",
    "plt.xlabel('Region')\n",
    "plt.xticks([0, 1], ['US', 'Non-US'])\n",
    "plt.ylabel('Certification Rate (%)')\n",
    "plt.savefig(\"plots/0001.pdf\", bbox_inches='tight');"
   ]
  },
  {
   "cell_type": "markdown",
   "metadata": {},
   "source": [
    "Looks like US region has a higher mean certification rate than non-US region. How significant is this difference. We will do an independent t test below."
   ]
  },
  {
   "cell_type": "code",
   "execution_count": null,
   "metadata": {},
   "outputs": [],
   "source": [
    "# independent t test\n",
    "t, p = stats.ttest_ind(certification_region['US'], certification_region['NonUS'])\n",
    "\n",
    "print('The p value is {}\\n'.format(p))\n",
    "if p < 0.05:\n",
    "    print('p is very small, there is a significant difference between the two means')\n",
    "else:\n",
    "    print('p is relatively large, there is no significant difference between the two means')"
   ]
  },
  {
   "cell_type": "code",
   "execution_count": null,
   "metadata": {},
   "outputs": [],
   "source": [
    "# 2 sample z test\n",
    "\n",
    "sta, p = ztest(certification_region['US'], certification_region['NonUS'])\n",
    "\n",
    "print('The p value is {}\\n'.format(p))\n",
    "if p < 0.05:\n",
    "    print('p is very small, there is a significant difference between the two means')\n",
    "else:\n",
    "    print('p is relatively large, there is no significant difference between the two means')"
   ]
  },
  {
   "cell_type": "code",
   "execution_count": null,
   "metadata": {},
   "outputs": [],
   "source": [
    "# Wilcoxon rank-sum test\n",
    "\n",
    "sta, p = stats.ranksums(certification_region['US'], certification_region['NonUS'])\n",
    "\n",
    "print('The p value is {}\\n'.format(p))\n",
    "if p < 0.05:\n",
    "    print('p is very small, there is a significant difference between the two means')\n",
    "else:\n",
    "    print('p is relatively large, there is no significant difference between the two means')"
   ]
  },
  {
   "cell_type": "markdown",
   "metadata": {},
   "source": [
    "### Learners activity variables\n",
    "\n",
    "In this part, we explore learners activity variables: Including user_id, nevents, ndays_act, nplay_video, chapters_proportion, nforum_posts, registered_launch_delta, lifetime_proportion"
   ]
  },
  {
   "cell_type": "markdown",
   "metadata": {},
   "source": [
    "####  user_id VS certified VS semester\n"
   ]
  },
  {
   "cell_type": "code",
   "execution_count": null,
   "metadata": {
    "scrolled": true
   },
   "outputs": [],
   "source": [
    "# numbber of course certified by user\n",
    "\n",
    "user_certified_df = df_intended.groupby('user_id').certified.sum().reset_index()\n",
    "user_certified_df.columns = ['user_id', 'ncourse_certified']\n",
    "\n",
    "\n",
    "plt.hist(x=user_certified_df['ncourse_certified'], bins=5)\n",
    "plt.xlabel('Number of Course Certified by User')\n",
    "plt.ylabel('Number of User')\n",
    "plt.savefig(\"plots/24.pdf\", bbox_inches='tight');"
   ]
  },
  {
   "cell_type": "code",
   "execution_count": null,
   "metadata": {
    "scrolled": false
   },
   "outputs": [],
   "source": [
    "# description\n",
    "user_certified_df.ncourse_certified.describe().round()"
   ]
  },
  {
   "cell_type": "markdown",
   "metadata": {},
   "source": [
    "Most learners were not certified for any course. While there were also some learners certified for as many as 5 courses."
   ]
  },
  {
   "cell_type": "markdown",
   "metadata": {},
   "source": [
    "For those who had completed one course, are they more likely to complete a subsequent course? \n",
    "\n",
    "We will first select the users who completed at least one course in the 2012_Fall semester. Then we will look at the certification rate of those who registered in the 2013_Spring semester among those who completed a course in the 2012_Fall semester. We will also look at the overall certification rate of 2013_Spring semester for comparation."
   ]
  },
  {
   "cell_type": "code",
   "execution_count": null,
   "metadata": {},
   "outputs": [],
   "source": [
    "# learners who completed at least one course in the 2012_Fall semester.\n",
    "user_list = df_intended[(df_intended.semester == '2012_Fall') & (df_intended.certified == 1)].user_id.unique()\n",
    "user_list"
   ]
  },
  {
   "cell_type": "code",
   "execution_count": null,
   "metadata": {},
   "outputs": [],
   "source": [
    "# 2013 Spring semester certification rate for learners who completed at least one course in the 2012_Fall semester.\n",
    "df_2013_spring = df_intended[df_intended.semester == '2013_Spring']\n",
    "df_2013_spring[df_2013_spring.user_id.isin(user_list)].certified.value_counts()\n"
   ]
  },
  {
   "cell_type": "code",
   "execution_count": null,
   "metadata": {
    "scrolled": true
   },
   "outputs": [],
   "source": [
    "certification_rate1 = df_2013_spring[df_2013_spring.user_id.isin(user_list)].certified.value_counts()[1]/df_2013_spring[df_2013_spring.user_id.isin(user_list)].shape[0]\n",
    "print('The 2013 Spring semester certification rate for learners who completed at least one course in the 2012_Fall semester is {:.2%}'.format(certification_rate1))\n",
    "\n"
   ]
  },
  {
   "cell_type": "code",
   "execution_count": null,
   "metadata": {},
   "outputs": [],
   "source": [
    "df_2013_spring.certified.value_counts()"
   ]
  },
  {
   "cell_type": "code",
   "execution_count": null,
   "metadata": {
    "scrolled": true
   },
   "outputs": [],
   "source": [
    "# 2013 Spring semester certification rate for all the learners\n",
    "certification_rate2 = df_2013_spring[df_2013_spring.certified == 1].shape[0] / df_2013_spring.shape[0]\n",
    "print('2013 Spring semester certification rate for all the learners is {:.2%}'.format(certification_rate2))"
   ]
  },
  {
   "cell_type": "code",
   "execution_count": null,
   "metadata": {},
   "outputs": [],
   "source": [
    "# chi square test\n",
    "stats.chisquare([286, 311], f_exp=[7445, 19545])"
   ]
  },
  {
   "cell_type": "markdown",
   "metadata": {},
   "source": [
    "The p value is 0, there is sufficient evidence that these two certification rates are different. "
   ]
  },
  {
   "cell_type": "markdown",
   "metadata": {},
   "source": [
    "#### nevents VS certified"
   ]
  },
  {
   "cell_type": "code",
   "execution_count": null,
   "metadata": {
    "scrolled": true
   },
   "outputs": [],
   "source": [
    "plt.figure(figsize=(6, 6))\n",
    "sb.boxplot(data=df_intended, x='certified', y='nevents')\n",
    "plt.xlabel('Certified or Not')\n",
    "plt.xticks([0, 1], ['Not Certified', 'Certified'])\n",
    "plt.ylabel('Number of Events')\n",
    "plt.savefig(\"plots/25.pdf\", bbox_inches='tight');"
   ]
  },
  {
   "cell_type": "markdown",
   "metadata": {},
   "source": [
    "Those who got certified have more events than those who did not."
   ]
  },
  {
   "cell_type": "code",
   "execution_count": null,
   "metadata": {},
   "outputs": [],
   "source": [
    "# independent t test\n",
    "t, p = stats.ttest_ind(df_intended[df_intended.certified==1].nevents, df_intended[df_intended.certified==0].nevents)\n",
    "print('The p value is {}\\n'.format(p))\n",
    "if p < 0.05:\n",
    "    print('p is very small, there is a significant difference between the two means')\n",
    "else:\n",
    "    print('p is relatively large, there is no significant difference between the two means')"
   ]
  },
  {
   "cell_type": "markdown",
   "metadata": {},
   "source": [
    "#### ndays_act VS certified"
   ]
  },
  {
   "cell_type": "code",
   "execution_count": null,
   "metadata": {},
   "outputs": [],
   "source": [
    "sb.boxplot(data=df_intended, x='certified', y='ndays_act')\n",
    "plt.xlabel('Certified or Not')\n",
    "plt.xticks([0, 1], ['Not Certified', 'Certified'])\n",
    "plt.ylabel('Number of Active Days')\n",
    "plt.savefig(\"plots/26.pdf\", bbox_inches='tight');"
   ]
  },
  {
   "cell_type": "code",
   "execution_count": null,
   "metadata": {},
   "outputs": [],
   "source": [
    "# independent t test\n",
    "t, p = stats.ttest_ind(df_intended[df_intended.certified==1].ndays_act, df_intended[df_intended.certified==0].ndays_act)\n",
    "print('The p value is {}\\n'.format(p))\n",
    "if p < 0.05:\n",
    "    print('p is very small, there is a significant difference between the two means')\n",
    "else:\n",
    "    print('p is relatively large, there is no significant difference between the two means')"
   ]
  },
  {
   "cell_type": "markdown",
   "metadata": {},
   "source": [
    "#### nplay_video VS certified"
   ]
  },
  {
   "cell_type": "code",
   "execution_count": null,
   "metadata": {
    "scrolled": true
   },
   "outputs": [],
   "source": [
    "# boxplot of nplay_video VS certified\n",
    "sb.boxplot(data=df_intended, x='certified', y='nplay_video')\n",
    "plt.xlabel('Certified or Not')\n",
    "plt.xticks([0, 1], ['Not Certified', 'Certified'])\n",
    "plt.ylabel('Number of Videos Played')\n",
    "plt.savefig(\"plots/27.pdf\", bbox_inches='tight');"
   ]
  },
  {
   "cell_type": "code",
   "execution_count": null,
   "metadata": {},
   "outputs": [],
   "source": [
    "# independent t test\n",
    "t, p = stats.ttest_ind(df_intended[df_intended.certified==1].nplay_video, df_intended[df_intended.certified==0].nplay_video)\n",
    "print('The p value is {}\\n'.format(p))\n",
    "if p < 0.05:\n",
    "    print('p is very small, there is a significant difference between the two means')\n",
    "else:\n",
    "    print('p is relatively large, there is no significant difference between the two means')"
   ]
  },
  {
   "cell_type": "markdown",
   "metadata": {},
   "source": [
    "#### chapters_proportion VS certified"
   ]
  },
  {
   "cell_type": "code",
   "execution_count": null,
   "metadata": {
    "scrolled": true
   },
   "outputs": [],
   "source": [
    "#boxplot of chapters_proportion VS certified\n",
    "plt.figure(figsize=(6, 6))\n",
    "sb.boxplot(data=df_intended, x='certified', y='chapters_proportion')\n",
    "plt.xlabel('Certified or Not')\n",
    "plt.xticks([0, 1], ['Not Certified', 'Certified'])\n",
    "plt.ylabel('Percentage of Chapters Viewed')\n",
    "plt.savefig(\"plots/28.pdf\", bbox_inches='tight');"
   ]
  },
  {
   "cell_type": "code",
   "execution_count": null,
   "metadata": {},
   "outputs": [],
   "source": [
    "# independent t test\n",
    "t, p = stats.ttest_ind(df_intended[df_intended.certified==1].chapters_proportion, df_intended[df_intended.certified==0].chapters_proportion)\n",
    "print('The p value is {}\\n'.format(p))\n",
    "if p < 0.05:\n",
    "    print('p is very small, there is a significant difference between the two means')\n",
    "else:\n",
    "    print('p is relatively large, there is no significant difference between the two means')"
   ]
  },
  {
   "cell_type": "markdown",
   "metadata": {},
   "source": [
    "#### nforum_posts VS certified"
   ]
  },
  {
   "cell_type": "code",
   "execution_count": null,
   "metadata": {
    "scrolled": true
   },
   "outputs": [],
   "source": [
    "# boxplot of nforum_posts VS certified\n",
    "plt.figure(figsize=(6, 6))\n",
    "sb.boxplot(data=df_intended, x='certified', y='nforum_posts')\n",
    "plt.xlabel('Certified or Not')\n",
    "plt.xticks([0, 1], ['Not Certified', 'Certified'])\n",
    "plt.ylabel('Number of Forum Posts')\n",
    "plt.savefig(\"plots/29.pdf\", bbox_inches='tight');"
   ]
  },
  {
   "cell_type": "code",
   "execution_count": null,
   "metadata": {
    "scrolled": true
   },
   "outputs": [],
   "source": [
    "# independent t test\n",
    "t, p = stats.ttest_ind(df_intended[df_intended.certified==1].nforum_posts, df_intended[df_intended.certified==0].nforum_posts)\n",
    "print('The p value is {}\\n'.format(p))\n",
    "if p < 0.05:\n",
    "    print('p is very small, there is a significant difference between the two means')\n",
    "else:\n",
    "    print('p is relatively large, there is no significant difference between the two means')"
   ]
  },
  {
   "cell_type": "markdown",
   "metadata": {},
   "source": [
    "#### registered_launch_delta VS  certification rate "
   ]
  },
  {
   "cell_type": "code",
   "execution_count": null,
   "metadata": {
    "scrolled": true
   },
   "outputs": [],
   "source": [
    "sb.boxplot(data=df_intended, x='certified', y='registered_launch_delta')\n",
    "plt.xlabel('Certified or Not')\n",
    "plt.xticks([0, 1], ['Not Certified', 'Certified'])\n",
    "plt.ylabel('Enrollment Day Raletive to Launch')\n",
    "plt.savefig(\"plots/30.pdf\", bbox_inches='tight');"
   ]
  },
  {
   "cell_type": "code",
   "execution_count": null,
   "metadata": {},
   "outputs": [],
   "source": [
    "# independent t test\n",
    "t, p = stats.ttest_ind(df_intended[df_intended.certified==1].registered_launch_delta, df_intended[df_intended.certified==0].registered_launch_delta)\n",
    "print('The p value is {}\\n'.format(p))\n",
    "if p < 0.05:\n",
    "    print('p is very small, there is a significant difference between the two means')\n",
    "else:\n",
    "    print('p is relatively large, there is no significant difference between the two means')"
   ]
  },
  {
   "cell_type": "markdown",
   "metadata": {},
   "source": [
    "The average days of registered after course launch is close for certified and uncertified."
   ]
  },
  {
   "cell_type": "markdown",
   "metadata": {},
   "source": [
    "#### lifetime_proportion VS certified"
   ]
  },
  {
   "cell_type": "code",
   "execution_count": null,
   "metadata": {},
   "outputs": [],
   "source": [
    "# boxplot of lifetime_proportion VS certified\n",
    "sb.boxplot(data=df_intended, x='certified', y='lifetime_proportion')\n",
    "plt.xlabel('Certified or Not')\n",
    "plt.xticks([0, 1], ['Not Certified', 'Certified'])\n",
    "plt.ylabel('Proportion of User Lifetime in Course Duration')\n",
    "plt.savefig(\"plots/31.pdf\", bbox_inches='tight');"
   ]
  },
  {
   "cell_type": "code",
   "execution_count": null,
   "metadata": {},
   "outputs": [],
   "source": [
    "# independent t test\n",
    "t, p = stats.ttest_ind(df_intended[df_intended.certified==1].lifetime_proportion, df_intended[df_intended.certified==0].lifetime_proportion)\n",
    "print('The p value is {}\\n'.format(p))\n",
    "if p < 0.05:\n",
    "    print('p is very small, there is a significant difference between the two means')\n",
    "else:\n",
    "    print('p is relatively large, there is no significant difference between the two means')"
   ]
  },
  {
   "cell_type": "markdown",
   "metadata": {},
   "source": [
    "Those certified have more events, more active days , more videos played, more chapters viewed and a higher lifetime proportion.\n",
    "\n",
    "The number of posts are pretty small for both certified and uncertified,it is hard to interprete a significant difference. "
   ]
  },
  {
   "cell_type": "markdown",
   "metadata": {},
   "source": [
    "#### nevents VS grade"
   ]
  },
  {
   "cell_type": "code",
   "execution_count": null,
   "metadata": {
    "scrolled": true
   },
   "outputs": [],
   "source": [
    "# scatter plot of nevents VS grade\n",
    "plt.scatter(data=df_intended, x='nevents', y='grade', alpha=0.05)\n",
    "plt.ylabel('Grade')\n",
    "plt.xlabel('Number of Events')\n",
    "plt.savefig(\"plots/32.pdf\", bbox_inches='tight');"
   ]
  },
  {
   "cell_type": "code",
   "execution_count": null,
   "metadata": {
    "scrolled": true
   },
   "outputs": [],
   "source": [
    "# Pearson's correlation coefficient\n",
    "np.corrcoef(df_intended['grade'], df_intended['nevents'])"
   ]
  },
  {
   "cell_type": "markdown",
   "metadata": {},
   "source": [
    "There is a moderate positive correlation between grade and nevents"
   ]
  },
  {
   "cell_type": "markdown",
   "metadata": {},
   "source": [
    "#### ndays_act VS grade"
   ]
  },
  {
   "cell_type": "code",
   "execution_count": null,
   "metadata": {},
   "outputs": [],
   "source": [
    "# scatter plot of grade VS ndays_act\n",
    "plt.scatter(data=df_intended, x='ndays_act', y='grade', alpha=0.05)\n",
    "plt.ylabel('Grade')\n",
    "plt.xlabel('Number of Active Days')\n",
    "plt.savefig(\"plots/33.pdf\", bbox_inches='tight');"
   ]
  },
  {
   "cell_type": "code",
   "execution_count": null,
   "metadata": {
    "scrolled": true
   },
   "outputs": [],
   "source": [
    "# Pearson's correlation coefficient\n",
    "np.corrcoef(df_intended['grade'], df_intended['ndays_act'])"
   ]
  },
  {
   "cell_type": "markdown",
   "metadata": {},
   "source": [
    "There is a strong positive correlation between grade and number of active days"
   ]
  },
  {
   "cell_type": "markdown",
   "metadata": {},
   "source": [
    "#### nplay_video VS grade"
   ]
  },
  {
   "cell_type": "code",
   "execution_count": null,
   "metadata": {},
   "outputs": [],
   "source": [
    "# Scatter plot of Number of video played VS grade\n",
    "plt.scatter(data=df_intended, x='nplay_video', y='grade', alpha=0.05)\n",
    "plt.ylabel('Grade')\n",
    "plt.xlabel('Number of Videos Played')\n",
    "plt.savefig(\"plots/34.pdf\", bbox_inches='tight');"
   ]
  },
  {
   "cell_type": "code",
   "execution_count": null,
   "metadata": {},
   "outputs": [],
   "source": [
    "# Pearson's correlation coefficient\n",
    "np.corrcoef(df_intended['grade'], df_intended['nplay_video'])"
   ]
  },
  {
   "cell_type": "markdown",
   "metadata": {},
   "source": [
    "There is a weak positive correlation between nplay_video and grade"
   ]
  },
  {
   "cell_type": "markdown",
   "metadata": {},
   "source": [
    "#### chapters_proportion VS grade"
   ]
  },
  {
   "cell_type": "code",
   "execution_count": null,
   "metadata": {},
   "outputs": [],
   "source": [
    "# scatter plot of chapters_proportion VS grade\n",
    "plt.scatter(data=df_intended, x='chapters_proportion', y='grade', alpha=0.05)\n",
    "plt.ylabel('Grade')\n",
    "plt.xlabel('Proportion of Chapters Viewed')\n",
    "plt.savefig(\"plots/35.pdf\", bbox_inches='tight');"
   ]
  },
  {
   "cell_type": "code",
   "execution_count": null,
   "metadata": {},
   "outputs": [],
   "source": [
    "# Pearson's correlation coefficient\n",
    "np.corrcoef(df_intended['grade'], df_intended['chapters_proportion'])"
   ]
  },
  {
   "cell_type": "markdown",
   "metadata": {},
   "source": [
    "There is a strong positive correlation between chapters_proportion."
   ]
  },
  {
   "cell_type": "markdown",
   "metadata": {},
   "source": [
    "#### nforum_posts VS grade"
   ]
  },
  {
   "cell_type": "code",
   "execution_count": null,
   "metadata": {},
   "outputs": [],
   "source": [
    "#  scatter plot of posts VS grade\n",
    "plt.scatter(data=df_intended, x='nforum_posts', y='grade', alpha=0.05)\n",
    "plt.ylabel('Grade')\n",
    "plt.xlabel('Number of Forum Posts')\n",
    "plt.savefig(\"plots/36.pdf\", bbox_inches='tight');"
   ]
  },
  {
   "cell_type": "code",
   "execution_count": null,
   "metadata": {
    "scrolled": false
   },
   "outputs": [],
   "source": [
    "# Pearson's correlation coefficient\n",
    "np.corrcoef(df_intended['grade'], df_intended['nforum_posts'])"
   ]
  },
  {
   "cell_type": "markdown",
   "metadata": {},
   "source": [
    "There is no significant correlation between posts and grade."
   ]
  },
  {
   "cell_type": "markdown",
   "metadata": {},
   "source": [
    "#### registered_launch_delta VS grade"
   ]
  },
  {
   "cell_type": "code",
   "execution_count": null,
   "metadata": {},
   "outputs": [],
   "source": [
    "# scatter plot of registered_launch_delta VS grade\n",
    "plt.scatter(data=df_intended, x='registered_launch_delta', y ='grade', alpha=0.1)\n",
    "plt.xlabel('Enrollment Day Raletive to Launch')\n",
    "plt.ylabel('Grade')\n",
    "plt.savefig(\"plots/37.pdf\", bbox_inches='tight');"
   ]
  },
  {
   "cell_type": "code",
   "execution_count": null,
   "metadata": {
    "scrolled": true
   },
   "outputs": [],
   "source": [
    "# Pearson's correlation coefficient\n",
    "np.corrcoef(df_intended['grade'], df_intended['registered_launch_delta'])"
   ]
  },
  {
   "cell_type": "markdown",
   "metadata": {},
   "source": [
    "There is no significant correlation between posts and grade."
   ]
  },
  {
   "cell_type": "markdown",
   "metadata": {},
   "source": [
    "#### lifetime_proportion SV grade"
   ]
  },
  {
   "cell_type": "code",
   "execution_count": null,
   "metadata": {
    "scrolled": true
   },
   "outputs": [],
   "source": [
    "# scatter plot of lifetime_proportion SV grade\n",
    "plt.scatter(data=df_intended, x='lifetime_proportion', y='grade', alpha=0.02)\n",
    "plt.ylabel('Grade')\n",
    "plt.xlabel('Percentage of User Lifetime in Course Duration')\n",
    "plt.savefig(\"plots/38.pdf\", bbox_inches='tight');"
   ]
  },
  {
   "cell_type": "code",
   "execution_count": null,
   "metadata": {
    "scrolled": false
   },
   "outputs": [],
   "source": [
    "# Pearson's correlation coefficient\n",
    "np.corrcoef(df_intended['grade'], df_intended['lifetime_proportion'])"
   ]
  },
  {
   "cell_type": "markdown",
   "metadata": {},
   "source": [
    "There is a weak positive correlation between lifetime_proportion and grade."
   ]
  },
  {
   "cell_type": "markdown",
   "metadata": {},
   "source": [
    "**Summary:**\n",
    "\n",
    "Based on the exploration above:\n",
    "\n",
    "- Variables like Institution, semester, level of education, age, gender, nforum_posts, registered_launch_delta have no correlation with certification.\n",
    "- Variables like country, nplayvideo, lifetime_proportion, course_duration, nevents, course_chapters, ndays_act, chapters_proportion are correlated with certification. Among these variabels, course_chapters, ndays_act, chapters_proportion have a strong correlation with certification. \n",
    "\n"
   ]
  },
  {
   "cell_type": "markdown",
   "metadata": {},
   "source": [
    "## Save Dataset"
   ]
  },
  {
   "cell_type": "markdown",
   "metadata": {},
   "source": [
    "Save the intended dataset for prediction with machine learning."
   ]
  },
  {
   "cell_type": "code",
   "execution_count": null,
   "metadata": {},
   "outputs": [],
   "source": [
    "df_intended.to_csv('hmx_intended.csv', index=False)"
   ]
  }
 ],
 "metadata": {
  "hide_input": false,
  "kernelspec": {
   "display_name": "Python 3",
   "language": "python",
   "name": "python3"
  },
  "language_info": {
   "codemirror_mode": {
    "name": "ipython",
    "version": 3
   },
   "file_extension": ".py",
   "mimetype": "text/x-python",
   "name": "python",
   "nbconvert_exporter": "python",
   "pygments_lexer": "ipython3",
   "version": "3.7.3"
  },
  "latex_envs": {
   "LaTeX_envs_menu_present": true,
   "autoclose": false,
   "autocomplete": true,
   "bibliofile": "biblio.bib",
   "cite_by": "apalike",
   "current_citInitial": 1,
   "eqLabelWithNumbers": true,
   "eqNumInitial": 1,
   "hotkeys": {
    "equation": "Ctrl-E",
    "itemize": "Ctrl-I"
   },
   "labels_anchors": false,
   "latex_user_defs": false,
   "report_style_numbering": false,
   "user_envs_cfg": false
  },
  "toc": {
   "base_numbering": 1,
   "nav_menu": {},
   "number_sections": true,
   "sideBar": true,
   "skip_h1_title": true,
   "title_cell": "Table of Contents",
   "title_sidebar": "Contents",
   "toc_cell": false,
   "toc_position": {},
   "toc_section_display": true,
   "toc_window_display": true
  },
  "varInspector": {
   "cols": {
    "lenName": 16,
    "lenType": 16,
    "lenVar": 40
   },
   "kernels_config": {
    "python": {
     "delete_cmd_postfix": "",
     "delete_cmd_prefix": "del ",
     "library": "var_list.py",
     "varRefreshCmd": "print(var_dic_list())"
    },
    "r": {
     "delete_cmd_postfix": ") ",
     "delete_cmd_prefix": "rm(",
     "library": "var_list.r",
     "varRefreshCmd": "cat(var_dic_list()) "
    }
   },
   "types_to_exclude": [
    "module",
    "function",
    "builtin_function_or_method",
    "instance",
    "_Feature"
   ],
   "window_display": false
  }
 },
 "nbformat": 4,
 "nbformat_minor": 2
}
